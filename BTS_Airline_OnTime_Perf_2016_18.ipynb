{
  "nbformat": 4,
  "nbformat_minor": 0,
  "metadata": {
    "colab": {
      "name": "BTS_Airline_OnTime_Perf_2016_18.ipynb",
      "version": "0.3.2",
      "provenance": []
    },
    "kernelspec": {
      "name": "python3",
      "display_name": "Python 3"
    }
  },
  "cells": [
    {
      "metadata": {
        "id": "P7Fwk0m1G598",
        "colab_type": "text"
      },
      "cell_type": "markdown",
      "source": [
        "# BTS Airline On Time Performance Overview\n",
        "\n",
        "This notebook analyzes 3 years of US airline on-time performance data (Dec 2015 -  Nov 2018) from the Bureau of Transportation Statistics. This analysis also examines the estimated cost of insuring flight disruptions (with an assumption of a $500 replacement ticket cost). Disruptions include cancellations and delays greater than 4 hours. \n",
        "\n",
        "Data exploration examines disruption rate and average estimated replacement costs basis on various factors, such as airline ('carrier'), origin and destination airports, month of flight, day of week, and hour of day. \n",
        "\n",
        "Tweedie and Negative Binomial models were used to estimate cost of insuring flights. I also use an average of feature means models. An ensemble of all three estimates was also created."
      ]
    },
    {
      "metadata": {
        "id": "G2S2Fgi5vQIh",
        "colab_type": "text"
      },
      "cell_type": "markdown",
      "source": [
        "# Table of Contents\n",
        "\n",
        "0. Resources on Predictive Modeling with GLMs\n",
        "1. Upload Data\n",
        "2. Standard Imports\n",
        "3. Load, Shrink and Concat DFs\n",
        "4. Data Dictionaries\n",
        "5. Data Transformations\n",
        "6. Data Exploration and Visualization\n",
        " * Disruptions\n",
        " * Summary Stats on Disruption & Costs\n",
        " * Airport Stats\n",
        " * Carrier Stats\n",
        " * Month Stats\n",
        " * Route Stats\n",
        " * State Stats\n",
        " * Time Block Stats\n",
        " * Distance Group Stats\n",
        " * Other Disruption Rate Visualizations\n",
        " * Other Disruption Cost Visualizations\n",
        "\n",
        "7. Key Insights\n",
        "8. Sample Data for Model\n",
        "9. Tweedie Model\n",
        "10. Negative Binomial Model\n",
        "11. Average Cost of Feature Means Model\n",
        "11. Model on Test Data (Negative Binomial)\n",
        "12. Function for Prediction (Negative Binomial)\n",
        "\n",
        "\n",
        "\n",
        "\n",
        "\n",
        "\n",
        "\n"
      ]
    },
    {
      "metadata": {
        "id": "L1L2QE3Ks3NZ",
        "colab_type": "text"
      },
      "cell_type": "markdown",
      "source": [
        "## Resources on Predictive Modelings Using GLMs\n",
        "\n",
        "* Poisson deviance\n",
        "* Video: [link](https://youtu.be/z1AlNGXGz9A?t=499) and [here](https://youtu.be/z1AlNGXGz9A?t=901)\n",
        "* Overview of GLMs: [Casact](https://www.casact.org/education/annual/2013/handouts/Paper_2858_handout_1467_0.pdf)\n",
        "* Normalized Gini coefficient: [link](https://www.kaggle.com/c/liberty-mutual-fire-peril/discussion/9880)\n",
        "* H20: [link](http://docs.h2o.ai/h2o/latest-stable/h2o-docs/data-science/algo-params/tweedie_power.html)\n",
        "* PyPi: [Tweedie](https://pypi.org/project/tweedie/)\n",
        "* StatsModels: [Tweedie](https://www.statsmodels.org/dev/generated/statsmodels.genmod.families.family.Tweedie.html), [GLMs](https://www.statsmodels.org/dev/glm.html), \n",
        "* XGBoost: [Tweedie](https://xgboost.readthedocs.io/en/latest/parameter.html)\n",
        "* Poisson and Tweedie Distributions:[ link](https://appliedmachinelearning.blog/2018/08/31/lets-talk-about-numeric-distributions-python/)\n",
        "* Scoring for Tweedie: [link](http://www.actuarialoutpost.com/actuarial_discussion_forum/showthread.php?p=9260202)\n",
        "* Lift curve: [link](https://www.quora.com/Whats-Lift-curve)\n",
        "* Tweedie: [Casact](https://www.casact.org/education/annual/2009/handouts/c25-meyers.pdf), [Another](https://www.casact.org/library/astin/vol32no1/143.pdf)\n",
        "\n",
        "## Bayesian\n",
        "\n",
        "* [Estimating Probabilities](https://towardsdatascience.com/estimating-probabilities-with-bayesian-modeling-in-python-7144be007815)\n",
        "\n",
        "* [Koehrsen on Bayesian Regression](https://towardsdatascience.com/bayesian-linear-regression-in-python-using-machine-learning-to-predict-student-grades-part-2-b72059a8ac7e)\n",
        "\n",
        "* [https://docs.pymc.io/Probability_Distributions.html](https://docs.pymc.io/Probability_Distributions.html)\n"
      ]
    },
    {
      "metadata": {
        "id": "Kv_6IPeOuTph",
        "colab_type": "text"
      },
      "cell_type": "markdown",
      "source": [
        "# Upload Data\n",
        "\n",
        "I took 3 years of data (Dec 2015 - Nov 2018) and condensed the file size in other notebooks. "
      ]
    },
    {
      "metadata": {
        "id": "3hMYrOn-Zxxn",
        "colab_type": "code",
        "outputId": "d341f1a4-469e-4966-fb3d-bfffd0772ca0",
        "colab": {
          "resources": {
            "http://localhost:8080/nbextensions/google.colab/files.js": {
              "data": "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",
              "ok": true,
              "headers": [
                [
                  "content-type",
                  "application/javascript"
                ]
              ],
              "status": 200,
              "status_text": "OK"
            }
          },
          "base_uri": "https://localhost:8080/",
          "height": 94
        }
      },
      "cell_type": "code",
      "source": [
        "# upload zip\n",
        "from google.colab import files\n",
        "uploaded = files.upload()\n",
        "\n",
        "for fn in uploaded.keys():\n",
        "  print('User uploaded file \"{name}\" with length {length} bytes'.format(\n",
        "      name=fn, length=len(uploaded[fn])))"
      ],
      "execution_count": 1,
      "outputs": [
        {
          "output_type": "display_data",
          "data": {
            "text/html": [
              "\n",
              "     <input type=\"file\" id=\"files-eccf7f93-95f3-4e0c-b67a-cf81b3453eff\" name=\"files[]\" multiple disabled />\n",
              "     <output id=\"result-eccf7f93-95f3-4e0c-b67a-cf81b3453eff\">\n",
              "      Upload widget is only available when the cell has been executed in the\n",
              "      current browser session. Please rerun this cell to enable.\n",
              "      </output>\n",
              "      <script src=\"/nbextensions/google.colab/files.js\"></script> "
            ],
            "text/plain": [
              "<IPython.core.display.HTML object>"
            ]
          },
          "metadata": {
            "tags": []
          }
        },
        {
          "output_type": "stream",
          "text": [
            "Saving on_time_2016_2018.zip to on_time_2016_2018.zip\n",
            "User uploaded file \"on_time_2016_2018.zip\" with length 283656812 bytes\n"
          ],
          "name": "stdout"
        }
      ]
    },
    {
      "metadata": {
        "id": "D1FbGPGDZ-DV",
        "colab_type": "code",
        "outputId": "6c2bf6f8-94fe-4176-bab6-f115bb207bc0",
        "colab": {
          "base_uri": "https://localhost:8080/",
          "height": 35
        }
      },
      "cell_type": "code",
      "source": [
        "!ls"
      ],
      "execution_count": 2,
      "outputs": [
        {
          "output_type": "stream",
          "text": [
            "on_time_2016_2018.zip  sample_data\n"
          ],
          "name": "stdout"
        }
      ]
    },
    {
      "metadata": {
        "id": "9wf3ly0_SH8U",
        "colab_type": "code",
        "outputId": "a4f8a46b-ae38-49af-f662-1c16497b8a63",
        "colab": {
          "base_uri": "https://localhost:8080/",
          "height": 88
        }
      },
      "cell_type": "code",
      "source": [
        "# unzip data to directory \"data\"\n",
        "!unzip on_time_2016_2018.zip -d data/"
      ],
      "execution_count": 3,
      "outputs": [
        {
          "output_type": "stream",
          "text": [
            "Archive:  on_time_2016_2018.zip\n",
            "  inflating: data/on_time_2016_2018/on_time_2016.csv  \n",
            "  inflating: data/on_time_2016_2018/on_time_2017.csv  \n",
            "  inflating: data/on_time_2016_2018/on_time_2018.csv  \n"
          ],
          "name": "stdout"
        }
      ]
    },
    {
      "metadata": {
        "id": "wam9ASAcS13_",
        "colab_type": "code",
        "outputId": "b5dc28a0-c59f-4b5b-b2d6-0db4551163b8",
        "colab": {
          "base_uri": "https://localhost:8080/",
          "height": 34
        }
      },
      "cell_type": "code",
      "source": [
        "!ls"
      ],
      "execution_count": 0,
      "outputs": [
        {
          "output_type": "stream",
          "text": [
            "data  on_time_2016_2018.zip  sample_data\n"
          ],
          "name": "stdout"
        }
      ]
    },
    {
      "metadata": {
        "id": "xuq_RpjAu9HO",
        "colab_type": "code",
        "colab": {}
      },
      "cell_type": "code",
      "source": [
        "# remove zip file\n",
        "!rm on_time_2016_2018.zip"
      ],
      "execution_count": 0,
      "outputs": []
    },
    {
      "metadata": {
        "id": "CpxQAMrIS_cn",
        "colab_type": "code",
        "outputId": "1bc809d3-19f7-4ad2-cc21-01a8ca42f124",
        "colab": {
          "base_uri": "https://localhost:8080/",
          "height": 35
        }
      },
      "cell_type": "code",
      "source": [
        "# change directory to data directory\n",
        "%cd data/on_time_2016_2018/"
      ],
      "execution_count": 5,
      "outputs": [
        {
          "output_type": "stream",
          "text": [
            "/content/data/on_time_2016_2018\n"
          ],
          "name": "stdout"
        }
      ]
    },
    {
      "metadata": {
        "id": "hkYH16h9Tnkk",
        "colab_type": "code",
        "outputId": "3b551f8d-4d75-4bf5-c32c-114cdc5e1430",
        "colab": {
          "base_uri": "https://localhost:8080/",
          "height": 35
        }
      },
      "cell_type": "code",
      "source": [
        "!ls"
      ],
      "execution_count": 6,
      "outputs": [
        {
          "output_type": "stream",
          "text": [
            "on_time_2016.csv  on_time_2017.csv  on_time_2018.csv\n"
          ],
          "name": "stdout"
        }
      ]
    },
    {
      "metadata": {
        "id": "Vywf2y_dUHx0",
        "colab_type": "text"
      },
      "cell_type": "markdown",
      "source": [
        "# Imports"
      ]
    },
    {
      "metadata": {
        "id": "NU2uRZMpUJ1U",
        "colab_type": "code",
        "outputId": "ad6d0253-0c03-4b63-95ae-140196a8162e",
        "colab": {
          "base_uri": "https://localhost:8080/",
          "height": 91
        }
      },
      "cell_type": "code",
      "source": [
        "# standard libraries\n",
        "import pandas as pd\n",
        "import numpy as np\n",
        "import os\n",
        "\n",
        "# visualization libraries\n",
        "import seaborn as sns\n",
        "import matplotlib.pyplot as plt\n",
        "import altair as alt\n",
        "\n",
        "# classification models\n",
        "from sklearn.model_selection import train_test_split\n",
        "from sklearn.linear_model import LogisticRegression\n",
        "from sklearn import model_selection\n",
        "from sklearn.model_selection import cross_val_score\n",
        "from sklearn.ensemble import RandomForestClassifier\n",
        "from sklearn.metrics import classification_report, confusion_matrix\n",
        "\n",
        "# regression models\n",
        "import statsmodels.api as sm\n",
        "import xgboost as xgb\n",
        "\n",
        "# suppress scientific notation\n",
        "pd.set_option('display.float_format', lambda x: '%.3f' % x)\n",
        "\n",
        "# ignore warnings\n",
        "import warnings\n",
        "def ignore_warn(*args, **kwargs):\n",
        "    pass\n",
        "warnings.warn = ignore_warn\n",
        "warnings.filterwarnings(\"ignore\", category=Warning)\n",
        "print('Warnings will be ignored!')"
      ],
      "execution_count": 7,
      "outputs": [
        {
          "output_type": "stream",
          "text": [
            "/usr/local/lib/python3.6/dist-packages/statsmodels/compat/pandas.py:56: FutureWarning: The pandas.core.datetools module is deprecated and will be removed in a future version. Please use the pandas.tseries module instead.\n",
            "  from pandas.core import datetools\n"
          ],
          "name": "stderr"
        },
        {
          "output_type": "stream",
          "text": [
            "Warnings will be ignored!\n"
          ],
          "name": "stdout"
        }
      ]
    },
    {
      "metadata": {
        "id": "4-G0rt3w04kd",
        "colab_type": "text"
      },
      "cell_type": "markdown",
      "source": [
        "# Load, Shrink, and Concat DFs"
      ]
    },
    {
      "metadata": {
        "id": "mO5G_wyt08BZ",
        "colab_type": "code",
        "colab": {}
      },
      "cell_type": "code",
      "source": [
        "# function to analyze memory usage\n",
        "def mem_usage(pandas_obj):\n",
        "    if isinstance(pandas_obj,pd.DataFrame):\n",
        "        usage_b = pandas_obj.memory_usage(deep=True).sum()\n",
        "    else: # we assume if not a df it's a series\n",
        "        usage_b = pandas_obj.memory_usage(deep=True)\n",
        "    usage_mb = usage_b / 1024 ** 2 # convert bytes to megabytes\n",
        "    return \"{:03.2f} MB\".format(usage_mb)"
      ],
      "execution_count": 0,
      "outputs": []
    },
    {
      "metadata": {
        "id": "kN3SShYQ1h-M",
        "colab_type": "code",
        "colab": {}
      },
      "cell_type": "code",
      "source": [
        "# function to shrink dataframe size further\n",
        "def shrink_df(filename):\n",
        "    df = pd.read_csv(filename)\n",
        "    print(\"Before: \", str(mem_usage(df)))\n",
        "    df = df.rename(index=str, columns={\"Reporting_Airline\": \"Carrier\"})\n",
        "    \n",
        "    # create disruption feature from cancellations and delays\n",
        "    df['Disruption'] = df['Cancelled']\n",
        "    df.loc[df['DepDelayMinutes'] >= 240, 'Disruption'] = 1\n",
        "\n",
        "    # cost and profit per customer figures\n",
        "    df['Cost'] = df['Disruption'] * 500\n",
        "    df['Revenue'] = 19\n",
        "    df['Profit'] = df['Revenue'] - df['Cost']\n",
        "    \n",
        "    # downcast ints and floats to save memory\n",
        "    df_int = df.select_dtypes(include=['int'])\n",
        "    converted_int = df_int.apply(pd.to_numeric,downcast='unsigned')\n",
        "    df_float = df.select_dtypes(include=['float'])\n",
        "    converted_float = df_float.apply(pd.to_numeric,downcast='float')\n",
        "    df[converted_int.columns] = converted_int\n",
        "    df[converted_float.columns] = converted_float    \n",
        "    \n",
        "    # drop unneeded and duplicate columns\n",
        "    df = df.drop(['Unnamed: 0', 'DivReachedDest', 'DestWac', 'OriginWac', 'DepDelay'], axis=1)\n",
        "        \n",
        "    print(\"After: \", str(mem_usage(df)))\n",
        "    \n",
        "    return df"
      ],
      "execution_count": 0,
      "outputs": []
    },
    {
      "metadata": {
        "id": "4iuMa4S116sU",
        "colab_type": "code",
        "outputId": "83915063-de60-459d-ae43-64221db8c77d",
        "colab": {
          "base_uri": "https://localhost:8080/",
          "height": 53
        }
      },
      "cell_type": "code",
      "source": [
        "df1 = shrink_df('on_time_2016.csv')"
      ],
      "execution_count": 10,
      "outputs": [
        {
          "output_type": "stream",
          "text": [
            "Before:  1289.96 MB\n",
            "After:  638.55 MB\n"
          ],
          "name": "stdout"
        }
      ]
    },
    {
      "metadata": {
        "id": "sNzMVBDy570S",
        "colab_type": "code",
        "outputId": "cba66b29-b197-423f-9acd-26fff479b17b",
        "colab": {
          "base_uri": "https://localhost:8080/",
          "height": 53
        }
      },
      "cell_type": "code",
      "source": [
        "df2 = shrink_df('on_time_2017.csv')"
      ],
      "execution_count": 11,
      "outputs": [
        {
          "output_type": "stream",
          "text": [
            "Before:  1298.07 MB\n",
            "After:  642.57 MB\n"
          ],
          "name": "stdout"
        }
      ]
    },
    {
      "metadata": {
        "id": "UJJ7YXGi7iFB",
        "colab_type": "code",
        "outputId": "a5b88825-d2af-48c0-a7fb-2adf619e58a0",
        "colab": {
          "base_uri": "https://localhost:8080/",
          "height": 53
        }
      },
      "cell_type": "code",
      "source": [
        "df3 = shrink_df('on_time_2018.csv')"
      ],
      "execution_count": 12,
      "outputs": [
        {
          "output_type": "stream",
          "text": [
            "Before:  1621.36 MB\n",
            "After:  802.86 MB\n"
          ],
          "name": "stdout"
        }
      ]
    },
    {
      "metadata": {
        "id": "F8SvjGix7dl4",
        "colab_type": "code",
        "colab": {}
      },
      "cell_type": "code",
      "source": [
        "# concatenate 3 years worth of data\n",
        "df = pd.concat([df1, df2, df3])\n",
        "\n",
        "# reset index\n",
        "df = df.reset_index(drop=True)"
      ],
      "execution_count": 0,
      "outputs": []
    },
    {
      "metadata": {
        "id": "Afz2s7YbHBbk",
        "colab_type": "code",
        "colab": {}
      },
      "cell_type": "code",
      "source": [
        "# turn delay conditions into binomials\n",
        "# df.loc[df['CarrierDelay'] < 240, 'Carrier_Delay'] = 0\n",
        "# df.loc[df['CarrierDelay'] >= 240, 'Carrier_Delay'] = 1\n",
        "# df['Carrier_Delay'] = df['Carrier_Delay'].astype('uint8')\n",
        "\n",
        "\n",
        "# df.loc[df['WeatherDelay'] < 240, 'Weather_Delay'] = 0\n",
        "# df.loc[df['WeatherDelay'] >= 240, 'Weather_Delay'] = 1\n",
        "# df['Weather_Delay'] = df['Weather_Delay'].astype('uint8')\n",
        "\n",
        "# df.loc[df['NASDelay'] < 240, 'NAS_Delay'] = 0\n",
        "# df.loc[df['NASDelay'] >= 240, 'NAS_Delay'] = 1\n",
        "# df['NAS_Delay'] = df['NAS_Delay'].astype('uint8')\n",
        "\n",
        "# df.loc[df['SecurityDelay'] < 240, 'Security_Delay'] = 0\n",
        "# df.loc[df['SecurityDelay'] >= 240, 'Security_Delay'] = 1\n",
        "# df['Security_Delay'] = df['Security_Delay'].astype('uint8')\n",
        "\n",
        "\n",
        "df = df.drop(['CarrierDelay', 'WeatherDelay', 'NASDelay', 'SecurityDelay', 'LateAircraftDelay'], axis=1)"
      ],
      "execution_count": 0,
      "outputs": []
    },
    {
      "metadata": {
        "id": "1NJbXl9qMF-8",
        "colab_type": "code",
        "outputId": "a7031ced-030a-4405-cfaf-c2c29863e301",
        "colab": {
          "base_uri": "https://localhost:8080/",
          "height": 535
        }
      },
      "cell_type": "code",
      "source": [
        "# see memory usage, columns, and data types\n",
        "df.info(memory_usage='deep')"
      ],
      "execution_count": 15,
      "outputs": [
        {
          "output_type": "stream",
          "text": [
            "<class 'pandas.core.frame.DataFrame'>\n",
            "RangeIndex: 18391113 entries, 0 to 18391112\n",
            "Data columns (total 24 columns):\n",
            "Year               uint16\n",
            "Quarter            uint8\n",
            "Month              uint8\n",
            "DayofMonth         uint8\n",
            "DayOfWeek          uint8\n",
            "Carrier            uint8\n",
            "Origin             uint16\n",
            "OriginState        uint8\n",
            "Dest               uint16\n",
            "DestState          uint8\n",
            "CRSDepTime         uint16\n",
            "DepDelayMinutes    uint16\n",
            "DepDel15           uint8\n",
            "DepTimeBlk         uint8\n",
            "CRSArrTime         uint16\n",
            "ArrTimeBlk         uint8\n",
            "Cancelled          uint8\n",
            "Diverted           uint8\n",
            "Distance           uint16\n",
            "DistanceGroup      uint8\n",
            "Disruption         uint8\n",
            "Cost               int64\n",
            "Revenue            uint8\n",
            "Profit             int64\n",
            "dtypes: int64(2), uint16(7), uint8(15)\n",
            "memory usage: 789.3 MB\n"
          ],
          "name": "stdout"
        }
      ]
    },
    {
      "metadata": {
        "id": "cJce853u9AMC",
        "colab_type": "code",
        "outputId": "62b11c90-4be5-489b-b0f5-58262b35a877",
        "colab": {
          "base_uri": "https://localhost:8080/",
          "height": 442
        }
      },
      "cell_type": "code",
      "source": [
        "# check for nulls\n",
        "df.isnull().sum()"
      ],
      "execution_count": 0,
      "outputs": [
        {
          "output_type": "execute_result",
          "data": {
            "text/plain": [
              "Year               0\n",
              "Quarter            0\n",
              "Month              0\n",
              "DayofMonth         0\n",
              "DayOfWeek          0\n",
              "Carrier            0\n",
              "Origin             0\n",
              "OriginState        0\n",
              "Dest               0\n",
              "DestState          0\n",
              "CRSDepTime         0\n",
              "DepDelayMinutes    0\n",
              "DepDel15           0\n",
              "DepTimeBlk         0\n",
              "CRSArrTime         0\n",
              "ArrTimeBlk         0\n",
              "Cancelled          0\n",
              "Diverted           0\n",
              "Distance           0\n",
              "DistanceGroup      0\n",
              "Disruption         0\n",
              "Cost               0\n",
              "Revenue            0\n",
              "Profit             0\n",
              "dtype: int64"
            ]
          },
          "metadata": {
            "tags": []
          },
          "execution_count": 17
        }
      ]
    },
    {
      "metadata": {
        "id": "1AsTN-sxls9l",
        "colab_type": "text"
      },
      "cell_type": "markdown",
      "source": [
        "# Data Dictionaries\n",
        "\n",
        "These dictionaries were created in another notebook. These are used for mapping the data and also for quickly accessing the values.I have also used them to make visualizations on airlines and airports clearer. Some values are ordered by \"frequency'\" rather than alphabetically in order to provide more predicative power. "
      ]
    },
    {
      "metadata": {
        "id": "phybDltJnngx",
        "colab_type": "code",
        "colab": {}
      },
      "cell_type": "code",
      "source": [
        "# function to return first 10 key-value pairs in a dictionary\n",
        "def dict_top_ten(dict):\n",
        "    return {k: dict[k] for k in list(dict)[:10]}\n",
        "\n",
        "# function to return last 10 key-value paris in a dictionary\n",
        "def dict_last_ten(dict):\n",
        "    return {k: dict[k] for k in list(dict)[-10:]}"
      ],
      "execution_count": 0,
      "outputs": []
    },
    {
      "metadata": {
        "id": "SbQawGIZlu77",
        "colab_type": "code",
        "colab": {}
      },
      "cell_type": "code",
      "source": [
        "state_dict = {'AK': 30, 'AL': 31, 'AR': 33, 'AZ': 7, 'CA': 0, 'CO': 6, 'CT': 36, 'DE': 51,\n",
        "              'FL': 4, 'GA': 3, 'HI': 19, 'IA': 37, 'ID': 38, 'IL': 2, 'IN': 28, 'KS': 40, \n",
        "              'KY': 26, 'LA': 23, 'MA': 13, 'MD': 20, 'ME': 47, 'MI': 11, 'MN': 14, 'MO': 16, \n",
        "              'MS': 42, 'MT': 41, 'NC': 8, 'ND': 39, 'NE': 34, 'NH': 46, 'NJ': 18, 'NM': 32, \n",
        "              'NV': 10, 'NY': 5, 'OH': 22, 'OK': 27, 'OR': 24, 'PA': 17, 'PR': 35, 'RI': 43, \n",
        "              'SC': 29, 'SD': 44, 'TN': 21, 'TT': 52, 'TX': 1, 'UT': 15, 'VA': 9, 'VI': 49, \n",
        "              'VT': 48, 'WA': 12, 'WI': 25, 'WV': 50, 'WY': 45}\n",
        "\n",
        "inv_state_dict = {v: k for k, v in state_dict.items()}"
      ],
      "execution_count": 0,
      "outputs": []
    },
    {
      "metadata": {
        "id": "Cq_sOvZelwcI",
        "colab_type": "code",
        "colab": {}
      },
      "cell_type": "code",
      "source": [
        "time_dict = {'0001-0559': 0, '0600-0659': 1, '0700-0759': 2, '0800-0859': 3, '0900-0959': 4, \n",
        "             '1000-1059': 5, '1100-1159': 6, '1200-1259': 7, '1300-1359': 8, '1400-1459': 9, \n",
        "             '1500-1559': 10, '1600-1659': 11, '1700-1759': 12, '1800-1859': 13, '1900-1959': 14, \n",
        "             '2000-2059': 15, '2100-2159': 16, '2200-2259': 17, '2300-2359': 18}\n",
        "\n",
        "inv_time_dict = {v: k for k, v in time_dict.items()}"
      ],
      "execution_count": 0,
      "outputs": []
    },
    {
      "metadata": {
        "id": "kvyGKRbs31wr",
        "colab_type": "code",
        "colab": {}
      },
      "cell_type": "code",
      "source": [
        "# hour dict to convert hours to \"time blocks\"\n",
        "hour_dict = {0:0, 1:0, 2:0, 3:0, 4:0, 5:0, 6:1, \n",
        "             7:2, 8:3, 9:4, 10:5, 11:6, 12:7, 13:8, \n",
        "             14:9, 15:10, 16:11, 17:12, 18:13, 19:14, \n",
        "             20:15, 21:16, 22:17, 23:18}"
      ],
      "execution_count": 0,
      "outputs": []
    },
    {
      "metadata": {
        "id": "JDPg7WAIlwno",
        "colab_type": "code",
        "colab": {}
      },
      "cell_type": "code",
      "source": [
        "carrier_dict = {'AA': 2, 'AS': 9, 'B6': 8, 'DL': 1, 'EV': 3, 'F9': 10, 'FL': 14, 'HA': 12, \n",
        "                'MQ': 6, 'NK': 11, 'OO': 4, 'Other': 15, 'UA': 5, 'US': 7, 'VX': 13, \n",
        "                'WN': 0, 'YV': 16, '9E': 17, 'OH': 18, 'YX': 19}\n",
        "\n",
        "inv_carrier_dict = {v: k for k, v in carrier_dict.items()}"
      ],
      "execution_count": 0,
      "outputs": []
    },
    {
      "metadata": {
        "id": "XPWaNsuD0UdH",
        "colab_type": "code",
        "colab": {}
      },
      "cell_type": "code",
      "source": [
        "inv_carrier_names_dict = {0: 'Southwest', 1: 'Delta', 2: 'American', 3: 'ExpressJet', \n",
        "                          4: 'SkyWest', 5: 'United', 6: 'Envoy', 7: 'US Airways', \n",
        "                          8: 'JetBLue', 9: 'Alaska', 10: 'Frontier', 11: 'Spirit',\n",
        "                          12: 'Hawaiian', 13: 'Virgin', 14: 'AirTran', 15: 'Other', \n",
        "                          16: 'Mesa', 17: 'Endeavor', 18: 'PSA', 19: 'Republic'}"
      ],
      "execution_count": 0,
      "outputs": []
    },
    {
      "metadata": {
        "id": "D5lH4b4mn1aT",
        "colab_type": "code",
        "colab": {}
      },
      "cell_type": "code",
      "source": [
        "airport_dict = {'ABE': 149, 'ABI': 162, 'ABQ': 273, 'ABR': 68, 'ABY': 86, 'ACK': 30, 'ACT': 121, \n",
        "                'ACV': 122, 'ACY': 173, 'ADK': 9, 'ADQ': 29, 'AEX': 178, 'AGS': 156, 'AKN': 5, 'ALB': 233, \n",
        "                'ALO': 47, 'AMA': 210, 'ANC': 265, 'APN': 37, 'ASE': 189, 'ATL': 326, 'ATW': 172, 'AUS': 292, \n",
        "                'AVL': 171, 'AVP': 117, 'AZO': 133, 'BDL': 272, 'BET': 88, 'BFL': 167, 'BGM': 12, 'BGR': 28, \n",
        "                'BHM': 259, 'BIL': 168, 'BIS': 183, 'BJI': 65, 'BKG': 4, 'BLI': 69, 'BMI': 170, 'BNA': 297, \n",
        "                'BOI': 256, 'BOS': 314, 'BPT': 99, 'BQK': 85, 'BQN': 108, 'BRD': 52, 'BRO': 161, 'BRW': 83, \n",
        "                'BTM': 64, 'BTR': 234, 'BTV': 177, 'BUF': 267, 'BUR': 271, 'BWI': 307, 'BZN': 187, 'CAE': 216, \n",
        "                'CAK': 223, 'CDC': 36, 'CDV': 55, 'CEC': 26, 'CHA': 199, 'CHO': 151, 'CHS': 257, 'CIC': 13, 'CID': 228, \n",
        "                'CIU': 44, 'CLD': 104, 'CLE': 285, 'CLL': 159, 'CLT': 311, 'CMH': 278, 'CMI': 148, 'CMX': 66, 'CNY': 24, \n",
        "                'COD': 71, 'COS': 231, 'COU': 112, 'CPR': 140, 'CRP': 214, 'CRW': 160, 'CSG': 102, 'CVG': 274, 'CWA': 113, \n",
        "                'DAB': 119, 'DAL': 299, 'DAY': 243, 'DBQ': 90, 'DCA': 305, 'DEN': 323, 'DFW': 324, 'DHN': 107, 'DIK': 106, \n",
        "                'DLG': 7, 'DLH': 126, 'DRO': 139, 'DSM': 242, 'DTW': 313, 'DVL': 34, 'EAU': 67, 'ECP': 197, 'EGE': 103, \n",
        "                'EKO': 46, 'ELM': 141, 'ELP': 258, 'ERI': 76, 'ESC': 31, 'EUG': 194, 'EVV': 191, 'EWN': 45, 'EWR': 310, \n",
        "                'EYW': 152, 'FAI': 146, 'FAR': 217, 'FAT': 237, 'FAY': 127, 'FCA': 136, 'FLG': 124, 'FLL': 302, 'FNT': 206, \n",
        "                'FSD': 219, 'FSM': 144, 'FWA': 212, 'GCC': 101, 'GCK': 62, 'GEG': 246, 'GFK': 33, 'GGG': 51, 'GJT': 182, \n",
        "                'GNV': 165, 'GPT': 192, 'GRB': 209, 'GRI': 49, 'GRK': 198, 'GRR': 253, 'GSO': 235, 'GSP': 227, 'GST': 6, \n",
        "                'GTF': 138, 'GTR': 93, 'GUC': 35, 'GUM': 25, 'HDN': 42, 'HIB': 80, 'HLN': 114, 'HNL': 294, 'HOB': 38, \n",
        "                'HOU': 298, 'HPN': 238, 'HRL': 176, 'HSV': 207, 'HYA': 8, 'HYS': 39, 'IAD': 291, 'IAG': 20, 'IAH': 321, \n",
        "                'ICT': 241, 'IDA': 158, 'ILG': 14, 'ILM': 135, 'IMT': 48, 'IND': 280, 'INL': 40, 'ISN': 166, 'ISP': 202, \n",
        "                'ITH': 3, 'ITO': 220, 'JAC': 186, 'JAN': 230, 'JAX': 269, 'JFK': 308, 'JLN': 53, 'JMS': 81, 'JNU': 196, \n",
        "                'KOA': 255, 'KTN': 155, 'LAN': 131, 'LAR': 43, 'LAS': 318, 'LAW': 115, 'LAX': 322, 'LBB': 211, 'LBE': 100, \n",
        "                'LCH': 134, 'LEX': 222, 'LFT': 215, 'LGA': 312, 'LGB': 244, 'LIH': 250, 'LIT': 251, 'LNK': 164, 'LRD': 153, \n",
        "                'LSE': 118, 'LWS': 41, 'MAF': 240, 'MBS': 129, 'MCI': 290, 'MCN': 1, 'MCO': 315, 'MDT': 185, 'MDW': 306, \n",
        "                'MEI': 79, 'MEM': 262, 'MFE': 193, 'MFR': 163, 'MGM': 179, 'MHK': 125, 'MHT': 225, 'MIA': 303, 'MKE': 282, \n",
        "                'MKG': 63, 'MLB': 110, 'MLI': 195, 'MLU': 175, 'MMH': 11, 'MOB': 213, 'MOT': 132, 'MQT': 22, 'MRY': 180, \n",
        "                'MSN': 249, 'MSO': 147, 'MSP': 317, 'MSY': 288, 'MTJ': 89, 'MVY': 17, 'MYR': 201, 'OAJ': 105, 'OAK': 293, \n",
        "                'OGG': 275, 'OKC': 266, 'OMA': 268, 'OME': 57, 'ONT': 270, 'ORD': 325, 'ORF': 248, 'ORH': 61, 'OTH': 21, \n",
        "                'OTZ': 54, 'Other': 0, 'PAH': 60, 'PBG': 18, 'PBI': 276, 'PDX': 295, 'PHF': 116, 'PHL': 301, 'PHX': 319, \n",
        "                'PIA': 203, 'PIB': 32, 'PIH': 73, 'PIT': 279, 'PLN': 72, 'PNS': 229, 'PPG': 10, 'PSC': 154, 'PSE': 74, \n",
        "                'PSG': 58, 'PSP': 247, 'PUB': 27, 'PVD': 254, 'PWM': 205, 'RAP': 181, 'RDD': 78, 'RDM': 145, 'RDU': 284, \n",
        "                'RHI': 95, 'RIC': 264, 'RKS': 82, 'RNO': 260, 'ROA': 150, 'ROC': 232, 'ROW': 98, 'RST': 143, 'RSW': 281, \n",
        "                'SAF': 128, 'SAN': 304, 'SAT': 283, 'SAV': 239, 'SBA': 226, 'SBN': 204, 'SBP': 190, 'SCC': 84, 'SCE': 87, \n",
        "                'SDF': 252, 'SEA': 316, 'SFO': 320, 'SGF': 224, 'SGU': 130, 'SHV': 221, 'SIT': 111, 'SJC': 289, 'SJT': 123, \n",
        "                'SJU': 277, 'SLC': 309, 'SMF': 287, 'SMX': 75, 'SNA': 286, 'SPI': 120, 'SPN': 2, 'SPS': 109, 'SRQ': 184, \n",
        "                'STC': 19, 'STL': 296, 'STT': 200, 'STX': 91, 'SUN': 92, 'SUX': 50, 'SWF': 70, 'SYR': 218, 'TLH': 188, \n",
        "                'TOL': 96, 'TPA': 300, 'TRI': 137, 'TTN': 174, 'TUL': 261, 'TUS': 263, 'TVC': 169, 'TWF': 77, 'TXK': 97, \n",
        "                'TYR': 157, 'TYS': 236, 'UST': 16, 'VEL': 23, 'VLD': 94, 'VPS': 208, 'WRG': 59, 'WYS': 15, 'XNA': 245, \n",
        "                'YAK': 56, 'YUM': 142}\n",
        "\n",
        "inv_airport_dict = {v: k for k, v in airport_dict.items()}"
      ],
      "execution_count": 0,
      "outputs": []
    },
    {
      "metadata": {
        "id": "EVnY1reSlxMb",
        "colab_type": "code",
        "colab": {}
      },
      "cell_type": "code",
      "source": [
        "dayofweek_dict = {'Monday': 1, 'Tuesday': 2, 'Wednesday': 3, 'Thursday': 4, 'Friday': 5, 'Saturday': 6, 'Sunday': 7}\n",
        "\n",
        "inv_dayofweek_dict = {v: k for k, v in dayofweek_dict.items()}"
      ],
      "execution_count": 0,
      "outputs": []
    },
    {
      "metadata": {
        "id": "Z3e-3Y7blwj7",
        "colab_type": "code",
        "colab": {}
      },
      "cell_type": "code",
      "source": [
        "distance_dict = {'0-249 Miles': 1, '250-499 Miles': 2, '500-749 Miles': 3, '750-999 Miles': 4, \n",
        "                 '1000-1249 Miles': 5, '1250-1499 Miles': 6, '1500-1749 Miles': 7, '1750-1999 Miles': 8, \n",
        "                 '2000-2249 Miles': 9, '2250-2499 Miles': 10, '2500+ Miles': 11}\n",
        "\n",
        "inv_distance_dict = {v: k for k, v in distance_dict.items()}"
      ],
      "execution_count": 0,
      "outputs": []
    },
    {
      "metadata": {
        "id": "qjPaz_iyvtOa",
        "colab_type": "code",
        "colab": {}
      },
      "cell_type": "code",
      "source": [
        "month_dict = {1: 'January', 2: 'February', 3: 'March', 4: 'April', 5: 'May', 6: 'June', 7: 'July', \n",
        "             8: 'August', 9: 'September', 10: 'October', 11: 'November', 12: 'December'}"
      ],
      "execution_count": 0,
      "outputs": []
    },
    {
      "metadata": {
        "id": "k0WASpFtJvXr",
        "colab_type": "text"
      },
      "cell_type": "markdown",
      "source": [
        "# Data Transformations"
      ]
    },
    {
      "metadata": {
        "id": "e978XnwVEl0r",
        "colab_type": "code",
        "colab": {}
      },
      "cell_type": "code",
      "source": [
        "# functions to map out mean costs associated with various attributes\n",
        "def mean_cost_map(feature):\n",
        "    mean_cost = df.groupby(feature, as_index=True)['Cost'].mean()\n",
        "    mean_cost_dict = dict(zip(mean_cost.index, mean_cost))\n",
        "    return mean_cost_dict\n",
        "\n",
        "def mean_cost_map_origin_airport(feature):\n",
        "    mean_cost = df.groupby(feature, as_index=True)['Cost'].mean()\n",
        "    mean_cost = mean_cost.replace(0.0, np.median(mean_cost))\n",
        "    mean_cost_dict = dict(zip(mean_cost.index, mean_cost))\n",
        "    return mean_cost_dict\n",
        "\n",
        "def mean_cost_map_dest_airport(feature):\n",
        "    mean_cost = df.groupby(feature, as_index=True)['Cost'].mean()\n",
        "    # need to insert replacement value at index 1 for function to work\n",
        "    mean_cost.at[1] = np.median(mean_cost)\n",
        "    mean_cost = mean_cost.replace(0.0, np.median(mean_cost))\n",
        "    mean_cost_dict = dict(zip(mean_cost.index, mean_cost))\n",
        "    return mean_cost_dict"
      ],
      "execution_count": 0,
      "outputs": []
    },
    {
      "metadata": {
        "id": "LnYkPoXTGL7Y",
        "colab_type": "code",
        "colab": {}
      },
      "cell_type": "code",
      "source": [
        "df['Carrier_MC'] = df['Carrier'].map(mean_cost_map(df['Carrier'])).astype('float32')\n",
        "df['Dest_MC'] = df['Dest'].map(mean_cost_map_dest_airport(df['Dest'])).astype('float32')\n",
        "df['Origin_MC'] = df['Origin'].map(mean_cost_map_origin_airport(df['Origin'])).astype('float32')\n",
        "df['Month_MC'] = df['Month'].map(mean_cost_map(df['Month'])).astype('float32')\n",
        "df['DayOfWeek_MC'] = df['DayOfWeek'].map(mean_cost_map(df['DayOfWeek'])).astype('float32')\n",
        "df['DepTimeBlk_MC'] = df['DepTimeBlk'].map(mean_cost_map(df['DepTimeBlk'])).astype('float32')\n",
        "df['ArrTimeBlk_MC'] = df['ArrTimeBlk'].map(mean_cost_map(df['ArrTimeBlk'])).astype('float32')\n",
        "df['OriginState_MC'] = df['OriginState'].map(mean_cost_map(df['OriginState'])).astype('float32')\n",
        "df['DestState_MC'] = df['DestState'].map(mean_cost_map(df['DestState'])).astype('float32')"
      ],
      "execution_count": 0,
      "outputs": []
    },
    {
      "metadata": {
        "id": "GoQb4my4y1KU",
        "colab_type": "code",
        "outputId": "b6b896e2-3efc-44dc-d570-fadaead87b1e",
        "colab": {
          "base_uri": "https://localhost:8080/",
          "height": 696
        }
      },
      "cell_type": "code",
      "source": [
        "# check memory usage\n",
        "df.info()"
      ],
      "execution_count": 28,
      "outputs": [
        {
          "output_type": "stream",
          "text": [
            "<class 'pandas.core.frame.DataFrame'>\n",
            "RangeIndex: 18391113 entries, 0 to 18391112\n",
            "Data columns (total 33 columns):\n",
            "Year               uint16\n",
            "Quarter            uint8\n",
            "Month              uint8\n",
            "DayofMonth         uint8\n",
            "DayOfWeek          uint8\n",
            "Carrier            uint8\n",
            "Origin             uint16\n",
            "OriginState        uint8\n",
            "Dest               uint16\n",
            "DestState          uint8\n",
            "CRSDepTime         uint16\n",
            "DepDelayMinutes    uint16\n",
            "DepDel15           uint8\n",
            "DepTimeBlk         uint8\n",
            "CRSArrTime         uint16\n",
            "ArrTimeBlk         uint8\n",
            "Cancelled          uint8\n",
            "Diverted           uint8\n",
            "Distance           uint16\n",
            "DistanceGroup      uint8\n",
            "Disruption         uint8\n",
            "Cost               int64\n",
            "Revenue            uint8\n",
            "Profit             int64\n",
            "Carrier_MC         float32\n",
            "Dest_MC            float32\n",
            "Origin_MC          float32\n",
            "Month_MC           float32\n",
            "DayOfWeek_MC       float32\n",
            "DepTimeBlk_MC      float32\n",
            "ArrTimeBlk_MC      float32\n",
            "OriginState_MC     float32\n",
            "DestState_MC       float32\n",
            "dtypes: float32(9), int64(2), uint16(7), uint8(15)\n",
            "memory usage: 1.4 GB\n"
          ],
          "name": "stdout"
        }
      ]
    },
    {
      "metadata": {
        "id": "R41lSqc7kq8W",
        "colab_type": "code",
        "colab": {}
      },
      "cell_type": "code",
      "source": [
        "# df['Orig_Code'] = df['Origin'].map(d)\n",
        "df['OrigCode'] = df['Origin'].map(inv_airport_dict)\n",
        "df['DestCode'] = df['Dest'].map(inv_airport_dict)"
      ],
      "execution_count": 0,
      "outputs": []
    },
    {
      "metadata": {
        "id": "AHoQtz5blIDu",
        "colab_type": "code",
        "colab": {}
      },
      "cell_type": "code",
      "source": [
        "df['RouteName'] = df['OrigCode'] + \"-\" + df['DestCode']\n",
        "df = df.drop(['OrigCode', 'DestCode'], axis=1)"
      ],
      "execution_count": 0,
      "outputs": []
    },
    {
      "metadata": {
        "id": "1uBpP5bCl51s",
        "colab_type": "code",
        "colab": {}
      },
      "cell_type": "code",
      "source": [
        "route_list = df['RouteName'].value_counts().index.tolist()"
      ],
      "execution_count": 0,
      "outputs": []
    },
    {
      "metadata": {
        "id": "kyFNmxTWnGeT",
        "colab_type": "code",
        "colab": {}
      },
      "cell_type": "code",
      "source": [
        "route_dict = dict()\n",
        "for x in range(0, (len(route_list))):\n",
        "    route_dict[route_list[x]] = x  "
      ],
      "execution_count": 0,
      "outputs": []
    },
    {
      "metadata": {
        "id": "3rZdNvGbqCcx",
        "colab_type": "code",
        "colab": {}
      },
      "cell_type": "code",
      "source": [
        "inv_route_dict = {v: k for k, v in route_dict.items()}"
      ],
      "execution_count": 0,
      "outputs": []
    },
    {
      "metadata": {
        "id": "C3Lu98QAl59-",
        "colab_type": "code",
        "outputId": "12ff2259-bf20-44b3-a5fe-948cae0320dc",
        "colab": {
          "base_uri": "https://localhost:8080/",
          "height": 196
        }
      },
      "cell_type": "code",
      "source": [
        "dict_top_ten(route_dict)"
      ],
      "execution_count": 37,
      "outputs": [
        {
          "output_type": "execute_result",
          "data": {
            "text/plain": [
              "{'JFK-LAX': 2,\n",
              " 'LAS-LAX': 7,\n",
              " 'LAX-JFK': 3,\n",
              " 'LAX-LAS': 6,\n",
              " 'LAX-SEA': 9,\n",
              " 'LAX-SFO': 1,\n",
              " 'LGA-ORD': 4,\n",
              " 'ORD-LGA': 5,\n",
              " 'SEA-LAX': 8,\n",
              " 'SFO-LAX': 0}"
            ]
          },
          "metadata": {
            "tags": []
          },
          "execution_count": 37
        }
      ]
    },
    {
      "metadata": {
        "id": "tP18NBQ3q4J3",
        "colab_type": "code",
        "outputId": "fea5eadc-7fda-436c-c841-b3881ce4fa4e",
        "colab": {
          "base_uri": "https://localhost:8080/",
          "height": 196
        }
      },
      "cell_type": "code",
      "source": [
        "dict_top_ten(inv_route_dict)"
      ],
      "execution_count": 38,
      "outputs": [
        {
          "output_type": "execute_result",
          "data": {
            "text/plain": [
              "{0: 'SFO-LAX',\n",
              " 1: 'LAX-SFO',\n",
              " 2: 'JFK-LAX',\n",
              " 3: 'LAX-JFK',\n",
              " 4: 'LGA-ORD',\n",
              " 5: 'ORD-LGA',\n",
              " 6: 'LAX-LAS',\n",
              " 7: 'LAS-LAX',\n",
              " 8: 'SEA-LAX',\n",
              " 9: 'LAX-SEA'}"
            ]
          },
          "metadata": {
            "tags": []
          },
          "execution_count": 38
        }
      ]
    },
    {
      "metadata": {
        "id": "aUhzCVkjn3HH",
        "colab_type": "code",
        "colab": {}
      },
      "cell_type": "code",
      "source": [
        "df['Route'] = df['RouteName'].map(route_dict)"
      ],
      "execution_count": 0,
      "outputs": []
    },
    {
      "metadata": {
        "id": "JK9xB6vIoHAv",
        "colab_type": "code",
        "colab": {}
      },
      "cell_type": "code",
      "source": [
        "df = df.drop(['RouteName'], axis=1)"
      ],
      "execution_count": 0,
      "outputs": []
    },
    {
      "metadata": {
        "id": "lcLSuD1Tomno",
        "colab_type": "code",
        "outputId": "23bbee9b-cd05-40e6-fe2a-e39e6ffa4229",
        "colab": {
          "base_uri": "https://localhost:8080/",
          "height": 714
        }
      },
      "cell_type": "code",
      "source": [
        "df.info(memory_usage='deep')"
      ],
      "execution_count": 41,
      "outputs": [
        {
          "output_type": "stream",
          "text": [
            "<class 'pandas.core.frame.DataFrame'>\n",
            "RangeIndex: 18391113 entries, 0 to 18391112\n",
            "Data columns (total 34 columns):\n",
            "Year               uint16\n",
            "Quarter            uint8\n",
            "Month              uint8\n",
            "DayofMonth         uint8\n",
            "DayOfWeek          uint8\n",
            "Carrier            uint8\n",
            "Origin             uint16\n",
            "OriginState        uint8\n",
            "Dest               uint16\n",
            "DestState          uint8\n",
            "CRSDepTime         uint16\n",
            "DepDelayMinutes    uint16\n",
            "DepDel15           uint8\n",
            "DepTimeBlk         uint8\n",
            "CRSArrTime         uint16\n",
            "ArrTimeBlk         uint8\n",
            "Cancelled          uint8\n",
            "Diverted           uint8\n",
            "Distance           uint16\n",
            "DistanceGroup      uint8\n",
            "Disruption         uint8\n",
            "Cost               int64\n",
            "Revenue            uint8\n",
            "Profit             int64\n",
            "Carrier_MC         float32\n",
            "Dest_MC            float32\n",
            "Origin_MC          float32\n",
            "Month_MC           float32\n",
            "DayOfWeek_MC       float32\n",
            "DepTimeBlk_MC      float32\n",
            "ArrTimeBlk_MC      float32\n",
            "OriginState_MC     float32\n",
            "DestState_MC       float32\n",
            "Route              int64\n",
            "dtypes: float32(9), int64(3), uint16(7), uint8(15)\n",
            "memory usage: 1.5 GB\n"
          ],
          "name": "stdout"
        }
      ]
    },
    {
      "metadata": {
        "id": "3i0TzMqAhB-9",
        "colab_type": "text"
      },
      "cell_type": "markdown",
      "source": [
        "# Data Exploration\n",
        "\n",
        "Several stats and visualizations on disruptions and cost of disruptions"
      ]
    },
    {
      "metadata": {
        "colab_type": "code",
        "outputId": "94acc08a-d202-4f9c-c3d7-bcd0cd89de9c",
        "id": "MRsybXPtSzpJ",
        "colab": {
          "base_uri": "https://localhost:8080/",
          "height": 68
        }
      },
      "cell_type": "code",
      "source": [
        "# cancelled flights vs not cancelled flights\n",
        "df['Cancelled'].value_counts()"
      ],
      "execution_count": 0,
      "outputs": [
        {
          "output_type": "execute_result",
          "data": {
            "text/plain": [
              "0    18124664\n",
              "1      266449\n",
              "Name: Cancelled, dtype: int64"
            ]
          },
          "metadata": {
            "tags": []
          },
          "execution_count": 29
        }
      ]
    },
    {
      "metadata": {
        "colab_type": "code",
        "outputId": "ce497089-429f-420d-c0d8-f8b678063e38",
        "id": "iEfz9pRdSzo_",
        "colab": {
          "base_uri": "https://localhost:8080/",
          "height": 68
        }
      },
      "cell_type": "code",
      "source": [
        "# total flight disruptions (1) vs normal flights\n",
        "df['Disruption'].value_counts()"
      ],
      "execution_count": 0,
      "outputs": [
        {
          "output_type": "execute_result",
          "data": {
            "text/plain": [
              "0    18032441\n",
              "1      358672\n",
              "Name: Disruption, dtype: int64"
            ]
          },
          "metadata": {
            "tags": []
          },
          "execution_count": 30
        }
      ]
    },
    {
      "metadata": {
        "colab_type": "code",
        "outputId": "5ca9d3a5-ed46-4079-b4ac-aa9c33829c0a",
        "id": "gRfEV0WDSzo4",
        "colab": {
          "base_uri": "https://localhost:8080/",
          "height": 51
        }
      },
      "cell_type": "code",
      "source": [
        "# calculate total cancellation / disruption percentage\n",
        "not_cancelled = df['Cancelled'].value_counts()[0]\n",
        "cancelled = df['Cancelled'].value_counts()[1]\n",
        "\n",
        "not_disrupted = df['Disruption'].value_counts()[0]\n",
        "disrupted = df['Disruption'].value_counts()[1]\n",
        "\n",
        "cancel_pct = cancelled / (cancelled + not_cancelled)\n",
        "disrupt_pct = disrupted / (disrupted + not_disrupted)\n",
        "\n",
        "print(\"Cancellation Pct: \", str(np.round(cancel_pct*100,3)) + \"%\")\n",
        "print(\"Disruption Pct: \", str(np.round(disrupt_pct*100,3)) + \"%\")"
      ],
      "execution_count": 0,
      "outputs": [
        {
          "output_type": "stream",
          "text": [
            "Cancellation Pct:  1.449%\n",
            "Disruption Pct:  1.95%\n"
          ],
          "name": "stdout"
        }
      ]
    },
    {
      "metadata": {
        "colab_type": "code",
        "outputId": "85b566c0-10c3-4478-9832-0cc2482d7c4e",
        "id": "Top1Ta-mSzoS",
        "colab": {
          "base_uri": "https://localhost:8080/",
          "height": 34
        }
      },
      "cell_type": "code",
      "source": [
        "# mean cost of insuring customer\n",
        "print(\"Mean Cost of Insuring Customer: \", str(df['Cost'].mean()))"
      ],
      "execution_count": 0,
      "outputs": [
        {
          "output_type": "stream",
          "text": [
            "Mean Cost of Insuring Customer:  9.751231477942635\n"
          ],
          "name": "stdout"
        }
      ]
    },
    {
      "metadata": {
        "colab_type": "code",
        "outputId": "4b2fd37d-ae7c-41f2-9353-fe240138f018",
        "id": "jNJovvBbSzoF",
        "colab": {
          "base_uri": "https://localhost:8080/",
          "height": 119
        }
      },
      "cell_type": "code",
      "source": [
        "# # some summary stats on reasons for delays; stats are unfortunately not fully reported\n",
        "# total_carrier_delays = df['Carrier_Delay'].sum()\n",
        "# total_weather_delays = df['Weather_Delay'].sum()\n",
        "# total_nas_delays = df['NAS_Delay'].sum()\n",
        "# total_security_delays = df['Security_Delay'].sum()\n",
        "# total_delays = df['Disruption'].sum() - df['Cancelled'].sum()\n",
        "# total_disruptions = df['Disruption'].sum()\n",
        "\n",
        "\n",
        "# print(\"Total Carrier Delays: \" + str(total_carrier_delays))\n",
        "# print(\"Total Weather Delays: \" + str(total_weather_delays))\n",
        "# print(\"Total NAS Delays: \" + str(total_nas_delays))\n",
        "# print(\"Total Security Delays: \" + str(total_security_delays))\n",
        "# print(\"Total Delays: \" + str(total_delays))\n",
        "# print(\"Total Disruptions: \" + str(total_disruptions))"
      ],
      "execution_count": 0,
      "outputs": [
        {
          "output_type": "stream",
          "text": [
            "Total Carrier Delays: 34217\n",
            "Total Weather Delays: 6012\n",
            "Total NAS Delays: 9546\n",
            "Total Security Delays: 63\n",
            "Total Delays: 92223\n",
            "Total Disruptions: 358672\n"
          ],
          "name": "stdout"
        }
      ]
    },
    {
      "metadata": {
        "id": "x8isic4JhtxF",
        "colab_type": "text"
      },
      "cell_type": "markdown",
      "source": [
        "## Create New Dataframes to Visualize Disruptions, Costs, and Other Stats"
      ]
    },
    {
      "metadata": {
        "id": "_mfBw48qVWq1",
        "colab_type": "code",
        "colab": {}
      },
      "cell_type": "code",
      "source": [
        "feature_list = ['Year', 'Quarter', 'Month', 'DayOfWeek', 'Carrier', 'Origin', \n",
        "                'OriginState', 'Dest', 'DestState', 'DepTimeBlk', 'ArrTimeBlk', 'Distance', 'Route']"
      ],
      "execution_count": 0,
      "outputs": []
    },
    {
      "metadata": {
        "id": "4JiD1karSSKZ",
        "colab_type": "code",
        "colab": {}
      },
      "cell_type": "code",
      "source": [
        "# function to generate new dataframes for stats\n",
        "def feature_by_cancelled(feature):\n",
        "    c0 = df[df.Disruption == 0].groupby(feature).count()['Disruption']\n",
        "    c1 = df[df.Disruption == 1].groupby(feature).count()['Disruption']\n",
        "    c1 = c1.fillna(0)\n",
        "    \n",
        "    new_df = pd.DataFrame({'Arrived': c0, 'Disruption': c1})\n",
        "    new_df['Total_Flights'] = new_df['Arrived'] + new_df['Disruption']\n",
        "    new_df['Disrupt_Pct'] = (new_df['Disruption'] / new_df['Total_Flights']) * 100\n",
        "       \n",
        "    avg_profit = df.groupby(feature, as_index=True)['Profit'].mean()\n",
        "    new_df['Avg_Profit'] = avg_profit\n",
        "    \n",
        "    avg_cost = df.groupby(feature, as_index=True)['Cost'].mean()\n",
        "    new_df['Avg_Total_Cost'] = avg_cost\n",
        "    \n",
        "    avg_cancel_cost = df.groupby(feature, as_index=True)['Cancelled'].mean()\n",
        "    avg_cancel_cost = avg_cancel_cost * 500\n",
        "    new_df['Avg_Cancel_Cost'] = avg_cancel_cost\n",
        "    \n",
        "    avg_delay_cost = avg_cost - avg_cancel_cost   \n",
        "    new_df['Avg_Delay_Cost'] = avg_delay_cost\n",
        "    \n",
        "    return new_df"
      ],
      "execution_count": 0,
      "outputs": []
    },
    {
      "metadata": {
        "id": "jNzBqGmGVUys",
        "colab_type": "code",
        "colab": {}
      },
      "cell_type": "code",
      "source": [
        "month_df = feature_by_cancelled('Month')\n",
        "year_df = feature_by_cancelled('Year')\n",
        "quarter_df = feature_by_cancelled('Quarter')\n",
        "dayofweek_df = feature_by_cancelled('DayOfWeek')\n",
        "carrier_df = feature_by_cancelled('Carrier')\n",
        "origin_df = feature_by_cancelled('Origin')\n",
        "origin_state_df = feature_by_cancelled('OriginState')\n",
        "dest_df = feature_by_cancelled('Dest')\n",
        "dest_state_df = feature_by_cancelled('DestState')\n",
        "dep_timblk_df = feature_by_cancelled('DepTimeBlk')\n",
        "arr_timblk_df = feature_by_cancelled('ArrTimeBlk')\n",
        "distance_df = feature_by_cancelled('DistanceGroup')\n",
        "route_df = feature_by_cancelled('Route')"
      ],
      "execution_count": 0,
      "outputs": []
    },
    {
      "metadata": {
        "id": "EWgrReWSiUFS",
        "colab_type": "code",
        "colab": {}
      },
      "cell_type": "code",
      "source": [
        "# add labels to stats dataframes\n",
        "carrier_df['Carrier'] = pd.Series(inv_carrier_names_dict)\n",
        "origin_df['Airport'] = pd.Series(inv_airport_dict)\n",
        "origin_state_df['State'] = pd.Series(inv_state_dict)\n",
        "dest_df['Airport'] = pd.Series(inv_airport_dict)\n",
        "dest_state_df['State'] = pd.Series(inv_state_dict)\n",
        "month_df['Month'] = pd.Series(month_dict)\n",
        "dep_timblk_df['Time Block'] = pd.Series(inv_time_dict)\n",
        "arr_timblk_df['Time Block'] = pd.Series(inv_time_dict)\n",
        "distance_df['Distance Group'] = pd.Series(inv_distance_dict)\n",
        "route_df['Route'] = pd.Series(inv_route_dict)"
      ],
      "execution_count": 0,
      "outputs": []
    },
    {
      "metadata": {
        "colab_type": "code",
        "id": "40eiftTArs87",
        "colab": {}
      },
      "cell_type": "code",
      "source": [
        "# shorten route_df from ~6500 rows down to 200 most popular routes\n",
        "route_df_200 = route_df[:200]\n",
        "\n",
        "# sorted top 200 routes\n",
        "sorted_route_df_200 = route_df_200.sort_values('Avg_Total_Cost', ascending=False)"
      ],
      "execution_count": 0,
      "outputs": []
    },
    {
      "metadata": {
        "id": "1j7vxZdwZvs0",
        "colab_type": "code",
        "colab": {}
      },
      "cell_type": "code",
      "source": [
        "# lists created for analysis purposes\n",
        "short_df_list = [month_df, year_df, quarter_df, dayofweek_df, carrier_df,  \n",
        "          origin_state_df, dest_state_df, dep_timblk_df, arr_timblk_df, distance_df]\n",
        "\n",
        "long_df_list = [origin_df, dest_df]"
      ],
      "execution_count": 0,
      "outputs": []
    },
    {
      "metadata": {
        "id": "2ZL1uC-Lxslq",
        "colab_type": "text"
      },
      "cell_type": "markdown",
      "source": [
        "# Summary Stats on Disruptions & Costs"
      ]
    },
    {
      "metadata": {
        "id": "FIWFh_2Cad7z",
        "colab_type": "code",
        "outputId": "4492eb61-1c58-4fde-a4c1-6cfb8e501138",
        "colab": {
          "base_uri": "https://localhost:8080/",
          "height": 9129
        }
      },
      "cell_type": "code",
      "source": [
        "# generate summary stats for various features\n",
        "for i in short_df_list:\n",
        "    print(i)\n",
        "    print(\"\\n\")\n",
        "    print(\"=\" * 60)\n",
        "    print(\"\\n\")"
      ],
      "execution_count": 62,
      "outputs": [
        {
          "output_type": "stream",
          "text": [
            "       Arrived  Disruption  Total_Flights  Disrupt_Pct  Avg_Profit  \\\n",
            "Month                                                                \n",
            "1      1420777       45185        1465962        3.082       3.589   \n",
            "2      1327000       28137        1355137        2.076       8.618   \n",
            "3      1543203       36503        1579706        2.311       7.446   \n",
            "4      1500255       25750        1526005        1.687      10.563   \n",
            "5      1561189       21181        1582370        1.339      12.307   \n",
            "6      1576931       31165        1608096        1.938       9.310   \n",
            "7      1618787       38039        1656826        2.296       7.521   \n",
            "8      1612474       40997        1653471        2.479       6.603   \n",
            "9      1469049       30305        1499354        2.021       8.894   \n",
            "10     1550641       17883        1568524        1.140      13.299   \n",
            "11     1476732       14546        1491278        0.975      14.123   \n",
            "12     1375403       28981        1404384        2.064       8.682   \n",
            "\n",
            "       Avg_Total_Cost  Avg_Cancel_Cost  Avg_Delay_Cost      Month  \n",
            "Month                                                              \n",
            "1              15.411           12.865           2.546    January  \n",
            "2              10.382            8.158           2.223   February  \n",
            "3              11.554            9.666           1.887      March  \n",
            "4               8.437            5.818           2.619      April  \n",
            "5               6.693            4.330           2.363        May  \n",
            "6               9.690            6.547           3.143       June  \n",
            "7              11.479            7.891           3.588       July  \n",
            "8              12.397            9.148           3.249     August  \n",
            "9              10.106            8.334           1.772  September  \n",
            "10              5.701            3.932           1.769    October  \n",
            "11              4.877            3.012           1.866   November  \n",
            "12             10.318            7.424           2.895   December  \n",
            "\n",
            "\n",
            "============================================================\n",
            "\n",
            "\n",
            "      Arrived  Disruption  Total_Flights  Disrupt_Pct  Avg_Profit  \\\n",
            "Year                                                                \n",
            "2015   468435       10795         479230        2.253       7.737   \n",
            "2016  5526836       90822        5617658        1.617      10.916   \n",
            "2017  5562922      111699        5674621        1.968       9.158   \n",
            "2018  6474248      145356        6619604        2.196       8.021   \n",
            "\n",
            "      Avg_Total_Cost  Avg_Cancel_Cost  Avg_Delay_Cost  \n",
            "Year                                                   \n",
            "2015          11.263            8.412           2.850  \n",
            "2016           8.084            5.862           2.222  \n",
            "2017           9.842            7.286           2.556  \n",
            "2018          10.979            8.296           2.683  \n",
            "\n",
            "\n",
            "============================================================\n",
            "\n",
            "\n",
            "         Arrived  Disruption  Total_Flights  Disrupt_Pct  Avg_Profit  \\\n",
            "Quarter                                                                \n",
            "1        4290980      109825        4400805        2.496       6.522   \n",
            "2        4638375       78096        4716471        1.656      10.721   \n",
            "3        4700310      109341        4809651        2.273       7.633   \n",
            "4        4402776       61410        4464186        1.376      12.122   \n",
            "\n",
            "         Avg_Total_Cost  Avg_Cancel_Cost  Avg_Delay_Cost  \n",
            "Quarter                                                   \n",
            "1                12.478           10.268           2.210  \n",
            "2                 8.279            5.567           2.712  \n",
            "3                11.367            8.462           2.905  \n",
            "4                 6.878            4.723           2.155  \n",
            "\n",
            "\n",
            "============================================================\n",
            "\n",
            "\n",
            "           Arrived  Disruption  Total_Flights  Disrupt_Pct  Avg_Profit  \\\n",
            "DayOfWeek                                                                \n",
            "1          2667596       57795        2725391        2.121       8.397   \n",
            "2          2619487       53847        2673334        2.014       8.929   \n",
            "3          2650297       52075        2702372        1.927       9.365   \n",
            "4          2685497       52746        2738243        1.926       9.369   \n",
            "5          2695850       57915        2753765        2.103       8.484   \n",
            "6          2184227       38105        2222332        1.715      10.427   \n",
            "7          2529487       46189        2575676        1.793      10.034   \n",
            "\n",
            "           Avg_Total_Cost  Avg_Cancel_Cost  Avg_Delay_Cost  \n",
            "DayOfWeek                                                   \n",
            "1                  10.603            7.765           2.838  \n",
            "2                  10.071            7.686           2.385  \n",
            "3                   9.635            7.464           2.171  \n",
            "4                   9.631            7.091           2.540  \n",
            "5                  10.516            7.755           2.761  \n",
            "6                   8.573            6.261           2.312  \n",
            "7                   8.966            6.467           2.499  \n",
            "\n",
            "\n",
            "============================================================\n",
            "\n",
            "\n",
            "         Arrived  Disruption  Total_Flights  Disrupt_Pct  Avg_Profit  \\\n",
            "Carrier                                                                \n",
            "0        3915093       60796        3975889        1.529      11.354   \n",
            "1        2758420       32802        2791222        1.175      13.124   \n",
            "2        2677768       50334        2728102        1.845       9.775   \n",
            "3        1026954       36725        1063679        3.453       1.737   \n",
            "4        2024398       45112        2069510        2.180       8.101   \n",
            "5        1715729       27297        1743026        1.566      11.170   \n",
            "6         279508       11890         291398        4.080      -1.402   \n",
            "8         858889       25241         884130        2.855       4.726   \n",
            "9         596259        5437         601696        0.904      14.482   \n",
            "10        308631        7756         316387        2.451       6.743   \n",
            "11        454740       12113         466853        2.595       6.027   \n",
            "12        238756         974         239730        0.406      16.969   \n",
            "13        160635        2671         163306        1.636      10.822   \n",
            "15         86763        1786          88549        2.017       8.915   \n",
            "16        190125        6437         196562        3.275       2.626   \n",
            "17        217324        7903         225227        3.509       1.455   \n",
            "18        242990       12406         255396        4.858      -5.288   \n",
            "19        279459       10992         290451        3.784       0.078   \n",
            "\n",
            "         Avg_Total_Cost  Avg_Cancel_Cost  Avg_Delay_Cost     Carrier  \n",
            "Carrier                                                               \n",
            "0                 7.646            6.650           0.996   Southwest  \n",
            "1                 5.876            2.998           2.878       Delta  \n",
            "2                 9.225            6.936           2.290    American  \n",
            "3                17.263           13.356           3.908  ExpressJet  \n",
            "4                10.899            7.263           3.636     SkyWest  \n",
            "5                 7.830            4.889           2.941      United  \n",
            "6                20.402           18.682           1.719       Envoy  \n",
            "8                14.274           10.472           3.803     JetBLue  \n",
            "9                 4.518            3.673           0.845      Alaska  \n",
            "10               12.257            7.093           5.165    Frontier  \n",
            "11               12.973           10.321           2.652      Spirit  \n",
            "12                2.031            1.245           0.786    Hawaiian  \n",
            "13                8.178            6.672           1.506      Virgin  \n",
            "15               10.085            3.992           6.093       Other  \n",
            "16               16.374           12.968           3.406        Mesa  \n",
            "17               17.545           13.850           3.694    Endeavor  \n",
            "18               24.288           21.243           3.044         PSA  \n",
            "19               18.922           16.968           1.954    Republic  \n",
            "\n",
            "\n",
            "============================================================\n",
            "\n",
            "\n",
            "             Arrived  Disruption  Total_Flights  Disrupt_Pct  Avg_Profit  \\\n",
            "OriginState                                                                \n",
            "0            2234912       34946        2269858        1.540      11.302   \n",
            "1            1848138       35635        1883773        1.892       9.542   \n",
            "2            1114819       26859        1141678        2.353       7.237   \n",
            "3            1172833       16648        1189481        1.400      12.002   \n",
            "4            1426446       30639        1457085        2.103       8.486   \n",
            "5             845241       31178         876419        3.557       1.213   \n",
            "6             745470       11470         756940        1.515      11.423   \n",
            "7             544976        5124         550100        0.931      14.343   \n",
            "8             627896       15160         643056        2.357       7.213   \n",
            "9             522078       15828         537906        2.943       4.287   \n",
            "10            506136        6142         512278        1.199      13.005   \n",
            "11            495680        9103         504783        1.803       9.983   \n",
            "12            453769        3697         457466        0.808      14.959   \n",
            "13            387725       10554         398279        2.650       5.750   \n",
            "14            438294        5848         444142        1.317      12.417   \n",
            "15            341834        2480         344314        0.720      15.399   \n",
            "16            334438        5784         340222        1.700      10.500   \n",
            "17            387495        9843         397338        2.477       6.614   \n",
            "18            377343       13975         391318        3.571       1.144   \n",
            "19            312623        1942         314565        0.617      15.913   \n",
            "20            296656        6814         303470        2.245       7.773   \n",
            "21            277268        5512         282780        1.949       9.254   \n",
            "22            249408        6351         255759        2.483       6.584   \n",
            "23            210774        4328         215102        2.012       8.940   \n",
            "24            215019        2669         217688        1.226      12.870   \n",
            "25            158396        3712         162108        2.290       7.551   \n",
            "26            142149        3634         145783        2.493       6.536   \n",
            "27            100137        1757         101894        1.724      10.378   \n",
            "28            141730        3090         144820        2.134       8.332   \n",
            "29            113298        3784         117082        3.232       2.840   \n",
            "30            109598        1569         111167        1.411      11.943   \n",
            "31             83468        2048          85516        2.395       7.026   \n",
            "32             69010         993          70003        1.419      11.907   \n",
            "33             57447        1297          58744        2.208       7.961   \n",
            "34             71303        1466          72769        2.015       8.927   \n",
            "35             81742        2290          84032        2.725       5.374   \n",
            "36             69295        1746          71041        2.458       6.711   \n",
            "37             51745        1305          53050        2.460       6.700   \n",
            "38             67955        1154          69109        1.670      10.651   \n",
            "39             39698        1214          40912        2.967       4.163   \n",
            "40             33072         813          33885        2.399       7.004   \n",
            "41             53846         736          54582        1.348      12.258   \n",
            "42             34262         964          35226        2.737       5.317   \n",
            "43             43390        1346          44736        3.009       3.956   \n",
            "44             26630         691          27321        2.529       6.354   \n",
            "45             23853         561          24414        2.298       7.511   \n",
            "46             22091         703          22794        3.084       3.579   \n",
            "47             27917        1440          29357        4.905      -5.526   \n",
            "48             15834         848          16682        5.083      -6.417   \n",
            "49             14652         490          15142        3.236       2.820   \n",
            "50             10804         446          11250        3.964      -0.822   \n",
            "52              1848          46           1894        2.429       6.856   \n",
            "\n",
            "             Avg_Total_Cost  Avg_Cancel_Cost  Avg_Delay_Cost State  \n",
            "OriginState                                                         \n",
            "0                     7.698            5.795           1.903    CA  \n",
            "1                     9.458            7.374           2.084    TX  \n",
            "2                    11.763            9.361           2.402    IL  \n",
            "3                     6.998            4.793           2.205    GA  \n",
            "4                    10.514            7.498           3.016    FL  \n",
            "5                    17.787           13.675           4.112    NY  \n",
            "6                     7.577            5.528           2.048    CO  \n",
            "7                     4.657            3.336           1.322    AZ  \n",
            "8                    11.787            9.496           2.291    NC  \n",
            "9                    14.713           11.243           3.470    VA  \n",
            "10                    5.995            4.202           1.793    NV  \n",
            "11                    9.017            5.915           3.101    MI  \n",
            "12                    4.041            2.636           1.404    WA  \n",
            "13                   13.250           10.314           2.935    MA  \n",
            "14                    6.583            4.288           2.295    MN  \n",
            "15                    3.601            1.820           1.782    UT  \n",
            "16                    8.500            6.397           2.103    MO  \n",
            "17                   12.386            9.575           2.811    PA  \n",
            "18                   17.856           14.143           3.713    NJ  \n",
            "19                    3.087            1.718           1.369    HI  \n",
            "20                   11.227            9.414           1.812    MD  \n",
            "21                    9.746            6.767           2.979    TN  \n",
            "22                   12.416            9.067           3.349    OH  \n",
            "23                   10.060            6.781           3.280    LA  \n",
            "24                    6.130            4.104           2.026    OR  \n",
            "25                   11.449            8.084           3.365    WI  \n",
            "26                   12.464            8.808           3.656    KY  \n",
            "27                    8.622            6.080           2.542    OK  \n",
            "28                   10.668            6.995           3.674    IN  \n",
            "29                   16.160           12.525           3.634    SC  \n",
            "30                    7.057            5.631           1.426    AK  \n",
            "31                   11.974            8.460           3.514    AL  \n",
            "32                    7.093            4.807           2.286    NM  \n",
            "33                   11.039            7.499           3.541    AR  \n",
            "34                   10.073            6.617           3.456    NE  \n",
            "35                   13.626           10.526           3.100    PR  \n",
            "36                   12.289            9.663           2.625    CT  \n",
            "37                   12.300            8.106           4.194    IA  \n",
            "38                    8.349            5.607           2.742    ID  \n",
            "39                   14.837            8.702           6.135    ND  \n",
            "40                   11.996            7.570           4.427    KS  \n",
            "41                    6.742            3.069           3.673    MT  \n",
            "42                   13.683            8.658           5.025    MS  \n",
            "43                   15.044           12.395           2.649    RI  \n",
            "44                   12.646            7.558           5.088    SD  \n",
            "45                   11.489            6.431           5.059    WY  \n",
            "46                   15.421           13.117           2.303    NH  \n",
            "47                   24.526           19.127           5.399    ME  \n",
            "48                   25.417           19.812           5.605    VT  \n",
            "49                   16.180           12.119           4.062    VI  \n",
            "50                   19.822           13.378           6.444    WV  \n",
            "52                   12.144            4.488           7.656    TT  \n",
            "\n",
            "\n",
            "============================================================\n",
            "\n",
            "\n",
            "           Arrived  Disruption  Total_Flights  Disrupt_Pct  Avg_Profit  \\\n",
            "DestState                                                                \n",
            "0          2235023       34915        2269938        1.538      11.309   \n",
            "1          1845555       38171        1883726        2.026       8.868   \n",
            "2          1111282       30083        1141365        2.636       5.821   \n",
            "3          1169753       19564        1189317        1.645      10.775   \n",
            "4          1427622       29509        1457131        2.025       8.874   \n",
            "5           845692       30710         876402        3.504       1.480   \n",
            "6           744742       12373         757115        1.634      10.829   \n",
            "7           543664        6467         550131        1.176      13.122   \n",
            "8           627462       15586         643048        2.424       6.881   \n",
            "9           523630       14256         537886        2.650       5.748   \n",
            "10          506811        5522         512333        1.078      13.611   \n",
            "11          495519        9492         505011        1.880       9.602   \n",
            "12          453336        4113         457449        0.899      14.504   \n",
            "13          387871       10403         398274        2.612       5.940   \n",
            "14          437153        6880         444033        1.549      11.253   \n",
            "15          341375        3079         344454        0.894      14.531   \n",
            "16          335148        5075         340223        1.492      11.542   \n",
            "17          387838        9507         397345        2.393       7.037   \n",
            "18          376457       15061         391518        3.847      -0.234   \n",
            "19          312859        1689         314548        0.537      16.315   \n",
            "20          296706        6764         303470        2.229       7.856   \n",
            "21          278032        4753         282785        1.681      10.596   \n",
            "22          250035        5715         255750        2.235       7.827   \n",
            "23          211615        3474         215089        1.615      10.924   \n",
            "24          215256        2429         217685        1.116      13.421   \n",
            "25          158948        3153         162101        1.945       9.275   \n",
            "26          142559        3219         145778        2.208       7.959   \n",
            "27          100448        1452         101900        1.425      11.875   \n",
            "28          142013        2803         144816        1.936       9.322   \n",
            "29          113777        3312         117089        2.829       4.857   \n",
            "30          109789        1367         111156        1.230      12.851   \n",
            "31           83776        1745          85521        2.040       8.798   \n",
            "32           69221         785          70006        1.121      13.393   \n",
            "33           57716        1030          58746        1.753      10.233   \n",
            "34           71639        1135          72774        1.560      11.202   \n",
            "35           81982        2062          84044        2.453       6.733   \n",
            "36           69467        1582          71049        2.227       7.867   \n",
            "37           52061         999          53060        1.883       9.586   \n",
            "38           68327         530          68857        0.770      15.151   \n",
            "39           40062         844          40906        2.063       8.684   \n",
            "40           33290         596          33886        1.759      10.206   \n",
            "41           54142         435          54577        0.797      15.015   \n",
            "42           34444         783          35227        2.223       7.886   \n",
            "43           43569        1168          44737        2.611       5.946   \n",
            "44           26832         488          27320        1.786      10.069   \n",
            "45           24037         380          24417        1.556      11.219   \n",
            "46           22151         639          22790        2.804       4.981   \n",
            "47           28218        1139          29357        3.880      -0.399   \n",
            "48           16058         628          16686        3.764       0.182   \n",
            "49           14726         416          15142        2.747       5.263   \n",
            "50           10887         364          11251        3.235       2.824   \n",
            "52            1866          28           1894        1.478      11.608   \n",
            "\n",
            "           Avg_Total_Cost  Avg_Cancel_Cost  Avg_Delay_Cost State  \n",
            "DestState                                                         \n",
            "0                   7.691            5.746           1.945    CA  \n",
            "1                  10.132            7.621           2.511    TX  \n",
            "2                  13.179            9.767           3.411    IL  \n",
            "3                   8.225            4.868           3.357    GA  \n",
            "4                  10.126            7.424           2.702    FL  \n",
            "5                  17.520           13.517           4.004    NY  \n",
            "6                   8.171            5.551           2.620    CO  \n",
            "7                   5.878            4.141           1.737    AZ  \n",
            "8                  12.119            9.938           2.181    NC  \n",
            "9                  13.252           10.814           2.438    VA  \n",
            "10                  5.389            3.971           1.418    NV  \n",
            "11                  9.398            5.849           3.548    MI  \n",
            "12                  4.496            2.984           1.512    WA  \n",
            "13                 13.060           10.337           2.723    MA  \n",
            "14                  7.747            4.264           3.483    MN  \n",
            "15                  4.469            2.153           2.317    UT  \n",
            "16                  7.458            6.068           1.390    MO  \n",
            "17                 11.963            9.716           2.247    PA  \n",
            "18                 19.234           14.600           4.635    NJ  \n",
            "19                  2.685            1.241           1.443    HI  \n",
            "20                 11.144            9.611           1.534    MD  \n",
            "21                  8.404            6.523           1.881    TN  \n",
            "22                 11.173            8.833           2.340    OH  \n",
            "23                  8.076            6.237           1.839    LA  \n",
            "24                  5.579            4.109           1.470    OR  \n",
            "25                  9.725            7.841           1.885    WI  \n",
            "26                 11.041            8.311           2.730    KY  \n",
            "27                  7.125            5.525           1.600    OK  \n",
            "28                  9.678            7.171           2.507    IN  \n",
            "29                 14.143           11.927           2.216    SC  \n",
            "30                  6.149            5.254           0.895    AK  \n",
            "31                 10.202            8.092           2.111    AL  \n",
            "32                  5.607            4.364           1.243    NM  \n",
            "33                  8.767            7.056           1.711    AR  \n",
            "34                  7.798            6.273           1.525    NE  \n",
            "35                 12.267            9.810           2.457    PR  \n",
            "36                 11.133            9.001           2.132    CT  \n",
            "37                  9.414            7.652           1.762    IA  \n",
            "38                  3.849            2.614           1.234    ID  \n",
            "39                 10.316            7.835           2.481    ND  \n",
            "40                  8.794            6.787           2.007    KS  \n",
            "41                  3.985            2.446           1.539    MT  \n",
            "42                 11.114            8.218           2.896    MS  \n",
            "43                 13.054           11.277           1.777    RI  \n",
            "44                  8.931            6.607           2.324    SD  \n",
            "45                  7.781            5.283           2.498    WY  \n",
            "46                 14.019           12.571           1.448    NH  \n",
            "47                 19.399           16.810           2.589    ME  \n",
            "48                 18.818           16.121           2.697    VT  \n",
            "49                 13.737           11.326           2.411    VI  \n",
            "50                 16.176           12.977           3.200    WV  \n",
            "52                  7.392            3.960           3.432    TT  \n",
            "\n",
            "\n",
            "============================================================\n",
            "\n",
            "\n",
            "            Arrived  Disruption  Total_Flights  Disrupt_Pct  Avg_Profit  \\\n",
            "DepTimeBlk                                                                \n",
            "0            490070       11042         501112        2.203       7.983   \n",
            "1           1272256       25152        1297408        1.939       9.307   \n",
            "2           1228004       20801        1248805        1.666      10.672   \n",
            "3           1208178       19628        1227806        1.599      11.007   \n",
            "4           1082024       16659        1098683        1.516      11.419   \n",
            "5           1107573       17120        1124693        1.522      11.389   \n",
            "6           1124869       18369        1143238        1.607      10.966   \n",
            "7           1107202       19486        1126688        1.729      10.353   \n",
            "8           1070103       19394        1089497        1.780      10.100   \n",
            "9           1022372       20474        1042846        1.963       9.184   \n",
            "10          1100000       22993        1122993        2.047       8.763   \n",
            "11          1031587       23180        1054767        2.198       8.012   \n",
            "12          1186197       29002        1215199        2.387       7.067   \n",
            "13          1016222       26345        1042567        2.527       6.365   \n",
            "14           980297       24046        1004343        2.394       7.029   \n",
            "15           854293       20193         874486        2.309       7.454   \n",
            "16           543914       12649         556563        2.273       7.637   \n",
            "17           462836        9800         472636        2.073       8.633   \n",
            "18           144444        2339         146783        1.594      11.032   \n",
            "\n",
            "            Avg_Total_Cost  Avg_Cancel_Cost  Avg_Delay_Cost Time Block  \n",
            "DepTimeBlk                                                              \n",
            "0                   11.017            8.188           2.830  0001-0559  \n",
            "1                    9.693            7.132           2.562  0600-0659  \n",
            "2                    8.328            6.327           2.002  0700-0759  \n",
            "3                    7.993            6.059           1.934  0800-0859  \n",
            "4                    7.581            5.776           1.806  0900-0959  \n",
            "5                    7.611            5.746           1.865  1000-1059  \n",
            "6                    8.034            5.871           2.163  1100-1159  \n",
            "7                    8.647            6.252           2.396  1200-1259  \n",
            "8                    8.900            6.418           2.482  1300-1359  \n",
            "9                    9.816            7.047           2.770  1400-1459  \n",
            "10                  10.237            7.280           2.958  1500-1559  \n",
            "11                  10.988            8.005           2.983  1600-1659  \n",
            "12                  11.933            8.593           3.340  1700-1759  \n",
            "13                  12.635            9.384           3.251  1800-1859  \n",
            "14                  11.971            8.995           2.976  1900-1959  \n",
            "15                  11.546            8.977           2.568  2000-2059  \n",
            "16                  11.363            9.081           2.283  2100-2159  \n",
            "17                  10.367            8.335           2.032  2200-2259  \n",
            "18                   7.968            6.149           1.819  2300-2359  \n",
            "\n",
            "\n",
            "============================================================\n",
            "\n",
            "\n",
            "            Arrived  Disruption  Total_Flights  Disrupt_Pct  Avg_Profit  \\\n",
            "ArrTimeBlk                                                                \n",
            "0            493511        9460         502971        1.881       9.596   \n",
            "1            289818        6501         296319        2.194       8.030   \n",
            "2            649131       14309         663440        2.157       8.216   \n",
            "3            861349       16262         877611        1.853       9.735   \n",
            "4           1057843       18618        1076461        1.730      10.352   \n",
            "5           1096876       18128        1115004        1.626      10.871   \n",
            "6           1077938       17144        1095082        1.566      11.172   \n",
            "7           1046553       16364        1062917        1.540      11.302   \n",
            "8           1071051       17400        1088451        1.599      11.007   \n",
            "9           1089864       18946        1108810        1.709      10.457   \n",
            "10          1019605       18572        1038177        1.789      10.055   \n",
            "11          1179492       22327        1201819        1.858       9.711   \n",
            "12          1080006       22773        1102779        2.065       8.675   \n",
            "13          1103515       25341        1128856        2.245       7.776   \n",
            "14          1092043       26528        1118571        2.372       7.142   \n",
            "15          1045815       25574        1071389        2.387       7.065   \n",
            "16          1128349       26154        1154503        2.265       7.673   \n",
            "17           858355       20121         878476        2.290       7.548   \n",
            "18           791327       18150         809477        2.242       7.789   \n",
            "\n",
            "            Avg_Total_Cost  Avg_Cancel_Cost  Avg_Delay_Cost Time Block  \n",
            "ArrTimeBlk                                                              \n",
            "0                    9.404            7.284           2.120  0001-0559  \n",
            "1                   10.970            7.851           3.118  0600-0659  \n",
            "2                   10.784            8.003           2.781  0700-0759  \n",
            "3                    9.265            7.004           2.261  0800-0859  \n",
            "4                    8.648            6.645           2.003  0900-0959  \n",
            "5                    8.129            6.365           1.764  1000-1059  \n",
            "6                    7.828            5.963           1.864  1100-1159  \n",
            "7                    7.698            5.896           1.802  1200-1259  \n",
            "8                    7.993            5.990           2.003  1300-1359  \n",
            "9                    8.543            6.203           2.341  1400-1459  \n",
            "10                   8.945            6.570           2.374  1500-1559  \n",
            "11                   9.289            6.684           2.605  1600-1659  \n",
            "12                  10.325            7.542           2.783  1700-1759  \n",
            "13                  11.224            8.167           3.057  1800-1859  \n",
            "14                  11.858            8.519           3.339  1900-1959  \n",
            "15                  11.935            8.663           3.272  2000-2059  \n",
            "16                  11.327            8.286           3.041  2100-2159  \n",
            "17                  11.452            8.553           2.899  2200-2259  \n",
            "18                  11.211            8.714           2.497  2300-2359  \n",
            "\n",
            "\n",
            "============================================================\n",
            "\n",
            "\n",
            "               Arrived  Disruption  Total_Flights  Disrupt_Pct  Avg_Profit  \\\n",
            "DistanceGroup                                                                \n",
            "1              2220032       55774        2275806        2.451       6.746   \n",
            "2              4257904       95282        4353186        2.189       8.056   \n",
            "3              3522153       72191        3594344        2.008       8.958   \n",
            "4              2776120       51349        2827469        1.816       9.920   \n",
            "5              1898156       37786        1935942        1.952       9.241   \n",
            "6               814149       12288         826437        1.487      11.566   \n",
            "7               878030       12523         890553        1.406      11.969   \n",
            "8               446729        4745         451474        1.051      13.745   \n",
            "9               311365        4047         315412        1.283      12.585   \n",
            "10              522570        7357         529927        1.388      12.058   \n",
            "11              385233        5330         390563        1.365      12.177   \n",
            "\n",
            "               Avg_Total_Cost  Avg_Cancel_Cost  Avg_Delay_Cost  \\\n",
            "DistanceGroup                                                    \n",
            "1                      12.254            9.695           2.559   \n",
            "2                      10.944            8.608           2.336   \n",
            "3                      10.042            7.468           2.574   \n",
            "4                       9.080            6.548           2.533   \n",
            "5                       9.759            6.913           2.846   \n",
            "6                       7.434            5.270           2.164   \n",
            "7                       7.031            4.650           2.381   \n",
            "8                       5.255            3.312           1.943   \n",
            "9                       6.415            4.150           2.265   \n",
            "10                      6.942            4.298           2.644   \n",
            "11                      6.823            3.508           3.316   \n",
            "\n",
            "                Distance Group  \n",
            "DistanceGroup                   \n",
            "1                  0-249 Miles  \n",
            "2                250-499 Miles  \n",
            "3                500-749 Miles  \n",
            "4                750-999 Miles  \n",
            "5              1000-1249 Miles  \n",
            "6              1250-1499 Miles  \n",
            "7              1500-1749 Miles  \n",
            "8              1750-1999 Miles  \n",
            "9              2000-2249 Miles  \n",
            "10             2250-2499 Miles  \n",
            "11                 2500+ Miles  \n",
            "\n",
            "\n",
            "============================================================\n",
            "\n",
            "\n"
          ],
          "name": "stdout"
        }
      ]
    },
    {
      "metadata": {
        "id": "HwURAVxka9U2",
        "colab_type": "code",
        "outputId": "8c8f6a90-cad0-40c0-b7f0-4b9e18fb91c9",
        "colab": {
          "base_uri": "https://localhost:8080/",
          "height": 3948
        }
      },
      "cell_type": "code",
      "source": [
        "# summary stats for 40 most travelled airports\n",
        "for i in long_df_list:\n",
        "    print(i[-50:])\n",
        "    print(\"\\n\")\n",
        "    print(\"=\" * 60)\n",
        "    print(\"\\n\")"
      ],
      "execution_count": 63,
      "outputs": [
        {
          "output_type": "stream",
          "text": [
            "        Arrived  Disruption  Total_Flights  Disrupt_Pct  Avg_Profit  \\\n",
            "Origin                                                                \n",
            "277       74171    1981.000      76152.000        2.601       5.993   \n",
            "278       89109    1996.000      91105.000        2.191       8.046   \n",
            "279       98840    2023.000     100863.000        2.006       8.972   \n",
            "280       99329    1926.000     101255.000        1.902       9.489   \n",
            "281       89704    1864.000      91568.000        2.036       8.822   \n",
            "282       93532    1830.000      95362.000        1.919       9.405   \n",
            "283      101169    1477.000     102646.000        1.439      11.805   \n",
            "284      126022    3447.000     129469.000        2.662       5.688   \n",
            "285      114287    2766.000     117053.000        2.363       7.185   \n",
            "286      124683    1519.000     126202.000        1.204      12.982   \n",
            "287      131300    1346.000     132646.000        1.015      13.926   \n",
            "288      142813    2374.000     145187.000        1.635      10.824   \n",
            "289      142900    1660.000     144560.000        1.148      13.258   \n",
            "290      141278    2368.000     143646.000        1.648      10.758   \n",
            "291      133818    2976.000     136794.000        2.176       8.122   \n",
            "292      158151    2293.000     160444.000        1.429      11.854   \n",
            "293      149538    1983.000     151521.000        1.309      12.456   \n",
            "294      143789     783.000     144572.000        0.542      16.292   \n",
            "295      182289    1801.000     184090.000        0.978      14.108   \n",
            "296      174778    2822.000     177600.000        1.589      11.055   \n",
            "297      175993    3030.000     179023.000        1.693      10.537   \n",
            "298      162562    3707.000     166269.000        2.230       7.852   \n",
            "299      206361    3176.000     209537.000        1.516      11.421   \n",
            "300      208168    3801.000     211969.000        1.793      10.034   \n",
            "301      252932    6614.000     259546.000        2.548       6.259   \n",
            "302      263910    5908.000     269818.000        2.190       8.052   \n",
            "303      219636    4765.000     224401.000        2.123       8.383   \n",
            "304      248037    3491.000     251528.000        1.388      12.060   \n",
            "305      271434    8641.000     280075.000        3.085       3.574   \n",
            "306      256556    5643.000     262199.000        2.152       8.239   \n",
            "307      296532    6812.000     303344.000        2.246       7.772   \n",
            "308      310049    9292.000     319341.000        2.910       4.451   \n",
            "309      330825    2377.000     333202.000        0.713      15.433   \n",
            "310      360490   13400.000     373890.000        3.584       1.080   \n",
            "311      438396    9230.000     447626.000        2.062       8.690   \n",
            "312      340054   15351.000     355405.000        4.319      -2.596   \n",
            "313      399393    5851.000     405244.000        1.444      11.781   \n",
            "314      382091   10283.000     392374.000        2.621       5.896   \n",
            "315      386358    8073.000     394431.000        2.047       8.766   \n",
            "316      406418    3068.000     409486.000        0.749      15.254   \n",
            "317      415600    5079.000     420679.000        1.207      12.963   \n",
            "318      457355    5441.000     462796.000        1.176      13.122   \n",
            "319      481886    4257.000     486143.000        0.876      14.622   \n",
            "320      511749   10644.000     522393.000        2.038       8.812   \n",
            "321      429125    8767.000     437892.000        2.002       8.990   \n",
            "322      638886    8586.000     647472.000        1.326      12.370   \n",
            "323      675476    8887.000     684363.000        1.299      12.507   \n",
            "324      641851   12432.000     654283.000        1.900       9.500   \n",
            "325      821472   19963.000     841435.000        2.372       7.138   \n",
            "326     1123520   15147.000    1138667.000        1.330      12.349   \n",
            "\n",
            "        Avg_Total_Cost  Avg_Cancel_Cost  Avg_Delay_Cost Airport  \n",
            "Origin                                                           \n",
            "277             13.007            9.790           3.217     SJU  \n",
            "278             10.954            8.282           2.673     CMH  \n",
            "279             10.028            7.803           2.226     PIT  \n",
            "280              9.511            6.829           2.681     IND  \n",
            "281             10.178            7.142           3.036     RSW  \n",
            "282              9.595            6.732           2.863     MKE  \n",
            "283              7.195            4.920           2.275     SAT  \n",
            "284             13.312            9.898           3.414     RDU  \n",
            "285             11.815            8.603           3.212     CLE  \n",
            "286              6.018            4.643           1.375     SNA  \n",
            "287              5.074            3.777           1.297     SMF  \n",
            "288              8.176            5.848           2.328     MSY  \n",
            "289              5.742            4.441           1.300     SJC  \n",
            "290              8.242            6.286           1.956     MCI  \n",
            "291             10.878            7.054           3.823     IAD  \n",
            "292              7.146            4.565           2.580     AUS  \n",
            "293              6.544            5.762           0.782     OAK  \n",
            "294              2.708            1.359           1.349     HNL  \n",
            "295              4.892            3.466           1.426     PDX  \n",
            "296              7.945            6.090           1.855     STL  \n",
            "297              8.463            6.147           2.315     BNA  \n",
            "298             11.148            9.999           1.149     HOU  \n",
            "299              7.579            6.254           1.324     DAL  \n",
            "300              8.966            6.517           2.448     TPA  \n",
            "301             12.741           10.089           2.653     PHL  \n",
            "302             10.948            8.181           2.767     FLL  \n",
            "303             10.617            7.611           3.006     MIA  \n",
            "304              6.940            5.325           1.614     SAN  \n",
            "305             15.426           12.600           2.826     DCA  \n",
            "306             10.761            9.704           1.056     MDW  \n",
            "307             11.228            9.418           1.810     BWI  \n",
            "308             14.549           10.503           4.046     JFK  \n",
            "309              3.567            1.829           1.738     SLC  \n",
            "310             17.920           14.272           3.648     EWR  \n",
            "311             10.310            8.674           1.636     CLT  \n",
            "312             21.596           17.580           4.017     LGA  \n",
            "313              7.219            4.608           2.611     DTW  \n",
            "314             13.104           10.248           2.856     BOS  \n",
            "315             10.234            7.112           3.122     MCO  \n",
            "316              3.746            2.487           1.259     SEA  \n",
            "317              6.037            3.953           2.084     MSP  \n",
            "318              5.878            4.123           1.756     LAS  \n",
            "319              4.378            3.234           1.145     PHX  \n",
            "320             10.188            7.957           2.231     SFO  \n",
            "321             10.010            8.031           1.980     IAH  \n",
            "322              6.630            4.619           2.012     LAX  \n",
            "323              6.493            4.786           1.707     DEN  \n",
            "324              9.500            7.262           2.238     DFW  \n",
            "325             11.862            9.185           2.677     ORD  \n",
            "326              6.651            4.551           2.100     ATL  \n",
            "\n",
            "\n",
            "============================================================\n",
            "\n",
            "\n",
            "      Arrived  Disruption  Total_Flights  Disrupt_Pct  Avg_Profit  \\\n",
            "Dest                                                                \n",
            "277     74383    1755.000      76138.000        2.305       7.475   \n",
            "278     89382    1720.000      91102.000        1.888       9.560   \n",
            "279     99065    1799.000     100864.000        1.784      10.082   \n",
            "280     99495    1760.000     101255.000        1.738      10.309   \n",
            "281     90019    1552.000      91571.000        1.695      10.526   \n",
            "282     93773    1587.000      95360.000        1.664      10.679   \n",
            "283    101444    1215.000     102659.000        1.184      13.082   \n",
            "284    126597    2874.000     129471.000        2.220       7.901   \n",
            "285    114457    2602.000     117059.000        2.223       7.886   \n",
            "286    125020    1195.000     126215.000        0.947      14.266   \n",
            "287    131427    1225.000     132652.000        0.923      14.383   \n",
            "288    143173    2016.000     145189.000        1.389      12.057   \n",
            "289    142966    1552.000     144518.000        1.074      13.630   \n",
            "290    141575    2083.000     143658.000        1.450      11.750   \n",
            "291    134088    2688.000     136776.000        1.965       9.174   \n",
            "292    158631    1821.000     160452.000        1.135      13.325   \n",
            "293    149313    2131.000     151444.000        1.407      11.964   \n",
            "294    143606     955.000     144561.000        0.661      15.697   \n",
            "295    182325    1753.000     184078.000        0.952      14.238   \n",
            "296    175055    2536.000     177591.000        1.428      11.860   \n",
            "297    176386    2645.000     179031.000        1.477      11.613   \n",
            "298    162577    3705.000     166282.000        2.228       7.859   \n",
            "299    206283    3263.000     209546.000        1.557      11.214   \n",
            "300    208456    3509.000     211965.000        1.655      10.723   \n",
            "301    252759    6794.000     259553.000        2.618       5.912   \n",
            "302    263755    6045.000     269800.000        2.241       7.797   \n",
            "303    219401    4991.000     224392.000        2.224       7.879   \n",
            "304    248557    2969.000     251526.000        1.180      13.098   \n",
            "305    272093    7970.000     280063.000        2.846       4.771   \n",
            "306    256477    5710.000     262187.000        2.178       8.111   \n",
            "307    296581    6763.000     303344.000        2.229       7.853   \n",
            "308    308944   10340.000     319284.000        3.238       2.808   \n",
            "309    330318    3024.000     333342.000        0.907      14.464   \n",
            "310    359618   14464.000     374082.000        3.867      -0.333   \n",
            "311    436973   10647.000     447620.000        2.379       7.107   \n",
            "312    340522   14905.000     355427.000        4.194      -1.968   \n",
            "313    398559    6908.000     405467.000        1.704      10.481   \n",
            "314    382118   10218.000     392336.000        2.604       5.978   \n",
            "315    386534    7936.000     394470.000        2.012       8.941   \n",
            "316    405783    3687.000     409470.000        0.900      14.498   \n",
            "317    414269    6299.000     420568.000        1.498      11.511   \n",
            "318    457817    5030.000     462847.000        1.087      13.566   \n",
            "319    480410    5754.000     486164.000        1.184      13.082   \n",
            "320    510403   12135.000     522538.000        2.322       7.388   \n",
            "321    427868    9950.000     437818.000        2.273       7.637   \n",
            "322    638382    9113.000     647495.000        1.407      11.963   \n",
            "323    673995   10558.000     684553.000        1.542      11.288   \n",
            "324    639120   15135.000     654255.000        2.313       7.433   \n",
            "325    817689   23447.000     841136.000        2.788       5.062   \n",
            "326   1120159   18350.000    1138509.000        1.612      10.941   \n",
            "\n",
            "      Avg_Total_Cost  Avg_Cancel_Cost  Avg_Delay_Cost Airport  \n",
            "Dest                                                           \n",
            "277           11.525            9.030           2.495     SJU  \n",
            "278            9.440            7.744           1.696     CMH  \n",
            "279            8.918            7.431           1.487     PIT  \n",
            "280            8.691            6.661           2.030     IND  \n",
            "281            8.474            6.509           1.966     RSW  \n",
            "282            8.321            6.591           1.730     MKE  \n",
            "283            5.918            4.437           1.481     SAT  \n",
            "284           11.099            8.998           2.101     RDU  \n",
            "285           11.114            8.363           2.751     CLE  \n",
            "286            4.734            4.132           0.602     SNA  \n",
            "287            4.617            3.618           0.999     SMF  \n",
            "288            6.943            5.324           1.619     MSY  \n",
            "289            5.370            4.301           1.069     SJC  \n",
            "290            7.250            6.007           1.243     MCI  \n",
            "291            9.826            6.957           2.870     IAD  \n",
            "292            5.675            4.004           1.670     AUS  \n",
            "293            7.036            6.052           0.984     OAK  \n",
            "294            3.303            1.477           1.826     HNL  \n",
            "295            4.762            3.420           1.342     PDX  \n",
            "296            7.140            5.698           1.442     STL  \n",
            "297            7.387            5.801           1.586     BNA  \n",
            "298           11.141           10.019           1.122     HOU  \n",
            "299            7.786            6.614           1.172     DAL  \n",
            "300            8.277            6.192           2.085     TPA  \n",
            "301           13.088           10.543           2.545     PHL  \n",
            "302           11.203            8.488           2.715     FLL  \n",
            "303           11.121            7.819           3.302     MIA  \n",
            "304            5.902            4.757           1.145     SAN  \n",
            "305           14.229           12.113           2.116     DCA  \n",
            "306           10.889            9.703           1.186     MDW  \n",
            "307           11.147            9.614           1.533     BWI  \n",
            "308           16.192           10.962           5.230     JFK  \n",
            "309            4.536            2.181           2.355     SLC  \n",
            "310           19.333           14.713           4.619     EWR  \n",
            "311           11.893            9.723           2.170     CLT  \n",
            "312           20.968           17.233           3.735     LGA  \n",
            "313            8.519            4.681           3.838     DTW  \n",
            "314           13.022           10.306           2.716     BOS  \n",
            "315           10.059            7.213           2.846     MCO  \n",
            "316            4.502            2.946           1.556     SEA  \n",
            "317            7.489            3.985           3.504     MSP  \n",
            "318            5.434            3.968           1.466     LAS  \n",
            "319            5.918            4.196           1.722     PHX  \n",
            "320           11.612            8.182           3.429     SFO  \n",
            "321           11.363            8.496           2.868     IAH  \n",
            "322            7.037            4.820           2.217     LAX  \n",
            "323            7.712            5.139           2.572     DEN  \n",
            "324           11.567            7.885           3.682     DFW  \n",
            "325           13.938            9.783           4.155     ORD  \n",
            "326            8.059            4.664           3.395     ATL  \n",
            "\n",
            "\n",
            "============================================================\n",
            "\n",
            "\n"
          ],
          "name": "stdout"
        }
      ]
    },
    {
      "metadata": {
        "id": "_zH3LfSgrz4Q",
        "colab_type": "code",
        "outputId": "2e4e4663-b361-4915-e9fd-502cab0e7157",
        "colab": {
          "base_uri": "https://localhost:8080/",
          "height": 1893
        }
      },
      "cell_type": "code",
      "source": [
        "# summary stats for 50 most travelled routes\n",
        "print(route_df_200[:50])"
      ],
      "execution_count": 64,
      "outputs": [
        {
          "output_type": "stream",
          "text": [
            "        Arrived  Disruption  Total_Flights  Disrupt_Pct  Avg_Profit  \\\n",
            "Route                                                                 \n",
            "0     47204.000    1533.000      48737.000        3.145       3.273   \n",
            "1     46516.000    1602.000      48118.000        3.329       2.353   \n",
            "2     37469.000     556.000      38025.000        1.462      11.689   \n",
            "3     37431.000     591.000      38022.000        1.554      11.228   \n",
            "4     33897.000    1397.000      35294.000        3.958      -0.791   \n",
            "5     33788.000    1259.000      35047.000        3.592       1.038   \n",
            "6     34147.000     293.000      34440.000        0.851      14.746   \n",
            "7     34057.000     336.000      34393.000        0.977      14.115   \n",
            "8     29109.000     204.000      29313.000        0.696      15.520   \n",
            "9     29090.000     206.000      29296.000        0.703      15.484   \n",
            "10    28808.000     102.000      28910.000        0.353      17.236   \n",
            "11    28734.000      70.000      28804.000        0.243      17.785   \n",
            "12    26986.000     408.000      27394.000        1.489      11.553   \n",
            "13    26996.000     391.000      27387.000        1.428      11.862   \n",
            "14    26035.000     318.000      26353.000        1.207      12.967   \n",
            "15    25921.000     347.000      26268.000        1.321      12.395   \n",
            "16    25783.000     462.000      26245.000        1.760      10.198   \n",
            "17    25471.000     622.000      26093.000        2.384       7.081   \n",
            "18    25295.000     787.000      26082.000        3.017       3.913   \n",
            "19    25566.000     367.000      25933.000        1.415      11.924   \n",
            "20    25012.000     392.000      25404.000        1.543      11.285   \n",
            "21    24901.000     461.000      25362.000        1.818       9.912   \n",
            "22    24236.000     809.000      25045.000        3.230       2.849   \n",
            "23    24112.000     898.000      25010.000        3.591       1.047   \n",
            "24    24182.000     353.000      24535.000        1.439      11.806   \n",
            "25    24140.000     385.000      24525.000        1.570      11.151   \n",
            "26    23743.000     260.000      24003.000        1.083      13.584   \n",
            "27    23370.000     444.000      23814.000        1.864       9.678   \n",
            "28    23371.000     442.000      23813.000        1.856       9.719   \n",
            "29    22985.000     803.000      23788.000        3.376       2.122   \n",
            "30    23001.000     741.000      23742.000        3.121       3.395   \n",
            "31    23300.000     252.000      23552.000        1.070      13.650   \n",
            "32    23212.000     248.000      23460.000        1.057      13.714   \n",
            "33    23198.000     255.000      23453.000        1.087      13.564   \n",
            "34    22727.000     446.000      23173.000        1.925       9.377   \n",
            "35    21947.000    1221.000      23168.000        5.270      -7.351   \n",
            "36    21883.000    1274.000      23157.000        5.502      -8.508   \n",
            "37    22500.000     449.000      22949.000        1.957       9.217   \n",
            "38    22151.000     491.000      22642.000        2.169       8.157   \n",
            "39    22250.000     331.000      22581.000        1.466      11.671   \n",
            "40    22153.000     371.000      22524.000        1.647      10.764   \n",
            "41    22287.000     236.000      22523.000        1.048      13.761   \n",
            "42    22001.000     434.000      22435.000        1.934       9.328   \n",
            "43    21837.000     490.000      22327.000        2.195       8.027   \n",
            "44    21896.000     264.000      22160.000        1.191      13.043   \n",
            "45    21858.000     289.000      22147.000        1.305      12.475   \n",
            "46    21677.000     443.000      22120.000        2.003       8.986   \n",
            "47    21704.000     209.000      21913.000        0.954      14.231   \n",
            "48    21295.000     211.000      21506.000        0.981      14.094   \n",
            "49    21196.000     293.000      21489.000        1.363      12.183   \n",
            "\n",
            "       Avg_Total_Cost  Avg_Cancel_Cost  Avg_Delay_Cost    Route  \n",
            "Route                                                            \n",
            "0              15.727           13.891           1.836  SFO-LAX  \n",
            "1              16.647           14.173           2.473  LAX-SFO  \n",
            "2               7.311            4.602           2.709  JFK-LAX  \n",
            "3               7.772            4.550           3.222  LAX-JFK  \n",
            "4              19.791           15.328           4.463  LGA-ORD  \n",
            "5              17.962           14.780           3.181  ORD-LGA  \n",
            "6               4.254            3.281           0.973  LAX-LAS  \n",
            "7               4.885            3.126           1.759  LAS-LAX  \n",
            "8               3.480            2.456           1.023  SEA-LAX  \n",
            "9               3.516            2.372           1.144  LAX-SEA  \n",
            "10              1.764            1.660           0.104  OGG-HNL  \n",
            "11              1.215            1.198           0.017  HNL-OGG  \n",
            "12              7.447            5.111           2.336  MCO-ATL  \n",
            "13              7.138            5.057           2.081  ATL-MCO  \n",
            "14              6.033            3.453           2.580  LAX-ORD  \n",
            "15              6.605            4.549           2.056  SEA-SFO  \n",
            "16              8.802            6.878           1.924  SFO-SEA  \n",
            "17             11.919            9.351           2.568  ATL-LGA  \n",
            "18             15.087           10.045           5.042  LGA-ATL  \n",
            "19              7.076            3.586           3.490  ORD-LAX  \n",
            "20              7.715            5.688           2.027  SFO-LAS  \n",
            "21              9.088            6.250           2.839  LAS-SFO  \n",
            "22             16.151           14.614           1.537  BOS-DCA  \n",
            "23             17.953           15.654           2.299  DCA-BOS  \n",
            "24              7.194            5.360           1.834  ATL-FLL  \n",
            "25              7.849            5.525           2.324  FLL-ATL  \n",
            "26              5.416            3.208           2.208  DEN-LAX  \n",
            "27              9.322            5.186           4.136  JFK-SFO  \n",
            "28              9.281            5.396           3.884  SFO-JFK  \n",
            "29             16.878           15.176           1.703  SAN-SFO  \n",
            "30             15.605           14.405           1.200  SFO-SAN  \n",
            "31              5.350            3.100           2.250  LAX-DEN  \n",
            "32              5.286            3.943           1.343  DEN-PHX  \n",
            "33              5.436            3.880           1.556  PHX-DEN  \n",
            "34              9.623            6.538           3.085  DFW-ORD  \n",
            "35             26.351           23.351           3.000  LGA-BOS  \n",
            "36             27.508           23.988           3.519  BOS-LGA  \n",
            "37              9.783            6.493           3.290  ORD-MSP  \n",
            "38             10.843            7.243           3.600  MSP-ORD  \n",
            "39              7.329            3.720           3.609  SFO-ORD  \n",
            "40              8.236            4.018           4.218  ORD-SFO  \n",
            "41              5.239            3.086           2.153  SLC-DEN  \n",
            "42              9.672            5.705           3.967  ORD-ATL  \n",
            "43             10.973            7.032           3.941  ORD-DFW  \n",
            "44              5.957            4.445           1.512  ATL-TPA  \n",
            "45              6.525            4.470           2.054  TPA-ATL  \n",
            "46             10.014            6.080           3.933  ATL-ORD  \n",
            "47              4.769            3.217           1.552  DEN-SLC  \n",
            "48              4.906            4.022           0.883  PHX-LAX  \n",
            "49              6.817            5.491           1.326  LAX-PHX  \n"
          ],
          "name": "stdout"
        }
      ]
    },
    {
      "metadata": {
        "id": "k2pL9Tdvl8BT",
        "colab_type": "text"
      },
      "cell_type": "markdown",
      "source": [
        "# Airport Stats Visualizations: Top 40 Airports"
      ]
    },
    {
      "metadata": {
        "id": "sjn880QE2POJ",
        "colab_type": "code",
        "colab": {}
      },
      "cell_type": "code",
      "source": [
        "# plot airport charts with seaborn\n",
        "def airport_stats_seaborn(df, feature, extra_text=\"\"): \n",
        "    plt.figure(figsize=(20,10))\n",
        "    sns.barplot(data=df[-40:], y=feature, x='Airport')\n",
        "    plt.title('Top 40 Airports by ' + feature + \" \" + extra_text);\n",
        "\n",
        "# plot airport stats with altair (destination airport)\n",
        "def airport_stats_alt(df, feature, title_text=\"\"): \n",
        "    data = df[-40:]\n",
        "    bars = alt.Chart(data, title=title_text, height=450, width=1100).configure_title(fontSize=24).mark_bar().encode(\n",
        "        x = 'Airport', \n",
        "        y = feature, \n",
        "        color = alt.Color('Airport', legend=None)).configure_axis(\n",
        "    labelFontSize=12,\n",
        "    titleFontSize=12\n",
        ")\n",
        "    \n",
        "    return bars\n",
        "\n",
        "# plot airport stats with altair (origin airport)\n",
        "def airport_stats_alt_origin(df, feature, title_text=\"\"): \n",
        "    data = df[-40:]\n",
        "    bars = alt.Chart(data, title=title_text, height=450, width=1100).configure_title(fontSize=24).mark_bar().encode(\n",
        "        x = 'Airport', \n",
        "        y = feature, \n",
        "        color = alt.Color('Airport', legend=None)).configure_axis(\n",
        "    labelFontSize=12,\n",
        "    titleFontSize=12\n",
        ")\n",
        "    \n",
        "    return bars"
      ],
      "execution_count": 0,
      "outputs": []
    },
    {
      "metadata": {
        "id": "0rPxa-CN9_xf",
        "colab_type": "code",
        "outputId": "2e987063-8385-420f-c02c-4e0e80705847",
        "colab": {
          "base_uri": "https://localhost:8080/",
          "height": 593
        }
      },
      "cell_type": "code",
      "source": [
        "# cancellation percentage\n",
        "airport_stats_alt(dest_df, 'Disrupt_Pct', \"Disruption % by Destination Airport\")"
      ],
      "execution_count": 0,
      "outputs": [
        {
          "output_type": "execute_result",
          "data": {
            "text/plain": [
              "Chart({\n",
              "  config: Config({\n",
              "    axis: AxisConfig({\n",
              "      labelFontSize: 12,\n",
              "      titleFontSize: 12\n",
              "    }),\n",
              "    title: VgTitleConfig({\n",
              "      fontSize: 24\n",
              "    })\n",
              "  }),\n",
              "  data:       Arrived  Disruption  Total_Flights  Disrupt_Pct  Avg_Profit  \\\n",
              "  Dest                                                                \n",
              "  287    131427    1225.000     132652.000        0.923      14.383   \n",
              "  288    143173    2016.000     145189.000        1.389      12.057   \n",
              "  289    142966    1552.000     144518.000        1.074      13.630   \n",
              "  290    141575    2083.000     143658.000        1.450      11.750   \n",
              "  291    134088    2688.000     136776.000        1.965       9.174   \n",
              "  292    158631    1821.000     160452.000        1.135      13.325   \n",
              "  293    149313    2131.000     151444.000        1.407      11.964   \n",
              "  294    143606     955.000     144561.000        0.661      15.697   \n",
              "  295    182325    1753.000     184078.000        0.952      14.238   \n",
              "  296    175055    2536.000     177591.000        1.428      11.860   \n",
              "  297    176386    2645.000     179031.000        1.477      11.613   \n",
              "  298    162577    3705.000     166282.000        2.228       7.859   \n",
              "  299    206283    3263.000     209546.000        1.557      11.214   \n",
              "  300    208456    3509.000     211965.000        1.655      10.723   \n",
              "  301    252759    6794.000     259553.000        2.618       5.912   \n",
              "  302    263755    6045.000     269800.000        2.241       7.797   \n",
              "  303    219401    4991.000     224392.000        2.224       7.879   \n",
              "  304    248557    2969.000     251526.000        1.180      13.098   \n",
              "  305    272093    7970.000     280063.000        2.846       4.771   \n",
              "  306    256477    5710.000     262187.000        2.178       8.111   \n",
              "  307    296581    6763.000     303344.000        2.229       7.853   \n",
              "  308    308944   10340.000     319284.000        3.238       2.808   \n",
              "  309    330318    3024.000     333342.000        0.907      14.464   \n",
              "  310    359618   14464.000     374082.000        3.867      -0.333   \n",
              "  311    436973   10647.000     447620.000        2.379       7.107   \n",
              "  312    340522   14905.000     355427.000        4.194      -1.968   \n",
              "  313    398559    6908.000     405467.000        1.704      10.481   \n",
              "  314    382118   10218.000     392336.000        2.604       5.978   \n",
              "  315    386534    7936.000     394470.000        2.012       8.941   \n",
              "  316    405783    3687.000     409470.000        0.900      14.498   \n",
              "  317    414269    6299.000     420568.000        1.498      11.511   \n",
              "  318    457817    5030.000     462847.000        1.087      13.566   \n",
              "  319    480410    5754.000     486164.000        1.184      13.082   \n",
              "  320    510403   12135.000     522538.000        2.322       7.388   \n",
              "  321    427868    9950.000     437818.000        2.273       7.637   \n",
              "  322    638382    9113.000     647495.000        1.407      11.963   \n",
              "  323    673995   10558.000     684553.000        1.542      11.288   \n",
              "  324    639120   15135.000     654255.000        2.313       7.433   \n",
              "  325    817689   23447.000     841136.000        2.788       5.062   \n",
              "  326   1120159   18350.000    1138509.000        1.612      10.941   \n",
              "  \n",
              "        Avg_Total_Cost  Avg_Cancel_Cost  Avg_Delay_Cost Airport  \n",
              "  Dest                                                           \n",
              "  287            4.617            3.618           0.999     SMF  \n",
              "  288            6.943            5.324           1.619     MSY  \n",
              "  289            5.370            4.301           1.069     SJC  \n",
              "  290            7.250            6.007           1.243     MCI  \n",
              "  291            9.826            6.957           2.870     IAD  \n",
              "  292            5.675            4.004           1.670     AUS  \n",
              "  293            7.036            6.052           0.984     OAK  \n",
              "  294            3.303            1.477           1.826     HNL  \n",
              "  295            4.762            3.420           1.342     PDX  \n",
              "  296            7.140            5.698           1.442     STL  \n",
              "  297            7.387            5.801           1.586     BNA  \n",
              "  298           11.141           10.019           1.122     HOU  \n",
              "  299            7.786            6.614           1.172     DAL  \n",
              "  300            8.277            6.192           2.085     TPA  \n",
              "  301           13.088           10.543           2.545     PHL  \n",
              "  302           11.203            8.488           2.715     FLL  \n",
              "  303           11.121            7.819           3.302     MIA  \n",
              "  304            5.902            4.757           1.145     SAN  \n",
              "  305           14.229           12.113           2.116     DCA  \n",
              "  306           10.889            9.703           1.186     MDW  \n",
              "  307           11.147            9.614           1.533     BWI  \n",
              "  308           16.192           10.962           5.230     JFK  \n",
              "  309            4.536            2.181           2.355     SLC  \n",
              "  310           19.333           14.713           4.619     EWR  \n",
              "  311           11.893            9.723           2.170     CLT  \n",
              "  312           20.968           17.233           3.735     LGA  \n",
              "  313            8.519            4.681           3.838     DTW  \n",
              "  314           13.022           10.306           2.716     BOS  \n",
              "  315           10.059            7.213           2.846     MCO  \n",
              "  316            4.502            2.946           1.556     SEA  \n",
              "  317            7.489            3.985           3.504     MSP  \n",
              "  318            5.434            3.968           1.466     LAS  \n",
              "  319            5.918            4.196           1.722     PHX  \n",
              "  320           11.612            8.182           3.429     SFO  \n",
              "  321           11.363            8.496           2.868     IAH  \n",
              "  322            7.037            4.820           2.217     LAX  \n",
              "  323            7.712            5.139           2.572     DEN  \n",
              "  324           11.567            7.885           3.682     DFW  \n",
              "  325           13.938            9.783           4.155     ORD  \n",
              "  326            8.059            4.664           3.395     ATL  ,\n",
              "  encoding: EncodingWithFacet({\n",
              "    color: Color({\n",
              "      legend: None,\n",
              "      shorthand: 'Airport'\n",
              "    }),\n",
              "    x: X({\n",
              "      shorthand: 'Airport'\n",
              "    }),\n",
              "    y: Y({\n",
              "      shorthand: 'Disrupt_Pct'\n",
              "    })\n",
              "  }),\n",
              "  height: 450,\n",
              "  mark: 'bar',\n",
              "  title: 'Disruption % by Destination Airport',\n",
              "  width: 1100\n",
              "})"
            ],
            "text/html": [
              "<!DOCTYPE html>\n",
              "<html>\n",
              "<head>\n",
              "  <style>\n",
              "    .vega-actions a {\n",
              "        margin-right: 12px;\n",
              "        color: #757575;\n",
              "        font-weight: normal;\n",
              "        font-size: 13px;\n",
              "    }\n",
              "    .error {\n",
              "        color: red;\n",
              "    }\n",
              "  </style>\n",
              "  <script type=\"text/javascript\" src=\"https://cdn.jsdelivr.net/npm//vega@4\"></script>\n",
              "  <script type=\"text/javascript\" src=\"https://cdn.jsdelivr.net/npm//vega-lite@2.6.0\"></script>\n",
              "  <script type=\"text/javascript\" src=\"https://cdn.jsdelivr.net/npm//vega-embed@3\"></script>\n",
              "</head>\n",
              "<body>\n",
              "  <div id=\"altair-viz\"></div>\n",
              "  <script>\n",
              "      var spec = {\"config\": {\"view\": {\"width\": 400, \"height\": 300}, \"axis\": {\"labelFontSize\": 12, \"titleFontSize\": 12}, \"title\": {\"fontSize\": 24}}, \"data\": {\"name\": \"data-208072d1347bee8cd73a99b65ff7fc28\"}, \"mark\": \"bar\", \"encoding\": {\"color\": {\"type\": \"nominal\", \"field\": \"Airport\", \"legend\": null}, \"x\": {\"type\": \"nominal\", \"field\": \"Airport\"}, \"y\": {\"type\": \"quantitative\", \"field\": \"Disrupt_Pct\"}}, \"height\": 450, \"title\": \"Disruption % by Destination Airport\", \"width\": 1100, \"$schema\": \"https://vega.github.io/schema/vega-lite/v2.6.0.json\", \"datasets\": {\"data-208072d1347bee8cd73a99b65ff7fc28\": [{\"Arrived\": 131427, \"Disruption\": 1225.0, \"Total_Flights\": 132652.0, \"Disrupt_Pct\": 0.9234689262129482, \"Avg_Profit\": 14.382655368935259, \"Avg_Total_Cost\": 4.617344631064741, \"Avg_Cancel_Cost\": 3.6184904863854297, \"Avg_Delay_Cost\": 0.9988541446793113, \"Airport\": \"SMF\"}, {\"Arrived\": 143173, \"Disruption\": 2016.0, \"Total_Flights\": 145189.0, \"Disrupt_Pct\": 1.388534944107336, \"Avg_Profit\": 12.05732527946332, \"Avg_Total_Cost\": 6.9426747205366794, \"Avg_Cancel_Cost\": 5.3240948005702915, \"Avg_Delay_Cost\": 1.618579919966388, \"Airport\": \"MSY\"}, {\"Arrived\": 142966, \"Disruption\": 1552.0, \"Total_Flights\": 144518.0, \"Disrupt_Pct\": 1.0739146680690295, \"Avg_Profit\": 13.630426659654853, \"Avg_Total_Cost\": 5.3695733403451475, \"Avg_Cancel_Cost\": 4.300502359567666, \"Avg_Delay_Cost\": 1.0690709807774814, \"Airport\": \"SJC\"}, {\"Arrived\": 141575, \"Disruption\": 2083.0, \"Total_Flights\": 143658.0, \"Disrupt_Pct\": 1.4499714599952667, \"Avg_Profit\": 11.750142700023668, \"Avg_Total_Cost\": 7.249857299976333, \"Avg_Cancel_Cost\": 6.007322947556001, \"Avg_Delay_Cost\": 1.242534352420332, \"Airport\": \"MCI\"}, {\"Arrived\": 134088, \"Disruption\": 2688.0, \"Total_Flights\": 136776.0, \"Disrupt_Pct\": 1.965257062642569, \"Avg_Profit\": 9.173714686787156, \"Avg_Total_Cost\": 9.826285313212844, \"Avg_Cancel_Cost\": 6.956629818096742, \"Avg_Delay_Cost\": 2.8696554951161026, \"Airport\": \"IAD\"}, {\"Arrived\": 158631, \"Disruption\": 1821.0, \"Total_Flights\": 160452.0, \"Disrupt_Pct\": 1.1349188542367812, \"Avg_Profit\": 13.325405728816095, \"Avg_Total_Cost\": 5.6745942711839055, \"Avg_Cancel_Cost\": 4.004312816293969, \"Avg_Delay_Cost\": 1.6702814548899365, \"Airport\": \"AUS\"}, {\"Arrived\": 149313, \"Disruption\": 2131.0, \"Total_Flights\": 151444.0, \"Disrupt_Pct\": 1.407120783920129, \"Avg_Profit\": 11.964396080399355, \"Avg_Total_Cost\": 7.035603919600645, \"Avg_Cancel_Cost\": 6.051741897995299, \"Avg_Delay_Cost\": 0.9838620216053453, \"Airport\": \"OAK\"}, {\"Arrived\": 143606, \"Disruption\": 955.0, \"Total_Flights\": 144561.0, \"Disrupt_Pct\": 0.6606207760045932, \"Avg_Profit\": 15.696896119977033, \"Avg_Total_Cost\": 3.303103880022966, \"Avg_Cancel_Cost\": 1.4768851903348759, \"Avg_Delay_Cost\": 1.8262186896880903, \"Airport\": \"HNL\"}, {\"Arrived\": 182325, \"Disruption\": 1753.0, \"Total_Flights\": 184078.0, \"Disrupt_Pct\": 0.9523136931083562, \"Avg_Profit\": 14.238431534458218, \"Avg_Total_Cost\": 4.761568465541782, \"Avg_Cancel_Cost\": 3.419745977248775, \"Avg_Delay_Cost\": 1.3418224882930065, \"Airport\": \"PDX\"}, {\"Arrived\": 175055, \"Disruption\": 2536.0, \"Total_Flights\": 177591.0, \"Disrupt_Pct\": 1.428000292807631, \"Avg_Profit\": 11.859998535961845, \"Avg_Total_Cost\": 7.140001464038155, \"Avg_Cancel_Cost\": 5.698486972875878, \"Avg_Delay_Cost\": 1.4415144911622777, \"Airport\": \"STL\"}, {\"Arrived\": 176386, \"Disruption\": 2645.0, \"Total_Flights\": 179031.0, \"Disrupt_Pct\": 1.4773977691014406, \"Avg_Profit\": 11.613011154492797, \"Avg_Total_Cost\": 7.386988845507203, \"Avg_Cancel_Cost\": 5.800671392105278, \"Avg_Delay_Cost\": 1.5863174534019242, \"Airport\": \"BNA\"}, {\"Arrived\": 162577, \"Disruption\": 3705.0, \"Total_Flights\": 166282.0, \"Disrupt_Pct\": 2.2281425530123524, \"Avg_Profit\": 7.859287234938238, \"Avg_Total_Cost\": 11.140712765061762, \"Avg_Cancel_Cost\": 10.019124138511685, \"Avg_Delay_Cost\": 1.1215886265500767, \"Airport\": \"HOU\"}, {\"Arrived\": 206283, \"Disruption\": 3263.0, \"Total_Flights\": 209546.0, \"Disrupt_Pct\": 1.557175989997423, \"Avg_Profit\": 11.214120050012886, \"Avg_Total_Cost\": 7.785879949987115, \"Avg_Cancel_Cost\": 6.6142994855544845, \"Avg_Delay_Cost\": 1.1715804644326306, \"Airport\": \"DAL\"}, {\"Arrived\": 208456, \"Disruption\": 3509.0, \"Total_Flights\": 211965.0, \"Disrupt_Pct\": 1.6554619866487392, \"Avg_Profit\": 10.722690066756304, \"Avg_Total_Cost\": 8.277309933243696, \"Avg_Cancel_Cost\": 6.192060009907296, \"Avg_Delay_Cost\": 2.0852499233364004, \"Airport\": \"TPA\"}, {\"Arrived\": 252759, \"Disruption\": 6794.0, \"Total_Flights\": 259553.0, \"Disrupt_Pct\": 2.6175771422406986, \"Avg_Profit\": 5.9121142887965075, \"Avg_Total_Cost\": 13.087885711203493, \"Avg_Cancel_Cost\": 10.543126066737814, \"Avg_Delay_Cost\": 2.544759644465678, \"Airport\": \"PHL\"}, {\"Arrived\": 263755, \"Disruption\": 6045.0, \"Total_Flights\": 269800.0, \"Disrupt_Pct\": 2.2405485544848034, \"Avg_Profit\": 7.797257227575982, \"Avg_Total_Cost\": 11.202742772424017, \"Avg_Cancel_Cost\": 8.487768717568569, \"Avg_Delay_Cost\": 2.714974054855448, \"Airport\": \"FLL\"}, {\"Arrived\": 219401, \"Disruption\": 4991.0, \"Total_Flights\": 224392.0, \"Disrupt_Pct\": 2.224232592962316, \"Avg_Profit\": 7.87883703518842, \"Avg_Total_Cost\": 11.12116296481158, \"Avg_Cancel_Cost\": 7.818906199864523, \"Avg_Delay_Cost\": 3.3022567649470567, \"Airport\": \"MIA\"}, {\"Arrived\": 248557, \"Disruption\": 2969.0, \"Total_Flights\": 251526.0, \"Disrupt_Pct\": 1.180394869715258, \"Avg_Profit\": 13.09802565142371, \"Avg_Total_Cost\": 5.9019743485762906, \"Avg_Cancel_Cost\": 4.7569634948275725, \"Avg_Delay_Cost\": 1.145010853748718, \"Airport\": \"SAN\"}, {\"Arrived\": 272093, \"Disruption\": 7970.0, \"Total_Flights\": 280063.0, \"Disrupt_Pct\": 2.845788269068031, \"Avg_Profit\": 4.771058654659845, \"Avg_Total_Cost\": 14.228941345340155, \"Avg_Cancel_Cost\": 12.113345925738138, \"Avg_Delay_Cost\": 2.115595419602018, \"Airport\": \"DCA\"}, {\"Arrived\": 256477, \"Disruption\": 5710.0, \"Total_Flights\": 262187.0, \"Disrupt_Pct\": 2.1778349040951688, \"Avg_Profit\": 8.110825479524156, \"Avg_Total_Cost\": 10.889174520475844, \"Avg_Cancel_Cost\": 9.702998241712976, \"Avg_Delay_Cost\": 1.1861762787628685, \"Airport\": \"MDW\"}, {\"Arrived\": 296581, \"Disruption\": 6763.0, \"Total_Flights\": 303344.0, \"Disrupt_Pct\": 2.2294820401919933, \"Avg_Profit\": 7.852589799040034, \"Avg_Total_Cost\": 11.147410200959966, \"Avg_Cancel_Cost\": 9.614497072630414, \"Avg_Delay_Cost\": 1.532913128329552, \"Airport\": \"BWI\"}, {\"Arrived\": 308944, \"Disruption\": 10340.0, \"Total_Flights\": 319284.0, \"Disrupt_Pct\": 3.2384961351022916, \"Avg_Profit\": 2.8075193244885432, \"Avg_Total_Cost\": 16.192480675511458, \"Avg_Cancel_Cost\": 10.96202753661317, \"Avg_Delay_Cost\": 5.230453138898287, \"Airport\": \"JFK\"}, {\"Arrived\": 330318, \"Disruption\": 3024.0, \"Total_Flights\": 333342.0, \"Disrupt_Pct\": 0.9071764134132512, \"Avg_Profit\": 14.464117932933744, \"Avg_Total_Cost\": 4.5358820670662565, \"Avg_Cancel_Cost\": 2.1809432954743175, \"Avg_Delay_Cost\": 2.354938771591939, \"Airport\": \"SLC\"}, {\"Arrived\": 359618, \"Disruption\": 14464.0, \"Total_Flights\": 374082.0, \"Disrupt_Pct\": 3.866531936848071, \"Avg_Profit\": -0.3326596842403537, \"Avg_Total_Cost\": 19.332659684240355, \"Avg_Cancel_Cost\": 14.71335161809443, \"Avg_Delay_Cost\": 4.6193080661459245, \"Airport\": \"EWR\"}, {\"Arrived\": 436973, \"Disruption\": 10647.0, \"Total_Flights\": 447620.0, \"Disrupt_Pct\": 2.3785800455743713, \"Avg_Profit\": 7.107099772128144, \"Avg_Total_Cost\": 11.892900227871856, \"Avg_Cancel_Cost\": 9.722532505249989, \"Avg_Delay_Cost\": 2.170367722621867, \"Airport\": \"CLT\"}, {\"Arrived\": 340522, \"Disruption\": 14905.0, \"Total_Flights\": 355427.0, \"Disrupt_Pct\": 4.193547479510561, \"Avg_Profit\": -1.9677373975528027, \"Avg_Total_Cost\": 20.967737397552803, \"Avg_Cancel_Cost\": 17.232793231802876, \"Avg_Delay_Cost\": 3.7349441657499263, \"Airport\": \"LGA\"}, {\"Arrived\": 398559, \"Disruption\": 6908.0, \"Total_Flights\": 405467.0, \"Disrupt_Pct\": 1.7037144823129875, \"Avg_Profit\": 10.481427588435064, \"Avg_Total_Cost\": 8.518572411564936, \"Avg_Cancel_Cost\": 4.68102213003771, \"Avg_Delay_Cost\": 3.8375502815272258, \"Airport\": \"DTW\"}, {\"Arrived\": 382118, \"Disruption\": 10218.0, \"Total_Flights\": 392336.0, \"Disrupt_Pct\": 2.6044003099384203, \"Avg_Profit\": 5.9779984503079, \"Avg_Total_Cost\": 13.022001549692101, \"Avg_Cancel_Cost\": 10.306217120019575, \"Avg_Delay_Cost\": 2.715784429672526, \"Airport\": \"BOS\"}, {\"Arrived\": 386534, \"Disruption\": 7936.0, \"Total_Flights\": 394470.0, \"Disrupt_Pct\": 2.01181331913707, \"Avg_Profit\": 8.94093340431465, \"Avg_Total_Cost\": 10.05906659568535, \"Avg_Cancel_Cost\": 7.21347630998555, \"Avg_Delay_Cost\": 2.8455902856997994, \"Airport\": \"MCO\"}, {\"Arrived\": 405783, \"Disruption\": 3687.0, \"Total_Flights\": 409470.0, \"Disrupt_Pct\": 0.9004322661000806, \"Avg_Profit\": 14.497838669499597, \"Avg_Total_Cost\": 4.502161330500403, \"Avg_Cancel_Cost\": 2.9464918064815495, \"Avg_Delay_Cost\": 1.5556695240188536, \"Airport\": \"SEA\"}, {\"Arrived\": 414269, \"Disruption\": 6299.0, \"Total_Flights\": 420568.0, \"Disrupt_Pct\": 1.4977363945901732, \"Avg_Profit\": 11.511318027049134, \"Avg_Total_Cost\": 7.488681972950866, \"Avg_Cancel_Cost\": 3.9850868349470243, \"Avg_Delay_Cost\": 3.503595138003842, \"Airport\": \"MSP\"}, {\"Arrived\": 457817, \"Disruption\": 5030.0, \"Total_Flights\": 462847.0, \"Disrupt_Pct\": 1.086752209693484, \"Avg_Profit\": 13.56623895153258, \"Avg_Total_Cost\": 5.43376104846742, \"Avg_Cancel_Cost\": 3.9678338630260104, \"Avg_Delay_Cost\": 1.4659271854414095, \"Airport\": \"LAS\"}, {\"Arrived\": 480410, \"Disruption\": 5754.0, \"Total_Flights\": 486164.0, \"Disrupt_Pct\": 1.1835512296262167, \"Avg_Profit\": 13.082243851868917, \"Avg_Total_Cost\": 5.917756148131083, \"Avg_Cancel_Cost\": 4.196114891271258, \"Avg_Delay_Cost\": 1.721641256859825, \"Airport\": \"PHX\"}, {\"Arrived\": 510403, \"Disruption\": 12135.0, \"Total_Flights\": 522538.0, \"Disrupt_Pct\": 2.3223191423398872, \"Avg_Profit\": 7.388404288300563, \"Avg_Total_Cost\": 11.611595711699437, \"Avg_Cancel_Cost\": 8.182180051977081, \"Avg_Delay_Cost\": 3.4294156597223555, \"Airport\": \"SFO\"}, {\"Arrived\": 427868, \"Disruption\": 9950.0, \"Total_Flights\": 437818.0, \"Disrupt_Pct\": 2.2726338341502634, \"Avg_Profit\": 7.636830829248683, \"Avg_Total_Cost\": 11.363169170751316, \"Avg_Cancel_Cost\": 8.495539242333573, \"Avg_Delay_Cost\": 2.8676299284177436, \"Airport\": \"IAH\"}, {\"Arrived\": 638382, \"Disruption\": 9113.0, \"Total_Flights\": 647495.0, \"Disrupt_Pct\": 1.4074239955520893, \"Avg_Profit\": 11.962880022239554, \"Avg_Total_Cost\": 7.037119977760446, \"Avg_Cancel_Cost\": 4.820114441038156, \"Avg_Delay_Cost\": 2.21700553672229, \"Airport\": \"LAX\"}, {\"Arrived\": 673995, \"Disruption\": 10558.0, \"Total_Flights\": 684553.0, \"Disrupt_Pct\": 1.5423203170536102, \"Avg_Profit\": 11.28839841473195, \"Avg_Total_Cost\": 7.711601585268051, \"Avg_Cancel_Cost\": 5.139119980483614, \"Avg_Delay_Cost\": 2.5724816047844365, \"Airport\": \"DEN\"}, {\"Arrived\": 639120, \"Disruption\": 15135.0, \"Total_Flights\": 654255.0, \"Disrupt_Pct\": 2.313318201618635, \"Avg_Profit\": 7.433408991906825, \"Avg_Total_Cost\": 11.566591008093175, \"Avg_Cancel_Cost\": 7.884540431483138, \"Avg_Delay_Cost\": 3.6820505766100364, \"Airport\": \"DFW\"}, {\"Arrived\": 817689, \"Disruption\": 23447.0, \"Total_Flights\": 841136.0, \"Disrupt_Pct\": 2.787539708204143, \"Avg_Profit\": 5.062301458979285, \"Avg_Total_Cost\": 13.937698541020715, \"Avg_Cancel_Cost\": 9.782603526659184, \"Avg_Delay_Cost\": 4.155095014361532, \"Airport\": \"ORD\"}, {\"Arrived\": 1120159, \"Disruption\": 18350.0, \"Total_Flights\": 1138509.0, \"Disrupt_Pct\": 1.611757131476343, \"Avg_Profit\": 10.941214342618284, \"Avg_Total_Cost\": 8.058785657381716, \"Avg_Cancel_Cost\": 4.663555580149125, \"Avg_Delay_Cost\": 3.3952300772325907, \"Airport\": \"ATL\"}]}};\n",
              "      var embedOpt = {\"mode\": \"vega-lite\"};\n",
              "\n",
              "      function showError(el, error){\n",
              "          el.innerHTML = ('<div class=\"error\" style=\"color:red;\">'\n",
              "                          + '<p>JavaScript Error: ' + error.message + '</p>'\n",
              "                          + \"<p>This usually means there's a typo in your chart specification. \"\n",
              "                          + \"See the javascript console for the full traceback.</p>\"\n",
              "                          + '</div>');\n",
              "          throw error;\n",
              "      }\n",
              "      const el = document.getElementById('altair-viz');\n",
              "      vegaEmbed(\"#altair-viz\", spec, embedOpt)\n",
              "        .catch(error => showError(el, error));\n",
              "\n",
              "  </script>\n",
              "</body>\n",
              "</html>"
            ]
          },
          "metadata": {
            "tags": []
          },
          "execution_count": 42
        }
      ]
    },
    {
      "metadata": {
        "id": "2U6zVbB4B_eS",
        "colab_type": "code",
        "outputId": "4aea7648-ba10-4887-e17e-fe2dc980d38e",
        "colab": {
          "base_uri": "https://localhost:8080/",
          "height": 593
        }
      },
      "cell_type": "code",
      "source": [
        "airport_stats_alt_origin(origin_df, 'Disrupt_Pct', 'Disruption % by Origin Airport')"
      ],
      "execution_count": 0,
      "outputs": [
        {
          "output_type": "execute_result",
          "data": {
            "text/plain": [
              "Chart({\n",
              "  config: Config({\n",
              "    axis: AxisConfig({\n",
              "      labelFontSize: 12,\n",
              "      titleFontSize: 12\n",
              "    }),\n",
              "    title: VgTitleConfig({\n",
              "      fontSize: 24\n",
              "    })\n",
              "  }),\n",
              "  data:         Arrived  Disruption  Total_Flights  Disrupt_Pct  Avg_Profit  \\\n",
              "  Origin                                                                \n",
              "  287      131300    1346.000     132646.000        1.015      13.926   \n",
              "  288      142813    2374.000     145187.000        1.635      10.824   \n",
              "  289      142900    1660.000     144560.000        1.148      13.258   \n",
              "  290      141278    2368.000     143646.000        1.648      10.758   \n",
              "  291      133818    2976.000     136794.000        2.176       8.122   \n",
              "  292      158151    2293.000     160444.000        1.429      11.854   \n",
              "  293      149538    1983.000     151521.000        1.309      12.456   \n",
              "  294      143789     783.000     144572.000        0.542      16.292   \n",
              "  295      182289    1801.000     184090.000        0.978      14.108   \n",
              "  296      174778    2822.000     177600.000        1.589      11.055   \n",
              "  297      175993    3030.000     179023.000        1.693      10.537   \n",
              "  298      162562    3707.000     166269.000        2.230       7.852   \n",
              "  299      206361    3176.000     209537.000        1.516      11.421   \n",
              "  300      208168    3801.000     211969.000        1.793      10.034   \n",
              "  301      252932    6614.000     259546.000        2.548       6.259   \n",
              "  302      263910    5908.000     269818.000        2.190       8.052   \n",
              "  303      219636    4765.000     224401.000        2.123       8.383   \n",
              "  304      248037    3491.000     251528.000        1.388      12.060   \n",
              "  305      271434    8641.000     280075.000        3.085       3.574   \n",
              "  306      256556    5643.000     262199.000        2.152       8.239   \n",
              "  307      296532    6812.000     303344.000        2.246       7.772   \n",
              "  308      310049    9292.000     319341.000        2.910       4.451   \n",
              "  309      330825    2377.000     333202.000        0.713      15.433   \n",
              "  310      360490   13400.000     373890.000        3.584       1.080   \n",
              "  311      438396    9230.000     447626.000        2.062       8.690   \n",
              "  312      340054   15351.000     355405.000        4.319      -2.596   \n",
              "  313      399393    5851.000     405244.000        1.444      11.781   \n",
              "  314      382091   10283.000     392374.000        2.621       5.896   \n",
              "  315      386358    8073.000     394431.000        2.047       8.766   \n",
              "  316      406418    3068.000     409486.000        0.749      15.254   \n",
              "  317      415600    5079.000     420679.000        1.207      12.963   \n",
              "  318      457355    5441.000     462796.000        1.176      13.122   \n",
              "  319      481886    4257.000     486143.000        0.876      14.622   \n",
              "  320      511749   10644.000     522393.000        2.038       8.812   \n",
              "  321      429125    8767.000     437892.000        2.002       8.990   \n",
              "  322      638886    8586.000     647472.000        1.326      12.370   \n",
              "  323      675476    8887.000     684363.000        1.299      12.507   \n",
              "  324      641851   12432.000     654283.000        1.900       9.500   \n",
              "  325      821472   19963.000     841435.000        2.372       7.138   \n",
              "  326     1123520   15147.000    1138667.000        1.330      12.349   \n",
              "  \n",
              "          Avg_Total_Cost  Avg_Cancel_Cost  Avg_Delay_Cost Airport  \n",
              "  Origin                                                           \n",
              "  287              5.074            3.777           1.297     SMF  \n",
              "  288              8.176            5.848           2.328     MSY  \n",
              "  289              5.742            4.441           1.300     SJC  \n",
              "  290              8.242            6.286           1.956     MCI  \n",
              "  291             10.878            7.054           3.823     IAD  \n",
              "  292              7.146            4.565           2.580     AUS  \n",
              "  293              6.544            5.762           0.782     OAK  \n",
              "  294              2.708            1.359           1.349     HNL  \n",
              "  295              4.892            3.466           1.426     PDX  \n",
              "  296              7.945            6.090           1.855     STL  \n",
              "  297              8.463            6.147           2.315     BNA  \n",
              "  298             11.148            9.999           1.149     HOU  \n",
              "  299              7.579            6.254           1.324     DAL  \n",
              "  300              8.966            6.517           2.448     TPA  \n",
              "  301             12.741           10.089           2.653     PHL  \n",
              "  302             10.948            8.181           2.767     FLL  \n",
              "  303             10.617            7.611           3.006     MIA  \n",
              "  304              6.940            5.325           1.614     SAN  \n",
              "  305             15.426           12.600           2.826     DCA  \n",
              "  306             10.761            9.704           1.056     MDW  \n",
              "  307             11.228            9.418           1.810     BWI  \n",
              "  308             14.549           10.503           4.046     JFK  \n",
              "  309              3.567            1.829           1.738     SLC  \n",
              "  310             17.920           14.272           3.648     EWR  \n",
              "  311             10.310            8.674           1.636     CLT  \n",
              "  312             21.596           17.580           4.017     LGA  \n",
              "  313              7.219            4.608           2.611     DTW  \n",
              "  314             13.104           10.248           2.856     BOS  \n",
              "  315             10.234            7.112           3.122     MCO  \n",
              "  316              3.746            2.487           1.259     SEA  \n",
              "  317              6.037            3.953           2.084     MSP  \n",
              "  318              5.878            4.123           1.756     LAS  \n",
              "  319              4.378            3.234           1.145     PHX  \n",
              "  320             10.188            7.957           2.231     SFO  \n",
              "  321             10.010            8.031           1.980     IAH  \n",
              "  322              6.630            4.619           2.012     LAX  \n",
              "  323              6.493            4.786           1.707     DEN  \n",
              "  324              9.500            7.262           2.238     DFW  \n",
              "  325             11.862            9.185           2.677     ORD  \n",
              "  326              6.651            4.551           2.100     ATL  ,\n",
              "  encoding: EncodingWithFacet({\n",
              "    color: Color({\n",
              "      legend: None,\n",
              "      shorthand: 'Airport'\n",
              "    }),\n",
              "    x: X({\n",
              "      shorthand: 'Airport'\n",
              "    }),\n",
              "    y: Y({\n",
              "      shorthand: 'Disrupt_Pct'\n",
              "    })\n",
              "  }),\n",
              "  height: 450,\n",
              "  mark: 'bar',\n",
              "  title: 'Disruption % by Origin Airport',\n",
              "  width: 1100\n",
              "})"
            ],
            "text/html": [
              "<!DOCTYPE html>\n",
              "<html>\n",
              "<head>\n",
              "  <style>\n",
              "    .vega-actions a {\n",
              "        margin-right: 12px;\n",
              "        color: #757575;\n",
              "        font-weight: normal;\n",
              "        font-size: 13px;\n",
              "    }\n",
              "    .error {\n",
              "        color: red;\n",
              "    }\n",
              "  </style>\n",
              "  <script type=\"text/javascript\" src=\"https://cdn.jsdelivr.net/npm//vega@4\"></script>\n",
              "  <script type=\"text/javascript\" src=\"https://cdn.jsdelivr.net/npm//vega-lite@2.6.0\"></script>\n",
              "  <script type=\"text/javascript\" src=\"https://cdn.jsdelivr.net/npm//vega-embed@3\"></script>\n",
              "</head>\n",
              "<body>\n",
              "  <div id=\"altair-viz\"></div>\n",
              "  <script>\n",
              "      var spec = {\"config\": {\"view\": {\"width\": 400, \"height\": 300}, \"axis\": {\"labelFontSize\": 12, \"titleFontSize\": 12}, \"title\": {\"fontSize\": 24}}, \"data\": {\"name\": \"data-cbae799cd044dde94248bb0666e12792\"}, \"mark\": \"bar\", \"encoding\": {\"color\": {\"type\": \"nominal\", \"field\": \"Airport\", \"legend\": null}, \"x\": {\"type\": \"nominal\", \"field\": \"Airport\"}, \"y\": {\"type\": \"quantitative\", \"field\": \"Disrupt_Pct\"}}, \"height\": 450, \"title\": \"Disruption % by Origin Airport\", \"width\": 1100, \"$schema\": \"https://vega.github.io/schema/vega-lite/v2.6.0.json\", \"datasets\": {\"data-cbae799cd044dde94248bb0666e12792\": [{\"Arrived\": 131300, \"Disruption\": 1346.0, \"Total_Flights\": 132646.0, \"Disrupt_Pct\": 1.0147309379853142, \"Avg_Profit\": 13.926345310073428, \"Avg_Total_Cost\": 5.073654689926571, \"Avg_Cancel_Cost\": 3.7769702818026927, \"Avg_Delay_Cost\": 1.2966844081238786, \"Airport\": \"SMF\"}, {\"Arrived\": 142813, \"Disruption\": 2374.0, \"Total_Flights\": 145187.0, \"Disrupt_Pct\": 1.635132622066714, \"Avg_Profit\": 10.82433688966643, \"Avg_Total_Cost\": 8.17566311033357, \"Avg_Cancel_Cost\": 5.847630986245325, \"Avg_Delay_Cost\": 2.328032124088245, \"Airport\": \"MSY\"}, {\"Arrived\": 142900, \"Disruption\": 1660.0, \"Total_Flights\": 144560.0, \"Disrupt_Pct\": 1.1483121195351411, \"Avg_Profit\": 13.258439402324294, \"Avg_Total_Cost\": 5.741560597675705, \"Avg_Cancel_Cost\": 4.441062534587714, \"Avg_Delay_Cost\": 1.300498063087991, \"Airport\": \"SJC\"}, {\"Arrived\": 141278, \"Disruption\": 2368.0, \"Total_Flights\": 143646.0, \"Disrupt_Pct\": 1.6484969995683834, \"Avg_Profit\": 10.757515002158083, \"Avg_Total_Cost\": 8.242484997841917, \"Avg_Cancel_Cost\": 6.286287122509503, \"Avg_Delay_Cost\": 1.956197875332414, \"Airport\": \"MCI\"}, {\"Arrived\": 133818, \"Disruption\": 2976.0, \"Total_Flights\": 136794.0, \"Disrupt_Pct\": 2.1755340146497653, \"Avg_Profit\": 8.122329926751174, \"Avg_Total_Cost\": 10.877670073248826, \"Avg_Cancel_Cost\": 7.054402970890536, \"Avg_Delay_Cost\": 3.8232671023582903, \"Airport\": \"IAD\"}, {\"Arrived\": 158151, \"Disruption\": 2293.0, \"Total_Flights\": 160444.0, \"Disrupt_Pct\": 1.4291590835431678, \"Avg_Profit\": 11.854204582284162, \"Avg_Total_Cost\": 7.1457954177158385, \"Avg_Cancel_Cost\": 4.565455859988532, \"Avg_Delay_Cost\": 2.5803395577273065, \"Airport\": \"AUS\"}, {\"Arrived\": 149538, \"Disruption\": 1983.0, \"Total_Flights\": 151521.0, \"Disrupt_Pct\": 1.3087294830419545, \"Avg_Profit\": 12.456352584790228, \"Avg_Total_Cost\": 6.543647415209773, \"Avg_Cancel_Cost\": 5.76157760310452, \"Avg_Delay_Cost\": 0.7820698121052532, \"Airport\": \"OAK\"}, {\"Arrived\": 143789, \"Disruption\": 783.0, \"Total_Flights\": 144572.0, \"Disrupt_Pct\": 0.5415986498077082, \"Avg_Profit\": 16.29200675096146, \"Avg_Total_Cost\": 2.7079932490385414, \"Avg_Cancel_Cost\": 1.3591843510499957, \"Avg_Delay_Cost\": 1.3488088979885458, \"Airport\": \"HNL\"}, {\"Arrived\": 182289, \"Disruption\": 1801.0, \"Total_Flights\": 184090.0, \"Disrupt_Pct\": 0.9783258188929328, \"Avg_Profit\": 14.108370905535336, \"Avg_Total_Cost\": 4.891629094464664, \"Avg_Cancel_Cost\": 3.4656961268944535, \"Avg_Delay_Cost\": 1.4259329675702102, \"Airport\": \"PDX\"}, {\"Arrived\": 174778, \"Disruption\": 2822.0, \"Total_Flights\": 177600.0, \"Disrupt_Pct\": 1.588963963963964, \"Avg_Profit\": 11.05518018018018, \"Avg_Total_Cost\": 7.94481981981982, \"Avg_Cancel_Cost\": 6.089527027027027, \"Avg_Delay_Cost\": 1.8552927927927927, \"Airport\": \"STL\"}, {\"Arrived\": 175993, \"Disruption\": 3030.0, \"Total_Flights\": 179023.0, \"Disrupt_Pct\": 1.6925199555364396, \"Avg_Profit\": 10.537400222317803, \"Avg_Total_Cost\": 8.462599777682197, \"Avg_Cancel_Cost\": 6.147254822006111, \"Avg_Delay_Cost\": 2.3153449556760854, \"Airport\": \"BNA\"}, {\"Arrived\": 162562, \"Disruption\": 3707.0, \"Total_Flights\": 166269.0, \"Disrupt_Pct\": 2.2295196338463574, \"Avg_Profit\": 7.852401830768213, \"Avg_Total_Cost\": 11.147598169231786, \"Avg_Cancel_Cost\": 9.998857273454462, \"Avg_Delay_Cost\": 1.1487408957773244, \"Airport\": \"HOU\"}, {\"Arrived\": 206361, \"Disruption\": 3176.0, \"Total_Flights\": 209537.0, \"Disrupt_Pct\": 1.5157227601807794, \"Avg_Profit\": 11.421386199096103, \"Avg_Total_Cost\": 7.578613800903898, \"Avg_Cancel_Cost\": 6.254265356476422, \"Avg_Delay_Cost\": 1.3243484444274758, \"Airport\": \"DAL\"}, {\"Arrived\": 208168, \"Disruption\": 3801.0, \"Total_Flights\": 211969.0, \"Disrupt_Pct\": 1.7931867395704089, \"Avg_Profit\": 10.034066302147956, \"Avg_Total_Cost\": 8.965933697852044, \"Avg_Cancel_Cost\": 6.517462459133175, \"Avg_Delay_Cost\": 2.448471238718869, \"Airport\": \"TPA\"}, {\"Arrived\": 252932, \"Disruption\": 6614.0, \"Total_Flights\": 259546.0, \"Disrupt_Pct\": 2.548295870481533, \"Avg_Profit\": 6.258520647592334, \"Avg_Total_Cost\": 12.741479352407666, \"Avg_Cancel_Cost\": 10.08877039137571, \"Avg_Delay_Cost\": 2.652708961031955, \"Airport\": \"PHL\"}, {\"Arrived\": 263910, \"Disruption\": 5908.0, \"Total_Flights\": 269818.0, \"Disrupt_Pct\": 2.1896241169973836, \"Avg_Profit\": 8.051879415013083, \"Avg_Total_Cost\": 10.948120584986917, \"Avg_Cancel_Cost\": 8.181440823073332, \"Avg_Delay_Cost\": 2.7666797619135846, \"Airport\": \"FLL\"}, {\"Arrived\": 219636, \"Disruption\": 4765.0, \"Total_Flights\": 224401.0, \"Disrupt_Pct\": 2.123430822500791, \"Avg_Profit\": 8.382845887496044, \"Avg_Total_Cost\": 10.617154112503956, \"Avg_Cancel_Cost\": 7.611374280863276, \"Avg_Delay_Cost\": 3.0057798316406794, \"Airport\": \"MIA\"}, {\"Arrived\": 248037, \"Disruption\": 3491.0, \"Total_Flights\": 251528.0, \"Disrupt_Pct\": 1.3879170509843834, \"Avg_Profit\": 12.060414745078083, \"Avg_Total_Cost\": 6.9395852549219175, \"Avg_Cancel_Cost\": 5.32545084443879, \"Avg_Delay_Cost\": 1.6141344104831274, \"Airport\": \"SAN\"}, {\"Arrived\": 271434, \"Disruption\": 8641.0, \"Total_Flights\": 280075.0, \"Disrupt_Pct\": 3.0852450236543785, \"Avg_Profit\": 3.5737748817281085, \"Avg_Total_Cost\": 15.42622511827189, \"Avg_Cancel_Cost\": 12.600196375970723, \"Avg_Delay_Cost\": 2.826028742301167, \"Airport\": \"DCA\"}, {\"Arrived\": 256556, \"Disruption\": 5643.0, \"Total_Flights\": 262199.0, \"Disrupt_Pct\": 2.152182121213277, \"Avg_Profit\": 8.239089393933615, \"Avg_Total_Cost\": 10.760910606066385, \"Avg_Cancel_Cost\": 9.70446111541234, \"Avg_Delay_Cost\": 1.056449490654046, \"Airport\": \"MDW\"}, {\"Arrived\": 296532, \"Disruption\": 6812.0, \"Total_Flights\": 303344.0, \"Disrupt_Pct\": 2.245635318318477, \"Avg_Profit\": 7.7718234084076165, \"Avg_Total_Cost\": 11.228176591592383, \"Avg_Cancel_Cost\": 9.418350123951685, \"Avg_Delay_Cost\": 1.8098264676406988, \"Airport\": \"BWI\"}, {\"Arrived\": 310049, \"Disruption\": 9292.0, \"Total_Flights\": 319341.0, \"Disrupt_Pct\": 2.9097422504470143, \"Avg_Profit\": 4.451288747764928, \"Avg_Total_Cost\": 14.548711252235071, \"Avg_Cancel_Cost\": 10.50287936719682, \"Avg_Delay_Cost\": 4.04583188503825, \"Airport\": \"JFK\"}, {\"Arrived\": 330825, \"Disruption\": 2377.0, \"Total_Flights\": 333202.0, \"Disrupt_Pct\": 0.7133810721424242, \"Avg_Profit\": 15.43309463928788, \"Avg_Total_Cost\": 3.5669053607121204, \"Avg_Cancel_Cost\": 1.8292207129609066, \"Avg_Delay_Cost\": 1.7376846477512138, \"Airport\": \"SLC\"}, {\"Arrived\": 360490, \"Disruption\": 13400.0, \"Total_Flights\": 373890.0, \"Disrupt_Pct\": 3.5839418010644843, \"Avg_Profit\": 1.080290994677579, \"Avg_Total_Cost\": 17.91970900532242, \"Avg_Cancel_Cost\": 14.27157720185081, \"Avg_Delay_Cost\": 3.6481318034716104, \"Airport\": \"EWR\"}, {\"Arrived\": 438396, \"Disruption\": 9230.0, \"Total_Flights\": 447626.0, \"Disrupt_Pct\": 2.061989249954203, \"Avg_Profit\": 8.690053750228985, \"Avg_Total_Cost\": 10.309946249771015, \"Avg_Cancel_Cost\": 8.673535496150803, \"Avg_Delay_Cost\": 1.6364107536202113, \"Airport\": \"CLT\"}, {\"Arrived\": 340054, \"Disruption\": 15351.0, \"Total_Flights\": 355405.0, \"Disrupt_Pct\": 4.319297702620953, \"Avg_Profit\": -2.596488513104768, \"Avg_Total_Cost\": 21.596488513104767, \"Avg_Cancel_Cost\": 17.579944007540693, \"Avg_Delay_Cost\": 4.016544505564074, \"Airport\": \"LGA\"}, {\"Arrived\": 399393, \"Disruption\": 5851.0, \"Total_Flights\": 405244.0, \"Disrupt_Pct\": 1.443821500133253, \"Avg_Profit\": 11.780892499333735, \"Avg_Total_Cost\": 7.219107500666265, \"Avg_Cancel_Cost\": 4.608334731667834, \"Avg_Delay_Cost\": 2.610772768998431, \"Airport\": \"DTW\"}, {\"Arrived\": 382091, \"Disruption\": 10283.0, \"Total_Flights\": 392374.0, \"Disrupt_Pct\": 2.620713910707641, \"Avg_Profit\": 5.896430446461794, \"Avg_Total_Cost\": 13.103569553538206, \"Avg_Cancel_Cost\": 10.247875751196563, \"Avg_Delay_Cost\": 2.8556938023416425, \"Airport\": \"BOS\"}, {\"Arrived\": 386358, \"Disruption\": 8073.0, \"Total_Flights\": 394431.0, \"Disrupt_Pct\": 2.0467458186602983, \"Avg_Profit\": 8.76627090669851, \"Avg_Total_Cost\": 10.23372909330149, \"Avg_Cancel_Cost\": 7.111509997946409, \"Avg_Delay_Cost\": 3.1222190953550806, \"Airport\": \"MCO\"}, {\"Arrived\": 406418, \"Disruption\": 3068.0, \"Total_Flights\": 409486.0, \"Disrupt_Pct\": 0.7492319639743483, \"Avg_Profit\": 15.253840180128257, \"Avg_Total_Cost\": 3.7461598198717416, \"Avg_Cancel_Cost\": 2.4872645218639953, \"Avg_Delay_Cost\": 1.2588952980077464, \"Airport\": \"SEA\"}, {\"Arrived\": 415600, \"Disruption\": 5079.0, \"Total_Flights\": 420679.0, \"Disrupt_Pct\": 1.207333857882138, \"Avg_Profit\": 12.96333071058931, \"Avg_Total_Cost\": 6.036669289410691, \"Avg_Cancel_Cost\": 3.9531329113171805, \"Avg_Delay_Cost\": 2.0835363780935103, \"Airport\": \"MSP\"}, {\"Arrived\": 457355, \"Disruption\": 5441.0, \"Total_Flights\": 462796.0, \"Disrupt_Pct\": 1.1756799972342025, \"Avg_Profit\": 13.121600013828987, \"Avg_Total_Cost\": 5.878399986171012, \"Avg_Cancel_Cost\": 4.122766834631242, \"Avg_Delay_Cost\": 1.7556331515397705, \"Airport\": \"LAS\"}, {\"Arrived\": 481886, \"Disruption\": 4257.0, \"Total_Flights\": 486143.0, \"Disrupt_Pct\": 0.8756682704471729, \"Avg_Profit\": 14.621658647764136, \"Avg_Total_Cost\": 4.378341352235865, \"Avg_Cancel_Cost\": 3.2336164461897012, \"Avg_Delay_Cost\": 1.144724906046164, \"Airport\": \"PHX\"}, {\"Arrived\": 511749, \"Disruption\": 10644.0, \"Total_Flights\": 522393.0, \"Disrupt_Pct\": 2.0375464449179064, \"Avg_Profit\": 8.812267775410467, \"Avg_Total_Cost\": 10.187732224589533, \"Avg_Cancel_Cost\": 7.95665332422142, \"Avg_Delay_Cost\": 2.2310789003681135, \"Airport\": \"SFO\"}, {\"Arrived\": 429125, \"Disruption\": 8767.0, \"Total_Flights\": 437892.0, \"Disrupt_Pct\": 2.002091839997077, \"Avg_Profit\": 8.989540800014616, \"Avg_Total_Cost\": 10.010459199985384, \"Avg_Cancel_Cost\": 8.030518940743379, \"Avg_Delay_Cost\": 1.9799402592420048, \"Airport\": \"IAH\"}, {\"Arrived\": 638886, \"Disruption\": 8586.0, \"Total_Flights\": 647472.0, \"Disrupt_Pct\": 1.326080510045222, \"Avg_Profit\": 12.36959744977389, \"Avg_Total_Cost\": 6.63040255022611, \"Avg_Cancel_Cost\": 4.618732547507846, \"Avg_Delay_Cost\": 2.0116700027182643, \"Airport\": \"LAX\"}, {\"Arrived\": 675476, \"Disruption\": 8887.0, \"Total_Flights\": 684363.0, \"Disrupt_Pct\": 1.29857984724481, \"Avg_Profit\": 12.507100763775949, \"Avg_Total_Cost\": 6.4928992362240505, \"Avg_Cancel_Cost\": 4.7862026439185055, \"Avg_Delay_Cost\": 1.706696592305545, \"Airport\": \"DEN\"}, {\"Arrived\": 641851, \"Disruption\": 12432.0, \"Total_Flights\": 654283.0, \"Disrupt_Pct\": 1.9000952187356237, \"Avg_Profit\": 9.499523906321881, \"Avg_Total_Cost\": 9.500476093678119, \"Avg_Cancel_Cost\": 7.262148030745106, \"Avg_Delay_Cost\": 2.2383280629330127, \"Airport\": \"DFW\"}, {\"Arrived\": 821472, \"Disruption\": 19963.0, \"Total_Flights\": 841435.0, \"Disrupt_Pct\": 2.3724946074265985, \"Avg_Profit\": 7.137526962867007, \"Avg_Total_Cost\": 11.862473037132993, \"Avg_Cancel_Cost\": 9.18549858277823, \"Avg_Delay_Cost\": 2.676974454354763, \"Airport\": \"ORD\"}, {\"Arrived\": 1123520, \"Disruption\": 15147.0, \"Total_Flights\": 1138667.0, \"Disrupt_Pct\": 1.3302396574239879, \"Avg_Profit\": 12.34880171288006, \"Avg_Total_Cost\": 6.651198287119939, \"Avg_Cancel_Cost\": 4.5513745458505435, \"Avg_Delay_Cost\": 2.099823741269396, \"Airport\": \"ATL\"}]}};\n",
              "      var embedOpt = {\"mode\": \"vega-lite\"};\n",
              "\n",
              "      function showError(el, error){\n",
              "          el.innerHTML = ('<div class=\"error\" style=\"color:red;\">'\n",
              "                          + '<p>JavaScript Error: ' + error.message + '</p>'\n",
              "                          + \"<p>This usually means there's a typo in your chart specification. \"\n",
              "                          + \"See the javascript console for the full traceback.</p>\"\n",
              "                          + '</div>');\n",
              "          throw error;\n",
              "      }\n",
              "      const el = document.getElementById('altair-viz');\n",
              "      vegaEmbed(\"#altair-viz\", spec, embedOpt)\n",
              "        .catch(error => showError(el, error));\n",
              "\n",
              "  </script>\n",
              "</body>\n",
              "</html>"
            ]
          },
          "metadata": {
            "tags": []
          },
          "execution_count": 43
        }
      ]
    },
    {
      "metadata": {
        "id": "Riafl1MsmvnY",
        "colab_type": "text"
      },
      "cell_type": "markdown",
      "source": [
        "Most airports have similar stats for origin and destination so we'll look at only the origin"
      ]
    },
    {
      "metadata": {
        "id": "HCxLUXvznFR2",
        "colab_type": "code",
        "outputId": "51ad63bb-7b47-4683-84b2-a020f9e3d2c4",
        "colab": {
          "base_uri": "https://localhost:8080/",
          "height": 573
        }
      },
      "cell_type": "code",
      "source": [
        "airport_stats_alt_origin(origin_df, 'Avg_Total_Cost', \"Average Disruption Cost per Customer\")"
      ],
      "execution_count": 0,
      "outputs": [
        {
          "output_type": "execute_result",
          "data": {
            "text/plain": [
              "Chart({\n",
              "  config: Config({\n",
              "    axis: AxisConfig({\n",
              "      labelFontSize: 12,\n",
              "      titleFontSize: 12\n",
              "    }),\n",
              "    title: VgTitleConfig({\n",
              "      fontSize: 24\n",
              "    })\n",
              "  }),\n",
              "  data:         Arrived  Disruption  Total_Flights  Disrupt_Pct  Avg_Profit  \\\n",
              "  Origin                                                                \n",
              "  287      131300    1346.000     132646.000        1.015      13.926   \n",
              "  288      142813    2374.000     145187.000        1.635      10.824   \n",
              "  289      142900    1660.000     144560.000        1.148      13.258   \n",
              "  290      141278    2368.000     143646.000        1.648      10.758   \n",
              "  291      133818    2976.000     136794.000        2.176       8.122   \n",
              "  292      158151    2293.000     160444.000        1.429      11.854   \n",
              "  293      149538    1983.000     151521.000        1.309      12.456   \n",
              "  294      143789     783.000     144572.000        0.542      16.292   \n",
              "  295      182289    1801.000     184090.000        0.978      14.108   \n",
              "  296      174778    2822.000     177600.000        1.589      11.055   \n",
              "  297      175993    3030.000     179023.000        1.693      10.537   \n",
              "  298      162562    3707.000     166269.000        2.230       7.852   \n",
              "  299      206361    3176.000     209537.000        1.516      11.421   \n",
              "  300      208168    3801.000     211969.000        1.793      10.034   \n",
              "  301      252932    6614.000     259546.000        2.548       6.259   \n",
              "  302      263910    5908.000     269818.000        2.190       8.052   \n",
              "  303      219636    4765.000     224401.000        2.123       8.383   \n",
              "  304      248037    3491.000     251528.000        1.388      12.060   \n",
              "  305      271434    8641.000     280075.000        3.085       3.574   \n",
              "  306      256556    5643.000     262199.000        2.152       8.239   \n",
              "  307      296532    6812.000     303344.000        2.246       7.772   \n",
              "  308      310049    9292.000     319341.000        2.910       4.451   \n",
              "  309      330825    2377.000     333202.000        0.713      15.433   \n",
              "  310      360490   13400.000     373890.000        3.584       1.080   \n",
              "  311      438396    9230.000     447626.000        2.062       8.690   \n",
              "  312      340054   15351.000     355405.000        4.319      -2.596   \n",
              "  313      399393    5851.000     405244.000        1.444      11.781   \n",
              "  314      382091   10283.000     392374.000        2.621       5.896   \n",
              "  315      386358    8073.000     394431.000        2.047       8.766   \n",
              "  316      406418    3068.000     409486.000        0.749      15.254   \n",
              "  317      415600    5079.000     420679.000        1.207      12.963   \n",
              "  318      457355    5441.000     462796.000        1.176      13.122   \n",
              "  319      481886    4257.000     486143.000        0.876      14.622   \n",
              "  320      511749   10644.000     522393.000        2.038       8.812   \n",
              "  321      429125    8767.000     437892.000        2.002       8.990   \n",
              "  322      638886    8586.000     647472.000        1.326      12.370   \n",
              "  323      675476    8887.000     684363.000        1.299      12.507   \n",
              "  324      641851   12432.000     654283.000        1.900       9.500   \n",
              "  325      821472   19963.000     841435.000        2.372       7.138   \n",
              "  326     1123520   15147.000    1138667.000        1.330      12.349   \n",
              "  \n",
              "          Avg_Total_Cost  Avg_Cancel_Cost  Avg_Delay_Cost Airport  \n",
              "  Origin                                                           \n",
              "  287              5.074            3.777           1.297     SMF  \n",
              "  288              8.176            5.848           2.328     MSY  \n",
              "  289              5.742            4.441           1.300     SJC  \n",
              "  290              8.242            6.286           1.956     MCI  \n",
              "  291             10.878            7.054           3.823     IAD  \n",
              "  292              7.146            4.565           2.580     AUS  \n",
              "  293              6.544            5.762           0.782     OAK  \n",
              "  294              2.708            1.359           1.349     HNL  \n",
              "  295              4.892            3.466           1.426     PDX  \n",
              "  296              7.945            6.090           1.855     STL  \n",
              "  297              8.463            6.147           2.315     BNA  \n",
              "  298             11.148            9.999           1.149     HOU  \n",
              "  299              7.579            6.254           1.324     DAL  \n",
              "  300              8.966            6.517           2.448     TPA  \n",
              "  301             12.741           10.089           2.653     PHL  \n",
              "  302             10.948            8.181           2.767     FLL  \n",
              "  303             10.617            7.611           3.006     MIA  \n",
              "  304              6.940            5.325           1.614     SAN  \n",
              "  305             15.426           12.600           2.826     DCA  \n",
              "  306             10.761            9.704           1.056     MDW  \n",
              "  307             11.228            9.418           1.810     BWI  \n",
              "  308             14.549           10.503           4.046     JFK  \n",
              "  309              3.567            1.829           1.738     SLC  \n",
              "  310             17.920           14.272           3.648     EWR  \n",
              "  311             10.310            8.674           1.636     CLT  \n",
              "  312             21.596           17.580           4.017     LGA  \n",
              "  313              7.219            4.608           2.611     DTW  \n",
              "  314             13.104           10.248           2.856     BOS  \n",
              "  315             10.234            7.112           3.122     MCO  \n",
              "  316              3.746            2.487           1.259     SEA  \n",
              "  317              6.037            3.953           2.084     MSP  \n",
              "  318              5.878            4.123           1.756     LAS  \n",
              "  319              4.378            3.234           1.145     PHX  \n",
              "  320             10.188            7.957           2.231     SFO  \n",
              "  321             10.010            8.031           1.980     IAH  \n",
              "  322              6.630            4.619           2.012     LAX  \n",
              "  323              6.493            4.786           1.707     DEN  \n",
              "  324              9.500            7.262           2.238     DFW  \n",
              "  325             11.862            9.185           2.677     ORD  \n",
              "  326              6.651            4.551           2.100     ATL  ,\n",
              "  encoding: EncodingWithFacet({\n",
              "    color: Color({\n",
              "      legend: None,\n",
              "      shorthand: 'Airport'\n",
              "    }),\n",
              "    x: X({\n",
              "      shorthand: 'Airport'\n",
              "    }),\n",
              "    y: Y({\n",
              "      shorthand: 'Avg_Total_Cost'\n",
              "    })\n",
              "  }),\n",
              "  height: 450,\n",
              "  mark: 'bar',\n",
              "  title: 'Average Disruption Cost per Customer',\n",
              "  width: 1100\n",
              "})"
            ],
            "text/html": [
              "<!DOCTYPE html>\n",
              "<html>\n",
              "<head>\n",
              "  <style>\n",
              "    .vega-actions a {\n",
              "        margin-right: 12px;\n",
              "        color: #757575;\n",
              "        font-weight: normal;\n",
              "        font-size: 13px;\n",
              "    }\n",
              "    .error {\n",
              "        color: red;\n",
              "    }\n",
              "  </style>\n",
              "  <script type=\"text/javascript\" src=\"https://cdn.jsdelivr.net/npm//vega@4\"></script>\n",
              "  <script type=\"text/javascript\" src=\"https://cdn.jsdelivr.net/npm//vega-lite@2.6.0\"></script>\n",
              "  <script type=\"text/javascript\" src=\"https://cdn.jsdelivr.net/npm//vega-embed@3\"></script>\n",
              "</head>\n",
              "<body>\n",
              "  <div id=\"altair-viz\"></div>\n",
              "  <script>\n",
              "      var spec = {\"config\": {\"view\": {\"width\": 400, \"height\": 300}, \"axis\": {\"labelFontSize\": 12, \"titleFontSize\": 12}, \"title\": {\"fontSize\": 24}}, \"data\": {\"name\": \"data-cbae799cd044dde94248bb0666e12792\"}, \"mark\": \"bar\", \"encoding\": {\"color\": {\"type\": \"nominal\", \"field\": \"Airport\", \"legend\": null}, \"x\": {\"type\": \"nominal\", \"field\": \"Airport\"}, \"y\": {\"type\": \"quantitative\", \"field\": \"Avg_Total_Cost\"}}, \"height\": 450, \"title\": \"Average Disruption Cost per Customer\", \"width\": 1100, \"$schema\": \"https://vega.github.io/schema/vega-lite/v2.6.0.json\", \"datasets\": {\"data-cbae799cd044dde94248bb0666e12792\": [{\"Arrived\": 131300, \"Disruption\": 1346.0, \"Total_Flights\": 132646.0, \"Disrupt_Pct\": 1.0147309379853142, \"Avg_Profit\": 13.926345310073428, \"Avg_Total_Cost\": 5.073654689926571, \"Avg_Cancel_Cost\": 3.7769702818026927, \"Avg_Delay_Cost\": 1.2966844081238786, \"Airport\": \"SMF\"}, {\"Arrived\": 142813, \"Disruption\": 2374.0, \"Total_Flights\": 145187.0, \"Disrupt_Pct\": 1.635132622066714, \"Avg_Profit\": 10.82433688966643, \"Avg_Total_Cost\": 8.17566311033357, \"Avg_Cancel_Cost\": 5.847630986245325, \"Avg_Delay_Cost\": 2.328032124088245, \"Airport\": \"MSY\"}, {\"Arrived\": 142900, \"Disruption\": 1660.0, \"Total_Flights\": 144560.0, \"Disrupt_Pct\": 1.1483121195351411, \"Avg_Profit\": 13.258439402324294, \"Avg_Total_Cost\": 5.741560597675705, \"Avg_Cancel_Cost\": 4.441062534587714, \"Avg_Delay_Cost\": 1.300498063087991, \"Airport\": \"SJC\"}, {\"Arrived\": 141278, \"Disruption\": 2368.0, \"Total_Flights\": 143646.0, \"Disrupt_Pct\": 1.6484969995683834, \"Avg_Profit\": 10.757515002158083, \"Avg_Total_Cost\": 8.242484997841917, \"Avg_Cancel_Cost\": 6.286287122509503, \"Avg_Delay_Cost\": 1.956197875332414, \"Airport\": \"MCI\"}, {\"Arrived\": 133818, \"Disruption\": 2976.0, \"Total_Flights\": 136794.0, \"Disrupt_Pct\": 2.1755340146497653, \"Avg_Profit\": 8.122329926751174, \"Avg_Total_Cost\": 10.877670073248826, \"Avg_Cancel_Cost\": 7.054402970890536, \"Avg_Delay_Cost\": 3.8232671023582903, \"Airport\": \"IAD\"}, {\"Arrived\": 158151, \"Disruption\": 2293.0, \"Total_Flights\": 160444.0, \"Disrupt_Pct\": 1.4291590835431678, \"Avg_Profit\": 11.854204582284162, \"Avg_Total_Cost\": 7.1457954177158385, \"Avg_Cancel_Cost\": 4.565455859988532, \"Avg_Delay_Cost\": 2.5803395577273065, \"Airport\": \"AUS\"}, {\"Arrived\": 149538, \"Disruption\": 1983.0, \"Total_Flights\": 151521.0, \"Disrupt_Pct\": 1.3087294830419545, \"Avg_Profit\": 12.456352584790228, \"Avg_Total_Cost\": 6.543647415209773, \"Avg_Cancel_Cost\": 5.76157760310452, \"Avg_Delay_Cost\": 0.7820698121052532, \"Airport\": \"OAK\"}, {\"Arrived\": 143789, \"Disruption\": 783.0, \"Total_Flights\": 144572.0, \"Disrupt_Pct\": 0.5415986498077082, \"Avg_Profit\": 16.29200675096146, \"Avg_Total_Cost\": 2.7079932490385414, \"Avg_Cancel_Cost\": 1.3591843510499957, \"Avg_Delay_Cost\": 1.3488088979885458, \"Airport\": \"HNL\"}, {\"Arrived\": 182289, \"Disruption\": 1801.0, \"Total_Flights\": 184090.0, \"Disrupt_Pct\": 0.9783258188929328, \"Avg_Profit\": 14.108370905535336, \"Avg_Total_Cost\": 4.891629094464664, \"Avg_Cancel_Cost\": 3.4656961268944535, \"Avg_Delay_Cost\": 1.4259329675702102, \"Airport\": \"PDX\"}, {\"Arrived\": 174778, \"Disruption\": 2822.0, \"Total_Flights\": 177600.0, \"Disrupt_Pct\": 1.588963963963964, \"Avg_Profit\": 11.05518018018018, \"Avg_Total_Cost\": 7.94481981981982, \"Avg_Cancel_Cost\": 6.089527027027027, \"Avg_Delay_Cost\": 1.8552927927927927, \"Airport\": \"STL\"}, {\"Arrived\": 175993, \"Disruption\": 3030.0, \"Total_Flights\": 179023.0, \"Disrupt_Pct\": 1.6925199555364396, \"Avg_Profit\": 10.537400222317803, \"Avg_Total_Cost\": 8.462599777682197, \"Avg_Cancel_Cost\": 6.147254822006111, \"Avg_Delay_Cost\": 2.3153449556760854, \"Airport\": \"BNA\"}, {\"Arrived\": 162562, \"Disruption\": 3707.0, \"Total_Flights\": 166269.0, \"Disrupt_Pct\": 2.2295196338463574, \"Avg_Profit\": 7.852401830768213, \"Avg_Total_Cost\": 11.147598169231786, \"Avg_Cancel_Cost\": 9.998857273454462, \"Avg_Delay_Cost\": 1.1487408957773244, \"Airport\": \"HOU\"}, {\"Arrived\": 206361, \"Disruption\": 3176.0, \"Total_Flights\": 209537.0, \"Disrupt_Pct\": 1.5157227601807794, \"Avg_Profit\": 11.421386199096103, \"Avg_Total_Cost\": 7.578613800903898, \"Avg_Cancel_Cost\": 6.254265356476422, \"Avg_Delay_Cost\": 1.3243484444274758, \"Airport\": \"DAL\"}, {\"Arrived\": 208168, \"Disruption\": 3801.0, \"Total_Flights\": 211969.0, \"Disrupt_Pct\": 1.7931867395704089, \"Avg_Profit\": 10.034066302147956, \"Avg_Total_Cost\": 8.965933697852044, \"Avg_Cancel_Cost\": 6.517462459133175, \"Avg_Delay_Cost\": 2.448471238718869, \"Airport\": \"TPA\"}, {\"Arrived\": 252932, \"Disruption\": 6614.0, \"Total_Flights\": 259546.0, \"Disrupt_Pct\": 2.548295870481533, \"Avg_Profit\": 6.258520647592334, \"Avg_Total_Cost\": 12.741479352407666, \"Avg_Cancel_Cost\": 10.08877039137571, \"Avg_Delay_Cost\": 2.652708961031955, \"Airport\": \"PHL\"}, {\"Arrived\": 263910, \"Disruption\": 5908.0, \"Total_Flights\": 269818.0, \"Disrupt_Pct\": 2.1896241169973836, \"Avg_Profit\": 8.051879415013083, \"Avg_Total_Cost\": 10.948120584986917, \"Avg_Cancel_Cost\": 8.181440823073332, \"Avg_Delay_Cost\": 2.7666797619135846, \"Airport\": \"FLL\"}, {\"Arrived\": 219636, \"Disruption\": 4765.0, \"Total_Flights\": 224401.0, \"Disrupt_Pct\": 2.123430822500791, \"Avg_Profit\": 8.382845887496044, \"Avg_Total_Cost\": 10.617154112503956, \"Avg_Cancel_Cost\": 7.611374280863276, \"Avg_Delay_Cost\": 3.0057798316406794, \"Airport\": \"MIA\"}, {\"Arrived\": 248037, \"Disruption\": 3491.0, \"Total_Flights\": 251528.0, \"Disrupt_Pct\": 1.3879170509843834, \"Avg_Profit\": 12.060414745078083, \"Avg_Total_Cost\": 6.9395852549219175, \"Avg_Cancel_Cost\": 5.32545084443879, \"Avg_Delay_Cost\": 1.6141344104831274, \"Airport\": \"SAN\"}, {\"Arrived\": 271434, \"Disruption\": 8641.0, \"Total_Flights\": 280075.0, \"Disrupt_Pct\": 3.0852450236543785, \"Avg_Profit\": 3.5737748817281085, \"Avg_Total_Cost\": 15.42622511827189, \"Avg_Cancel_Cost\": 12.600196375970723, \"Avg_Delay_Cost\": 2.826028742301167, \"Airport\": \"DCA\"}, {\"Arrived\": 256556, \"Disruption\": 5643.0, \"Total_Flights\": 262199.0, \"Disrupt_Pct\": 2.152182121213277, \"Avg_Profit\": 8.239089393933615, \"Avg_Total_Cost\": 10.760910606066385, \"Avg_Cancel_Cost\": 9.70446111541234, \"Avg_Delay_Cost\": 1.056449490654046, \"Airport\": \"MDW\"}, {\"Arrived\": 296532, \"Disruption\": 6812.0, \"Total_Flights\": 303344.0, \"Disrupt_Pct\": 2.245635318318477, \"Avg_Profit\": 7.7718234084076165, \"Avg_Total_Cost\": 11.228176591592383, \"Avg_Cancel_Cost\": 9.418350123951685, \"Avg_Delay_Cost\": 1.8098264676406988, \"Airport\": \"BWI\"}, {\"Arrived\": 310049, \"Disruption\": 9292.0, \"Total_Flights\": 319341.0, \"Disrupt_Pct\": 2.9097422504470143, \"Avg_Profit\": 4.451288747764928, \"Avg_Total_Cost\": 14.548711252235071, \"Avg_Cancel_Cost\": 10.50287936719682, \"Avg_Delay_Cost\": 4.04583188503825, \"Airport\": \"JFK\"}, {\"Arrived\": 330825, \"Disruption\": 2377.0, \"Total_Flights\": 333202.0, \"Disrupt_Pct\": 0.7133810721424242, \"Avg_Profit\": 15.43309463928788, \"Avg_Total_Cost\": 3.5669053607121204, \"Avg_Cancel_Cost\": 1.8292207129609066, \"Avg_Delay_Cost\": 1.7376846477512138, \"Airport\": \"SLC\"}, {\"Arrived\": 360490, \"Disruption\": 13400.0, \"Total_Flights\": 373890.0, \"Disrupt_Pct\": 3.5839418010644843, \"Avg_Profit\": 1.080290994677579, \"Avg_Total_Cost\": 17.91970900532242, \"Avg_Cancel_Cost\": 14.27157720185081, \"Avg_Delay_Cost\": 3.6481318034716104, \"Airport\": \"EWR\"}, {\"Arrived\": 438396, \"Disruption\": 9230.0, \"Total_Flights\": 447626.0, \"Disrupt_Pct\": 2.061989249954203, \"Avg_Profit\": 8.690053750228985, \"Avg_Total_Cost\": 10.309946249771015, \"Avg_Cancel_Cost\": 8.673535496150803, \"Avg_Delay_Cost\": 1.6364107536202113, \"Airport\": \"CLT\"}, {\"Arrived\": 340054, \"Disruption\": 15351.0, \"Total_Flights\": 355405.0, \"Disrupt_Pct\": 4.319297702620953, \"Avg_Profit\": -2.596488513104768, \"Avg_Total_Cost\": 21.596488513104767, \"Avg_Cancel_Cost\": 17.579944007540693, \"Avg_Delay_Cost\": 4.016544505564074, \"Airport\": \"LGA\"}, {\"Arrived\": 399393, \"Disruption\": 5851.0, \"Total_Flights\": 405244.0, \"Disrupt_Pct\": 1.443821500133253, \"Avg_Profit\": 11.780892499333735, \"Avg_Total_Cost\": 7.219107500666265, \"Avg_Cancel_Cost\": 4.608334731667834, \"Avg_Delay_Cost\": 2.610772768998431, \"Airport\": \"DTW\"}, {\"Arrived\": 382091, \"Disruption\": 10283.0, \"Total_Flights\": 392374.0, \"Disrupt_Pct\": 2.620713910707641, \"Avg_Profit\": 5.896430446461794, \"Avg_Total_Cost\": 13.103569553538206, \"Avg_Cancel_Cost\": 10.247875751196563, \"Avg_Delay_Cost\": 2.8556938023416425, \"Airport\": \"BOS\"}, {\"Arrived\": 386358, \"Disruption\": 8073.0, \"Total_Flights\": 394431.0, \"Disrupt_Pct\": 2.0467458186602983, \"Avg_Profit\": 8.76627090669851, \"Avg_Total_Cost\": 10.23372909330149, \"Avg_Cancel_Cost\": 7.111509997946409, \"Avg_Delay_Cost\": 3.1222190953550806, \"Airport\": \"MCO\"}, {\"Arrived\": 406418, \"Disruption\": 3068.0, \"Total_Flights\": 409486.0, \"Disrupt_Pct\": 0.7492319639743483, \"Avg_Profit\": 15.253840180128257, \"Avg_Total_Cost\": 3.7461598198717416, \"Avg_Cancel_Cost\": 2.4872645218639953, \"Avg_Delay_Cost\": 1.2588952980077464, \"Airport\": \"SEA\"}, {\"Arrived\": 415600, \"Disruption\": 5079.0, \"Total_Flights\": 420679.0, \"Disrupt_Pct\": 1.207333857882138, \"Avg_Profit\": 12.96333071058931, \"Avg_Total_Cost\": 6.036669289410691, \"Avg_Cancel_Cost\": 3.9531329113171805, \"Avg_Delay_Cost\": 2.0835363780935103, \"Airport\": \"MSP\"}, {\"Arrived\": 457355, \"Disruption\": 5441.0, \"Total_Flights\": 462796.0, \"Disrupt_Pct\": 1.1756799972342025, \"Avg_Profit\": 13.121600013828987, \"Avg_Total_Cost\": 5.878399986171012, \"Avg_Cancel_Cost\": 4.122766834631242, \"Avg_Delay_Cost\": 1.7556331515397705, \"Airport\": \"LAS\"}, {\"Arrived\": 481886, \"Disruption\": 4257.0, \"Total_Flights\": 486143.0, \"Disrupt_Pct\": 0.8756682704471729, \"Avg_Profit\": 14.621658647764136, \"Avg_Total_Cost\": 4.378341352235865, \"Avg_Cancel_Cost\": 3.2336164461897012, \"Avg_Delay_Cost\": 1.144724906046164, \"Airport\": \"PHX\"}, {\"Arrived\": 511749, \"Disruption\": 10644.0, \"Total_Flights\": 522393.0, \"Disrupt_Pct\": 2.0375464449179064, \"Avg_Profit\": 8.812267775410467, \"Avg_Total_Cost\": 10.187732224589533, \"Avg_Cancel_Cost\": 7.95665332422142, \"Avg_Delay_Cost\": 2.2310789003681135, \"Airport\": \"SFO\"}, {\"Arrived\": 429125, \"Disruption\": 8767.0, \"Total_Flights\": 437892.0, \"Disrupt_Pct\": 2.002091839997077, \"Avg_Profit\": 8.989540800014616, \"Avg_Total_Cost\": 10.010459199985384, \"Avg_Cancel_Cost\": 8.030518940743379, \"Avg_Delay_Cost\": 1.9799402592420048, \"Airport\": \"IAH\"}, {\"Arrived\": 638886, \"Disruption\": 8586.0, \"Total_Flights\": 647472.0, \"Disrupt_Pct\": 1.326080510045222, \"Avg_Profit\": 12.36959744977389, \"Avg_Total_Cost\": 6.63040255022611, \"Avg_Cancel_Cost\": 4.618732547507846, \"Avg_Delay_Cost\": 2.0116700027182643, \"Airport\": \"LAX\"}, {\"Arrived\": 675476, \"Disruption\": 8887.0, \"Total_Flights\": 684363.0, \"Disrupt_Pct\": 1.29857984724481, \"Avg_Profit\": 12.507100763775949, \"Avg_Total_Cost\": 6.4928992362240505, \"Avg_Cancel_Cost\": 4.7862026439185055, \"Avg_Delay_Cost\": 1.706696592305545, \"Airport\": \"DEN\"}, {\"Arrived\": 641851, \"Disruption\": 12432.0, \"Total_Flights\": 654283.0, \"Disrupt_Pct\": 1.9000952187356237, \"Avg_Profit\": 9.499523906321881, \"Avg_Total_Cost\": 9.500476093678119, \"Avg_Cancel_Cost\": 7.262148030745106, \"Avg_Delay_Cost\": 2.2383280629330127, \"Airport\": \"DFW\"}, {\"Arrived\": 821472, \"Disruption\": 19963.0, \"Total_Flights\": 841435.0, \"Disrupt_Pct\": 2.3724946074265985, \"Avg_Profit\": 7.137526962867007, \"Avg_Total_Cost\": 11.862473037132993, \"Avg_Cancel_Cost\": 9.18549858277823, \"Avg_Delay_Cost\": 2.676974454354763, \"Airport\": \"ORD\"}, {\"Arrived\": 1123520, \"Disruption\": 15147.0, \"Total_Flights\": 1138667.0, \"Disrupt_Pct\": 1.3302396574239879, \"Avg_Profit\": 12.34880171288006, \"Avg_Total_Cost\": 6.651198287119939, \"Avg_Cancel_Cost\": 4.5513745458505435, \"Avg_Delay_Cost\": 2.099823741269396, \"Airport\": \"ATL\"}]}};\n",
              "      var embedOpt = {\"mode\": \"vega-lite\"};\n",
              "\n",
              "      function showError(el, error){\n",
              "          el.innerHTML = ('<div class=\"error\" style=\"color:red;\">'\n",
              "                          + '<p>JavaScript Error: ' + error.message + '</p>'\n",
              "                          + \"<p>This usually means there's a typo in your chart specification. \"\n",
              "                          + \"See the javascript console for the full traceback.</p>\"\n",
              "                          + '</div>');\n",
              "          throw error;\n",
              "      }\n",
              "      const el = document.getElementById('altair-viz');\n",
              "      vegaEmbed(\"#altair-viz\", spec, embedOpt)\n",
              "        .catch(error => showError(el, error));\n",
              "\n",
              "  </script>\n",
              "</body>\n",
              "</html>"
            ]
          },
          "metadata": {
            "tags": []
          },
          "execution_count": 65
        }
      ]
    },
    {
      "metadata": {
        "id": "1rooQJatEWzt",
        "colab_type": "code",
        "outputId": "f435fa20-930b-4ea9-a7e3-154ce134d8ae",
        "colab": {
          "base_uri": "https://localhost:8080/",
          "height": 573
        }
      },
      "cell_type": "code",
      "source": [
        "airport_stats_alt_origin(origin_df, 'Avg_Cancel_Cost', 'Average Costs Attributable to Cancellations per Customer')"
      ],
      "execution_count": 0,
      "outputs": [
        {
          "output_type": "execute_result",
          "data": {
            "text/plain": [
              "Chart({\n",
              "  config: Config({\n",
              "    axis: AxisConfig({\n",
              "      labelFontSize: 12,\n",
              "      titleFontSize: 12\n",
              "    }),\n",
              "    title: VgTitleConfig({\n",
              "      fontSize: 24\n",
              "    })\n",
              "  }),\n",
              "  data:         Arrived  Disruption  Total_Flights  Disrupt_Pct  Avg_Profit  \\\n",
              "  Origin                                                                \n",
              "  287      131300    1346.000     132646.000        1.015      13.926   \n",
              "  288      142813    2374.000     145187.000        1.635      10.824   \n",
              "  289      142900    1660.000     144560.000        1.148      13.258   \n",
              "  290      141278    2368.000     143646.000        1.648      10.758   \n",
              "  291      133818    2976.000     136794.000        2.176       8.122   \n",
              "  292      158151    2293.000     160444.000        1.429      11.854   \n",
              "  293      149538    1983.000     151521.000        1.309      12.456   \n",
              "  294      143789     783.000     144572.000        0.542      16.292   \n",
              "  295      182289    1801.000     184090.000        0.978      14.108   \n",
              "  296      174778    2822.000     177600.000        1.589      11.055   \n",
              "  297      175993    3030.000     179023.000        1.693      10.537   \n",
              "  298      162562    3707.000     166269.000        2.230       7.852   \n",
              "  299      206361    3176.000     209537.000        1.516      11.421   \n",
              "  300      208168    3801.000     211969.000        1.793      10.034   \n",
              "  301      252932    6614.000     259546.000        2.548       6.259   \n",
              "  302      263910    5908.000     269818.000        2.190       8.052   \n",
              "  303      219636    4765.000     224401.000        2.123       8.383   \n",
              "  304      248037    3491.000     251528.000        1.388      12.060   \n",
              "  305      271434    8641.000     280075.000        3.085       3.574   \n",
              "  306      256556    5643.000     262199.000        2.152       8.239   \n",
              "  307      296532    6812.000     303344.000        2.246       7.772   \n",
              "  308      310049    9292.000     319341.000        2.910       4.451   \n",
              "  309      330825    2377.000     333202.000        0.713      15.433   \n",
              "  310      360490   13400.000     373890.000        3.584       1.080   \n",
              "  311      438396    9230.000     447626.000        2.062       8.690   \n",
              "  312      340054   15351.000     355405.000        4.319      -2.596   \n",
              "  313      399393    5851.000     405244.000        1.444      11.781   \n",
              "  314      382091   10283.000     392374.000        2.621       5.896   \n",
              "  315      386358    8073.000     394431.000        2.047       8.766   \n",
              "  316      406418    3068.000     409486.000        0.749      15.254   \n",
              "  317      415600    5079.000     420679.000        1.207      12.963   \n",
              "  318      457355    5441.000     462796.000        1.176      13.122   \n",
              "  319      481886    4257.000     486143.000        0.876      14.622   \n",
              "  320      511749   10644.000     522393.000        2.038       8.812   \n",
              "  321      429125    8767.000     437892.000        2.002       8.990   \n",
              "  322      638886    8586.000     647472.000        1.326      12.370   \n",
              "  323      675476    8887.000     684363.000        1.299      12.507   \n",
              "  324      641851   12432.000     654283.000        1.900       9.500   \n",
              "  325      821472   19963.000     841435.000        2.372       7.138   \n",
              "  326     1123520   15147.000    1138667.000        1.330      12.349   \n",
              "  \n",
              "          Avg_Total_Cost  Avg_Cancel_Cost  Avg_Delay_Cost Airport  \n",
              "  Origin                                                           \n",
              "  287              5.074            3.777           1.297     SMF  \n",
              "  288              8.176            5.848           2.328     MSY  \n",
              "  289              5.742            4.441           1.300     SJC  \n",
              "  290              8.242            6.286           1.956     MCI  \n",
              "  291             10.878            7.054           3.823     IAD  \n",
              "  292              7.146            4.565           2.580     AUS  \n",
              "  293              6.544            5.762           0.782     OAK  \n",
              "  294              2.708            1.359           1.349     HNL  \n",
              "  295              4.892            3.466           1.426     PDX  \n",
              "  296              7.945            6.090           1.855     STL  \n",
              "  297              8.463            6.147           2.315     BNA  \n",
              "  298             11.148            9.999           1.149     HOU  \n",
              "  299              7.579            6.254           1.324     DAL  \n",
              "  300              8.966            6.517           2.448     TPA  \n",
              "  301             12.741           10.089           2.653     PHL  \n",
              "  302             10.948            8.181           2.767     FLL  \n",
              "  303             10.617            7.611           3.006     MIA  \n",
              "  304              6.940            5.325           1.614     SAN  \n",
              "  305             15.426           12.600           2.826     DCA  \n",
              "  306             10.761            9.704           1.056     MDW  \n",
              "  307             11.228            9.418           1.810     BWI  \n",
              "  308             14.549           10.503           4.046     JFK  \n",
              "  309              3.567            1.829           1.738     SLC  \n",
              "  310             17.920           14.272           3.648     EWR  \n",
              "  311             10.310            8.674           1.636     CLT  \n",
              "  312             21.596           17.580           4.017     LGA  \n",
              "  313              7.219            4.608           2.611     DTW  \n",
              "  314             13.104           10.248           2.856     BOS  \n",
              "  315             10.234            7.112           3.122     MCO  \n",
              "  316              3.746            2.487           1.259     SEA  \n",
              "  317              6.037            3.953           2.084     MSP  \n",
              "  318              5.878            4.123           1.756     LAS  \n",
              "  319              4.378            3.234           1.145     PHX  \n",
              "  320             10.188            7.957           2.231     SFO  \n",
              "  321             10.010            8.031           1.980     IAH  \n",
              "  322              6.630            4.619           2.012     LAX  \n",
              "  323              6.493            4.786           1.707     DEN  \n",
              "  324              9.500            7.262           2.238     DFW  \n",
              "  325             11.862            9.185           2.677     ORD  \n",
              "  326              6.651            4.551           2.100     ATL  ,\n",
              "  encoding: EncodingWithFacet({\n",
              "    color: Color({\n",
              "      legend: None,\n",
              "      shorthand: 'Airport'\n",
              "    }),\n",
              "    x: X({\n",
              "      shorthand: 'Airport'\n",
              "    }),\n",
              "    y: Y({\n",
              "      shorthand: 'Avg_Cancel_Cost'\n",
              "    })\n",
              "  }),\n",
              "  height: 450,\n",
              "  mark: 'bar',\n",
              "  title: 'Average Costs Attributable to Cancellations per Customer',\n",
              "  width: 1100\n",
              "})"
            ],
            "text/html": [
              "<!DOCTYPE html>\n",
              "<html>\n",
              "<head>\n",
              "  <style>\n",
              "    .vega-actions a {\n",
              "        margin-right: 12px;\n",
              "        color: #757575;\n",
              "        font-weight: normal;\n",
              "        font-size: 13px;\n",
              "    }\n",
              "    .error {\n",
              "        color: red;\n",
              "    }\n",
              "  </style>\n",
              "  <script type=\"text/javascript\" src=\"https://cdn.jsdelivr.net/npm//vega@4\"></script>\n",
              "  <script type=\"text/javascript\" src=\"https://cdn.jsdelivr.net/npm//vega-lite@2.6.0\"></script>\n",
              "  <script type=\"text/javascript\" src=\"https://cdn.jsdelivr.net/npm//vega-embed@3\"></script>\n",
              "</head>\n",
              "<body>\n",
              "  <div id=\"altair-viz\"></div>\n",
              "  <script>\n",
              "      var spec = {\"config\": {\"view\": {\"width\": 400, \"height\": 300}, \"axis\": {\"labelFontSize\": 12, \"titleFontSize\": 12}, \"title\": {\"fontSize\": 24}}, \"data\": {\"name\": \"data-cbae799cd044dde94248bb0666e12792\"}, \"mark\": \"bar\", \"encoding\": {\"color\": {\"type\": \"nominal\", \"field\": \"Airport\", \"legend\": null}, \"x\": {\"type\": \"nominal\", \"field\": \"Airport\"}, \"y\": {\"type\": \"quantitative\", \"field\": \"Avg_Cancel_Cost\"}}, \"height\": 450, \"title\": \"Average Costs Attributable to Cancellations per Customer\", \"width\": 1100, \"$schema\": \"https://vega.github.io/schema/vega-lite/v2.6.0.json\", \"datasets\": {\"data-cbae799cd044dde94248bb0666e12792\": [{\"Arrived\": 131300, \"Disruption\": 1346.0, \"Total_Flights\": 132646.0, \"Disrupt_Pct\": 1.0147309379853142, \"Avg_Profit\": 13.926345310073428, \"Avg_Total_Cost\": 5.073654689926571, \"Avg_Cancel_Cost\": 3.7769702818026927, \"Avg_Delay_Cost\": 1.2966844081238786, \"Airport\": \"SMF\"}, {\"Arrived\": 142813, \"Disruption\": 2374.0, \"Total_Flights\": 145187.0, \"Disrupt_Pct\": 1.635132622066714, \"Avg_Profit\": 10.82433688966643, \"Avg_Total_Cost\": 8.17566311033357, \"Avg_Cancel_Cost\": 5.847630986245325, \"Avg_Delay_Cost\": 2.328032124088245, \"Airport\": \"MSY\"}, {\"Arrived\": 142900, \"Disruption\": 1660.0, \"Total_Flights\": 144560.0, \"Disrupt_Pct\": 1.1483121195351411, \"Avg_Profit\": 13.258439402324294, \"Avg_Total_Cost\": 5.741560597675705, \"Avg_Cancel_Cost\": 4.441062534587714, \"Avg_Delay_Cost\": 1.300498063087991, \"Airport\": \"SJC\"}, {\"Arrived\": 141278, \"Disruption\": 2368.0, \"Total_Flights\": 143646.0, \"Disrupt_Pct\": 1.6484969995683834, \"Avg_Profit\": 10.757515002158083, \"Avg_Total_Cost\": 8.242484997841917, \"Avg_Cancel_Cost\": 6.286287122509503, \"Avg_Delay_Cost\": 1.956197875332414, \"Airport\": \"MCI\"}, {\"Arrived\": 133818, \"Disruption\": 2976.0, \"Total_Flights\": 136794.0, \"Disrupt_Pct\": 2.1755340146497653, \"Avg_Profit\": 8.122329926751174, \"Avg_Total_Cost\": 10.877670073248826, \"Avg_Cancel_Cost\": 7.054402970890536, \"Avg_Delay_Cost\": 3.8232671023582903, \"Airport\": \"IAD\"}, {\"Arrived\": 158151, \"Disruption\": 2293.0, \"Total_Flights\": 160444.0, \"Disrupt_Pct\": 1.4291590835431678, \"Avg_Profit\": 11.854204582284162, \"Avg_Total_Cost\": 7.1457954177158385, \"Avg_Cancel_Cost\": 4.565455859988532, \"Avg_Delay_Cost\": 2.5803395577273065, \"Airport\": \"AUS\"}, {\"Arrived\": 149538, \"Disruption\": 1983.0, \"Total_Flights\": 151521.0, \"Disrupt_Pct\": 1.3087294830419545, \"Avg_Profit\": 12.456352584790228, \"Avg_Total_Cost\": 6.543647415209773, \"Avg_Cancel_Cost\": 5.76157760310452, \"Avg_Delay_Cost\": 0.7820698121052532, \"Airport\": \"OAK\"}, {\"Arrived\": 143789, \"Disruption\": 783.0, \"Total_Flights\": 144572.0, \"Disrupt_Pct\": 0.5415986498077082, \"Avg_Profit\": 16.29200675096146, \"Avg_Total_Cost\": 2.7079932490385414, \"Avg_Cancel_Cost\": 1.3591843510499957, \"Avg_Delay_Cost\": 1.3488088979885458, \"Airport\": \"HNL\"}, {\"Arrived\": 182289, \"Disruption\": 1801.0, \"Total_Flights\": 184090.0, \"Disrupt_Pct\": 0.9783258188929328, \"Avg_Profit\": 14.108370905535336, \"Avg_Total_Cost\": 4.891629094464664, \"Avg_Cancel_Cost\": 3.4656961268944535, \"Avg_Delay_Cost\": 1.4259329675702102, \"Airport\": \"PDX\"}, {\"Arrived\": 174778, \"Disruption\": 2822.0, \"Total_Flights\": 177600.0, \"Disrupt_Pct\": 1.588963963963964, \"Avg_Profit\": 11.05518018018018, \"Avg_Total_Cost\": 7.94481981981982, \"Avg_Cancel_Cost\": 6.089527027027027, \"Avg_Delay_Cost\": 1.8552927927927927, \"Airport\": \"STL\"}, {\"Arrived\": 175993, \"Disruption\": 3030.0, \"Total_Flights\": 179023.0, \"Disrupt_Pct\": 1.6925199555364396, \"Avg_Profit\": 10.537400222317803, \"Avg_Total_Cost\": 8.462599777682197, \"Avg_Cancel_Cost\": 6.147254822006111, \"Avg_Delay_Cost\": 2.3153449556760854, \"Airport\": \"BNA\"}, {\"Arrived\": 162562, \"Disruption\": 3707.0, \"Total_Flights\": 166269.0, \"Disrupt_Pct\": 2.2295196338463574, \"Avg_Profit\": 7.852401830768213, \"Avg_Total_Cost\": 11.147598169231786, \"Avg_Cancel_Cost\": 9.998857273454462, \"Avg_Delay_Cost\": 1.1487408957773244, \"Airport\": \"HOU\"}, {\"Arrived\": 206361, \"Disruption\": 3176.0, \"Total_Flights\": 209537.0, \"Disrupt_Pct\": 1.5157227601807794, \"Avg_Profit\": 11.421386199096103, \"Avg_Total_Cost\": 7.578613800903898, \"Avg_Cancel_Cost\": 6.254265356476422, \"Avg_Delay_Cost\": 1.3243484444274758, \"Airport\": \"DAL\"}, {\"Arrived\": 208168, \"Disruption\": 3801.0, \"Total_Flights\": 211969.0, \"Disrupt_Pct\": 1.7931867395704089, \"Avg_Profit\": 10.034066302147956, \"Avg_Total_Cost\": 8.965933697852044, \"Avg_Cancel_Cost\": 6.517462459133175, \"Avg_Delay_Cost\": 2.448471238718869, \"Airport\": \"TPA\"}, {\"Arrived\": 252932, \"Disruption\": 6614.0, \"Total_Flights\": 259546.0, \"Disrupt_Pct\": 2.548295870481533, \"Avg_Profit\": 6.258520647592334, \"Avg_Total_Cost\": 12.741479352407666, \"Avg_Cancel_Cost\": 10.08877039137571, \"Avg_Delay_Cost\": 2.652708961031955, \"Airport\": \"PHL\"}, {\"Arrived\": 263910, \"Disruption\": 5908.0, \"Total_Flights\": 269818.0, \"Disrupt_Pct\": 2.1896241169973836, \"Avg_Profit\": 8.051879415013083, \"Avg_Total_Cost\": 10.948120584986917, \"Avg_Cancel_Cost\": 8.181440823073332, \"Avg_Delay_Cost\": 2.7666797619135846, \"Airport\": \"FLL\"}, {\"Arrived\": 219636, \"Disruption\": 4765.0, \"Total_Flights\": 224401.0, \"Disrupt_Pct\": 2.123430822500791, \"Avg_Profit\": 8.382845887496044, \"Avg_Total_Cost\": 10.617154112503956, \"Avg_Cancel_Cost\": 7.611374280863276, \"Avg_Delay_Cost\": 3.0057798316406794, \"Airport\": \"MIA\"}, {\"Arrived\": 248037, \"Disruption\": 3491.0, \"Total_Flights\": 251528.0, \"Disrupt_Pct\": 1.3879170509843834, \"Avg_Profit\": 12.060414745078083, \"Avg_Total_Cost\": 6.9395852549219175, \"Avg_Cancel_Cost\": 5.32545084443879, \"Avg_Delay_Cost\": 1.6141344104831274, \"Airport\": \"SAN\"}, {\"Arrived\": 271434, \"Disruption\": 8641.0, \"Total_Flights\": 280075.0, \"Disrupt_Pct\": 3.0852450236543785, \"Avg_Profit\": 3.5737748817281085, \"Avg_Total_Cost\": 15.42622511827189, \"Avg_Cancel_Cost\": 12.600196375970723, \"Avg_Delay_Cost\": 2.826028742301167, \"Airport\": \"DCA\"}, {\"Arrived\": 256556, \"Disruption\": 5643.0, \"Total_Flights\": 262199.0, \"Disrupt_Pct\": 2.152182121213277, \"Avg_Profit\": 8.239089393933615, \"Avg_Total_Cost\": 10.760910606066385, \"Avg_Cancel_Cost\": 9.70446111541234, \"Avg_Delay_Cost\": 1.056449490654046, \"Airport\": \"MDW\"}, {\"Arrived\": 296532, \"Disruption\": 6812.0, \"Total_Flights\": 303344.0, \"Disrupt_Pct\": 2.245635318318477, \"Avg_Profit\": 7.7718234084076165, \"Avg_Total_Cost\": 11.228176591592383, \"Avg_Cancel_Cost\": 9.418350123951685, \"Avg_Delay_Cost\": 1.8098264676406988, \"Airport\": \"BWI\"}, {\"Arrived\": 310049, \"Disruption\": 9292.0, \"Total_Flights\": 319341.0, \"Disrupt_Pct\": 2.9097422504470143, \"Avg_Profit\": 4.451288747764928, \"Avg_Total_Cost\": 14.548711252235071, \"Avg_Cancel_Cost\": 10.50287936719682, \"Avg_Delay_Cost\": 4.04583188503825, \"Airport\": \"JFK\"}, {\"Arrived\": 330825, \"Disruption\": 2377.0, \"Total_Flights\": 333202.0, \"Disrupt_Pct\": 0.7133810721424242, \"Avg_Profit\": 15.43309463928788, \"Avg_Total_Cost\": 3.5669053607121204, \"Avg_Cancel_Cost\": 1.8292207129609066, \"Avg_Delay_Cost\": 1.7376846477512138, \"Airport\": \"SLC\"}, {\"Arrived\": 360490, \"Disruption\": 13400.0, \"Total_Flights\": 373890.0, \"Disrupt_Pct\": 3.5839418010644843, \"Avg_Profit\": 1.080290994677579, \"Avg_Total_Cost\": 17.91970900532242, \"Avg_Cancel_Cost\": 14.27157720185081, \"Avg_Delay_Cost\": 3.6481318034716104, \"Airport\": \"EWR\"}, {\"Arrived\": 438396, \"Disruption\": 9230.0, \"Total_Flights\": 447626.0, \"Disrupt_Pct\": 2.061989249954203, \"Avg_Profit\": 8.690053750228985, \"Avg_Total_Cost\": 10.309946249771015, \"Avg_Cancel_Cost\": 8.673535496150803, \"Avg_Delay_Cost\": 1.6364107536202113, \"Airport\": \"CLT\"}, {\"Arrived\": 340054, \"Disruption\": 15351.0, \"Total_Flights\": 355405.0, \"Disrupt_Pct\": 4.319297702620953, \"Avg_Profit\": -2.596488513104768, \"Avg_Total_Cost\": 21.596488513104767, \"Avg_Cancel_Cost\": 17.579944007540693, \"Avg_Delay_Cost\": 4.016544505564074, \"Airport\": \"LGA\"}, {\"Arrived\": 399393, \"Disruption\": 5851.0, \"Total_Flights\": 405244.0, \"Disrupt_Pct\": 1.443821500133253, \"Avg_Profit\": 11.780892499333735, \"Avg_Total_Cost\": 7.219107500666265, \"Avg_Cancel_Cost\": 4.608334731667834, \"Avg_Delay_Cost\": 2.610772768998431, \"Airport\": \"DTW\"}, {\"Arrived\": 382091, \"Disruption\": 10283.0, \"Total_Flights\": 392374.0, \"Disrupt_Pct\": 2.620713910707641, \"Avg_Profit\": 5.896430446461794, \"Avg_Total_Cost\": 13.103569553538206, \"Avg_Cancel_Cost\": 10.247875751196563, \"Avg_Delay_Cost\": 2.8556938023416425, \"Airport\": \"BOS\"}, {\"Arrived\": 386358, \"Disruption\": 8073.0, \"Total_Flights\": 394431.0, \"Disrupt_Pct\": 2.0467458186602983, \"Avg_Profit\": 8.76627090669851, \"Avg_Total_Cost\": 10.23372909330149, \"Avg_Cancel_Cost\": 7.111509997946409, \"Avg_Delay_Cost\": 3.1222190953550806, \"Airport\": \"MCO\"}, {\"Arrived\": 406418, \"Disruption\": 3068.0, \"Total_Flights\": 409486.0, \"Disrupt_Pct\": 0.7492319639743483, \"Avg_Profit\": 15.253840180128257, \"Avg_Total_Cost\": 3.7461598198717416, \"Avg_Cancel_Cost\": 2.4872645218639953, \"Avg_Delay_Cost\": 1.2588952980077464, \"Airport\": \"SEA\"}, {\"Arrived\": 415600, \"Disruption\": 5079.0, \"Total_Flights\": 420679.0, \"Disrupt_Pct\": 1.207333857882138, \"Avg_Profit\": 12.96333071058931, \"Avg_Total_Cost\": 6.036669289410691, \"Avg_Cancel_Cost\": 3.9531329113171805, \"Avg_Delay_Cost\": 2.0835363780935103, \"Airport\": \"MSP\"}, {\"Arrived\": 457355, \"Disruption\": 5441.0, \"Total_Flights\": 462796.0, \"Disrupt_Pct\": 1.1756799972342025, \"Avg_Profit\": 13.121600013828987, \"Avg_Total_Cost\": 5.878399986171012, \"Avg_Cancel_Cost\": 4.122766834631242, \"Avg_Delay_Cost\": 1.7556331515397705, \"Airport\": \"LAS\"}, {\"Arrived\": 481886, \"Disruption\": 4257.0, \"Total_Flights\": 486143.0, \"Disrupt_Pct\": 0.8756682704471729, \"Avg_Profit\": 14.621658647764136, \"Avg_Total_Cost\": 4.378341352235865, \"Avg_Cancel_Cost\": 3.2336164461897012, \"Avg_Delay_Cost\": 1.144724906046164, \"Airport\": \"PHX\"}, {\"Arrived\": 511749, \"Disruption\": 10644.0, \"Total_Flights\": 522393.0, \"Disrupt_Pct\": 2.0375464449179064, \"Avg_Profit\": 8.812267775410467, \"Avg_Total_Cost\": 10.187732224589533, \"Avg_Cancel_Cost\": 7.95665332422142, \"Avg_Delay_Cost\": 2.2310789003681135, \"Airport\": \"SFO\"}, {\"Arrived\": 429125, \"Disruption\": 8767.0, \"Total_Flights\": 437892.0, \"Disrupt_Pct\": 2.002091839997077, \"Avg_Profit\": 8.989540800014616, \"Avg_Total_Cost\": 10.010459199985384, \"Avg_Cancel_Cost\": 8.030518940743379, \"Avg_Delay_Cost\": 1.9799402592420048, \"Airport\": \"IAH\"}, {\"Arrived\": 638886, \"Disruption\": 8586.0, \"Total_Flights\": 647472.0, \"Disrupt_Pct\": 1.326080510045222, \"Avg_Profit\": 12.36959744977389, \"Avg_Total_Cost\": 6.63040255022611, \"Avg_Cancel_Cost\": 4.618732547507846, \"Avg_Delay_Cost\": 2.0116700027182643, \"Airport\": \"LAX\"}, {\"Arrived\": 675476, \"Disruption\": 8887.0, \"Total_Flights\": 684363.0, \"Disrupt_Pct\": 1.29857984724481, \"Avg_Profit\": 12.507100763775949, \"Avg_Total_Cost\": 6.4928992362240505, \"Avg_Cancel_Cost\": 4.7862026439185055, \"Avg_Delay_Cost\": 1.706696592305545, \"Airport\": \"DEN\"}, {\"Arrived\": 641851, \"Disruption\": 12432.0, \"Total_Flights\": 654283.0, \"Disrupt_Pct\": 1.9000952187356237, \"Avg_Profit\": 9.499523906321881, \"Avg_Total_Cost\": 9.500476093678119, \"Avg_Cancel_Cost\": 7.262148030745106, \"Avg_Delay_Cost\": 2.2383280629330127, \"Airport\": \"DFW\"}, {\"Arrived\": 821472, \"Disruption\": 19963.0, \"Total_Flights\": 841435.0, \"Disrupt_Pct\": 2.3724946074265985, \"Avg_Profit\": 7.137526962867007, \"Avg_Total_Cost\": 11.862473037132993, \"Avg_Cancel_Cost\": 9.18549858277823, \"Avg_Delay_Cost\": 2.676974454354763, \"Airport\": \"ORD\"}, {\"Arrived\": 1123520, \"Disruption\": 15147.0, \"Total_Flights\": 1138667.0, \"Disrupt_Pct\": 1.3302396574239879, \"Avg_Profit\": 12.34880171288006, \"Avg_Total_Cost\": 6.651198287119939, \"Avg_Cancel_Cost\": 4.5513745458505435, \"Avg_Delay_Cost\": 2.099823741269396, \"Airport\": \"ATL\"}]}};\n",
              "      var embedOpt = {\"mode\": \"vega-lite\"};\n",
              "\n",
              "      function showError(el, error){\n",
              "          el.innerHTML = ('<div class=\"error\" style=\"color:red;\">'\n",
              "                          + '<p>JavaScript Error: ' + error.message + '</p>'\n",
              "                          + \"<p>This usually means there's a typo in your chart specification. \"\n",
              "                          + \"See the javascript console for the full traceback.</p>\"\n",
              "                          + '</div>');\n",
              "          throw error;\n",
              "      }\n",
              "      const el = document.getElementById('altair-viz');\n",
              "      vegaEmbed(\"#altair-viz\", spec, embedOpt)\n",
              "        .catch(error => showError(el, error));\n",
              "\n",
              "  </script>\n",
              "</body>\n",
              "</html>"
            ]
          },
          "metadata": {
            "tags": []
          },
          "execution_count": 67
        }
      ]
    },
    {
      "metadata": {
        "colab_type": "code",
        "outputId": "e44b7850-69bb-44a4-f5bf-536099538c10",
        "id": "PVxeFnczEvkw",
        "colab": {
          "base_uri": "https://localhost:8080/",
          "height": 573
        }
      },
      "cell_type": "code",
      "source": [
        "# average delay costs\n",
        "airport_stats_alt_origin(origin_df, 'Avg_Delay_Cost', 'Average Costs Attributable to Delays per Customer')"
      ],
      "execution_count": 0,
      "outputs": [
        {
          "output_type": "execute_result",
          "data": {
            "text/plain": [
              "Chart({\n",
              "  config: Config({\n",
              "    axis: AxisConfig({\n",
              "      labelFontSize: 12,\n",
              "      titleFontSize: 12\n",
              "    }),\n",
              "    title: VgTitleConfig({\n",
              "      fontSize: 24\n",
              "    })\n",
              "  }),\n",
              "  data:         Arrived  Disruption  Total_Flights  Disrupt_Pct  Avg_Profit  \\\n",
              "  Origin                                                                \n",
              "  287      131300    1346.000     132646.000        1.015      13.926   \n",
              "  288      142813    2374.000     145187.000        1.635      10.824   \n",
              "  289      142900    1660.000     144560.000        1.148      13.258   \n",
              "  290      141278    2368.000     143646.000        1.648      10.758   \n",
              "  291      133818    2976.000     136794.000        2.176       8.122   \n",
              "  292      158151    2293.000     160444.000        1.429      11.854   \n",
              "  293      149538    1983.000     151521.000        1.309      12.456   \n",
              "  294      143789     783.000     144572.000        0.542      16.292   \n",
              "  295      182289    1801.000     184090.000        0.978      14.108   \n",
              "  296      174778    2822.000     177600.000        1.589      11.055   \n",
              "  297      175993    3030.000     179023.000        1.693      10.537   \n",
              "  298      162562    3707.000     166269.000        2.230       7.852   \n",
              "  299      206361    3176.000     209537.000        1.516      11.421   \n",
              "  300      208168    3801.000     211969.000        1.793      10.034   \n",
              "  301      252932    6614.000     259546.000        2.548       6.259   \n",
              "  302      263910    5908.000     269818.000        2.190       8.052   \n",
              "  303      219636    4765.000     224401.000        2.123       8.383   \n",
              "  304      248037    3491.000     251528.000        1.388      12.060   \n",
              "  305      271434    8641.000     280075.000        3.085       3.574   \n",
              "  306      256556    5643.000     262199.000        2.152       8.239   \n",
              "  307      296532    6812.000     303344.000        2.246       7.772   \n",
              "  308      310049    9292.000     319341.000        2.910       4.451   \n",
              "  309      330825    2377.000     333202.000        0.713      15.433   \n",
              "  310      360490   13400.000     373890.000        3.584       1.080   \n",
              "  311      438396    9230.000     447626.000        2.062       8.690   \n",
              "  312      340054   15351.000     355405.000        4.319      -2.596   \n",
              "  313      399393    5851.000     405244.000        1.444      11.781   \n",
              "  314      382091   10283.000     392374.000        2.621       5.896   \n",
              "  315      386358    8073.000     394431.000        2.047       8.766   \n",
              "  316      406418    3068.000     409486.000        0.749      15.254   \n",
              "  317      415600    5079.000     420679.000        1.207      12.963   \n",
              "  318      457355    5441.000     462796.000        1.176      13.122   \n",
              "  319      481886    4257.000     486143.000        0.876      14.622   \n",
              "  320      511749   10644.000     522393.000        2.038       8.812   \n",
              "  321      429125    8767.000     437892.000        2.002       8.990   \n",
              "  322      638886    8586.000     647472.000        1.326      12.370   \n",
              "  323      675476    8887.000     684363.000        1.299      12.507   \n",
              "  324      641851   12432.000     654283.000        1.900       9.500   \n",
              "  325      821472   19963.000     841435.000        2.372       7.138   \n",
              "  326     1123520   15147.000    1138667.000        1.330      12.349   \n",
              "  \n",
              "          Avg_Total_Cost  Avg_Cancel_Cost  Avg_Delay_Cost Airport  \n",
              "  Origin                                                           \n",
              "  287              5.074            3.777           1.297     SMF  \n",
              "  288              8.176            5.848           2.328     MSY  \n",
              "  289              5.742            4.441           1.300     SJC  \n",
              "  290              8.242            6.286           1.956     MCI  \n",
              "  291             10.878            7.054           3.823     IAD  \n",
              "  292              7.146            4.565           2.580     AUS  \n",
              "  293              6.544            5.762           0.782     OAK  \n",
              "  294              2.708            1.359           1.349     HNL  \n",
              "  295              4.892            3.466           1.426     PDX  \n",
              "  296              7.945            6.090           1.855     STL  \n",
              "  297              8.463            6.147           2.315     BNA  \n",
              "  298             11.148            9.999           1.149     HOU  \n",
              "  299              7.579            6.254           1.324     DAL  \n",
              "  300              8.966            6.517           2.448     TPA  \n",
              "  301             12.741           10.089           2.653     PHL  \n",
              "  302             10.948            8.181           2.767     FLL  \n",
              "  303             10.617            7.611           3.006     MIA  \n",
              "  304              6.940            5.325           1.614     SAN  \n",
              "  305             15.426           12.600           2.826     DCA  \n",
              "  306             10.761            9.704           1.056     MDW  \n",
              "  307             11.228            9.418           1.810     BWI  \n",
              "  308             14.549           10.503           4.046     JFK  \n",
              "  309              3.567            1.829           1.738     SLC  \n",
              "  310             17.920           14.272           3.648     EWR  \n",
              "  311             10.310            8.674           1.636     CLT  \n",
              "  312             21.596           17.580           4.017     LGA  \n",
              "  313              7.219            4.608           2.611     DTW  \n",
              "  314             13.104           10.248           2.856     BOS  \n",
              "  315             10.234            7.112           3.122     MCO  \n",
              "  316              3.746            2.487           1.259     SEA  \n",
              "  317              6.037            3.953           2.084     MSP  \n",
              "  318              5.878            4.123           1.756     LAS  \n",
              "  319              4.378            3.234           1.145     PHX  \n",
              "  320             10.188            7.957           2.231     SFO  \n",
              "  321             10.010            8.031           1.980     IAH  \n",
              "  322              6.630            4.619           2.012     LAX  \n",
              "  323              6.493            4.786           1.707     DEN  \n",
              "  324              9.500            7.262           2.238     DFW  \n",
              "  325             11.862            9.185           2.677     ORD  \n",
              "  326              6.651            4.551           2.100     ATL  ,\n",
              "  encoding: EncodingWithFacet({\n",
              "    color: Color({\n",
              "      legend: None,\n",
              "      shorthand: 'Airport'\n",
              "    }),\n",
              "    x: X({\n",
              "      shorthand: 'Airport'\n",
              "    }),\n",
              "    y: Y({\n",
              "      shorthand: 'Avg_Delay_Cost'\n",
              "    })\n",
              "  }),\n",
              "  height: 450,\n",
              "  mark: 'bar',\n",
              "  title: 'Average Costs Attributable to Delays per Customer',\n",
              "  width: 1100\n",
              "})"
            ],
            "text/html": [
              "<!DOCTYPE html>\n",
              "<html>\n",
              "<head>\n",
              "  <style>\n",
              "    .vega-actions a {\n",
              "        margin-right: 12px;\n",
              "        color: #757575;\n",
              "        font-weight: normal;\n",
              "        font-size: 13px;\n",
              "    }\n",
              "    .error {\n",
              "        color: red;\n",
              "    }\n",
              "  </style>\n",
              "  <script type=\"text/javascript\" src=\"https://cdn.jsdelivr.net/npm//vega@4\"></script>\n",
              "  <script type=\"text/javascript\" src=\"https://cdn.jsdelivr.net/npm//vega-lite@2.6.0\"></script>\n",
              "  <script type=\"text/javascript\" src=\"https://cdn.jsdelivr.net/npm//vega-embed@3\"></script>\n",
              "</head>\n",
              "<body>\n",
              "  <div id=\"altair-viz\"></div>\n",
              "  <script>\n",
              "      var spec = {\"config\": {\"view\": {\"width\": 400, \"height\": 300}, \"axis\": {\"labelFontSize\": 12, \"titleFontSize\": 12}, \"title\": {\"fontSize\": 24}}, \"data\": {\"name\": \"data-cbae799cd044dde94248bb0666e12792\"}, \"mark\": \"bar\", \"encoding\": {\"color\": {\"type\": \"nominal\", \"field\": \"Airport\", \"legend\": null}, \"x\": {\"type\": \"nominal\", \"field\": \"Airport\"}, \"y\": {\"type\": \"quantitative\", \"field\": \"Avg_Delay_Cost\"}}, \"height\": 450, \"title\": \"Average Costs Attributable to Delays per Customer\", \"width\": 1100, \"$schema\": \"https://vega.github.io/schema/vega-lite/v2.6.0.json\", \"datasets\": {\"data-cbae799cd044dde94248bb0666e12792\": [{\"Arrived\": 131300, \"Disruption\": 1346.0, \"Total_Flights\": 132646.0, \"Disrupt_Pct\": 1.0147309379853142, \"Avg_Profit\": 13.926345310073428, \"Avg_Total_Cost\": 5.073654689926571, \"Avg_Cancel_Cost\": 3.7769702818026927, \"Avg_Delay_Cost\": 1.2966844081238786, \"Airport\": \"SMF\"}, {\"Arrived\": 142813, \"Disruption\": 2374.0, \"Total_Flights\": 145187.0, \"Disrupt_Pct\": 1.635132622066714, \"Avg_Profit\": 10.82433688966643, \"Avg_Total_Cost\": 8.17566311033357, \"Avg_Cancel_Cost\": 5.847630986245325, \"Avg_Delay_Cost\": 2.328032124088245, \"Airport\": \"MSY\"}, {\"Arrived\": 142900, \"Disruption\": 1660.0, \"Total_Flights\": 144560.0, \"Disrupt_Pct\": 1.1483121195351411, \"Avg_Profit\": 13.258439402324294, \"Avg_Total_Cost\": 5.741560597675705, \"Avg_Cancel_Cost\": 4.441062534587714, \"Avg_Delay_Cost\": 1.300498063087991, \"Airport\": \"SJC\"}, {\"Arrived\": 141278, \"Disruption\": 2368.0, \"Total_Flights\": 143646.0, \"Disrupt_Pct\": 1.6484969995683834, \"Avg_Profit\": 10.757515002158083, \"Avg_Total_Cost\": 8.242484997841917, \"Avg_Cancel_Cost\": 6.286287122509503, \"Avg_Delay_Cost\": 1.956197875332414, \"Airport\": \"MCI\"}, {\"Arrived\": 133818, \"Disruption\": 2976.0, \"Total_Flights\": 136794.0, \"Disrupt_Pct\": 2.1755340146497653, \"Avg_Profit\": 8.122329926751174, \"Avg_Total_Cost\": 10.877670073248826, \"Avg_Cancel_Cost\": 7.054402970890536, \"Avg_Delay_Cost\": 3.8232671023582903, \"Airport\": \"IAD\"}, {\"Arrived\": 158151, \"Disruption\": 2293.0, \"Total_Flights\": 160444.0, \"Disrupt_Pct\": 1.4291590835431678, \"Avg_Profit\": 11.854204582284162, \"Avg_Total_Cost\": 7.1457954177158385, \"Avg_Cancel_Cost\": 4.565455859988532, \"Avg_Delay_Cost\": 2.5803395577273065, \"Airport\": \"AUS\"}, {\"Arrived\": 149538, \"Disruption\": 1983.0, \"Total_Flights\": 151521.0, \"Disrupt_Pct\": 1.3087294830419545, \"Avg_Profit\": 12.456352584790228, \"Avg_Total_Cost\": 6.543647415209773, \"Avg_Cancel_Cost\": 5.76157760310452, \"Avg_Delay_Cost\": 0.7820698121052532, \"Airport\": \"OAK\"}, {\"Arrived\": 143789, \"Disruption\": 783.0, \"Total_Flights\": 144572.0, \"Disrupt_Pct\": 0.5415986498077082, \"Avg_Profit\": 16.29200675096146, \"Avg_Total_Cost\": 2.7079932490385414, \"Avg_Cancel_Cost\": 1.3591843510499957, \"Avg_Delay_Cost\": 1.3488088979885458, \"Airport\": \"HNL\"}, {\"Arrived\": 182289, \"Disruption\": 1801.0, \"Total_Flights\": 184090.0, \"Disrupt_Pct\": 0.9783258188929328, \"Avg_Profit\": 14.108370905535336, \"Avg_Total_Cost\": 4.891629094464664, \"Avg_Cancel_Cost\": 3.4656961268944535, \"Avg_Delay_Cost\": 1.4259329675702102, \"Airport\": \"PDX\"}, {\"Arrived\": 174778, \"Disruption\": 2822.0, \"Total_Flights\": 177600.0, \"Disrupt_Pct\": 1.588963963963964, \"Avg_Profit\": 11.05518018018018, \"Avg_Total_Cost\": 7.94481981981982, \"Avg_Cancel_Cost\": 6.089527027027027, \"Avg_Delay_Cost\": 1.8552927927927927, \"Airport\": \"STL\"}, {\"Arrived\": 175993, \"Disruption\": 3030.0, \"Total_Flights\": 179023.0, \"Disrupt_Pct\": 1.6925199555364396, \"Avg_Profit\": 10.537400222317803, \"Avg_Total_Cost\": 8.462599777682197, \"Avg_Cancel_Cost\": 6.147254822006111, \"Avg_Delay_Cost\": 2.3153449556760854, \"Airport\": \"BNA\"}, {\"Arrived\": 162562, \"Disruption\": 3707.0, \"Total_Flights\": 166269.0, \"Disrupt_Pct\": 2.2295196338463574, \"Avg_Profit\": 7.852401830768213, \"Avg_Total_Cost\": 11.147598169231786, \"Avg_Cancel_Cost\": 9.998857273454462, \"Avg_Delay_Cost\": 1.1487408957773244, \"Airport\": \"HOU\"}, {\"Arrived\": 206361, \"Disruption\": 3176.0, \"Total_Flights\": 209537.0, \"Disrupt_Pct\": 1.5157227601807794, \"Avg_Profit\": 11.421386199096103, \"Avg_Total_Cost\": 7.578613800903898, \"Avg_Cancel_Cost\": 6.254265356476422, \"Avg_Delay_Cost\": 1.3243484444274758, \"Airport\": \"DAL\"}, {\"Arrived\": 208168, \"Disruption\": 3801.0, \"Total_Flights\": 211969.0, \"Disrupt_Pct\": 1.7931867395704089, \"Avg_Profit\": 10.034066302147956, \"Avg_Total_Cost\": 8.965933697852044, \"Avg_Cancel_Cost\": 6.517462459133175, \"Avg_Delay_Cost\": 2.448471238718869, \"Airport\": \"TPA\"}, {\"Arrived\": 252932, \"Disruption\": 6614.0, \"Total_Flights\": 259546.0, \"Disrupt_Pct\": 2.548295870481533, \"Avg_Profit\": 6.258520647592334, \"Avg_Total_Cost\": 12.741479352407666, \"Avg_Cancel_Cost\": 10.08877039137571, \"Avg_Delay_Cost\": 2.652708961031955, \"Airport\": \"PHL\"}, {\"Arrived\": 263910, \"Disruption\": 5908.0, \"Total_Flights\": 269818.0, \"Disrupt_Pct\": 2.1896241169973836, \"Avg_Profit\": 8.051879415013083, \"Avg_Total_Cost\": 10.948120584986917, \"Avg_Cancel_Cost\": 8.181440823073332, \"Avg_Delay_Cost\": 2.7666797619135846, \"Airport\": \"FLL\"}, {\"Arrived\": 219636, \"Disruption\": 4765.0, \"Total_Flights\": 224401.0, \"Disrupt_Pct\": 2.123430822500791, \"Avg_Profit\": 8.382845887496044, \"Avg_Total_Cost\": 10.617154112503956, \"Avg_Cancel_Cost\": 7.611374280863276, \"Avg_Delay_Cost\": 3.0057798316406794, \"Airport\": \"MIA\"}, {\"Arrived\": 248037, \"Disruption\": 3491.0, \"Total_Flights\": 251528.0, \"Disrupt_Pct\": 1.3879170509843834, \"Avg_Profit\": 12.060414745078083, \"Avg_Total_Cost\": 6.9395852549219175, \"Avg_Cancel_Cost\": 5.32545084443879, \"Avg_Delay_Cost\": 1.6141344104831274, \"Airport\": \"SAN\"}, {\"Arrived\": 271434, \"Disruption\": 8641.0, \"Total_Flights\": 280075.0, \"Disrupt_Pct\": 3.0852450236543785, \"Avg_Profit\": 3.5737748817281085, \"Avg_Total_Cost\": 15.42622511827189, \"Avg_Cancel_Cost\": 12.600196375970723, \"Avg_Delay_Cost\": 2.826028742301167, \"Airport\": \"DCA\"}, {\"Arrived\": 256556, \"Disruption\": 5643.0, \"Total_Flights\": 262199.0, \"Disrupt_Pct\": 2.152182121213277, \"Avg_Profit\": 8.239089393933615, \"Avg_Total_Cost\": 10.760910606066385, \"Avg_Cancel_Cost\": 9.70446111541234, \"Avg_Delay_Cost\": 1.056449490654046, \"Airport\": \"MDW\"}, {\"Arrived\": 296532, \"Disruption\": 6812.0, \"Total_Flights\": 303344.0, \"Disrupt_Pct\": 2.245635318318477, \"Avg_Profit\": 7.7718234084076165, \"Avg_Total_Cost\": 11.228176591592383, \"Avg_Cancel_Cost\": 9.418350123951685, \"Avg_Delay_Cost\": 1.8098264676406988, \"Airport\": \"BWI\"}, {\"Arrived\": 310049, \"Disruption\": 9292.0, \"Total_Flights\": 319341.0, \"Disrupt_Pct\": 2.9097422504470143, \"Avg_Profit\": 4.451288747764928, \"Avg_Total_Cost\": 14.548711252235071, \"Avg_Cancel_Cost\": 10.50287936719682, \"Avg_Delay_Cost\": 4.04583188503825, \"Airport\": \"JFK\"}, {\"Arrived\": 330825, \"Disruption\": 2377.0, \"Total_Flights\": 333202.0, \"Disrupt_Pct\": 0.7133810721424242, \"Avg_Profit\": 15.43309463928788, \"Avg_Total_Cost\": 3.5669053607121204, \"Avg_Cancel_Cost\": 1.8292207129609066, \"Avg_Delay_Cost\": 1.7376846477512138, \"Airport\": \"SLC\"}, {\"Arrived\": 360490, \"Disruption\": 13400.0, \"Total_Flights\": 373890.0, \"Disrupt_Pct\": 3.5839418010644843, \"Avg_Profit\": 1.080290994677579, \"Avg_Total_Cost\": 17.91970900532242, \"Avg_Cancel_Cost\": 14.27157720185081, \"Avg_Delay_Cost\": 3.6481318034716104, \"Airport\": \"EWR\"}, {\"Arrived\": 438396, \"Disruption\": 9230.0, \"Total_Flights\": 447626.0, \"Disrupt_Pct\": 2.061989249954203, \"Avg_Profit\": 8.690053750228985, \"Avg_Total_Cost\": 10.309946249771015, \"Avg_Cancel_Cost\": 8.673535496150803, \"Avg_Delay_Cost\": 1.6364107536202113, \"Airport\": \"CLT\"}, {\"Arrived\": 340054, \"Disruption\": 15351.0, \"Total_Flights\": 355405.0, \"Disrupt_Pct\": 4.319297702620953, \"Avg_Profit\": -2.596488513104768, \"Avg_Total_Cost\": 21.596488513104767, \"Avg_Cancel_Cost\": 17.579944007540693, \"Avg_Delay_Cost\": 4.016544505564074, \"Airport\": \"LGA\"}, {\"Arrived\": 399393, \"Disruption\": 5851.0, \"Total_Flights\": 405244.0, \"Disrupt_Pct\": 1.443821500133253, \"Avg_Profit\": 11.780892499333735, \"Avg_Total_Cost\": 7.219107500666265, \"Avg_Cancel_Cost\": 4.608334731667834, \"Avg_Delay_Cost\": 2.610772768998431, \"Airport\": \"DTW\"}, {\"Arrived\": 382091, \"Disruption\": 10283.0, \"Total_Flights\": 392374.0, \"Disrupt_Pct\": 2.620713910707641, \"Avg_Profit\": 5.896430446461794, \"Avg_Total_Cost\": 13.103569553538206, \"Avg_Cancel_Cost\": 10.247875751196563, \"Avg_Delay_Cost\": 2.8556938023416425, \"Airport\": \"BOS\"}, {\"Arrived\": 386358, \"Disruption\": 8073.0, \"Total_Flights\": 394431.0, \"Disrupt_Pct\": 2.0467458186602983, \"Avg_Profit\": 8.76627090669851, \"Avg_Total_Cost\": 10.23372909330149, \"Avg_Cancel_Cost\": 7.111509997946409, \"Avg_Delay_Cost\": 3.1222190953550806, \"Airport\": \"MCO\"}, {\"Arrived\": 406418, \"Disruption\": 3068.0, \"Total_Flights\": 409486.0, \"Disrupt_Pct\": 0.7492319639743483, \"Avg_Profit\": 15.253840180128257, \"Avg_Total_Cost\": 3.7461598198717416, \"Avg_Cancel_Cost\": 2.4872645218639953, \"Avg_Delay_Cost\": 1.2588952980077464, \"Airport\": \"SEA\"}, {\"Arrived\": 415600, \"Disruption\": 5079.0, \"Total_Flights\": 420679.0, \"Disrupt_Pct\": 1.207333857882138, \"Avg_Profit\": 12.96333071058931, \"Avg_Total_Cost\": 6.036669289410691, \"Avg_Cancel_Cost\": 3.9531329113171805, \"Avg_Delay_Cost\": 2.0835363780935103, \"Airport\": \"MSP\"}, {\"Arrived\": 457355, \"Disruption\": 5441.0, \"Total_Flights\": 462796.0, \"Disrupt_Pct\": 1.1756799972342025, \"Avg_Profit\": 13.121600013828987, \"Avg_Total_Cost\": 5.878399986171012, \"Avg_Cancel_Cost\": 4.122766834631242, \"Avg_Delay_Cost\": 1.7556331515397705, \"Airport\": \"LAS\"}, {\"Arrived\": 481886, \"Disruption\": 4257.0, \"Total_Flights\": 486143.0, \"Disrupt_Pct\": 0.8756682704471729, \"Avg_Profit\": 14.621658647764136, \"Avg_Total_Cost\": 4.378341352235865, \"Avg_Cancel_Cost\": 3.2336164461897012, \"Avg_Delay_Cost\": 1.144724906046164, \"Airport\": \"PHX\"}, {\"Arrived\": 511749, \"Disruption\": 10644.0, \"Total_Flights\": 522393.0, \"Disrupt_Pct\": 2.0375464449179064, \"Avg_Profit\": 8.812267775410467, \"Avg_Total_Cost\": 10.187732224589533, \"Avg_Cancel_Cost\": 7.95665332422142, \"Avg_Delay_Cost\": 2.2310789003681135, \"Airport\": \"SFO\"}, {\"Arrived\": 429125, \"Disruption\": 8767.0, \"Total_Flights\": 437892.0, \"Disrupt_Pct\": 2.002091839997077, \"Avg_Profit\": 8.989540800014616, \"Avg_Total_Cost\": 10.010459199985384, \"Avg_Cancel_Cost\": 8.030518940743379, \"Avg_Delay_Cost\": 1.9799402592420048, \"Airport\": \"IAH\"}, {\"Arrived\": 638886, \"Disruption\": 8586.0, \"Total_Flights\": 647472.0, \"Disrupt_Pct\": 1.326080510045222, \"Avg_Profit\": 12.36959744977389, \"Avg_Total_Cost\": 6.63040255022611, \"Avg_Cancel_Cost\": 4.618732547507846, \"Avg_Delay_Cost\": 2.0116700027182643, \"Airport\": \"LAX\"}, {\"Arrived\": 675476, \"Disruption\": 8887.0, \"Total_Flights\": 684363.0, \"Disrupt_Pct\": 1.29857984724481, \"Avg_Profit\": 12.507100763775949, \"Avg_Total_Cost\": 6.4928992362240505, \"Avg_Cancel_Cost\": 4.7862026439185055, \"Avg_Delay_Cost\": 1.706696592305545, \"Airport\": \"DEN\"}, {\"Arrived\": 641851, \"Disruption\": 12432.0, \"Total_Flights\": 654283.0, \"Disrupt_Pct\": 1.9000952187356237, \"Avg_Profit\": 9.499523906321881, \"Avg_Total_Cost\": 9.500476093678119, \"Avg_Cancel_Cost\": 7.262148030745106, \"Avg_Delay_Cost\": 2.2383280629330127, \"Airport\": \"DFW\"}, {\"Arrived\": 821472, \"Disruption\": 19963.0, \"Total_Flights\": 841435.0, \"Disrupt_Pct\": 2.3724946074265985, \"Avg_Profit\": 7.137526962867007, \"Avg_Total_Cost\": 11.862473037132993, \"Avg_Cancel_Cost\": 9.18549858277823, \"Avg_Delay_Cost\": 2.676974454354763, \"Airport\": \"ORD\"}, {\"Arrived\": 1123520, \"Disruption\": 15147.0, \"Total_Flights\": 1138667.0, \"Disrupt_Pct\": 1.3302396574239879, \"Avg_Profit\": 12.34880171288006, \"Avg_Total_Cost\": 6.651198287119939, \"Avg_Cancel_Cost\": 4.5513745458505435, \"Avg_Delay_Cost\": 2.099823741269396, \"Airport\": \"ATL\"}]}};\n",
              "      var embedOpt = {\"mode\": \"vega-lite\"};\n",
              "\n",
              "      function showError(el, error){\n",
              "          el.innerHTML = ('<div class=\"error\" style=\"color:red;\">'\n",
              "                          + '<p>JavaScript Error: ' + error.message + '</p>'\n",
              "                          + \"<p>This usually means there's a typo in your chart specification. \"\n",
              "                          + \"See the javascript console for the full traceback.</p>\"\n",
              "                          + '</div>');\n",
              "          throw error;\n",
              "      }\n",
              "      const el = document.getElementById('altair-viz');\n",
              "      vegaEmbed(\"#altair-viz\", spec, embedOpt)\n",
              "        .catch(error => showError(el, error));\n",
              "\n",
              "  </script>\n",
              "</body>\n",
              "</html>"
            ]
          },
          "metadata": {
            "tags": []
          },
          "execution_count": 68
        }
      ]
    },
    {
      "metadata": {
        "id": "vmbt3h0gm_1T",
        "colab_type": "text"
      },
      "cell_type": "markdown",
      "source": [
        "## Average Disruption Cost per Customer by Airport\n",
        "\n",
        "In the visualization below, we can see that LaGuardia Airport (LGA) in New York has the highest disruption costs. Newark (EWR) has the 2nd highest costs and JFK Airport (JFK) has the 4th highest disruption costs. Thus, the New York Metropolitan Area is the biggest source of disruption costs in the nation. \n",
        "\n",
        "Other airports with high disruption costs include Reagan National Airport (DCA) in the DC Metro area, Logan International (BOS) in Boston, and Philadelphia International (PHI). Therefore, it's safe to conclude that the Northeast has some of the highest flight disruption costs. Compared to other cities, this would appear to be partly due to weather, but also likely due to regional issues, since some other \"winter weather\" airports have much lower costs such as Denver International (DEN) and Salt Lake International (SLC)."
      ]
    },
    {
      "metadata": {
        "id": "A-wNLqf11nDI",
        "colab_type": "text"
      },
      "cell_type": "markdown",
      "source": [
        "# Carrier Stats Visualizations\n",
        "\n",
        "Next, let's take a look at disruption and cost stats on individual airlines. "
      ]
    },
    {
      "metadata": {
        "id": "j3PymDyWqUbB",
        "colab_type": "code",
        "colab": {}
      },
      "cell_type": "code",
      "source": [
        "# plot airline stats with altair\n",
        "def airline_stats(df, feature, title_text=\"\"): \n",
        "    bars = alt.Chart(df, title=title_text, height=450, width=1100).configure_title(fontSize=24).mark_bar().encode(\n",
        "        x = 'Carrier', \n",
        "        y = feature, \n",
        "        color = alt.Color('Carrier', legend=None)).configure_axis(\n",
        "    labelFontSize=14,\n",
        "    titleFontSize=14\n",
        ")\n",
        "    \n",
        "    return bars"
      ],
      "execution_count": 0,
      "outputs": []
    },
    {
      "metadata": {
        "id": "Mm1Dcjvs1-Tn",
        "colab_type": "code",
        "outputId": "a4413c8c-6931-49cc-e708-f44e3ffaa710",
        "colab": {
          "base_uri": "https://localhost:8080/",
          "height": 616
        }
      },
      "cell_type": "code",
      "source": [
        "airline_stats(carrier_df, 'Avg_Total_Cost', 'Average Disruption Costs per Customer, by Carrier')"
      ],
      "execution_count": 0,
      "outputs": [
        {
          "output_type": "execute_result",
          "data": {
            "text/plain": [
              "Chart({\n",
              "  config: Config({\n",
              "    axis: AxisConfig({\n",
              "      labelFontSize: 14,\n",
              "      titleFontSize: 14\n",
              "    }),\n",
              "    title: VgTitleConfig({\n",
              "      fontSize: 24\n",
              "    })\n",
              "  }),\n",
              "  data:          Arrived  Disruption  Total_Flights  Disrupt_Pct  Avg_Profit  \\\n",
              "  Carrier                                                                \n",
              "  0        3915093       60796        3975889        1.529      11.354   \n",
              "  1        2758420       32802        2791222        1.175      13.124   \n",
              "  2        2677768       50334        2728102        1.845       9.775   \n",
              "  3        1026954       36725        1063679        3.453       1.737   \n",
              "  4        2024398       45112        2069510        2.180       8.101   \n",
              "  5        1715729       27297        1743026        1.566      11.170   \n",
              "  6         279508       11890         291398        4.080      -1.402   \n",
              "  8         858889       25241         884130        2.855       4.726   \n",
              "  9         596259        5437         601696        0.904      14.482   \n",
              "  10        308631        7756         316387        2.451       6.743   \n",
              "  11        454740       12113         466853        2.595       6.027   \n",
              "  12        238756         974         239730        0.406      16.969   \n",
              "  13        160635        2671         163306        1.636      10.822   \n",
              "  15         86763        1786          88549        2.017       8.915   \n",
              "  16        190125        6437         196562        3.275       2.626   \n",
              "  17        217324        7903         225227        3.509       1.455   \n",
              "  18        242990       12406         255396        4.858      -5.288   \n",
              "  19        279459       10992         290451        3.784       0.078   \n",
              "  \n",
              "           Avg_Total_Cost  Avg_Cancel_Cost  Avg_Delay_Cost     Carrier  \n",
              "  Carrier                                                               \n",
              "  0                 7.646            6.650           0.996   Southwest  \n",
              "  1                 5.876            2.998           2.878       Delta  \n",
              "  2                 9.225            6.936           2.290    American  \n",
              "  3                17.263           13.356           3.908  ExpressJet  \n",
              "  4                10.899            7.263           3.636     SkyWest  \n",
              "  5                 7.830            4.889           2.941      United  \n",
              "  6                20.402           18.682           1.719       Envoy  \n",
              "  8                14.274           10.472           3.803     JetBLue  \n",
              "  9                 4.518            3.673           0.845      Alaska  \n",
              "  10               12.257            7.093           5.165    Frontier  \n",
              "  11               12.973           10.321           2.652      Spirit  \n",
              "  12                2.031            1.245           0.786    Hawaiian  \n",
              "  13                8.178            6.672           1.506      Virgin  \n",
              "  15               10.085            3.992           6.093       Other  \n",
              "  16               16.374           12.968           3.406        Mesa  \n",
              "  17               17.545           13.850           3.694    Endeavor  \n",
              "  18               24.288           21.243           3.044         PSA  \n",
              "  19               18.922           16.968           1.954    Republic  ,\n",
              "  encoding: EncodingWithFacet({\n",
              "    color: Color({\n",
              "      legend: None,\n",
              "      shorthand: 'Carrier'\n",
              "    }),\n",
              "    x: X({\n",
              "      shorthand: 'Carrier'\n",
              "    }),\n",
              "    y: Y({\n",
              "      shorthand: 'Avg_Total_Cost'\n",
              "    })\n",
              "  }),\n",
              "  height: 450,\n",
              "  mark: 'bar',\n",
              "  title: 'Average Disruption Costs per Customer, by Carrier',\n",
              "  width: 1100\n",
              "})"
            ],
            "text/html": [
              "<!DOCTYPE html>\n",
              "<html>\n",
              "<head>\n",
              "  <style>\n",
              "    .vega-actions a {\n",
              "        margin-right: 12px;\n",
              "        color: #757575;\n",
              "        font-weight: normal;\n",
              "        font-size: 13px;\n",
              "    }\n",
              "    .error {\n",
              "        color: red;\n",
              "    }\n",
              "  </style>\n",
              "  <script type=\"text/javascript\" src=\"https://cdn.jsdelivr.net/npm//vega@4\"></script>\n",
              "  <script type=\"text/javascript\" src=\"https://cdn.jsdelivr.net/npm//vega-lite@2.6.0\"></script>\n",
              "  <script type=\"text/javascript\" src=\"https://cdn.jsdelivr.net/npm//vega-embed@3\"></script>\n",
              "</head>\n",
              "<body>\n",
              "  <div id=\"altair-viz\"></div>\n",
              "  <script>\n",
              "      var spec = {\"config\": {\"view\": {\"width\": 400, \"height\": 300}, \"axis\": {\"labelFontSize\": 14, \"titleFontSize\": 14}, \"title\": {\"fontSize\": 24}}, \"data\": {\"name\": \"data-053a4e892f421dd910b4c4985239014a\"}, \"mark\": \"bar\", \"encoding\": {\"color\": {\"type\": \"nominal\", \"field\": \"Carrier\", \"legend\": null}, \"x\": {\"type\": \"nominal\", \"field\": \"Carrier\"}, \"y\": {\"type\": \"quantitative\", \"field\": \"Avg_Total_Cost\"}}, \"height\": 450, \"title\": \"Average Disruption Costs per Customer, by Carrier\", \"width\": 1100, \"$schema\": \"https://vega.github.io/schema/vega-lite/v2.6.0.json\", \"datasets\": {\"data-053a4e892f421dd910b4c4985239014a\": [{\"Arrived\": 3915093, \"Disruption\": 60796, \"Total_Flights\": 3975889, \"Disrupt_Pct\": 1.5291171358154114, \"Avg_Profit\": 11.354414320922944, \"Avg_Total_Cost\": 7.645585679077056, \"Avg_Cancel_Cost\": 6.649833534085082, \"Avg_Delay_Cost\": 0.9957521449919744, \"Carrier\": \"Southwest\"}, {\"Arrived\": 2758420, \"Disruption\": 32802, \"Total_Flights\": 2791222, \"Disrupt_Pct\": 1.1751842024747585, \"Avg_Profit\": 13.124078987626207, \"Avg_Total_Cost\": 5.875921012373792, \"Avg_Cancel_Cost\": 2.9977909317137796, \"Avg_Delay_Cost\": 2.878130080660012, \"Carrier\": \"Delta\"}, {\"Arrived\": 2677768, \"Disruption\": 50334, \"Total_Flights\": 2728102, \"Disrupt_Pct\": 1.8450189912254014, \"Avg_Profit\": 9.774905043872993, \"Avg_Total_Cost\": 9.225094956127007, \"Avg_Cancel_Cost\": 6.935591117927409, \"Avg_Delay_Cost\": 2.2895038381995985, \"Carrier\": \"American\"}, {\"Arrived\": 1026954, \"Disruption\": 36725, \"Total_Flights\": 1063679, \"Disrupt_Pct\": 3.4526393771053105, \"Avg_Profit\": 1.7368031144734455, \"Avg_Total_Cost\": 17.263196885526554, \"Avg_Cancel_Cost\": 13.355533013249298, \"Avg_Delay_Cost\": 3.907663872277256, \"Carrier\": \"ExpressJet\"}, {\"Arrived\": 2024398, \"Disruption\": 45112, \"Total_Flights\": 2069510, \"Disrupt_Pct\": 2.1798396721929345, \"Avg_Profit\": 8.100801639035327, \"Avg_Total_Cost\": 10.899198360964673, \"Avg_Cancel_Cost\": 7.262830331817677, \"Avg_Delay_Cost\": 3.636368029146997, \"Carrier\": \"SkyWest\"}, {\"Arrived\": 1715729, \"Disruption\": 27297, \"Total_Flights\": 1743026, \"Disrupt_Pct\": 1.566069582438816, \"Avg_Profit\": 11.16965208780592, \"Avg_Total_Cost\": 7.830347912194081, \"Avg_Cancel_Cost\": 4.888911582500778, \"Avg_Delay_Cost\": 2.9414363296933033, \"Carrier\": \"United\"}, {\"Arrived\": 279508, \"Disruption\": 11890, \"Total_Flights\": 291398, \"Disrupt_Pct\": 4.0803299954014784, \"Avg_Profit\": -1.401649977007392, \"Avg_Total_Cost\": 20.40164997700739, \"Avg_Cancel_Cost\": 18.682351972216694, \"Avg_Delay_Cost\": 1.7192980047906978, \"Carrier\": \"Envoy\"}, {\"Arrived\": 858889, \"Disruption\": 25241, \"Total_Flights\": 884130, \"Disrupt_Pct\": 2.8548969043014036, \"Avg_Profit\": 4.725515478492982, \"Avg_Total_Cost\": 14.274484521507018, \"Avg_Cancel_Cost\": 10.471876307782791, \"Avg_Delay_Cost\": 3.802608213724227, \"Carrier\": \"JetBLue\"}, {\"Arrived\": 596259, \"Disruption\": 5437, \"Total_Flights\": 601696, \"Disrupt_Pct\": 0.9036124554592353, \"Avg_Profit\": 14.481937722703824, \"Avg_Total_Cost\": 4.518062277296176, \"Avg_Cancel_Cost\": 3.6729511248205076, \"Avg_Delay_Cost\": 0.8451111524756683, \"Carrier\": \"Alaska\"}, {\"Arrived\": 308631, \"Disruption\": 7756, \"Total_Flights\": 316387, \"Disrupt_Pct\": 2.4514281560241096, \"Avg_Profit\": 6.742859219879452, \"Avg_Total_Cost\": 12.25714078012055, \"Avg_Cancel_Cost\": 7.092579657191983, \"Avg_Delay_Cost\": 5.164561122928566, \"Carrier\": \"Frontier\"}, {\"Arrived\": 454740, \"Disruption\": 12113, \"Total_Flights\": 466853, \"Disrupt_Pct\": 2.594606867686402, \"Avg_Profit\": 6.0269656615679885, \"Avg_Total_Cost\": 12.973034338432011, \"Avg_Cancel_Cost\": 10.321236020760281, \"Avg_Delay_Cost\": 2.65179831767173, \"Carrier\": \"Spirit\"}, {\"Arrived\": 238756, \"Disruption\": 974, \"Total_Flights\": 239730, \"Disrupt_Pct\": 0.4062904100446335, \"Avg_Profit\": 16.96854794977683, \"Avg_Total_Cost\": 2.0314520502231677, \"Avg_Cancel_Cost\": 1.2451507946439746, \"Avg_Delay_Cost\": 0.7863012555791931, \"Carrier\": \"Hawaiian\"}, {\"Arrived\": 160635, \"Disruption\": 2671, \"Total_Flights\": 163306, \"Disrupt_Pct\": 1.635579831726942, \"Avg_Profit\": 10.82210084136529, \"Avg_Total_Cost\": 8.17789915863471, \"Avg_Cancel_Cost\": 6.671524622487845, \"Avg_Delay_Cost\": 1.5063745361468657, \"Carrier\": \"Virgin\"}, {\"Arrived\": 86763, \"Disruption\": 1786, \"Total_Flights\": 88549, \"Disrupt_Pct\": 2.0169623598233746, \"Avg_Profit\": 8.915188200883128, \"Avg_Total_Cost\": 10.084811799116872, \"Avg_Cancel_Cost\": 3.992139945115134, \"Avg_Delay_Cost\": 6.092671854001738, \"Carrier\": \"Other\"}, {\"Arrived\": 190125, \"Disruption\": 6437, \"Total_Flights\": 196562, \"Disrupt_Pct\": 3.274793703767768, \"Avg_Profit\": 2.6260314811611605, \"Avg_Total_Cost\": 16.37396851883884, \"Avg_Cancel_Cost\": 12.967918519347585, \"Avg_Delay_Cost\": 3.4060499994912554, \"Carrier\": \"Mesa\"}, {\"Arrived\": 217324, \"Disruption\": 7903, \"Total_Flights\": 225227, \"Disrupt_Pct\": 3.508904349833723, \"Avg_Profit\": 1.4554782508313835, \"Avg_Total_Cost\": 17.544521749168617, \"Avg_Cancel_Cost\": 13.850470858289638, \"Avg_Delay_Cost\": 3.6940508908789784, \"Carrier\": \"Endeavor\"}, {\"Arrived\": 242990, \"Disruption\": 12406, \"Total_Flights\": 255396, \"Disrupt_Pct\": 4.857554542749299, \"Avg_Profit\": -5.287772713746496, \"Avg_Total_Cost\": 24.287772713746495, \"Avg_Cancel_Cost\": 21.243480712305594, \"Avg_Delay_Cost\": 3.044292001440901, \"Carrier\": \"PSA\"}, {\"Arrived\": 279459, \"Disruption\": 10992, \"Total_Flights\": 290451, \"Disrupt_Pct\": 3.7844593408182448, \"Avg_Profit\": 0.07770329590877635, \"Avg_Total_Cost\": 18.922296704091224, \"Avg_Cancel_Cost\": 16.968438738375834, \"Avg_Delay_Cost\": 1.9538579657153896, \"Carrier\": \"Republic\"}]}};\n",
              "      var embedOpt = {\"mode\": \"vega-lite\"};\n",
              "\n",
              "      function showError(el, error){\n",
              "          el.innerHTML = ('<div class=\"error\" style=\"color:red;\">'\n",
              "                          + '<p>JavaScript Error: ' + error.message + '</p>'\n",
              "                          + \"<p>This usually means there's a typo in your chart specification. \"\n",
              "                          + \"See the javascript console for the full traceback.</p>\"\n",
              "                          + '</div>');\n",
              "          throw error;\n",
              "      }\n",
              "      const el = document.getElementById('altair-viz');\n",
              "      vegaEmbed(\"#altair-viz\", spec, embedOpt)\n",
              "        .catch(error => showError(el, error));\n",
              "\n",
              "  </script>\n",
              "</body>\n",
              "</html>"
            ]
          },
          "metadata": {
            "tags": []
          },
          "execution_count": 75
        }
      ]
    },
    {
      "metadata": {
        "id": "7ud5CLLory_t",
        "colab_type": "text"
      },
      "cell_type": "markdown",
      "source": [
        "From the carrier visualizations above, we can see that it's likely unprofitable to provide disruption protection for flights on Endeavor, Envoy, ExpressJet, PSA, and Republic Airways at the $19 price point. We'd likely need to charge a higher fee. \n",
        "\n",
        "Whereas, Hawaiian Airlines, Alaska Airlines, and Delta appear to be the most profitable to insure against disruptions at $19. American, Southwest, and United also look reasonably profitable. \n",
        "\n",
        "Spirit, Frontier, JetBlue, Mesa, and SkyWest may require more analysis."
      ]
    },
    {
      "metadata": {
        "id": "t5CPD7xHw4N-",
        "colab_type": "text"
      },
      "cell_type": "markdown",
      "source": [
        "# Month Stats Visualizations\n",
        "\n",
        "Disruption rates and costs by month."
      ]
    },
    {
      "metadata": {
        "id": "SYCDOfp2zV5s",
        "colab_type": "code",
        "colab": {}
      },
      "cell_type": "code",
      "source": [
        "month_order_list = list(month_dict.values())"
      ],
      "execution_count": 0,
      "outputs": []
    },
    {
      "metadata": {
        "id": "c04AKYKYxI39",
        "colab_type": "code",
        "colab": {}
      },
      "cell_type": "code",
      "source": [
        "# plot airline stats with altair\n",
        "def month_stats(feature, chart_title_text=\"\"): \n",
        "    data = month_df\n",
        "    bars = alt.Chart(data, title=chart_title_text, height=450, width=1100).configure_title(fontSize=24).mark_bar().encode(\n",
        "        x = alt.X('Month', sort=month_order_list), \n",
        "        y = feature, \n",
        "        color = alt.Color('Month', legend=None)).configure_axis(\n",
        "    labelFontSize=16,\n",
        "    titleFontSize=16\n",
        ")\n",
        "    \n",
        "    return bars"
      ],
      "execution_count": 0,
      "outputs": []
    },
    {
      "metadata": {
        "id": "f5lSx98J3FXQ",
        "colab_type": "code",
        "outputId": "ad0f4046-92fc-4814-c533-7aac51c3d9f5",
        "colab": {
          "base_uri": "https://localhost:8080/",
          "height": 619
        }
      },
      "cell_type": "code",
      "source": [
        "month_stats('Disrupt_Pct', 'Disruption % by Month')"
      ],
      "execution_count": 0,
      "outputs": [
        {
          "output_type": "execute_result",
          "data": {
            "text/plain": [
              "Chart({\n",
              "  config: Config({\n",
              "    axis: AxisConfig({\n",
              "      labelFontSize: 16,\n",
              "      titleFontSize: 16\n",
              "    }),\n",
              "    title: VgTitleConfig({\n",
              "      fontSize: 24\n",
              "    })\n",
              "  }),\n",
              "  data:        Arrived  Disruption  Total_Flights  Disrupt_Pct  Avg_Profit  \\\n",
              "  Month                                                                \n",
              "  1      1420777       45185        1465962        3.082       3.589   \n",
              "  2      1327000       28137        1355137        2.076       8.618   \n",
              "  3      1543203       36503        1579706        2.311       7.446   \n",
              "  4      1500255       25750        1526005        1.687      10.563   \n",
              "  5      1561189       21181        1582370        1.339      12.307   \n",
              "  6      1576931       31165        1608096        1.938       9.310   \n",
              "  7      1618787       38039        1656826        2.296       7.521   \n",
              "  8      1612474       40997        1653471        2.479       6.603   \n",
              "  9      1469049       30305        1499354        2.021       8.894   \n",
              "  10     1550641       17883        1568524        1.140      13.299   \n",
              "  11     1476732       14546        1491278        0.975      14.123   \n",
              "  12     1375403       28981        1404384        2.064       8.682   \n",
              "  \n",
              "         Avg_Total_Cost  Avg_Cancel_Cost  Avg_Delay_Cost      Month  \n",
              "  Month                                                              \n",
              "  1              15.411           12.865           2.546    January  \n",
              "  2              10.382            8.158           2.223   February  \n",
              "  3              11.554            9.666           1.887      March  \n",
              "  4               8.437            5.818           2.619      April  \n",
              "  5               6.693            4.330           2.363        May  \n",
              "  6               9.690            6.547           3.143       June  \n",
              "  7              11.479            7.891           3.588       July  \n",
              "  8              12.397            9.148           3.249     August  \n",
              "  9              10.106            8.334           1.772  September  \n",
              "  10              5.701            3.932           1.769    October  \n",
              "  11              4.877            3.012           1.866   November  \n",
              "  12             10.318            7.424           2.895   December  ,\n",
              "  encoding: EncodingWithFacet({\n",
              "    color: Color({\n",
              "      legend: None,\n",
              "      shorthand: 'Month'\n",
              "    }),\n",
              "    x: X({\n",
              "      shorthand: 'Month',\n",
              "      sort: ['January', 'February', 'March', 'April', 'May', 'June', 'July', 'August', 'September', 'October', 'November', 'December']\n",
              "    }),\n",
              "    y: Y({\n",
              "      shorthand: 'Disrupt_Pct'\n",
              "    })\n",
              "  }),\n",
              "  height: 450,\n",
              "  mark: 'bar',\n",
              "  title: 'Disruption % by Month',\n",
              "  width: 1100\n",
              "})"
            ],
            "text/html": [
              "<!DOCTYPE html>\n",
              "<html>\n",
              "<head>\n",
              "  <style>\n",
              "    .vega-actions a {\n",
              "        margin-right: 12px;\n",
              "        color: #757575;\n",
              "        font-weight: normal;\n",
              "        font-size: 13px;\n",
              "    }\n",
              "    .error {\n",
              "        color: red;\n",
              "    }\n",
              "  </style>\n",
              "  <script type=\"text/javascript\" src=\"https://cdn.jsdelivr.net/npm//vega@4\"></script>\n",
              "  <script type=\"text/javascript\" src=\"https://cdn.jsdelivr.net/npm//vega-lite@2.6.0\"></script>\n",
              "  <script type=\"text/javascript\" src=\"https://cdn.jsdelivr.net/npm//vega-embed@3\"></script>\n",
              "</head>\n",
              "<body>\n",
              "  <div id=\"altair-viz\"></div>\n",
              "  <script>\n",
              "      var spec = {\"config\": {\"view\": {\"width\": 400, \"height\": 300}, \"axis\": {\"labelFontSize\": 16, \"titleFontSize\": 16}, \"title\": {\"fontSize\": 24}}, \"data\": {\"name\": \"data-0dfff493ea2f55eea2360214717d4b07\"}, \"mark\": \"bar\", \"encoding\": {\"color\": {\"type\": \"nominal\", \"field\": \"Month\", \"legend\": null}, \"x\": {\"type\": \"nominal\", \"field\": \"Month\", \"sort\": [\"January\", \"February\", \"March\", \"April\", \"May\", \"June\", \"July\", \"August\", \"September\", \"October\", \"November\", \"December\"]}, \"y\": {\"type\": \"quantitative\", \"field\": \"Disrupt_Pct\"}}, \"height\": 450, \"title\": \"Disruption % by Month\", \"width\": 1100, \"$schema\": \"https://vega.github.io/schema/vega-lite/v2.6.0.json\", \"datasets\": {\"data-0dfff493ea2f55eea2360214717d4b07\": [{\"Arrived\": 1420777, \"Disruption\": 45185, \"Total_Flights\": 1465962, \"Disrupt_Pct\": 3.0822763482273077, \"Avg_Profit\": 3.588618258863463, \"Avg_Total_Cost\": 15.411381741136537, \"Avg_Cancel_Cost\": 12.865272087543879, \"Avg_Delay_Cost\": 2.5461096535926586, \"Month\": \"January\"}, {\"Arrived\": 1327000, \"Disruption\": 28137, \"Total_Flights\": 1355137, \"Disrupt_Pct\": 2.076321434659374, \"Avg_Profit\": 8.618392826703131, \"Avg_Total_Cost\": 10.381607173296869, \"Avg_Cancel_Cost\": 8.158215737597011, \"Avg_Delay_Cost\": 2.223391435699858, \"Month\": \"February\"}, {\"Arrived\": 1543203, \"Disruption\": 36503, \"Total_Flights\": 1579706, \"Disrupt_Pct\": 2.310746430031917, \"Avg_Profit\": 7.446267849840413, \"Avg_Total_Cost\": 11.553732150159586, \"Avg_Cancel_Cost\": 9.666355638327639, \"Avg_Delay_Cost\": 1.8873765118319472, \"Month\": \"March\"}, {\"Arrived\": 1500255, \"Disruption\": 25750, \"Total_Flights\": 1526005, \"Disrupt_Pct\": 1.6874125576259578, \"Avg_Profit\": 10.56293721187021, \"Avg_Total_Cost\": 8.43706278812979, \"Avg_Cancel_Cost\": 5.818460621033352, \"Avg_Delay_Cost\": 2.618602167096438, \"Month\": \"April\"}, {\"Arrived\": 1561189, \"Disruption\": 21181, \"Total_Flights\": 1582370, \"Disrupt_Pct\": 1.3385617775867844, \"Avg_Profit\": 12.307191112066079, \"Avg_Total_Cost\": 6.692808887933922, \"Avg_Cancel_Cost\": 4.329897558725204, \"Avg_Delay_Cost\": 2.3629113292087185, \"Month\": \"May\"}, {\"Arrived\": 1576931, \"Disruption\": 31165, \"Total_Flights\": 1608096, \"Disrupt_Pct\": 1.9380061886852527, \"Avg_Profit\": 9.309969056573737, \"Avg_Total_Cost\": 9.690030943426263, \"Avg_Cancel_Cost\": 6.5465618968021815, \"Avg_Delay_Cost\": 3.143469046624082, \"Month\": \"June\"}, {\"Arrived\": 1618787, \"Disruption\": 38039, \"Total_Flights\": 1656826, \"Disrupt_Pct\": 2.295895887679213, \"Avg_Profit\": 7.520520561603934, \"Avg_Total_Cost\": 11.479479438396066, \"Avg_Cancel_Cost\": 7.891293352470326, \"Avg_Delay_Cost\": 3.5881860859257397, \"Month\": \"July\"}, {\"Arrived\": 1612474, \"Disruption\": 40997, \"Total_Flights\": 1653471, \"Disrupt_Pct\": 2.479450803793958, \"Avg_Profit\": 6.602745981030209, \"Avg_Total_Cost\": 12.397254018969791, \"Avg_Cancel_Cost\": 9.148330995826354, \"Avg_Delay_Cost\": 3.248923023143437, \"Month\": \"August\"}, {\"Arrived\": 1469049, \"Disruption\": 30305, \"Total_Flights\": 1499354, \"Disrupt_Pct\": 2.0212037984358595, \"Avg_Profit\": 8.8939810078207, \"Avg_Total_Cost\": 10.1060189921793, \"Avg_Cancel_Cost\": 8.334255952897049, \"Avg_Delay_Cost\": 1.7717630392822503, \"Month\": \"September\"}, {\"Arrived\": 1550641, \"Disruption\": 17883, \"Total_Flights\": 1568524, \"Disrupt_Pct\": 1.1401164406792628, \"Avg_Profit\": 13.299417796603686, \"Avg_Total_Cost\": 5.700582203396314, \"Avg_Cancel_Cost\": 3.9320405680754646, \"Avg_Delay_Cost\": 1.7685416353208492, \"Month\": \"October\"}, {\"Arrived\": 1476732, \"Disruption\": 14546, \"Total_Flights\": 1491278, \"Disrupt_Pct\": 0.975404988204748, \"Avg_Profit\": 14.12297505897626, \"Avg_Total_Cost\": 4.877024941023739, \"Avg_Cancel_Cost\": 3.011510932233963, \"Avg_Delay_Cost\": 1.8655140087897766, \"Month\": \"November\"}, {\"Arrived\": 1375403, \"Disruption\": 28981, \"Total_Flights\": 1404384, \"Disrupt_Pct\": 2.0636093831886435, \"Avg_Profit\": 8.681953084056783, \"Avg_Total_Cost\": 10.318046915943217, \"Avg_Cancel_Cost\": 7.423539430810947, \"Avg_Delay_Cost\": 2.8945074851322703, \"Month\": \"December\"}]}};\n",
              "      var embedOpt = {\"mode\": \"vega-lite\"};\n",
              "\n",
              "      function showError(el, error){\n",
              "          el.innerHTML = ('<div class=\"error\" style=\"color:red;\">'\n",
              "                          + '<p>JavaScript Error: ' + error.message + '</p>'\n",
              "                          + \"<p>This usually means there's a typo in your chart specification. \"\n",
              "                          + \"See the javascript console for the full traceback.</p>\"\n",
              "                          + '</div>');\n",
              "          throw error;\n",
              "      }\n",
              "      const el = document.getElementById('altair-viz');\n",
              "      vegaEmbed(\"#altair-viz\", spec, embedOpt)\n",
              "        .catch(error => showError(el, error));\n",
              "\n",
              "  </script>\n",
              "</body>\n",
              "</html>"
            ]
          },
          "metadata": {
            "tags": []
          },
          "execution_count": 82
        }
      ]
    },
    {
      "metadata": {
        "id": "zf6ovV1s3QZN",
        "colab_type": "code",
        "outputId": "3d4368c9-8cdb-464d-e944-a3fe6d40d1bb",
        "colab": {
          "base_uri": "https://localhost:8080/",
          "height": 628
        }
      },
      "cell_type": "code",
      "source": [
        "# Total disruption costs by month\n",
        "month_stats('Avg_Total_Cost', 'Average Disruption Costs per Customer by Month')"
      ],
      "execution_count": 0,
      "outputs": [
        {
          "output_type": "execute_result",
          "data": {
            "text/plain": [
              "Chart({\n",
              "  config: Config({\n",
              "    axis: AxisConfig({\n",
              "      labelFontSize: 16,\n",
              "      titleFontSize: 16\n",
              "    }),\n",
              "    title: VgTitleConfig({\n",
              "      fontSize: 24\n",
              "    })\n",
              "  }),\n",
              "  data:        Arrived  Disruption  Total_Flights  Disrupt_Pct  Avg_Profit  \\\n",
              "  Month                                                                \n",
              "  1      1420777       45185        1465962        3.082       3.589   \n",
              "  2      1327000       28137        1355137        2.076       8.618   \n",
              "  3      1543203       36503        1579706        2.311       7.446   \n",
              "  4      1500255       25750        1526005        1.687      10.563   \n",
              "  5      1561189       21181        1582370        1.339      12.307   \n",
              "  6      1576931       31165        1608096        1.938       9.310   \n",
              "  7      1618787       38039        1656826        2.296       7.521   \n",
              "  8      1612474       40997        1653471        2.479       6.603   \n",
              "  9      1469049       30305        1499354        2.021       8.894   \n",
              "  10     1550641       17883        1568524        1.140      13.299   \n",
              "  11     1476732       14546        1491278        0.975      14.123   \n",
              "  12     1375403       28981        1404384        2.064       8.682   \n",
              "  \n",
              "         Avg_Total_Cost  Avg_Cancel_Cost  Avg_Delay_Cost      Month  \n",
              "  Month                                                              \n",
              "  1              15.411           12.865           2.546    January  \n",
              "  2              10.382            8.158           2.223   February  \n",
              "  3              11.554            9.666           1.887      March  \n",
              "  4               8.437            5.818           2.619      April  \n",
              "  5               6.693            4.330           2.363        May  \n",
              "  6               9.690            6.547           3.143       June  \n",
              "  7              11.479            7.891           3.588       July  \n",
              "  8              12.397            9.148           3.249     August  \n",
              "  9              10.106            8.334           1.772  September  \n",
              "  10              5.701            3.932           1.769    October  \n",
              "  11              4.877            3.012           1.866   November  \n",
              "  12             10.318            7.424           2.895   December  ,\n",
              "  encoding: EncodingWithFacet({\n",
              "    color: Color({\n",
              "      legend: None,\n",
              "      shorthand: 'Month'\n",
              "    }),\n",
              "    x: X({\n",
              "      shorthand: 'Month',\n",
              "      sort: ['January', 'February', 'March', 'April', 'May', 'June', 'July', 'August', 'September', 'October', 'November', 'December']\n",
              "    }),\n",
              "    y: Y({\n",
              "      shorthand: 'Avg_Total_Cost'\n",
              "    })\n",
              "  }),\n",
              "  height: 450,\n",
              "  mark: 'bar',\n",
              "  title: 'Average Disruption Costs per Customer by Month',\n",
              "  width: 1100\n",
              "})"
            ],
            "text/html": [
              "<!DOCTYPE html>\n",
              "<html>\n",
              "<head>\n",
              "  <style>\n",
              "    .vega-actions a {\n",
              "        margin-right: 12px;\n",
              "        color: #757575;\n",
              "        font-weight: normal;\n",
              "        font-size: 13px;\n",
              "    }\n",
              "    .error {\n",
              "        color: red;\n",
              "    }\n",
              "  </style>\n",
              "  <script type=\"text/javascript\" src=\"https://cdn.jsdelivr.net/npm//vega@4\"></script>\n",
              "  <script type=\"text/javascript\" src=\"https://cdn.jsdelivr.net/npm//vega-lite@2.6.0\"></script>\n",
              "  <script type=\"text/javascript\" src=\"https://cdn.jsdelivr.net/npm//vega-embed@3\"></script>\n",
              "</head>\n",
              "<body>\n",
              "  <div id=\"altair-viz\"></div>\n",
              "  <script>\n",
              "      var spec = {\"config\": {\"view\": {\"width\": 400, \"height\": 300}, \"axis\": {\"labelFontSize\": 16, \"titleFontSize\": 16}, \"title\": {\"fontSize\": 24}}, \"data\": {\"name\": \"data-0dfff493ea2f55eea2360214717d4b07\"}, \"mark\": \"bar\", \"encoding\": {\"color\": {\"type\": \"nominal\", \"field\": \"Month\", \"legend\": null}, \"x\": {\"type\": \"nominal\", \"field\": \"Month\", \"sort\": [\"January\", \"February\", \"March\", \"April\", \"May\", \"June\", \"July\", \"August\", \"September\", \"October\", \"November\", \"December\"]}, \"y\": {\"type\": \"quantitative\", \"field\": \"Avg_Total_Cost\"}}, \"height\": 450, \"title\": \"Average Disruption Costs per Customer by Month\", \"width\": 1100, \"$schema\": \"https://vega.github.io/schema/vega-lite/v2.6.0.json\", \"datasets\": {\"data-0dfff493ea2f55eea2360214717d4b07\": [{\"Arrived\": 1420777, \"Disruption\": 45185, \"Total_Flights\": 1465962, \"Disrupt_Pct\": 3.0822763482273077, \"Avg_Profit\": 3.588618258863463, \"Avg_Total_Cost\": 15.411381741136537, \"Avg_Cancel_Cost\": 12.865272087543879, \"Avg_Delay_Cost\": 2.5461096535926586, \"Month\": \"January\"}, {\"Arrived\": 1327000, \"Disruption\": 28137, \"Total_Flights\": 1355137, \"Disrupt_Pct\": 2.076321434659374, \"Avg_Profit\": 8.618392826703131, \"Avg_Total_Cost\": 10.381607173296869, \"Avg_Cancel_Cost\": 8.158215737597011, \"Avg_Delay_Cost\": 2.223391435699858, \"Month\": \"February\"}, {\"Arrived\": 1543203, \"Disruption\": 36503, \"Total_Flights\": 1579706, \"Disrupt_Pct\": 2.310746430031917, \"Avg_Profit\": 7.446267849840413, \"Avg_Total_Cost\": 11.553732150159586, \"Avg_Cancel_Cost\": 9.666355638327639, \"Avg_Delay_Cost\": 1.8873765118319472, \"Month\": \"March\"}, {\"Arrived\": 1500255, \"Disruption\": 25750, \"Total_Flights\": 1526005, \"Disrupt_Pct\": 1.6874125576259578, \"Avg_Profit\": 10.56293721187021, \"Avg_Total_Cost\": 8.43706278812979, \"Avg_Cancel_Cost\": 5.818460621033352, \"Avg_Delay_Cost\": 2.618602167096438, \"Month\": \"April\"}, {\"Arrived\": 1561189, \"Disruption\": 21181, \"Total_Flights\": 1582370, \"Disrupt_Pct\": 1.3385617775867844, \"Avg_Profit\": 12.307191112066079, \"Avg_Total_Cost\": 6.692808887933922, \"Avg_Cancel_Cost\": 4.329897558725204, \"Avg_Delay_Cost\": 2.3629113292087185, \"Month\": \"May\"}, {\"Arrived\": 1576931, \"Disruption\": 31165, \"Total_Flights\": 1608096, \"Disrupt_Pct\": 1.9380061886852527, \"Avg_Profit\": 9.309969056573737, \"Avg_Total_Cost\": 9.690030943426263, \"Avg_Cancel_Cost\": 6.5465618968021815, \"Avg_Delay_Cost\": 3.143469046624082, \"Month\": \"June\"}, {\"Arrived\": 1618787, \"Disruption\": 38039, \"Total_Flights\": 1656826, \"Disrupt_Pct\": 2.295895887679213, \"Avg_Profit\": 7.520520561603934, \"Avg_Total_Cost\": 11.479479438396066, \"Avg_Cancel_Cost\": 7.891293352470326, \"Avg_Delay_Cost\": 3.5881860859257397, \"Month\": \"July\"}, {\"Arrived\": 1612474, \"Disruption\": 40997, \"Total_Flights\": 1653471, \"Disrupt_Pct\": 2.479450803793958, \"Avg_Profit\": 6.602745981030209, \"Avg_Total_Cost\": 12.397254018969791, \"Avg_Cancel_Cost\": 9.148330995826354, \"Avg_Delay_Cost\": 3.248923023143437, \"Month\": \"August\"}, {\"Arrived\": 1469049, \"Disruption\": 30305, \"Total_Flights\": 1499354, \"Disrupt_Pct\": 2.0212037984358595, \"Avg_Profit\": 8.8939810078207, \"Avg_Total_Cost\": 10.1060189921793, \"Avg_Cancel_Cost\": 8.334255952897049, \"Avg_Delay_Cost\": 1.7717630392822503, \"Month\": \"September\"}, {\"Arrived\": 1550641, \"Disruption\": 17883, \"Total_Flights\": 1568524, \"Disrupt_Pct\": 1.1401164406792628, \"Avg_Profit\": 13.299417796603686, \"Avg_Total_Cost\": 5.700582203396314, \"Avg_Cancel_Cost\": 3.9320405680754646, \"Avg_Delay_Cost\": 1.7685416353208492, \"Month\": \"October\"}, {\"Arrived\": 1476732, \"Disruption\": 14546, \"Total_Flights\": 1491278, \"Disrupt_Pct\": 0.975404988204748, \"Avg_Profit\": 14.12297505897626, \"Avg_Total_Cost\": 4.877024941023739, \"Avg_Cancel_Cost\": 3.011510932233963, \"Avg_Delay_Cost\": 1.8655140087897766, \"Month\": \"November\"}, {\"Arrived\": 1375403, \"Disruption\": 28981, \"Total_Flights\": 1404384, \"Disrupt_Pct\": 2.0636093831886435, \"Avg_Profit\": 8.681953084056783, \"Avg_Total_Cost\": 10.318046915943217, \"Avg_Cancel_Cost\": 7.423539430810947, \"Avg_Delay_Cost\": 2.8945074851322703, \"Month\": \"December\"}]}};\n",
              "      var embedOpt = {\"mode\": \"vega-lite\"};\n",
              "\n",
              "      function showError(el, error){\n",
              "          el.innerHTML = ('<div class=\"error\" style=\"color:red;\">'\n",
              "                          + '<p>JavaScript Error: ' + error.message + '</p>'\n",
              "                          + \"<p>This usually means there's a typo in your chart specification. \"\n",
              "                          + \"See the javascript console for the full traceback.</p>\"\n",
              "                          + '</div>');\n",
              "          throw error;\n",
              "      }\n",
              "      const el = document.getElementById('altair-viz');\n",
              "      vegaEmbed(\"#altair-viz\", spec, embedOpt)\n",
              "        .catch(error => showError(el, error));\n",
              "\n",
              "  </script>\n",
              "</body>\n",
              "</html>"
            ]
          },
          "metadata": {
            "tags": []
          },
          "execution_count": 83
        }
      ]
    },
    {
      "metadata": {
        "id": "kDrBQQdj4Nit",
        "colab_type": "code",
        "outputId": "fde0847f-55d8-4655-fe3b-3fd3b6c3e210",
        "colab": {
          "base_uri": "https://localhost:8080/",
          "height": 648
        }
      },
      "cell_type": "code",
      "source": [
        "# total cancellation costs per customer by month\n",
        "month_stats('Avg_Cancel_Cost', 'Average Cancellation Costs per Customer by Month')"
      ],
      "execution_count": 0,
      "outputs": [
        {
          "output_type": "execute_result",
          "data": {
            "text/plain": [
              "Chart({\n",
              "  config: Config({\n",
              "    axis: AxisConfig({\n",
              "      labelFontSize: 16,\n",
              "      titleFontSize: 16\n",
              "    }),\n",
              "    title: VgTitleConfig({\n",
              "      fontSize: 24\n",
              "    })\n",
              "  }),\n",
              "  data:        Arrived  Disruption  Total_Flights  Disrupt_Pct  Avg_Profit  \\\n",
              "  Month                                                                \n",
              "  1      1420777       45185        1465962        3.082       3.589   \n",
              "  2      1327000       28137        1355137        2.076       8.618   \n",
              "  3      1543203       36503        1579706        2.311       7.446   \n",
              "  4      1500255       25750        1526005        1.687      10.563   \n",
              "  5      1561189       21181        1582370        1.339      12.307   \n",
              "  6      1576931       31165        1608096        1.938       9.310   \n",
              "  7      1618787       38039        1656826        2.296       7.521   \n",
              "  8      1612474       40997        1653471        2.479       6.603   \n",
              "  9      1469049       30305        1499354        2.021       8.894   \n",
              "  10     1550641       17883        1568524        1.140      13.299   \n",
              "  11     1476732       14546        1491278        0.975      14.123   \n",
              "  12     1375403       28981        1404384        2.064       8.682   \n",
              "  \n",
              "         Avg_Total_Cost  Avg_Cancel_Cost  Avg_Delay_Cost      Month  \n",
              "  Month                                                              \n",
              "  1              15.411           12.865           2.546    January  \n",
              "  2              10.382            8.158           2.223   February  \n",
              "  3              11.554            9.666           1.887      March  \n",
              "  4               8.437            5.818           2.619      April  \n",
              "  5               6.693            4.330           2.363        May  \n",
              "  6               9.690            6.547           3.143       June  \n",
              "  7              11.479            7.891           3.588       July  \n",
              "  8              12.397            9.148           3.249     August  \n",
              "  9              10.106            8.334           1.772  September  \n",
              "  10              5.701            3.932           1.769    October  \n",
              "  11              4.877            3.012           1.866   November  \n",
              "  12             10.318            7.424           2.895   December  ,\n",
              "  encoding: EncodingWithFacet({\n",
              "    color: Color({\n",
              "      legend: None,\n",
              "      shorthand: 'Month'\n",
              "    }),\n",
              "    x: X({\n",
              "      shorthand: 'Month',\n",
              "      sort: ['January', 'February', 'March', 'April', 'May', 'June', 'July', 'August', 'September', 'October', 'November', 'December']\n",
              "    }),\n",
              "    y: Y({\n",
              "      shorthand: 'Avg_Cancel_Cost'\n",
              "    })\n",
              "  }),\n",
              "  height: 450,\n",
              "  mark: 'bar',\n",
              "  title: 'Average Cancellation Costs per Customer by Month',\n",
              "  width: 1100\n",
              "})"
            ],
            "text/html": [
              "<!DOCTYPE html>\n",
              "<html>\n",
              "<head>\n",
              "  <style>\n",
              "    .vega-actions a {\n",
              "        margin-right: 12px;\n",
              "        color: #757575;\n",
              "        font-weight: normal;\n",
              "        font-size: 13px;\n",
              "    }\n",
              "    .error {\n",
              "        color: red;\n",
              "    }\n",
              "  </style>\n",
              "  <script type=\"text/javascript\" src=\"https://cdn.jsdelivr.net/npm//vega@4\"></script>\n",
              "  <script type=\"text/javascript\" src=\"https://cdn.jsdelivr.net/npm//vega-lite@2.6.0\"></script>\n",
              "  <script type=\"text/javascript\" src=\"https://cdn.jsdelivr.net/npm//vega-embed@3\"></script>\n",
              "</head>\n",
              "<body>\n",
              "  <div id=\"altair-viz\"></div>\n",
              "  <script>\n",
              "      var spec = {\"config\": {\"view\": {\"width\": 400, \"height\": 300}, \"axis\": {\"labelFontSize\": 16, \"titleFontSize\": 16}, \"title\": {\"fontSize\": 24}}, \"data\": {\"name\": \"data-0dfff493ea2f55eea2360214717d4b07\"}, \"mark\": \"bar\", \"encoding\": {\"color\": {\"type\": \"nominal\", \"field\": \"Month\", \"legend\": null}, \"x\": {\"type\": \"nominal\", \"field\": \"Month\", \"sort\": [\"January\", \"February\", \"March\", \"April\", \"May\", \"June\", \"July\", \"August\", \"September\", \"October\", \"November\", \"December\"]}, \"y\": {\"type\": \"quantitative\", \"field\": \"Avg_Cancel_Cost\"}}, \"height\": 450, \"title\": \"Average Cancellation Costs per Customer by Month\", \"width\": 1100, \"$schema\": \"https://vega.github.io/schema/vega-lite/v2.6.0.json\", \"datasets\": {\"data-0dfff493ea2f55eea2360214717d4b07\": [{\"Arrived\": 1420777, \"Disruption\": 45185, \"Total_Flights\": 1465962, \"Disrupt_Pct\": 3.0822763482273077, \"Avg_Profit\": 3.588618258863463, \"Avg_Total_Cost\": 15.411381741136537, \"Avg_Cancel_Cost\": 12.865272087543879, \"Avg_Delay_Cost\": 2.5461096535926586, \"Month\": \"January\"}, {\"Arrived\": 1327000, \"Disruption\": 28137, \"Total_Flights\": 1355137, \"Disrupt_Pct\": 2.076321434659374, \"Avg_Profit\": 8.618392826703131, \"Avg_Total_Cost\": 10.381607173296869, \"Avg_Cancel_Cost\": 8.158215737597011, \"Avg_Delay_Cost\": 2.223391435699858, \"Month\": \"February\"}, {\"Arrived\": 1543203, \"Disruption\": 36503, \"Total_Flights\": 1579706, \"Disrupt_Pct\": 2.310746430031917, \"Avg_Profit\": 7.446267849840413, \"Avg_Total_Cost\": 11.553732150159586, \"Avg_Cancel_Cost\": 9.666355638327639, \"Avg_Delay_Cost\": 1.8873765118319472, \"Month\": \"March\"}, {\"Arrived\": 1500255, \"Disruption\": 25750, \"Total_Flights\": 1526005, \"Disrupt_Pct\": 1.6874125576259578, \"Avg_Profit\": 10.56293721187021, \"Avg_Total_Cost\": 8.43706278812979, \"Avg_Cancel_Cost\": 5.818460621033352, \"Avg_Delay_Cost\": 2.618602167096438, \"Month\": \"April\"}, {\"Arrived\": 1561189, \"Disruption\": 21181, \"Total_Flights\": 1582370, \"Disrupt_Pct\": 1.3385617775867844, \"Avg_Profit\": 12.307191112066079, \"Avg_Total_Cost\": 6.692808887933922, \"Avg_Cancel_Cost\": 4.329897558725204, \"Avg_Delay_Cost\": 2.3629113292087185, \"Month\": \"May\"}, {\"Arrived\": 1576931, \"Disruption\": 31165, \"Total_Flights\": 1608096, \"Disrupt_Pct\": 1.9380061886852527, \"Avg_Profit\": 9.309969056573737, \"Avg_Total_Cost\": 9.690030943426263, \"Avg_Cancel_Cost\": 6.5465618968021815, \"Avg_Delay_Cost\": 3.143469046624082, \"Month\": \"June\"}, {\"Arrived\": 1618787, \"Disruption\": 38039, \"Total_Flights\": 1656826, \"Disrupt_Pct\": 2.295895887679213, \"Avg_Profit\": 7.520520561603934, \"Avg_Total_Cost\": 11.479479438396066, \"Avg_Cancel_Cost\": 7.891293352470326, \"Avg_Delay_Cost\": 3.5881860859257397, \"Month\": \"July\"}, {\"Arrived\": 1612474, \"Disruption\": 40997, \"Total_Flights\": 1653471, \"Disrupt_Pct\": 2.479450803793958, \"Avg_Profit\": 6.602745981030209, \"Avg_Total_Cost\": 12.397254018969791, \"Avg_Cancel_Cost\": 9.148330995826354, \"Avg_Delay_Cost\": 3.248923023143437, \"Month\": \"August\"}, {\"Arrived\": 1469049, \"Disruption\": 30305, \"Total_Flights\": 1499354, \"Disrupt_Pct\": 2.0212037984358595, \"Avg_Profit\": 8.8939810078207, \"Avg_Total_Cost\": 10.1060189921793, \"Avg_Cancel_Cost\": 8.334255952897049, \"Avg_Delay_Cost\": 1.7717630392822503, \"Month\": \"September\"}, {\"Arrived\": 1550641, \"Disruption\": 17883, \"Total_Flights\": 1568524, \"Disrupt_Pct\": 1.1401164406792628, \"Avg_Profit\": 13.299417796603686, \"Avg_Total_Cost\": 5.700582203396314, \"Avg_Cancel_Cost\": 3.9320405680754646, \"Avg_Delay_Cost\": 1.7685416353208492, \"Month\": \"October\"}, {\"Arrived\": 1476732, \"Disruption\": 14546, \"Total_Flights\": 1491278, \"Disrupt_Pct\": 0.975404988204748, \"Avg_Profit\": 14.12297505897626, \"Avg_Total_Cost\": 4.877024941023739, \"Avg_Cancel_Cost\": 3.011510932233963, \"Avg_Delay_Cost\": 1.8655140087897766, \"Month\": \"November\"}, {\"Arrived\": 1375403, \"Disruption\": 28981, \"Total_Flights\": 1404384, \"Disrupt_Pct\": 2.0636093831886435, \"Avg_Profit\": 8.681953084056783, \"Avg_Total_Cost\": 10.318046915943217, \"Avg_Cancel_Cost\": 7.423539430810947, \"Avg_Delay_Cost\": 2.8945074851322703, \"Month\": \"December\"}]}};\n",
              "      var embedOpt = {\"mode\": \"vega-lite\"};\n",
              "\n",
              "      function showError(el, error){\n",
              "          el.innerHTML = ('<div class=\"error\" style=\"color:red;\">'\n",
              "                          + '<p>JavaScript Error: ' + error.message + '</p>'\n",
              "                          + \"<p>This usually means there's a typo in your chart specification. \"\n",
              "                          + \"See the javascript console for the full traceback.</p>\"\n",
              "                          + '</div>');\n",
              "          throw error;\n",
              "      }\n",
              "      const el = document.getElementById('altair-viz');\n",
              "      vegaEmbed(\"#altair-viz\", spec, embedOpt)\n",
              "        .catch(error => showError(el, error));\n",
              "\n",
              "  </script>\n",
              "</body>\n",
              "</html>"
            ]
          },
          "metadata": {
            "tags": []
          },
          "execution_count": 46
        }
      ]
    },
    {
      "metadata": {
        "id": "JphNYsCl4TzB",
        "colab_type": "code",
        "outputId": "e0f4f8d5-b739-4f01-d177-a748b1d75eb0",
        "colab": {
          "base_uri": "https://localhost:8080/",
          "height": 648
        }
      },
      "cell_type": "code",
      "source": [
        "# total delay costs per customer by month\n",
        "month_stats('Avg_Delay_Cost', 'Average Delay Costs per Customer by Month')"
      ],
      "execution_count": 0,
      "outputs": [
        {
          "output_type": "execute_result",
          "data": {
            "text/plain": [
              "Chart({\n",
              "  config: Config({\n",
              "    axis: AxisConfig({\n",
              "      labelFontSize: 16,\n",
              "      titleFontSize: 16\n",
              "    }),\n",
              "    title: VgTitleConfig({\n",
              "      fontSize: 24\n",
              "    })\n",
              "  }),\n",
              "  data:        Arrived  Disruption  Total_Flights  Disrupt_Pct  Avg_Profit  \\\n",
              "  Month                                                                \n",
              "  1      1420777       45185        1465962        3.082       3.589   \n",
              "  2      1327000       28137        1355137        2.076       8.618   \n",
              "  3      1543203       36503        1579706        2.311       7.446   \n",
              "  4      1500255       25750        1526005        1.687      10.563   \n",
              "  5      1561189       21181        1582370        1.339      12.307   \n",
              "  6      1576931       31165        1608096        1.938       9.310   \n",
              "  7      1618787       38039        1656826        2.296       7.521   \n",
              "  8      1612474       40997        1653471        2.479       6.603   \n",
              "  9      1469049       30305        1499354        2.021       8.894   \n",
              "  10     1550641       17883        1568524        1.140      13.299   \n",
              "  11     1476732       14546        1491278        0.975      14.123   \n",
              "  12     1375403       28981        1404384        2.064       8.682   \n",
              "  \n",
              "         Avg_Total_Cost  Avg_Cancel_Cost  Avg_Delay_Cost      Month  \n",
              "  Month                                                              \n",
              "  1              15.411           12.865           2.546    January  \n",
              "  2              10.382            8.158           2.223   February  \n",
              "  3              11.554            9.666           1.887      March  \n",
              "  4               8.437            5.818           2.619      April  \n",
              "  5               6.693            4.330           2.363        May  \n",
              "  6               9.690            6.547           3.143       June  \n",
              "  7              11.479            7.891           3.588       July  \n",
              "  8              12.397            9.148           3.249     August  \n",
              "  9              10.106            8.334           1.772  September  \n",
              "  10              5.701            3.932           1.769    October  \n",
              "  11              4.877            3.012           1.866   November  \n",
              "  12             10.318            7.424           2.895   December  ,\n",
              "  encoding: EncodingWithFacet({\n",
              "    color: Color({\n",
              "      legend: None,\n",
              "      shorthand: 'Month'\n",
              "    }),\n",
              "    x: X({\n",
              "      shorthand: 'Month',\n",
              "      sort: ['January', 'February', 'March', 'April', 'May', 'June', 'July', 'August', 'September', 'October', 'November', 'December']\n",
              "    }),\n",
              "    y: Y({\n",
              "      shorthand: 'Avg_Delay_Cost'\n",
              "    })\n",
              "  }),\n",
              "  height: 450,\n",
              "  mark: 'bar',\n",
              "  title: 'Average Delay Costs per Customer by Month',\n",
              "  width: 1100\n",
              "})"
            ],
            "text/html": [
              "<!DOCTYPE html>\n",
              "<html>\n",
              "<head>\n",
              "  <style>\n",
              "    .vega-actions a {\n",
              "        margin-right: 12px;\n",
              "        color: #757575;\n",
              "        font-weight: normal;\n",
              "        font-size: 13px;\n",
              "    }\n",
              "    .error {\n",
              "        color: red;\n",
              "    }\n",
              "  </style>\n",
              "  <script type=\"text/javascript\" src=\"https://cdn.jsdelivr.net/npm//vega@4\"></script>\n",
              "  <script type=\"text/javascript\" src=\"https://cdn.jsdelivr.net/npm//vega-lite@2.6.0\"></script>\n",
              "  <script type=\"text/javascript\" src=\"https://cdn.jsdelivr.net/npm//vega-embed@3\"></script>\n",
              "</head>\n",
              "<body>\n",
              "  <div id=\"altair-viz\"></div>\n",
              "  <script>\n",
              "      var spec = {\"config\": {\"view\": {\"width\": 400, \"height\": 300}, \"axis\": {\"labelFontSize\": 16, \"titleFontSize\": 16}, \"title\": {\"fontSize\": 24}}, \"data\": {\"name\": \"data-0dfff493ea2f55eea2360214717d4b07\"}, \"mark\": \"bar\", \"encoding\": {\"color\": {\"type\": \"nominal\", \"field\": \"Month\", \"legend\": null}, \"x\": {\"type\": \"nominal\", \"field\": \"Month\", \"sort\": [\"January\", \"February\", \"March\", \"April\", \"May\", \"June\", \"July\", \"August\", \"September\", \"October\", \"November\", \"December\"]}, \"y\": {\"type\": \"quantitative\", \"field\": \"Avg_Delay_Cost\"}}, \"height\": 450, \"title\": \"Average Delay Costs per Customer by Month\", \"width\": 1100, \"$schema\": \"https://vega.github.io/schema/vega-lite/v2.6.0.json\", \"datasets\": {\"data-0dfff493ea2f55eea2360214717d4b07\": [{\"Arrived\": 1420777, \"Disruption\": 45185, \"Total_Flights\": 1465962, \"Disrupt_Pct\": 3.0822763482273077, \"Avg_Profit\": 3.588618258863463, \"Avg_Total_Cost\": 15.411381741136537, \"Avg_Cancel_Cost\": 12.865272087543879, \"Avg_Delay_Cost\": 2.5461096535926586, \"Month\": \"January\"}, {\"Arrived\": 1327000, \"Disruption\": 28137, \"Total_Flights\": 1355137, \"Disrupt_Pct\": 2.076321434659374, \"Avg_Profit\": 8.618392826703131, \"Avg_Total_Cost\": 10.381607173296869, \"Avg_Cancel_Cost\": 8.158215737597011, \"Avg_Delay_Cost\": 2.223391435699858, \"Month\": \"February\"}, {\"Arrived\": 1543203, \"Disruption\": 36503, \"Total_Flights\": 1579706, \"Disrupt_Pct\": 2.310746430031917, \"Avg_Profit\": 7.446267849840413, \"Avg_Total_Cost\": 11.553732150159586, \"Avg_Cancel_Cost\": 9.666355638327639, \"Avg_Delay_Cost\": 1.8873765118319472, \"Month\": \"March\"}, {\"Arrived\": 1500255, \"Disruption\": 25750, \"Total_Flights\": 1526005, \"Disrupt_Pct\": 1.6874125576259578, \"Avg_Profit\": 10.56293721187021, \"Avg_Total_Cost\": 8.43706278812979, \"Avg_Cancel_Cost\": 5.818460621033352, \"Avg_Delay_Cost\": 2.618602167096438, \"Month\": \"April\"}, {\"Arrived\": 1561189, \"Disruption\": 21181, \"Total_Flights\": 1582370, \"Disrupt_Pct\": 1.3385617775867844, \"Avg_Profit\": 12.307191112066079, \"Avg_Total_Cost\": 6.692808887933922, \"Avg_Cancel_Cost\": 4.329897558725204, \"Avg_Delay_Cost\": 2.3629113292087185, \"Month\": \"May\"}, {\"Arrived\": 1576931, \"Disruption\": 31165, \"Total_Flights\": 1608096, \"Disrupt_Pct\": 1.9380061886852527, \"Avg_Profit\": 9.309969056573737, \"Avg_Total_Cost\": 9.690030943426263, \"Avg_Cancel_Cost\": 6.5465618968021815, \"Avg_Delay_Cost\": 3.143469046624082, \"Month\": \"June\"}, {\"Arrived\": 1618787, \"Disruption\": 38039, \"Total_Flights\": 1656826, \"Disrupt_Pct\": 2.295895887679213, \"Avg_Profit\": 7.520520561603934, \"Avg_Total_Cost\": 11.479479438396066, \"Avg_Cancel_Cost\": 7.891293352470326, \"Avg_Delay_Cost\": 3.5881860859257397, \"Month\": \"July\"}, {\"Arrived\": 1612474, \"Disruption\": 40997, \"Total_Flights\": 1653471, \"Disrupt_Pct\": 2.479450803793958, \"Avg_Profit\": 6.602745981030209, \"Avg_Total_Cost\": 12.397254018969791, \"Avg_Cancel_Cost\": 9.148330995826354, \"Avg_Delay_Cost\": 3.248923023143437, \"Month\": \"August\"}, {\"Arrived\": 1469049, \"Disruption\": 30305, \"Total_Flights\": 1499354, \"Disrupt_Pct\": 2.0212037984358595, \"Avg_Profit\": 8.8939810078207, \"Avg_Total_Cost\": 10.1060189921793, \"Avg_Cancel_Cost\": 8.334255952897049, \"Avg_Delay_Cost\": 1.7717630392822503, \"Month\": \"September\"}, {\"Arrived\": 1550641, \"Disruption\": 17883, \"Total_Flights\": 1568524, \"Disrupt_Pct\": 1.1401164406792628, \"Avg_Profit\": 13.299417796603686, \"Avg_Total_Cost\": 5.700582203396314, \"Avg_Cancel_Cost\": 3.9320405680754646, \"Avg_Delay_Cost\": 1.7685416353208492, \"Month\": \"October\"}, {\"Arrived\": 1476732, \"Disruption\": 14546, \"Total_Flights\": 1491278, \"Disrupt_Pct\": 0.975404988204748, \"Avg_Profit\": 14.12297505897626, \"Avg_Total_Cost\": 4.877024941023739, \"Avg_Cancel_Cost\": 3.011510932233963, \"Avg_Delay_Cost\": 1.8655140087897766, \"Month\": \"November\"}, {\"Arrived\": 1375403, \"Disruption\": 28981, \"Total_Flights\": 1404384, \"Disrupt_Pct\": 2.0636093831886435, \"Avg_Profit\": 8.681953084056783, \"Avg_Total_Cost\": 10.318046915943217, \"Avg_Cancel_Cost\": 7.423539430810947, \"Avg_Delay_Cost\": 2.8945074851322703, \"Month\": \"December\"}]}};\n",
              "      var embedOpt = {\"mode\": \"vega-lite\"};\n",
              "\n",
              "      function showError(el, error){\n",
              "          el.innerHTML = ('<div class=\"error\" style=\"color:red;\">'\n",
              "                          + '<p>JavaScript Error: ' + error.message + '</p>'\n",
              "                          + \"<p>This usually means there's a typo in your chart specification. \"\n",
              "                          + \"See the javascript console for the full traceback.</p>\"\n",
              "                          + '</div>');\n",
              "          throw error;\n",
              "      }\n",
              "      const el = document.getElementById('altair-viz');\n",
              "      vegaEmbed(\"#altair-viz\", spec, embedOpt)\n",
              "        .catch(error => showError(el, error));\n",
              "\n",
              "  </script>\n",
              "</body>\n",
              "</html>"
            ]
          },
          "metadata": {
            "tags": []
          },
          "execution_count": 47
        }
      ]
    },
    {
      "metadata": {
        "id": "oQrylLhg4ZU4",
        "colab_type": "text"
      },
      "cell_type": "markdown",
      "source": [
        "The month stats give us a wealth of data. Cancellations are most common in January, but also high in December, February, and March. Cancellations are lowest April through June and also October and November. \n",
        "\n",
        "Delays, on the other hand, are highest in the summer months (June, July, August)."
      ]
    },
    {
      "metadata": {
        "id": "-fozXG7VN_Wh",
        "colab_type": "text"
      },
      "cell_type": "markdown",
      "source": [
        "# State Stats Visualizations"
      ]
    },
    {
      "metadata": {
        "id": "RexLOv9nODWk",
        "colab_type": "code",
        "colab": {}
      },
      "cell_type": "code",
      "source": [
        "# plot state stats with altair\n",
        "def state_stats(df, feature, title_text=\"\"): \n",
        "    bars = alt.Chart(df, title=title_text, height=450, width=1100).configure_title(fontSize=24).mark_bar().encode(\n",
        "        x = 'State', \n",
        "        y = feature, \n",
        "        color = alt.Color('State', legend=None)).configure_axis(\n",
        "    labelFontSize=14,\n",
        "    titleFontSize=14\n",
        ")\n",
        "    \n",
        "    return bars"
      ],
      "execution_count": 0,
      "outputs": []
    },
    {
      "metadata": {
        "id": "n9qOcnaqODev",
        "colab_type": "code",
        "outputId": "d6c4d565-9f9c-4e44-87a5-8ba38037331b",
        "colab": {
          "base_uri": "https://localhost:8080/",
          "height": 568
        }
      },
      "cell_type": "code",
      "source": [
        "state_stats(origin_state_df, 'Disrupt_Pct', 'Disruption % by Origin State')"
      ],
      "execution_count": 102,
      "outputs": [
        {
          "output_type": "execute_result",
          "data": {
            "text/plain": [
              "Chart({\n",
              "  config: Config({\n",
              "    axis: AxisConfig({\n",
              "      labelFontSize: 14,\n",
              "      titleFontSize: 14\n",
              "    }),\n",
              "    title: VgTitleConfig({\n",
              "      fontSize: 24\n",
              "    })\n",
              "  }),\n",
              "  data:              Arrived  Disruption  Total_Flights  Disrupt_Pct  Avg_Profit  \\\n",
              "  OriginState                                                                \n",
              "  0            2234912       34946        2269858        1.540      11.302   \n",
              "  1            1848138       35635        1883773        1.892       9.542   \n",
              "  2            1114819       26859        1141678        2.353       7.237   \n",
              "  3            1172833       16648        1189481        1.400      12.002   \n",
              "  4            1426446       30639        1457085        2.103       8.486   \n",
              "  5             845241       31178         876419        3.557       1.213   \n",
              "  6             745470       11470         756940        1.515      11.423   \n",
              "  7             544976        5124         550100        0.931      14.343   \n",
              "  8             627896       15160         643056        2.357       7.213   \n",
              "  9             522078       15828         537906        2.943       4.287   \n",
              "  10            506136        6142         512278        1.199      13.005   \n",
              "  11            495680        9103         504783        1.803       9.983   \n",
              "  12            453769        3697         457466        0.808      14.959   \n",
              "  13            387725       10554         398279        2.650       5.750   \n",
              "  14            438294        5848         444142        1.317      12.417   \n",
              "  15            341834        2480         344314        0.720      15.399   \n",
              "  16            334438        5784         340222        1.700      10.500   \n",
              "  17            387495        9843         397338        2.477       6.614   \n",
              "  18            377343       13975         391318        3.571       1.144   \n",
              "  19            312623        1942         314565        0.617      15.913   \n",
              "  20            296656        6814         303470        2.245       7.773   \n",
              "  21            277268        5512         282780        1.949       9.254   \n",
              "  22            249408        6351         255759        2.483       6.584   \n",
              "  23            210774        4328         215102        2.012       8.940   \n",
              "  24            215019        2669         217688        1.226      12.870   \n",
              "  25            158396        3712         162108        2.290       7.551   \n",
              "  26            142149        3634         145783        2.493       6.536   \n",
              "  27            100137        1757         101894        1.724      10.378   \n",
              "  28            141730        3090         144820        2.134       8.332   \n",
              "  29            113298        3784         117082        3.232       2.840   \n",
              "  30            109598        1569         111167        1.411      11.943   \n",
              "  31             83468        2048          85516        2.395       7.026   \n",
              "  32             69010         993          70003        1.419      11.907   \n",
              "  33             57447        1297          58744        2.208       7.961   \n",
              "  34             71303        1466          72769        2.015       8.927   \n",
              "  35             81742        2290          84032        2.725       5.374   \n",
              "  36             69295        1746          71041        2.458       6.711   \n",
              "  37             51745        1305          53050        2.460       6.700   \n",
              "  38             67955        1154          69109        1.670      10.651   \n",
              "  39             39698        1214          40912        2.967       4.163   \n",
              "  40             33072         813          33885        2.399       7.004   \n",
              "  41             53846         736          54582        1.348      12.258   \n",
              "  42             34262         964          35226        2.737       5.317   \n",
              "  43             43390        1346          44736        3.009       3.956   \n",
              "  44             26630         691          27321        2.529       6.354   \n",
              "  45             23853         561          24414        2.298       7.511   \n",
              "  46             22091         703          22794        3.084       3.579   \n",
              "  47             27917        1440          29357        4.905      -5.526   \n",
              "  48             15834         848          16682        5.083      -6.417   \n",
              "  49             14652         490          15142        3.236       2.820   \n",
              "  50             10804         446          11250        3.964      -0.822   \n",
              "  52              1848          46           1894        2.429       6.856   \n",
              "  \n",
              "               Avg_Total_Cost  Avg_Cancel_Cost  Avg_Delay_Cost State  \n",
              "  OriginState                                                         \n",
              "  0                     7.698            5.795           1.903    CA  \n",
              "  1                     9.458            7.374           2.084    TX  \n",
              "  2                    11.763            9.361           2.402    IL  \n",
              "  3                     6.998            4.793           2.205    GA  \n",
              "  4                    10.514            7.498           3.016    FL  \n",
              "  5                    17.787           13.675           4.112    NY  \n",
              "  6                     7.577            5.528           2.048    CO  \n",
              "  7                     4.657            3.336           1.322    AZ  \n",
              "  8                    11.787            9.496           2.291    NC  \n",
              "  9                    14.713           11.243           3.470    VA  \n",
              "  10                    5.995            4.202           1.793    NV  \n",
              "  11                    9.017            5.915           3.101    MI  \n",
              "  12                    4.041            2.636           1.404    WA  \n",
              "  13                   13.250           10.314           2.935    MA  \n",
              "  14                    6.583            4.288           2.295    MN  \n",
              "  15                    3.601            1.820           1.782    UT  \n",
              "  16                    8.500            6.397           2.103    MO  \n",
              "  17                   12.386            9.575           2.811    PA  \n",
              "  18                   17.856           14.143           3.713    NJ  \n",
              "  19                    3.087            1.718           1.369    HI  \n",
              "  20                   11.227            9.414           1.812    MD  \n",
              "  21                    9.746            6.767           2.979    TN  \n",
              "  22                   12.416            9.067           3.349    OH  \n",
              "  23                   10.060            6.781           3.280    LA  \n",
              "  24                    6.130            4.104           2.026    OR  \n",
              "  25                   11.449            8.084           3.365    WI  \n",
              "  26                   12.464            8.808           3.656    KY  \n",
              "  27                    8.622            6.080           2.542    OK  \n",
              "  28                   10.668            6.995           3.674    IN  \n",
              "  29                   16.160           12.525           3.634    SC  \n",
              "  30                    7.057            5.631           1.426    AK  \n",
              "  31                   11.974            8.460           3.514    AL  \n",
              "  32                    7.093            4.807           2.286    NM  \n",
              "  33                   11.039            7.499           3.541    AR  \n",
              "  34                   10.073            6.617           3.456    NE  \n",
              "  35                   13.626           10.526           3.100    PR  \n",
              "  36                   12.289            9.663           2.625    CT  \n",
              "  37                   12.300            8.106           4.194    IA  \n",
              "  38                    8.349            5.607           2.742    ID  \n",
              "  39                   14.837            8.702           6.135    ND  \n",
              "  40                   11.996            7.570           4.427    KS  \n",
              "  41                    6.742            3.069           3.673    MT  \n",
              "  42                   13.683            8.658           5.025    MS  \n",
              "  43                   15.044           12.395           2.649    RI  \n",
              "  44                   12.646            7.558           5.088    SD  \n",
              "  45                   11.489            6.431           5.059    WY  \n",
              "  46                   15.421           13.117           2.303    NH  \n",
              "  47                   24.526           19.127           5.399    ME  \n",
              "  48                   25.417           19.812           5.605    VT  \n",
              "  49                   16.180           12.119           4.062    VI  \n",
              "  50                   19.822           13.378           6.444    WV  \n",
              "  52                   12.144            4.488           7.656    TT  ,\n",
              "  encoding: EncodingWithFacet({\n",
              "    color: Color({\n",
              "      legend: None,\n",
              "      shorthand: 'State'\n",
              "    }),\n",
              "    x: X({\n",
              "      shorthand: 'State'\n",
              "    }),\n",
              "    y: Y({\n",
              "      shorthand: 'Disrupt_Pct'\n",
              "    })\n",
              "  }),\n",
              "  height: 450,\n",
              "  mark: 'bar',\n",
              "  title: 'Disruption % by Origin State',\n",
              "  width: 1100\n",
              "})"
            ],
            "text/html": [
              "<!DOCTYPE html>\n",
              "<html>\n",
              "<head>\n",
              "  <style>\n",
              "    .vega-actions a {\n",
              "        margin-right: 12px;\n",
              "        color: #757575;\n",
              "        font-weight: normal;\n",
              "        font-size: 13px;\n",
              "    }\n",
              "    .error {\n",
              "        color: red;\n",
              "    }\n",
              "  </style>\n",
              "  <script type=\"text/javascript\" src=\"https://cdn.jsdelivr.net/npm//vega@4\"></script>\n",
              "  <script type=\"text/javascript\" src=\"https://cdn.jsdelivr.net/npm//vega-lite@2.6.0\"></script>\n",
              "  <script type=\"text/javascript\" src=\"https://cdn.jsdelivr.net/npm//vega-embed@3\"></script>\n",
              "</head>\n",
              "<body>\n",
              "  <div id=\"altair-viz\"></div>\n",
              "  <script>\n",
              "      var spec = {\"config\": {\"view\": {\"width\": 400, \"height\": 300}, \"axis\": {\"labelFontSize\": 14, \"titleFontSize\": 14}, \"title\": {\"fontSize\": 24}}, \"data\": {\"name\": \"data-67fe4701e3419ddba8998eeda94a9866\"}, \"mark\": \"bar\", \"encoding\": {\"color\": {\"type\": \"nominal\", \"field\": \"State\", \"legend\": null}, \"x\": {\"type\": \"nominal\", \"field\": \"State\"}, \"y\": {\"type\": \"quantitative\", \"field\": \"Disrupt_Pct\"}}, \"height\": 450, \"title\": \"Disruption % by Origin State\", \"width\": 1100, \"$schema\": \"https://vega.github.io/schema/vega-lite/v2.6.0.json\", \"datasets\": {\"data-67fe4701e3419ddba8998eeda94a9866\": [{\"Arrived\": 2234912, \"Disruption\": 34946, \"Total_Flights\": 2269858, \"Disrupt_Pct\": 1.5395676733963093, \"Avg_Profit\": 11.302161633018454, \"Avg_Total_Cost\": 7.697838366981546, \"Avg_Cancel_Cost\": 5.795296445856965, \"Avg_Delay_Cost\": 1.9025419211245813, \"State\": \"CA\"}, {\"Arrived\": 1848138, \"Disruption\": 35635, \"Total_Flights\": 1883773, \"Disrupt_Pct\": 1.8916822780664124, \"Avg_Profit\": 9.541588609667938, \"Avg_Total_Cost\": 9.458411390332062, \"Avg_Cancel_Cost\": 7.374030735125729, \"Avg_Delay_Cost\": 2.084380655206333, \"State\": \"TX\"}, {\"Arrived\": 1114819, \"Disruption\": 26859, \"Total_Flights\": 1141678, \"Disrupt_Pct\": 2.3525897845101684, \"Avg_Profit\": 7.237051077449158, \"Avg_Total_Cost\": 11.762948922550843, \"Avg_Cancel_Cost\": 9.360782987847712, \"Avg_Delay_Cost\": 2.402165934703131, \"State\": \"IL\"}, {\"Arrived\": 1172833, \"Disruption\": 16648, \"Total_Flights\": 1189481, \"Disrupt_Pct\": 1.3996020112973642, \"Avg_Profit\": 12.001989943513179, \"Avg_Total_Cost\": 6.99801005648682, \"Avg_Cancel_Cost\": 4.793266979464153, \"Avg_Delay_Cost\": 2.204743077022667, \"State\": \"GA\"}, {\"Arrived\": 1426446, \"Disruption\": 30639, \"Total_Flights\": 1457085, \"Disrupt_Pct\": 2.102759962527924, \"Avg_Profit\": 8.48620018736038, \"Avg_Total_Cost\": 10.51379981263962, \"Avg_Cancel_Cost\": 7.497503577347924, \"Avg_Delay_Cost\": 3.016296235291696, \"State\": \"FL\"}, {\"Arrived\": 845241, \"Disruption\": 31178, \"Total_Flights\": 876419, \"Disrupt_Pct\": 3.557430863548143, \"Avg_Profit\": 1.2128456822592846, \"Avg_Total_Cost\": 17.787154317740715, \"Avg_Cancel_Cost\": 13.674965969473506, \"Avg_Delay_Cost\": 4.112188348267209, \"State\": \"NY\"}, {\"Arrived\": 745470, \"Disruption\": 11470, \"Total_Flights\": 756940, \"Disrupt_Pct\": 1.5153116495362908, \"Avg_Profit\": 11.423441752318546, \"Avg_Total_Cost\": 7.576558247681454, \"Avg_Cancel_Cost\": 5.5281792480249425, \"Avg_Delay_Cost\": 2.048378999656512, \"State\": \"CO\"}, {\"Arrived\": 544976, \"Disruption\": 5124, \"Total_Flights\": 550100, \"Disrupt_Pct\": 0.9314670059989092, \"Avg_Profit\": 14.342664970005453, \"Avg_Total_Cost\": 4.657335029994546, \"Avg_Cancel_Cost\": 3.3357571350663515, \"Avg_Delay_Cost\": 1.3215778949281947, \"State\": \"AZ\"}, {\"Arrived\": 627896, \"Disruption\": 15160, \"Total_Flights\": 643056, \"Disrupt_Pct\": 2.357492971063173, \"Avg_Profit\": 7.212535144684133, \"Avg_Total_Cost\": 11.787464855315866, \"Avg_Cancel_Cost\": 9.49606255131746, \"Avg_Delay_Cost\": 2.2914023039984066, \"State\": \"NC\"}, {\"Arrived\": 522078, \"Disruption\": 15828, \"Total_Flights\": 537906, \"Disrupt_Pct\": 2.9425215558108664, \"Avg_Profit\": 4.287392220945667, \"Avg_Total_Cost\": 14.712607779054332, \"Avg_Cancel_Cost\": 11.242670652493185, \"Avg_Delay_Cost\": 3.469937126561147, \"State\": \"VA\"}, {\"Arrived\": 506136, \"Disruption\": 6142, \"Total_Flights\": 512278, \"Disrupt_Pct\": 1.1989583780681583, \"Avg_Profit\": 13.005208109659208, \"Avg_Total_Cost\": 5.9947918903407915, \"Avg_Cancel_Cost\": 4.201820105489597, \"Avg_Delay_Cost\": 1.7929717848511944, \"State\": \"NV\"}, {\"Arrived\": 495680, \"Disruption\": 9103, \"Total_Flights\": 504783, \"Disrupt_Pct\": 1.8033491619171012, \"Avg_Profit\": 9.983254190414495, \"Avg_Total_Cost\": 9.016745809585505, \"Avg_Cancel_Cost\": 5.915413157733124, \"Avg_Delay_Cost\": 3.1013326518523803, \"State\": \"MI\"}, {\"Arrived\": 453769, \"Disruption\": 3697, \"Total_Flights\": 457466, \"Disrupt_Pct\": 0.8081474907424814, \"Avg_Profit\": 14.959262546287594, \"Avg_Total_Cost\": 4.040737453712407, \"Avg_Cancel_Cost\": 2.636261492657378, \"Avg_Delay_Cost\": 1.404475961055029, \"State\": \"WA\"}, {\"Arrived\": 387725, \"Disruption\": 10554, \"Total_Flights\": 398279, \"Disrupt_Pct\": 2.649901199912624, \"Avg_Profit\": 5.75049400043688, \"Avg_Total_Cost\": 13.24950599956312, \"Avg_Cancel_Cost\": 10.314377609665586, \"Avg_Delay_Cost\": 2.9351283898975336, \"State\": \"MA\"}, {\"Arrived\": 438294, \"Disruption\": 5848, \"Total_Flights\": 444142, \"Disrupt_Pct\": 1.3166960116359183, \"Avg_Profit\": 12.41651994182041, \"Avg_Total_Cost\": 6.583480058179592, \"Avg_Cancel_Cost\": 4.2880430132705305, \"Avg_Delay_Cost\": 2.295437044909061, \"State\": \"MN\"}, {\"Arrived\": 341834, \"Disruption\": 2480, \"Total_Flights\": 344314, \"Disrupt_Pct\": 0.7202727742699977, \"Avg_Profit\": 15.398636128650011, \"Avg_Total_Cost\": 3.6013638713499887, \"Avg_Cancel_Cost\": 1.8195600527425546, \"Avg_Delay_Cost\": 1.781803818607434, \"State\": \"UT\"}, {\"Arrived\": 334438, \"Disruption\": 5784, \"Total_Flights\": 340222, \"Disrupt_Pct\": 1.7000664272151713, \"Avg_Profit\": 10.499667863924143, \"Avg_Total_Cost\": 8.500332136075857, \"Avg_Cancel_Cost\": 6.397293531870368, \"Avg_Delay_Cost\": 2.103038604205489, \"State\": \"MO\"}, {\"Arrived\": 387495, \"Disruption\": 9843, \"Total_Flights\": 397338, \"Disrupt_Pct\": 2.4772360056173834, \"Avg_Profit\": 6.613819971913082, \"Avg_Total_Cost\": 12.386180028086919, \"Avg_Cancel_Cost\": 9.574971434899256, \"Avg_Delay_Cost\": 2.811208593187663, \"State\": \"PA\"}, {\"Arrived\": 377343, \"Disruption\": 13975, \"Total_Flights\": 391318, \"Disrupt_Pct\": 3.5712642914458317, \"Avg_Profit\": 1.1436785427708411, \"Avg_Total_Cost\": 17.85632145722916, \"Avg_Cancel_Cost\": 14.143228780684762, \"Avg_Delay_Cost\": 3.713092676544399, \"State\": \"NJ\"}, {\"Arrived\": 312623, \"Disruption\": 1942, \"Total_Flights\": 314565, \"Disrupt_Pct\": 0.6173604819353711, \"Avg_Profit\": 15.913197590323145, \"Avg_Total_Cost\": 3.086802409676855, \"Avg_Cancel_Cost\": 1.7182458315451496, \"Avg_Delay_Cost\": 1.3685565781317055, \"State\": \"HI\"}, {\"Arrived\": 296656, \"Disruption\": 6814, \"Total_Flights\": 303470, \"Disrupt_Pct\": 2.2453619797673574, \"Avg_Profit\": 7.7731901011632125, \"Avg_Total_Cost\": 11.226809898836787, \"Avg_Cancel_Cost\": 9.41443964807065, \"Avg_Delay_Cost\": 1.8123702507661381, \"State\": \"MD\"}, {\"Arrived\": 277268, \"Disruption\": 5512, \"Total_Flights\": 282780, \"Disrupt_Pct\": 1.9492184737251574, \"Avg_Profit\": 9.253907631374213, \"Avg_Total_Cost\": 9.746092368625787, \"Avg_Cancel_Cost\": 6.766744465662352, \"Avg_Delay_Cost\": 2.9793479029634344, \"State\": \"TN\"}, {\"Arrived\": 249408, \"Disruption\": 6351, \"Total_Flights\": 255759, \"Disrupt_Pct\": 2.483197072243792, \"Avg_Profit\": 6.58401463878104, \"Avg_Total_Cost\": 12.41598536121896, \"Avg_Cancel_Cost\": 9.067129602477332, \"Avg_Delay_Cost\": 3.348855758741628, \"State\": \"OH\"}, {\"Arrived\": 210774, \"Disruption\": 4328, \"Total_Flights\": 215102, \"Disrupt_Pct\": 2.0120686929921616, \"Avg_Profit\": 8.939656535039191, \"Avg_Total_Cost\": 10.060343464960809, \"Avg_Cancel_Cost\": 6.780504132922986, \"Avg_Delay_Cost\": 3.279839332037823, \"State\": \"LA\"}, {\"Arrived\": 215019, \"Disruption\": 2669, \"Total_Flights\": 217688, \"Disrupt_Pct\": 1.226066664216677, \"Avg_Profit\": 12.869666678916614, \"Avg_Total_Cost\": 6.130333321083385, \"Avg_Cancel_Cost\": 4.104498180882731, \"Avg_Delay_Cost\": 2.0258351402006536, \"State\": \"OR\"}, {\"Arrived\": 158396, \"Disruption\": 3712, \"Total_Flights\": 162108, \"Disrupt_Pct\": 2.289831470377773, \"Avg_Profit\": 7.550842648111136, \"Avg_Total_Cost\": 11.449157351888864, \"Avg_Cancel_Cost\": 8.084116761665063, \"Avg_Delay_Cost\": 3.365040590223801, \"State\": \"WI\"}, {\"Arrived\": 142149, \"Disruption\": 3634, \"Total_Flights\": 145783, \"Disrupt_Pct\": 2.4927460677856814, \"Avg_Profit\": 6.536269661071593, \"Avg_Total_Cost\": 12.463730338928407, \"Avg_Cancel_Cost\": 8.8076113127045, \"Avg_Delay_Cost\": 3.656119026223907, \"State\": \"KY\"}, {\"Arrived\": 100137, \"Disruption\": 1757, \"Total_Flights\": 101894, \"Disrupt_Pct\": 1.7243409818046205, \"Avg_Profit\": 10.378295090976897, \"Avg_Total_Cost\": 8.621704909023103, \"Avg_Cancel_Cost\": 6.079847684848961, \"Avg_Delay_Cost\": 2.5418572241741426, \"State\": \"OK\"}, {\"Arrived\": 141730, \"Disruption\": 3090, \"Total_Flights\": 144820, \"Disrupt_Pct\": 2.133683192929153, \"Avg_Profit\": 8.331584035354233, \"Avg_Total_Cost\": 10.668415964645767, \"Avg_Cancel_Cost\": 6.994890208534733, \"Avg_Delay_Cost\": 3.673525756111034, \"State\": \"IN\"}, {\"Arrived\": 113298, \"Disruption\": 3784, \"Total_Flights\": 117082, \"Disrupt_Pct\": 3.231922925812678, \"Avg_Profit\": 2.8403853709366085, \"Avg_Total_Cost\": 16.15961462906339, \"Avg_Cancel_Cost\": 12.52540954203037, \"Avg_Delay_Cost\": 3.6342050870330205, \"State\": \"SC\"}, {\"Arrived\": 109598, \"Disruption\": 1569, \"Total_Flights\": 111167, \"Disrupt_Pct\": 1.4113900707943903, \"Avg_Profit\": 11.943049646028047, \"Avg_Total_Cost\": 7.056950353971952, \"Avg_Cancel_Cost\": 5.631167522736064, \"Avg_Delay_Cost\": 1.425782831235888, \"State\": \"AK\"}, {\"Arrived\": 83468, \"Disruption\": 2048, \"Total_Flights\": 85516, \"Disrupt_Pct\": 2.3948734739697835, \"Avg_Profit\": 7.025632630151083, \"Avg_Total_Cost\": 11.974367369848917, \"Avg_Cancel_Cost\": 8.460405070396183, \"Avg_Delay_Cost\": 3.513962299452734, \"State\": \"AL\"}, {\"Arrived\": 69010, \"Disruption\": 993, \"Total_Flights\": 70003, \"Disrupt_Pct\": 1.4185106352584889, \"Avg_Profit\": 11.907446823707556, \"Avg_Total_Cost\": 7.092553176292444, \"Avg_Cancel_Cost\": 4.8069368455637616, \"Avg_Delay_Cost\": 2.2856163307286828, \"State\": \"NM\"}, {\"Arrived\": 57447, \"Disruption\": 1297, \"Total_Flights\": 58744, \"Disrupt_Pct\": 2.207885060601934, \"Avg_Profit\": 7.960574696990331, \"Avg_Total_Cost\": 11.039425303009669, \"Avg_Cancel_Cost\": 7.498638158790685, \"Avg_Delay_Cost\": 3.5407871442189833, \"State\": \"AR\"}, {\"Arrived\": 71303, \"Disruption\": 1466, \"Total_Flights\": 72769, \"Disrupt_Pct\": 2.0145941266198517, \"Avg_Profit\": 8.92702936690074, \"Avg_Total_Cost\": 10.07297063309926, \"Avg_Cancel_Cost\": 6.616828594593851, \"Avg_Delay_Cost\": 3.4561420385054085, \"State\": \"NE\"}, {\"Arrived\": 81742, \"Disruption\": 2290, \"Total_Flights\": 84032, \"Disrupt_Pct\": 2.7251523229246, \"Avg_Profit\": 5.374238385376999, \"Avg_Total_Cost\": 13.625761614623, \"Avg_Cancel_Cost\": 10.525752094440215, \"Avg_Delay_Cost\": 3.1000095201827857, \"State\": \"PR\"}, {\"Arrived\": 69295, \"Disruption\": 1746, \"Total_Flights\": 71041, \"Disrupt_Pct\": 2.457735673765854, \"Avg_Profit\": 6.711321631170732, \"Avg_Total_Cost\": 12.288678368829268, \"Avg_Cancel_Cost\": 9.663433791754057, \"Avg_Delay_Cost\": 2.625244577075211, \"State\": \"CT\"}, {\"Arrived\": 51745, \"Disruption\": 1305, \"Total_Flights\": 53050, \"Disrupt_Pct\": 2.459943449575872, \"Avg_Profit\": 6.700282752120641, \"Avg_Total_Cost\": 12.299717247879359, \"Avg_Cancel_Cost\": 8.105560791705939, \"Avg_Delay_Cost\": 4.19415645617342, \"State\": \"IA\"}, {\"Arrived\": 67955, \"Disruption\": 1154, \"Total_Flights\": 69109, \"Disrupt_Pct\": 1.6698259271585465, \"Avg_Profit\": 10.650870364207266, \"Avg_Total_Cost\": 8.349129635792734, \"Avg_Cancel_Cost\": 5.607084460779348, \"Avg_Delay_Cost\": 2.742045175013385, \"State\": \"ID\"}, {\"Arrived\": 39698, \"Disruption\": 1214, \"Total_Flights\": 40912, \"Disrupt_Pct\": 2.967344544387955, \"Avg_Profit\": 4.163277278060227, \"Avg_Total_Cost\": 14.836722721939774, \"Avg_Cancel_Cost\": 8.701603441533047, \"Avg_Delay_Cost\": 6.135119280406727, \"State\": \"ND\"}, {\"Arrived\": 33072, \"Disruption\": 813, \"Total_Flights\": 33885, \"Disrupt_Pct\": 2.3992917220008856, \"Avg_Profit\": 7.003541389995573, \"Avg_Total_Cost\": 11.996458610004426, \"Avg_Cancel_Cost\": 7.569721115537849, \"Avg_Delay_Cost\": 4.426737494466577, \"State\": \"KS\"}, {\"Arrived\": 53846, \"Disruption\": 736, \"Total_Flights\": 54582, \"Disrupt_Pct\": 1.3484298853101755, \"Avg_Profit\": 12.257850573449122, \"Avg_Total_Cost\": 6.742149426550878, \"Avg_Cancel_Cost\": 3.0687772525741086, \"Avg_Delay_Cost\": 3.673372173976769, \"State\": \"MT\"}, {\"Arrived\": 34262, \"Disruption\": 964, \"Total_Flights\": 35226, \"Disrupt_Pct\": 2.736615000283881, \"Avg_Profit\": 5.3169249985805935, \"Avg_Total_Cost\": 13.683075001419406, \"Avg_Cancel_Cost\": 8.658377334923069, \"Avg_Delay_Cost\": 5.024697666496337, \"State\": \"MS\"}, {\"Arrived\": 43390, \"Disruption\": 1346, \"Total_Flights\": 44736, \"Disrupt_Pct\": 3.0087625178826896, \"Avg_Profit\": 3.956187410586552, \"Avg_Total_Cost\": 15.043812589413447, \"Avg_Cancel_Cost\": 12.394939198855507, \"Avg_Delay_Cost\": 2.64887339055794, \"State\": \"RI\"}, {\"Arrived\": 26630, \"Disruption\": 691, \"Total_Flights\": 27321, \"Disrupt_Pct\": 2.529190000366019, \"Avg_Profit\": 6.354049998169906, \"Avg_Total_Cost\": 12.645950001830094, \"Avg_Cancel_Cost\": 7.5582884960286965, \"Avg_Delay_Cost\": 5.087661505801398, \"State\": \"SD\"}, {\"Arrived\": 23853, \"Disruption\": 561, \"Total_Flights\": 24414, \"Disrupt_Pct\": 2.297861882526419, \"Avg_Profit\": 7.510690587367904, \"Avg_Total_Cost\": 11.489309412632096, \"Avg_Cancel_Cost\": 6.430736462685345, \"Avg_Delay_Cost\": 5.058572949946751, \"State\": \"WY\"}, {\"Arrived\": 22091, \"Disruption\": 703, \"Total_Flights\": 22794, \"Disrupt_Pct\": 3.0841449504255505, \"Avg_Profit\": 3.579275247872247, \"Avg_Total_Cost\": 15.420724752127754, \"Avg_Cancel_Cost\": 13.11748705799772, \"Avg_Delay_Cost\": 2.3032376941300345, \"State\": \"NH\"}, {\"Arrived\": 27917, \"Disruption\": 1440, \"Total_Flights\": 29357, \"Disrupt_Pct\": 4.905133358313178, \"Avg_Profit\": -5.525666791565896, \"Avg_Total_Cost\": 24.525666791565897, \"Avg_Cancel_Cost\": 19.126613754811462, \"Avg_Delay_Cost\": 5.3990530367544345, \"State\": \"ME\"}, {\"Arrived\": 15834, \"Disruption\": 848, \"Total_Flights\": 16682, \"Disrupt_Pct\": 5.083323342524877, \"Avg_Profit\": -6.416616712624386, \"Avg_Total_Cost\": 25.416616712624386, \"Avg_Cancel_Cost\": 19.81177316868481, \"Avg_Delay_Cost\": 5.604843543939577, \"State\": \"VT\"}, {\"Arrived\": 14652, \"Disruption\": 490, \"Total_Flights\": 15142, \"Disrupt_Pct\": 3.2360322282393343, \"Avg_Profit\": 2.8198388588033283, \"Avg_Total_Cost\": 16.18016114119667, \"Avg_Cancel_Cost\": 12.118610487386078, \"Avg_Delay_Cost\": 4.061550653810592, \"State\": \"VI\"}, {\"Arrived\": 10804, \"Disruption\": 446, \"Total_Flights\": 11250, \"Disrupt_Pct\": 3.9644444444444447, \"Avg_Profit\": -0.8222222222222222, \"Avg_Total_Cost\": 19.822222222222223, \"Avg_Cancel_Cost\": 13.377777777777778, \"Avg_Delay_Cost\": 6.444444444444445, \"State\": \"WV\"}, {\"Arrived\": 1848, \"Disruption\": 46, \"Total_Flights\": 1894, \"Disrupt_Pct\": 2.428722280887012, \"Avg_Profit\": 6.856388595564942, \"Avg_Total_Cost\": 12.143611404435058, \"Avg_Cancel_Cost\": 4.4878563885955645, \"Avg_Delay_Cost\": 7.655755015839493, \"State\": \"TT\"}]}};\n",
              "      var embedOpt = {\"mode\": \"vega-lite\"};\n",
              "\n",
              "      function showError(el, error){\n",
              "          el.innerHTML = ('<div class=\"error\" style=\"color:red;\">'\n",
              "                          + '<p>JavaScript Error: ' + error.message + '</p>'\n",
              "                          + \"<p>This usually means there's a typo in your chart specification. \"\n",
              "                          + \"See the javascript console for the full traceback.</p>\"\n",
              "                          + '</div>');\n",
              "          throw error;\n",
              "      }\n",
              "      const el = document.getElementById('altair-viz');\n",
              "      vegaEmbed(\"#altair-viz\", spec, embedOpt)\n",
              "        .catch(error => showError(el, error));\n",
              "\n",
              "  </script>\n",
              "</body>\n",
              "</html>"
            ]
          },
          "metadata": {
            "tags": []
          },
          "execution_count": 102
        }
      ]
    },
    {
      "metadata": {
        "id": "XfHanfZyOdzb",
        "colab_type": "code",
        "outputId": "10ff11c6-bded-427b-cb1f-7c11ea014786",
        "colab": {
          "base_uri": "https://localhost:8080/",
          "height": 569
        }
      },
      "cell_type": "code",
      "source": [
        "state_stats(dest_state_df, 'Disrupt_Pct', 'Disruption % by Destination State')"
      ],
      "execution_count": 0,
      "outputs": [
        {
          "output_type": "execute_result",
          "data": {
            "text/plain": [
              "Chart({\n",
              "  config: Config({\n",
              "    axis: AxisConfig({\n",
              "      labelFontSize: 14,\n",
              "      titleFontSize: 14\n",
              "    }),\n",
              "    title: VgTitleConfig({\n",
              "      fontSize: 24\n",
              "    })\n",
              "  }),\n",
              "  data:            Arrived  Disruption  Total_Flights  Disrupt_Pct  Avg_Profit  \\\n",
              "  DestState                                                                \n",
              "  0          2235023       34915        2269938        1.538      11.309   \n",
              "  1          1845555       38171        1883726        2.026       8.868   \n",
              "  2          1111282       30083        1141365        2.636       5.821   \n",
              "  3          1169753       19564        1189317        1.645      10.775   \n",
              "  4          1427622       29509        1457131        2.025       8.874   \n",
              "  5           845692       30710         876402        3.504       1.480   \n",
              "  6           744742       12373         757115        1.634      10.829   \n",
              "  7           543664        6467         550131        1.176      13.122   \n",
              "  8           627462       15586         643048        2.424       6.881   \n",
              "  9           523630       14256         537886        2.650       5.748   \n",
              "  10          506811        5522         512333        1.078      13.611   \n",
              "  11          495519        9492         505011        1.880       9.602   \n",
              "  12          453336        4113         457449        0.899      14.504   \n",
              "  13          387871       10403         398274        2.612       5.940   \n",
              "  14          437153        6880         444033        1.549      11.253   \n",
              "  15          341375        3079         344454        0.894      14.531   \n",
              "  16          335148        5075         340223        1.492      11.542   \n",
              "  17          387838        9507         397345        2.393       7.037   \n",
              "  18          376457       15061         391518        3.847      -0.234   \n",
              "  19          312859        1689         314548        0.537      16.315   \n",
              "  20          296706        6764         303470        2.229       7.856   \n",
              "  21          278032        4753         282785        1.681      10.596   \n",
              "  22          250035        5715         255750        2.235       7.827   \n",
              "  23          211615        3474         215089        1.615      10.924   \n",
              "  24          215256        2429         217685        1.116      13.421   \n",
              "  25          158948        3153         162101        1.945       9.275   \n",
              "  26          142559        3219         145778        2.208       7.959   \n",
              "  27          100448        1452         101900        1.425      11.875   \n",
              "  28          142013        2803         144816        1.936       9.322   \n",
              "  29          113777        3312         117089        2.829       4.857   \n",
              "  30          109789        1367         111156        1.230      12.851   \n",
              "  31           83776        1745          85521        2.040       8.798   \n",
              "  32           69221         785          70006        1.121      13.393   \n",
              "  33           57716        1030          58746        1.753      10.233   \n",
              "  34           71639        1135          72774        1.560      11.202   \n",
              "  35           81982        2062          84044        2.453       6.733   \n",
              "  36           69467        1582          71049        2.227       7.867   \n",
              "  37           52061         999          53060        1.883       9.586   \n",
              "  38           68327         530          68857        0.770      15.151   \n",
              "  39           40062         844          40906        2.063       8.684   \n",
              "  40           33290         596          33886        1.759      10.206   \n",
              "  41           54142         435          54577        0.797      15.015   \n",
              "  42           34444         783          35227        2.223       7.886   \n",
              "  43           43569        1168          44737        2.611       5.946   \n",
              "  44           26832         488          27320        1.786      10.069   \n",
              "  45           24037         380          24417        1.556      11.219   \n",
              "  46           22151         639          22790        2.804       4.981   \n",
              "  47           28218        1139          29357        3.880      -0.399   \n",
              "  48           16058         628          16686        3.764       0.182   \n",
              "  49           14726         416          15142        2.747       5.263   \n",
              "  50           10887         364          11251        3.235       2.824   \n",
              "  52            1866          28           1894        1.478      11.608   \n",
              "  \n",
              "             Avg_Total_Cost  Avg_Cancel_Cost  Avg_Delay_Cost State  \n",
              "  DestState                                                         \n",
              "  0                   7.691            5.746           1.945    CA  \n",
              "  1                  10.132            7.621           2.511    TX  \n",
              "  2                  13.179            9.767           3.411    IL  \n",
              "  3                   8.225            4.868           3.357    GA  \n",
              "  4                  10.126            7.424           2.702    FL  \n",
              "  5                  17.520           13.517           4.004    NY  \n",
              "  6                   8.171            5.551           2.620    CO  \n",
              "  7                   5.878            4.141           1.737    AZ  \n",
              "  8                  12.119            9.938           2.181    NC  \n",
              "  9                  13.252           10.814           2.438    VA  \n",
              "  10                  5.389            3.971           1.418    NV  \n",
              "  11                  9.398            5.849           3.548    MI  \n",
              "  12                  4.496            2.984           1.512    WA  \n",
              "  13                 13.060           10.337           2.723    MA  \n",
              "  14                  7.747            4.264           3.483    MN  \n",
              "  15                  4.469            2.153           2.317    UT  \n",
              "  16                  7.458            6.068           1.390    MO  \n",
              "  17                 11.963            9.716           2.247    PA  \n",
              "  18                 19.234           14.600           4.635    NJ  \n",
              "  19                  2.685            1.241           1.443    HI  \n",
              "  20                 11.144            9.611           1.534    MD  \n",
              "  21                  8.404            6.523           1.881    TN  \n",
              "  22                 11.173            8.833           2.340    OH  \n",
              "  23                  8.076            6.237           1.839    LA  \n",
              "  24                  5.579            4.109           1.470    OR  \n",
              "  25                  9.725            7.841           1.885    WI  \n",
              "  26                 11.041            8.311           2.730    KY  \n",
              "  27                  7.125            5.525           1.600    OK  \n",
              "  28                  9.678            7.171           2.507    IN  \n",
              "  29                 14.143           11.927           2.216    SC  \n",
              "  30                  6.149            5.254           0.895    AK  \n",
              "  31                 10.202            8.092           2.111    AL  \n",
              "  32                  5.607            4.364           1.243    NM  \n",
              "  33                  8.767            7.056           1.711    AR  \n",
              "  34                  7.798            6.273           1.525    NE  \n",
              "  35                 12.267            9.810           2.457    PR  \n",
              "  36                 11.133            9.001           2.132    CT  \n",
              "  37                  9.414            7.652           1.762    IA  \n",
              "  38                  3.849            2.614           1.234    ID  \n",
              "  39                 10.316            7.835           2.481    ND  \n",
              "  40                  8.794            6.787           2.007    KS  \n",
              "  41                  3.985            2.446           1.539    MT  \n",
              "  42                 11.114            8.218           2.896    MS  \n",
              "  43                 13.054           11.277           1.777    RI  \n",
              "  44                  8.931            6.607           2.324    SD  \n",
              "  45                  7.781            5.283           2.498    WY  \n",
              "  46                 14.019           12.571           1.448    NH  \n",
              "  47                 19.399           16.810           2.589    ME  \n",
              "  48                 18.818           16.121           2.697    VT  \n",
              "  49                 13.737           11.326           2.411    VI  \n",
              "  50                 16.176           12.977           3.200    WV  \n",
              "  52                  7.392            3.960           3.432    TT  ,\n",
              "  encoding: EncodingWithFacet({\n",
              "    color: Color({\n",
              "      legend: None,\n",
              "      shorthand: 'State'\n",
              "    }),\n",
              "    x: X({\n",
              "      shorthand: 'State'\n",
              "    }),\n",
              "    y: Y({\n",
              "      shorthand: 'Disrupt_Pct'\n",
              "    })\n",
              "  }),\n",
              "  height: 450,\n",
              "  mark: 'bar',\n",
              "  title: 'Disruption % by Destination State',\n",
              "  width: 1100\n",
              "})"
            ],
            "text/html": [
              "<!DOCTYPE html>\n",
              "<html>\n",
              "<head>\n",
              "  <style>\n",
              "    .vega-actions a {\n",
              "        margin-right: 12px;\n",
              "        color: #757575;\n",
              "        font-weight: normal;\n",
              "        font-size: 13px;\n",
              "    }\n",
              "    .error {\n",
              "        color: red;\n",
              "    }\n",
              "  </style>\n",
              "  <script type=\"text/javascript\" src=\"https://cdn.jsdelivr.net/npm//vega@4\"></script>\n",
              "  <script type=\"text/javascript\" src=\"https://cdn.jsdelivr.net/npm//vega-lite@2.6.0\"></script>\n",
              "  <script type=\"text/javascript\" src=\"https://cdn.jsdelivr.net/npm//vega-embed@3\"></script>\n",
              "</head>\n",
              "<body>\n",
              "  <div id=\"altair-viz\"></div>\n",
              "  <script>\n",
              "      var spec = {\"config\": {\"view\": {\"width\": 400, \"height\": 300}, \"axis\": {\"labelFontSize\": 14, \"titleFontSize\": 14}, \"title\": {\"fontSize\": 24}}, \"data\": {\"name\": \"data-3aa071b4991eb164ddb7279dc31f5a69\"}, \"mark\": \"bar\", \"encoding\": {\"color\": {\"type\": \"nominal\", \"field\": \"State\", \"legend\": null}, \"x\": {\"type\": \"nominal\", \"field\": \"State\"}, \"y\": {\"type\": \"quantitative\", \"field\": \"Disrupt_Pct\"}}, \"height\": 450, \"title\": \"Disruption % by Destination State\", \"width\": 1100, \"$schema\": \"https://vega.github.io/schema/vega-lite/v2.6.0.json\", \"datasets\": {\"data-3aa071b4991eb164ddb7279dc31f5a69\": [{\"Arrived\": 2235023, \"Disruption\": 34915, \"Total_Flights\": 2269938, \"Disrupt_Pct\": 1.5381477379558384, \"Avg_Profit\": 11.309261310220808, \"Avg_Total_Cost\": 7.6907386897791925, \"Avg_Cancel_Cost\": 5.745971916413576, \"Avg_Delay_Cost\": 1.9447667733656164, \"State\": \"CA\"}, {\"Arrived\": 1845555, \"Disruption\": 38171, \"Total_Flights\": 1883726, \"Disrupt_Pct\": 2.026356274744841, \"Avg_Profit\": 8.868218626275796, \"Avg_Total_Cost\": 10.131781373724204, \"Avg_Cancel_Cost\": 7.620800477351802, \"Avg_Delay_Cost\": 2.510980896372402, \"State\": \"TX\"}, {\"Arrived\": 1111282, \"Disruption\": 30083, \"Total_Flights\": 1141365, \"Disrupt_Pct\": 2.6357037406964468, \"Avg_Profit\": 5.821481296517766, \"Avg_Total_Cost\": 13.178518703482235, \"Avg_Cancel_Cost\": 9.76725236887411, \"Avg_Delay_Cost\": 3.411266334608124, \"State\": \"IL\"}, {\"Arrived\": 1169753, \"Disruption\": 19564, \"Total_Flights\": 1189317, \"Disrupt_Pct\": 1.644977747732522, \"Avg_Profit\": 10.77511126133739, \"Avg_Total_Cost\": 8.22488873866261, \"Avg_Cancel_Cost\": 4.8679199910536886, \"Avg_Delay_Cost\": 3.3569687476089216, \"State\": \"GA\"}, {\"Arrived\": 1427622, \"Disruption\": 29509, \"Total_Flights\": 1457131, \"Disrupt_Pct\": 2.0251439300927645, \"Avg_Profit\": 8.874280349536178, \"Avg_Total_Cost\": 10.125719650463822, \"Avg_Cancel_Cost\": 7.423834919441011, \"Avg_Delay_Cost\": 2.701884731022811, \"State\": \"FL\"}, {\"Arrived\": 845692, \"Disruption\": 30710, \"Total_Flights\": 876402, \"Disrupt_Pct\": 3.5040997167966297, \"Avg_Profit\": 1.4795014160168507, \"Avg_Total_Cost\": 17.520498583983148, \"Avg_Cancel_Cost\": 13.51662821399312, \"Avg_Delay_Cost\": 4.003870369990027, \"State\": \"NY\"}, {\"Arrived\": 744742, \"Disruption\": 12373, \"Total_Flights\": 757115, \"Disrupt_Pct\": 1.634229938648686, \"Avg_Profit\": 10.82885030675657, \"Avg_Total_Cost\": 8.17114969324343, \"Avg_Cancel_Cost\": 5.55067592109521, \"Avg_Delay_Cost\": 2.6204737721482205, \"State\": \"CO\"}, {\"Arrived\": 543664, \"Disruption\": 6467, \"Total_Flights\": 550131, \"Disrupt_Pct\": 1.1755381899947468, \"Avg_Profit\": 13.122309050026267, \"Avg_Total_Cost\": 5.877690949973734, \"Avg_Cancel_Cost\": 4.140831910944848, \"Avg_Delay_Cost\": 1.7368590390288858, \"State\": \"AZ\"}, {\"Arrived\": 627462, \"Disruption\": 15586, \"Total_Flights\": 643048, \"Disrupt_Pct\": 2.4237692987148707, \"Avg_Profit\": 6.8811535064256475, \"Avg_Total_Cost\": 12.118846493574353, \"Avg_Cancel_Cost\": 9.937827347258679, \"Avg_Delay_Cost\": 2.1810191463156734, \"State\": \"NC\"}, {\"Arrived\": 523630, \"Disruption\": 14256, \"Total_Flights\": 537886, \"Disrupt_Pct\": 2.6503757301733084, \"Avg_Profit\": 5.748121349133459, \"Avg_Total_Cost\": 13.25187865086654, \"Avg_Cancel_Cost\": 10.813629653867176, \"Avg_Delay_Cost\": 2.4382489969993646, \"State\": \"VA\"}, {\"Arrived\": 506811, \"Disruption\": 5522, \"Total_Flights\": 512333, \"Disrupt_Pct\": 1.077814624472755, \"Avg_Profit\": 13.610926877636224, \"Avg_Total_Cost\": 5.389073122363775, \"Avg_Cancel_Cost\": 3.971050078757371, \"Avg_Delay_Cost\": 1.418023043606404, \"State\": \"NV\"}, {\"Arrived\": 495519, \"Disruption\": 9492, \"Total_Flights\": 505011, \"Disrupt_Pct\": 1.879563019419379, \"Avg_Profit\": 9.602184902903105, \"Avg_Total_Cost\": 9.397815097096895, \"Avg_Cancel_Cost\": 5.849377538311047, \"Avg_Delay_Cost\": 3.5484375587858485, \"State\": \"MI\"}, {\"Arrived\": 453336, \"Disruption\": 4113, \"Total_Flights\": 457449, \"Disrupt_Pct\": 0.8991166228366441, \"Avg_Profit\": 14.504416885816779, \"Avg_Total_Cost\": 4.49558311418322, \"Avg_Cancel_Cost\": 2.9839391932215396, \"Avg_Delay_Cost\": 1.5116439209616805, \"State\": \"WA\"}, {\"Arrived\": 387871, \"Disruption\": 10403, \"Total_Flights\": 398274, \"Disrupt_Pct\": 2.612020870054284, \"Avg_Profit\": 5.939895649728578, \"Avg_Total_Cost\": 13.060104350271422, \"Avg_Cancel_Cost\": 10.337104606376515, \"Avg_Delay_Cost\": 2.7229997438949063, \"State\": \"MA\"}, {\"Arrived\": 437153, \"Disruption\": 6880, \"Total_Flights\": 444033, \"Disrupt_Pct\": 1.5494343888855109, \"Avg_Profit\": 11.252828055572445, \"Avg_Total_Cost\": 7.747171944427554, \"Avg_Cancel_Cost\": 4.264322696736504, \"Avg_Delay_Cost\": 3.4828492476910498, \"State\": \"MN\"}, {\"Arrived\": 341375, \"Disruption\": 3079, \"Total_Flights\": 344454, \"Disrupt_Pct\": 0.8938784278887746, \"Avg_Profit\": 14.530607860556126, \"Avg_Total_Cost\": 4.469392139443873, \"Avg_Cancel_Cost\": 2.15268221591272, \"Avg_Delay_Cost\": 2.3167099235311532, \"State\": \"UT\"}, {\"Arrived\": 335148, \"Disruption\": 5075, \"Total_Flights\": 340223, \"Disrupt_Pct\": 1.4916686996469963, \"Avg_Profit\": 11.541656501765019, \"Avg_Total_Cost\": 7.458343498234981, \"Avg_Cancel_Cost\": 6.068078877677288, \"Avg_Delay_Cost\": 1.3902646205576934, \"State\": \"MO\"}, {\"Arrived\": 387838, \"Disruption\": 9507, \"Total_Flights\": 397345, \"Disrupt_Pct\": 2.392631088852257, \"Avg_Profit\": 7.036844555738716, \"Avg_Total_Cost\": 11.963155444261284, \"Avg_Cancel_Cost\": 9.715738212384704, \"Avg_Delay_Cost\": 2.2474172318765806, \"State\": \"PA\"}, {\"Arrived\": 376457, \"Disruption\": 15061, \"Total_Flights\": 391518, \"Disrupt_Pct\": 3.8468218574880337, \"Avg_Profit\": -0.2341092874401688, \"Avg_Total_Cost\": 19.23410928744017, \"Avg_Cancel_Cost\": 14.59958418259186, \"Avg_Delay_Cost\": 4.63452510484831, \"State\": \"NJ\"}, {\"Arrived\": 312859, \"Disruption\": 1689, \"Total_Flights\": 314548, \"Disrupt_Pct\": 0.5369609725701642, \"Avg_Profit\": 16.31519513714918, \"Avg_Total_Cost\": 2.6848048628508208, \"Avg_Cancel_Cost\": 1.2414639419102966, \"Avg_Delay_Cost\": 1.4433409209405241, \"State\": \"HI\"}, {\"Arrived\": 296706, \"Disruption\": 6764, \"Total_Flights\": 303470, \"Disrupt_Pct\": 2.228885886578574, \"Avg_Profit\": 7.855570567107128, \"Avg_Total_Cost\": 11.144429432892872, \"Avg_Cancel_Cost\": 9.610505157017169, \"Avg_Delay_Cost\": 1.5339242758757035, \"State\": \"MD\"}, {\"Arrived\": 278032, \"Disruption\": 4753, \"Total_Flights\": 282785, \"Disrupt_Pct\": 1.6807822197075515, \"Avg_Profit\": 10.596088901462242, \"Avg_Total_Cost\": 8.403911098537758, \"Avg_Cancel_Cost\": 6.522623194299556, \"Avg_Delay_Cost\": 1.881287904238202, \"State\": \"TN\"}, {\"Arrived\": 250035, \"Disruption\": 5715, \"Total_Flights\": 255750, \"Disrupt_Pct\": 2.2346041055718477, \"Avg_Profit\": 7.826979472140763, \"Avg_Total_Cost\": 11.173020527859238, \"Avg_Cancel_Cost\": 8.832844574780058, \"Avg_Delay_Cost\": 2.3401759530791804, \"State\": \"OH\"}, {\"Arrived\": 211615, \"Disruption\": 3474, \"Total_Flights\": 215089, \"Disrupt_Pct\": 1.6151453584330209, \"Avg_Profit\": 10.924273207834895, \"Avg_Total_Cost\": 8.075726792165105, \"Avg_Cancel_Cost\": 6.236953075238622, \"Avg_Delay_Cost\": 1.8387737169264824, \"State\": \"LA\"}, {\"Arrived\": 215256, \"Disruption\": 2429, \"Total_Flights\": 217685, \"Disrupt_Pct\": 1.1158325102786135, \"Avg_Profit\": 13.420837448606932, \"Avg_Total_Cost\": 5.579162551393068, \"Avg_Cancel_Cost\": 4.109148540322025, \"Avg_Delay_Cost\": 1.4700140110710436, \"State\": \"OR\"}, {\"Arrived\": 158948, \"Disruption\": 3153, \"Total_Flights\": 162101, \"Disrupt_Pct\": 1.9450836207056095, \"Avg_Profit\": 9.274581896471952, \"Avg_Total_Cost\": 9.725418103528048, \"Avg_Cancel_Cost\": 7.840790618194829, \"Avg_Delay_Cost\": 1.884627485333219, \"State\": \"WI\"}, {\"Arrived\": 142559, \"Disruption\": 3219, \"Total_Flights\": 145778, \"Disrupt_Pct\": 2.2081521217193267, \"Avg_Profit\": 7.959239391403367, \"Avg_Total_Cost\": 11.040760608596633, \"Avg_Cancel_Cost\": 8.310581843625238, \"Avg_Delay_Cost\": 2.730178764971395, \"State\": \"KY\"}, {\"Arrived\": 100448, \"Disruption\": 1452, \"Total_Flights\": 101900, \"Disrupt_Pct\": 1.4249263984298333, \"Avg_Profit\": 11.875368007850835, \"Avg_Total_Cost\": 7.124631992149165, \"Avg_Cancel_Cost\": 5.5250245338567225, \"Avg_Delay_Cost\": 1.5996074582924429, \"State\": \"OK\"}, {\"Arrived\": 142013, \"Disruption\": 2803, \"Total_Flights\": 144816, \"Disrupt_Pct\": 1.9355596066732959, \"Avg_Profit\": 9.322201966633521, \"Avg_Total_Cost\": 9.677798033366479, \"Avg_Cancel_Cost\": 7.171168931609767, \"Avg_Delay_Cost\": 2.5066291017567117, \"State\": \"IN\"}, {\"Arrived\": 113777, \"Disruption\": 3312, \"Total_Flights\": 117089, \"Disrupt_Pct\": 2.8286175473357873, \"Avg_Profit\": 4.856912263321063, \"Avg_Total_Cost\": 14.143087736678936, \"Avg_Cancel_Cost\": 11.92682489388414, \"Avg_Delay_Cost\": 2.216262842794796, \"State\": \"SC\"}, {\"Arrived\": 109789, \"Disruption\": 1367, \"Total_Flights\": 111156, \"Disrupt_Pct\": 1.2298031595235526, \"Avg_Profit\": 12.850984202382238, \"Avg_Total_Cost\": 6.149015797617762, \"Avg_Cancel_Cost\": 5.253877433516859, \"Avg_Delay_Cost\": 0.8951383641009034, \"State\": \"AK\"}, {\"Arrived\": 83776, \"Disruption\": 1745, \"Total_Flights\": 85521, \"Disrupt_Pct\": 2.0404345131605104, \"Avg_Profit\": 8.79782743419745, \"Avg_Total_Cost\": 10.20217256580255, \"Avg_Cancel_Cost\": 8.091579845885805, \"Avg_Delay_Cost\": 2.1105927199167454, \"State\": \"AL\"}, {\"Arrived\": 69221, \"Disruption\": 785, \"Total_Flights\": 70006, \"Disrupt_Pct\": 1.1213324572179528, \"Avg_Profit\": 13.393337713910237, \"Avg_Total_Cost\": 5.6066622860897635, \"Avg_Cancel_Cost\": 4.363911664714453, \"Avg_Delay_Cost\": 1.2427506213753103, \"State\": \"NM\"}, {\"Arrived\": 57716, \"Disruption\": 1030, \"Total_Flights\": 58746, \"Disrupt_Pct\": 1.7533108637183807, \"Avg_Profit\": 10.233445681408096, \"Avg_Total_Cost\": 8.766554318591904, \"Avg_Cancel_Cost\": 7.055799543798727, \"Avg_Delay_Cost\": 1.7107547747931768, \"State\": \"AR\"}, {\"Arrived\": 71639, \"Disruption\": 1135, \"Total_Flights\": 72774, \"Disrupt_Pct\": 1.5596229422595982, \"Avg_Profit\": 11.201885288702009, \"Avg_Total_Cost\": 7.798114711297991, \"Avg_Cancel_Cost\": 6.272844697281997, \"Avg_Delay_Cost\": 1.5252700140159945, \"State\": \"NE\"}, {\"Arrived\": 81982, \"Disruption\": 2062, \"Total_Flights\": 84044, \"Disrupt_Pct\": 2.453476750273666, \"Avg_Profit\": 6.732616248631669, \"Avg_Total_Cost\": 12.267383751368332, \"Avg_Cancel_Cost\": 9.810337442292132, \"Avg_Delay_Cost\": 2.4570463090761994, \"State\": \"PR\"}, {\"Arrived\": 69467, \"Disruption\": 1582, \"Total_Flights\": 71049, \"Disrupt_Pct\": 2.2266323241706427, \"Avg_Profit\": 7.866838379146786, \"Avg_Total_Cost\": 11.133161620853214, \"Avg_Cancel_Cost\": 9.000830412813693, \"Avg_Delay_Cost\": 2.1323312080395205, \"State\": \"CT\"}, {\"Arrived\": 52061, \"Disruption\": 999, \"Total_Flights\": 53060, \"Disrupt_Pct\": 1.882774217866566, \"Avg_Profit\": 9.586128910667169, \"Avg_Total_Cost\": 9.413871089332831, \"Avg_Cancel_Cost\": 7.651715039577836, \"Avg_Delay_Cost\": 1.7621560497549948, \"State\": \"IA\"}, {\"Arrived\": 68327, \"Disruption\": 530, \"Total_Flights\": 68857, \"Disrupt_Pct\": 0.7697111404795446, \"Avg_Profit\": 15.151444297602277, \"Avg_Total_Cost\": 3.848555702397723, \"Avg_Cancel_Cost\": 2.6141133072890193, \"Avg_Delay_Cost\": 1.2344423951087036, \"State\": \"ID\"}, {\"Arrived\": 40062, \"Disruption\": 844, \"Total_Flights\": 40906, \"Disrupt_Pct\": 2.0632670023957367, \"Avg_Profit\": 8.683664988021317, \"Avg_Total_Cost\": 10.316335011978683, \"Avg_Cancel_Cost\": 7.835036424974332, \"Avg_Delay_Cost\": 2.4812985870043516, \"State\": \"ND\"}, {\"Arrived\": 33290, \"Disruption\": 596, \"Total_Flights\": 33886, \"Disrupt_Pct\": 1.7588384583603849, \"Avg_Profit\": 10.205807708198076, \"Avg_Total_Cost\": 8.794192291801924, \"Avg_Cancel_Cost\": 6.787463849377324, \"Avg_Delay_Cost\": 2.0067284424246, \"State\": \"KS\"}, {\"Arrived\": 54142, \"Disruption\": 435, \"Total_Flights\": 54577, \"Disrupt_Pct\": 0.7970390457518736, \"Avg_Profit\": 15.014804771240632, \"Avg_Total_Cost\": 3.9851952287593675, \"Avg_Cancel_Cost\": 2.446085347307474, \"Avg_Delay_Cost\": 1.5391098814518935, \"State\": \"MT\"}, {\"Arrived\": 34444, \"Disruption\": 783, \"Total_Flights\": 35227, \"Disrupt_Pct\": 2.2227268856275018, \"Avg_Profit\": 7.886365571862492, \"Avg_Total_Cost\": 11.113634428137509, \"Avg_Cancel_Cost\": 8.218128140346893, \"Avg_Delay_Cost\": 2.8955062877906155, \"State\": \"MS\"}, {\"Arrived\": 43569, \"Disruption\": 1168, \"Total_Flights\": 44737, \"Disrupt_Pct\": 2.6108143147730067, \"Avg_Profit\": 5.945928426134967, \"Avg_Total_Cost\": 13.054071573865034, \"Avg_Cancel_Cost\": 11.277019022285804, \"Avg_Delay_Cost\": 1.7770525515792297, \"State\": \"RI\"}, {\"Arrived\": 26832, \"Disruption\": 488, \"Total_Flights\": 27320, \"Disrupt_Pct\": 1.786237188872621, \"Avg_Profit\": 10.068814055636896, \"Avg_Total_Cost\": 8.931185944363104, \"Avg_Cancel_Cost\": 6.60688140556369, \"Avg_Delay_Cost\": 2.3243045387994146, \"State\": \"SD\"}, {\"Arrived\": 24037, \"Disruption\": 380, \"Total_Flights\": 24417, \"Disrupt_Pct\": 1.5562927468566983, \"Avg_Profit\": 11.218536265716509, \"Avg_Total_Cost\": 7.781463734283491, \"Avg_Cancel_Cost\": 5.2832043248556335, \"Avg_Delay_Cost\": 2.498259409427858, \"State\": \"WY\"}, {\"Arrived\": 22151, \"Disruption\": 639, \"Total_Flights\": 22790, \"Disrupt_Pct\": 2.803861342694164, \"Avg_Profit\": 4.9806932865291795, \"Avg_Total_Cost\": 14.01930671347082, \"Avg_Cancel_Cost\": 12.57130320315928, \"Avg_Delay_Cost\": 1.4480035103115405, \"State\": \"NH\"}, {\"Arrived\": 28218, \"Disruption\": 1139, \"Total_Flights\": 29357, \"Disrupt_Pct\": 3.8798242327213273, \"Avg_Profit\": -0.3991211636066356, \"Avg_Total_Cost\": 19.399121163606637, \"Avg_Cancel_Cost\": 16.810300780052458, \"Avg_Delay_Cost\": 2.5888203835541788, \"State\": \"ME\"}, {\"Arrived\": 16058, \"Disruption\": 628, \"Total_Flights\": 16686, \"Disrupt_Pct\": 3.763634184346158, \"Avg_Profit\": 0.18182907826920772, \"Avg_Total_Cost\": 18.818170921730793, \"Avg_Cancel_Cost\": 16.12129929282033, \"Avg_Delay_Cost\": 2.696871628910465, \"State\": \"VT\"}, {\"Arrived\": 14726, \"Disruption\": 416, \"Total_Flights\": 15142, \"Disrupt_Pct\": 2.747325320301149, \"Avg_Profit\": 5.263373398494254, \"Avg_Total_Cost\": 13.736626601505746, \"Avg_Cancel_Cost\": 11.32611279883767, \"Avg_Delay_Cost\": 2.410513802668076, \"State\": \"VI\"}, {\"Arrived\": 10887, \"Disruption\": 364, \"Total_Flights\": 11251, \"Disrupt_Pct\": 3.2352679761798955, \"Avg_Profit\": 2.8236601191005244, \"Avg_Total_Cost\": 16.176339880899476, \"Avg_Cancel_Cost\": 12.976624300062218, \"Avg_Delay_Cost\": 3.1997155808372586, \"State\": \"WV\"}, {\"Arrived\": 1866, \"Disruption\": 28, \"Total_Flights\": 1894, \"Disrupt_Pct\": 1.478352692713833, \"Avg_Profit\": 11.608236536430834, \"Avg_Total_Cost\": 7.391763463569165, \"Avg_Cancel_Cost\": 3.95987328405491, \"Avg_Delay_Cost\": 3.4318901795142556, \"State\": \"TT\"}]}};\n",
              "      var embedOpt = {\"mode\": \"vega-lite\"};\n",
              "\n",
              "      function showError(el, error){\n",
              "          el.innerHTML = ('<div class=\"error\" style=\"color:red;\">'\n",
              "                          + '<p>JavaScript Error: ' + error.message + '</p>'\n",
              "                          + \"<p>This usually means there's a typo in your chart specification. \"\n",
              "                          + \"See the javascript console for the full traceback.</p>\"\n",
              "                          + '</div>');\n",
              "          throw error;\n",
              "      }\n",
              "      const el = document.getElementById('altair-viz');\n",
              "      vegaEmbed(\"#altair-viz\", spec, embedOpt)\n",
              "        .catch(error => showError(el, error));\n",
              "\n",
              "  </script>\n",
              "</body>\n",
              "</html>"
            ]
          },
          "metadata": {
            "tags": []
          },
          "execution_count": 97
        }
      ]
    },
    {
      "metadata": {
        "id": "Mo640uwgOn0L",
        "colab_type": "code",
        "outputId": "91638b7e-0de3-4e7e-b471-785da1fcc28e",
        "colab": {
          "base_uri": "https://localhost:8080/",
          "height": 569
        }
      },
      "cell_type": "code",
      "source": [
        "state_stats(origin_state_df, 'Avg_Total_Cost', 'Disruption Cost per Customer by Origin State')"
      ],
      "execution_count": 0,
      "outputs": [
        {
          "output_type": "execute_result",
          "data": {
            "text/plain": [
              "Chart({\n",
              "  config: Config({\n",
              "    axis: AxisConfig({\n",
              "      labelFontSize: 14,\n",
              "      titleFontSize: 14\n",
              "    }),\n",
              "    title: VgTitleConfig({\n",
              "      fontSize: 24\n",
              "    })\n",
              "  }),\n",
              "  data:              Arrived  Disruption  Total_Flights  Disrupt_Pct  Avg_Profit  \\\n",
              "  OriginState                                                                \n",
              "  0            2234912       34946        2269858        1.540      11.302   \n",
              "  1            1848138       35635        1883773        1.892       9.542   \n",
              "  2            1114819       26859        1141678        2.353       7.237   \n",
              "  3            1172833       16648        1189481        1.400      12.002   \n",
              "  4            1426446       30639        1457085        2.103       8.486   \n",
              "  5             845241       31178         876419        3.557       1.213   \n",
              "  6             745470       11470         756940        1.515      11.423   \n",
              "  7             544976        5124         550100        0.931      14.343   \n",
              "  8             627896       15160         643056        2.357       7.213   \n",
              "  9             522078       15828         537906        2.943       4.287   \n",
              "  10            506136        6142         512278        1.199      13.005   \n",
              "  11            495680        9103         504783        1.803       9.983   \n",
              "  12            453769        3697         457466        0.808      14.959   \n",
              "  13            387725       10554         398279        2.650       5.750   \n",
              "  14            438294        5848         444142        1.317      12.417   \n",
              "  15            341834        2480         344314        0.720      15.399   \n",
              "  16            334438        5784         340222        1.700      10.500   \n",
              "  17            387495        9843         397338        2.477       6.614   \n",
              "  18            377343       13975         391318        3.571       1.144   \n",
              "  19            312623        1942         314565        0.617      15.913   \n",
              "  20            296656        6814         303470        2.245       7.773   \n",
              "  21            277268        5512         282780        1.949       9.254   \n",
              "  22            249408        6351         255759        2.483       6.584   \n",
              "  23            210774        4328         215102        2.012       8.940   \n",
              "  24            215019        2669         217688        1.226      12.870   \n",
              "  25            158396        3712         162108        2.290       7.551   \n",
              "  26            142149        3634         145783        2.493       6.536   \n",
              "  27            100137        1757         101894        1.724      10.378   \n",
              "  28            141730        3090         144820        2.134       8.332   \n",
              "  29            113298        3784         117082        3.232       2.840   \n",
              "  30            109598        1569         111167        1.411      11.943   \n",
              "  31             83468        2048          85516        2.395       7.026   \n",
              "  32             69010         993          70003        1.419      11.907   \n",
              "  33             57447        1297          58744        2.208       7.961   \n",
              "  34             71303        1466          72769        2.015       8.927   \n",
              "  35             81742        2290          84032        2.725       5.374   \n",
              "  36             69295        1746          71041        2.458       6.711   \n",
              "  37             51745        1305          53050        2.460       6.700   \n",
              "  38             67955        1154          69109        1.670      10.651   \n",
              "  39             39698        1214          40912        2.967       4.163   \n",
              "  40             33072         813          33885        2.399       7.004   \n",
              "  41             53846         736          54582        1.348      12.258   \n",
              "  42             34262         964          35226        2.737       5.317   \n",
              "  43             43390        1346          44736        3.009       3.956   \n",
              "  44             26630         691          27321        2.529       6.354   \n",
              "  45             23853         561          24414        2.298       7.511   \n",
              "  46             22091         703          22794        3.084       3.579   \n",
              "  47             27917        1440          29357        4.905      -5.526   \n",
              "  48             15834         848          16682        5.083      -6.417   \n",
              "  49             14652         490          15142        3.236       2.820   \n",
              "  50             10804         446          11250        3.964      -0.822   \n",
              "  52              1848          46           1894        2.429       6.856   \n",
              "  \n",
              "               Avg_Total_Cost  Avg_Cancel_Cost  Avg_Delay_Cost State  \n",
              "  OriginState                                                         \n",
              "  0                     7.698            5.795           1.903    CA  \n",
              "  1                     9.458            7.374           2.084    TX  \n",
              "  2                    11.763            9.361           2.402    IL  \n",
              "  3                     6.998            4.793           2.205    GA  \n",
              "  4                    10.514            7.498           3.016    FL  \n",
              "  5                    17.787           13.675           4.112    NY  \n",
              "  6                     7.577            5.528           2.048    CO  \n",
              "  7                     4.657            3.336           1.322    AZ  \n",
              "  8                    11.787            9.496           2.291    NC  \n",
              "  9                    14.713           11.243           3.470    VA  \n",
              "  10                    5.995            4.202           1.793    NV  \n",
              "  11                    9.017            5.915           3.101    MI  \n",
              "  12                    4.041            2.636           1.404    WA  \n",
              "  13                   13.250           10.314           2.935    MA  \n",
              "  14                    6.583            4.288           2.295    MN  \n",
              "  15                    3.601            1.820           1.782    UT  \n",
              "  16                    8.500            6.397           2.103    MO  \n",
              "  17                   12.386            9.575           2.811    PA  \n",
              "  18                   17.856           14.143           3.713    NJ  \n",
              "  19                    3.087            1.718           1.369    HI  \n",
              "  20                   11.227            9.414           1.812    MD  \n",
              "  21                    9.746            6.767           2.979    TN  \n",
              "  22                   12.416            9.067           3.349    OH  \n",
              "  23                   10.060            6.781           3.280    LA  \n",
              "  24                    6.130            4.104           2.026    OR  \n",
              "  25                   11.449            8.084           3.365    WI  \n",
              "  26                   12.464            8.808           3.656    KY  \n",
              "  27                    8.622            6.080           2.542    OK  \n",
              "  28                   10.668            6.995           3.674    IN  \n",
              "  29                   16.160           12.525           3.634    SC  \n",
              "  30                    7.057            5.631           1.426    AK  \n",
              "  31                   11.974            8.460           3.514    AL  \n",
              "  32                    7.093            4.807           2.286    NM  \n",
              "  33                   11.039            7.499           3.541    AR  \n",
              "  34                   10.073            6.617           3.456    NE  \n",
              "  35                   13.626           10.526           3.100    PR  \n",
              "  36                   12.289            9.663           2.625    CT  \n",
              "  37                   12.300            8.106           4.194    IA  \n",
              "  38                    8.349            5.607           2.742    ID  \n",
              "  39                   14.837            8.702           6.135    ND  \n",
              "  40                   11.996            7.570           4.427    KS  \n",
              "  41                    6.742            3.069           3.673    MT  \n",
              "  42                   13.683            8.658           5.025    MS  \n",
              "  43                   15.044           12.395           2.649    RI  \n",
              "  44                   12.646            7.558           5.088    SD  \n",
              "  45                   11.489            6.431           5.059    WY  \n",
              "  46                   15.421           13.117           2.303    NH  \n",
              "  47                   24.526           19.127           5.399    ME  \n",
              "  48                   25.417           19.812           5.605    VT  \n",
              "  49                   16.180           12.119           4.062    VI  \n",
              "  50                   19.822           13.378           6.444    WV  \n",
              "  52                   12.144            4.488           7.656    TT  ,\n",
              "  encoding: EncodingWithFacet({\n",
              "    color: Color({\n",
              "      legend: None,\n",
              "      shorthand: 'State'\n",
              "    }),\n",
              "    x: X({\n",
              "      shorthand: 'State'\n",
              "    }),\n",
              "    y: Y({\n",
              "      shorthand: 'Avg_Total_Cost'\n",
              "    })\n",
              "  }),\n",
              "  height: 450,\n",
              "  mark: 'bar',\n",
              "  title: 'Disruption Cost per Customer by Origin State',\n",
              "  width: 1100\n",
              "})"
            ],
            "text/html": [
              "<!DOCTYPE html>\n",
              "<html>\n",
              "<head>\n",
              "  <style>\n",
              "    .vega-actions a {\n",
              "        margin-right: 12px;\n",
              "        color: #757575;\n",
              "        font-weight: normal;\n",
              "        font-size: 13px;\n",
              "    }\n",
              "    .error {\n",
              "        color: red;\n",
              "    }\n",
              "  </style>\n",
              "  <script type=\"text/javascript\" src=\"https://cdn.jsdelivr.net/npm//vega@4\"></script>\n",
              "  <script type=\"text/javascript\" src=\"https://cdn.jsdelivr.net/npm//vega-lite@2.6.0\"></script>\n",
              "  <script type=\"text/javascript\" src=\"https://cdn.jsdelivr.net/npm//vega-embed@3\"></script>\n",
              "</head>\n",
              "<body>\n",
              "  <div id=\"altair-viz\"></div>\n",
              "  <script>\n",
              "      var spec = {\"config\": {\"view\": {\"width\": 400, \"height\": 300}, \"axis\": {\"labelFontSize\": 14, \"titleFontSize\": 14}, \"title\": {\"fontSize\": 24}}, \"data\": {\"name\": \"data-67fe4701e3419ddba8998eeda94a9866\"}, \"mark\": \"bar\", \"encoding\": {\"color\": {\"type\": \"nominal\", \"field\": \"State\", \"legend\": null}, \"x\": {\"type\": \"nominal\", \"field\": \"State\"}, \"y\": {\"type\": \"quantitative\", \"field\": \"Avg_Total_Cost\"}}, \"height\": 450, \"title\": \"Disruption Cost per Customer by Origin State\", \"width\": 1100, \"$schema\": \"https://vega.github.io/schema/vega-lite/v2.6.0.json\", \"datasets\": {\"data-67fe4701e3419ddba8998eeda94a9866\": [{\"Arrived\": 2234912, \"Disruption\": 34946, \"Total_Flights\": 2269858, \"Disrupt_Pct\": 1.5395676733963093, \"Avg_Profit\": 11.302161633018454, \"Avg_Total_Cost\": 7.697838366981546, \"Avg_Cancel_Cost\": 5.795296445856965, \"Avg_Delay_Cost\": 1.9025419211245813, \"State\": \"CA\"}, {\"Arrived\": 1848138, \"Disruption\": 35635, \"Total_Flights\": 1883773, \"Disrupt_Pct\": 1.8916822780664124, \"Avg_Profit\": 9.541588609667938, \"Avg_Total_Cost\": 9.458411390332062, \"Avg_Cancel_Cost\": 7.374030735125729, \"Avg_Delay_Cost\": 2.084380655206333, \"State\": \"TX\"}, {\"Arrived\": 1114819, \"Disruption\": 26859, \"Total_Flights\": 1141678, \"Disrupt_Pct\": 2.3525897845101684, \"Avg_Profit\": 7.237051077449158, \"Avg_Total_Cost\": 11.762948922550843, \"Avg_Cancel_Cost\": 9.360782987847712, \"Avg_Delay_Cost\": 2.402165934703131, \"State\": \"IL\"}, {\"Arrived\": 1172833, \"Disruption\": 16648, \"Total_Flights\": 1189481, \"Disrupt_Pct\": 1.3996020112973642, \"Avg_Profit\": 12.001989943513179, \"Avg_Total_Cost\": 6.99801005648682, \"Avg_Cancel_Cost\": 4.793266979464153, \"Avg_Delay_Cost\": 2.204743077022667, \"State\": \"GA\"}, {\"Arrived\": 1426446, \"Disruption\": 30639, \"Total_Flights\": 1457085, \"Disrupt_Pct\": 2.102759962527924, \"Avg_Profit\": 8.48620018736038, \"Avg_Total_Cost\": 10.51379981263962, \"Avg_Cancel_Cost\": 7.497503577347924, \"Avg_Delay_Cost\": 3.016296235291696, \"State\": \"FL\"}, {\"Arrived\": 845241, \"Disruption\": 31178, \"Total_Flights\": 876419, \"Disrupt_Pct\": 3.557430863548143, \"Avg_Profit\": 1.2128456822592846, \"Avg_Total_Cost\": 17.787154317740715, \"Avg_Cancel_Cost\": 13.674965969473506, \"Avg_Delay_Cost\": 4.112188348267209, \"State\": \"NY\"}, {\"Arrived\": 745470, \"Disruption\": 11470, \"Total_Flights\": 756940, \"Disrupt_Pct\": 1.5153116495362908, \"Avg_Profit\": 11.423441752318546, \"Avg_Total_Cost\": 7.576558247681454, \"Avg_Cancel_Cost\": 5.5281792480249425, \"Avg_Delay_Cost\": 2.048378999656512, \"State\": \"CO\"}, {\"Arrived\": 544976, \"Disruption\": 5124, \"Total_Flights\": 550100, \"Disrupt_Pct\": 0.9314670059989092, \"Avg_Profit\": 14.342664970005453, \"Avg_Total_Cost\": 4.657335029994546, \"Avg_Cancel_Cost\": 3.3357571350663515, \"Avg_Delay_Cost\": 1.3215778949281947, \"State\": \"AZ\"}, {\"Arrived\": 627896, \"Disruption\": 15160, \"Total_Flights\": 643056, \"Disrupt_Pct\": 2.357492971063173, \"Avg_Profit\": 7.212535144684133, \"Avg_Total_Cost\": 11.787464855315866, \"Avg_Cancel_Cost\": 9.49606255131746, \"Avg_Delay_Cost\": 2.2914023039984066, \"State\": \"NC\"}, {\"Arrived\": 522078, \"Disruption\": 15828, \"Total_Flights\": 537906, \"Disrupt_Pct\": 2.9425215558108664, \"Avg_Profit\": 4.287392220945667, \"Avg_Total_Cost\": 14.712607779054332, \"Avg_Cancel_Cost\": 11.242670652493185, \"Avg_Delay_Cost\": 3.469937126561147, \"State\": \"VA\"}, {\"Arrived\": 506136, \"Disruption\": 6142, \"Total_Flights\": 512278, \"Disrupt_Pct\": 1.1989583780681583, \"Avg_Profit\": 13.005208109659208, \"Avg_Total_Cost\": 5.9947918903407915, \"Avg_Cancel_Cost\": 4.201820105489597, \"Avg_Delay_Cost\": 1.7929717848511944, \"State\": \"NV\"}, {\"Arrived\": 495680, \"Disruption\": 9103, \"Total_Flights\": 504783, \"Disrupt_Pct\": 1.8033491619171012, \"Avg_Profit\": 9.983254190414495, \"Avg_Total_Cost\": 9.016745809585505, \"Avg_Cancel_Cost\": 5.915413157733124, \"Avg_Delay_Cost\": 3.1013326518523803, \"State\": \"MI\"}, {\"Arrived\": 453769, \"Disruption\": 3697, \"Total_Flights\": 457466, \"Disrupt_Pct\": 0.8081474907424814, \"Avg_Profit\": 14.959262546287594, \"Avg_Total_Cost\": 4.040737453712407, \"Avg_Cancel_Cost\": 2.636261492657378, \"Avg_Delay_Cost\": 1.404475961055029, \"State\": \"WA\"}, {\"Arrived\": 387725, \"Disruption\": 10554, \"Total_Flights\": 398279, \"Disrupt_Pct\": 2.649901199912624, \"Avg_Profit\": 5.75049400043688, \"Avg_Total_Cost\": 13.24950599956312, \"Avg_Cancel_Cost\": 10.314377609665586, \"Avg_Delay_Cost\": 2.9351283898975336, \"State\": \"MA\"}, {\"Arrived\": 438294, \"Disruption\": 5848, \"Total_Flights\": 444142, \"Disrupt_Pct\": 1.3166960116359183, \"Avg_Profit\": 12.41651994182041, \"Avg_Total_Cost\": 6.583480058179592, \"Avg_Cancel_Cost\": 4.2880430132705305, \"Avg_Delay_Cost\": 2.295437044909061, \"State\": \"MN\"}, {\"Arrived\": 341834, \"Disruption\": 2480, \"Total_Flights\": 344314, \"Disrupt_Pct\": 0.7202727742699977, \"Avg_Profit\": 15.398636128650011, \"Avg_Total_Cost\": 3.6013638713499887, \"Avg_Cancel_Cost\": 1.8195600527425546, \"Avg_Delay_Cost\": 1.781803818607434, \"State\": \"UT\"}, {\"Arrived\": 334438, \"Disruption\": 5784, \"Total_Flights\": 340222, \"Disrupt_Pct\": 1.7000664272151713, \"Avg_Profit\": 10.499667863924143, \"Avg_Total_Cost\": 8.500332136075857, \"Avg_Cancel_Cost\": 6.397293531870368, \"Avg_Delay_Cost\": 2.103038604205489, \"State\": \"MO\"}, {\"Arrived\": 387495, \"Disruption\": 9843, \"Total_Flights\": 397338, \"Disrupt_Pct\": 2.4772360056173834, \"Avg_Profit\": 6.613819971913082, \"Avg_Total_Cost\": 12.386180028086919, \"Avg_Cancel_Cost\": 9.574971434899256, \"Avg_Delay_Cost\": 2.811208593187663, \"State\": \"PA\"}, {\"Arrived\": 377343, \"Disruption\": 13975, \"Total_Flights\": 391318, \"Disrupt_Pct\": 3.5712642914458317, \"Avg_Profit\": 1.1436785427708411, \"Avg_Total_Cost\": 17.85632145722916, \"Avg_Cancel_Cost\": 14.143228780684762, \"Avg_Delay_Cost\": 3.713092676544399, \"State\": \"NJ\"}, {\"Arrived\": 312623, \"Disruption\": 1942, \"Total_Flights\": 314565, \"Disrupt_Pct\": 0.6173604819353711, \"Avg_Profit\": 15.913197590323145, \"Avg_Total_Cost\": 3.086802409676855, \"Avg_Cancel_Cost\": 1.7182458315451496, \"Avg_Delay_Cost\": 1.3685565781317055, \"State\": \"HI\"}, {\"Arrived\": 296656, \"Disruption\": 6814, \"Total_Flights\": 303470, \"Disrupt_Pct\": 2.2453619797673574, \"Avg_Profit\": 7.7731901011632125, \"Avg_Total_Cost\": 11.226809898836787, \"Avg_Cancel_Cost\": 9.41443964807065, \"Avg_Delay_Cost\": 1.8123702507661381, \"State\": \"MD\"}, {\"Arrived\": 277268, \"Disruption\": 5512, \"Total_Flights\": 282780, \"Disrupt_Pct\": 1.9492184737251574, \"Avg_Profit\": 9.253907631374213, \"Avg_Total_Cost\": 9.746092368625787, \"Avg_Cancel_Cost\": 6.766744465662352, \"Avg_Delay_Cost\": 2.9793479029634344, \"State\": \"TN\"}, {\"Arrived\": 249408, \"Disruption\": 6351, \"Total_Flights\": 255759, \"Disrupt_Pct\": 2.483197072243792, \"Avg_Profit\": 6.58401463878104, \"Avg_Total_Cost\": 12.41598536121896, \"Avg_Cancel_Cost\": 9.067129602477332, \"Avg_Delay_Cost\": 3.348855758741628, \"State\": \"OH\"}, {\"Arrived\": 210774, \"Disruption\": 4328, \"Total_Flights\": 215102, \"Disrupt_Pct\": 2.0120686929921616, \"Avg_Profit\": 8.939656535039191, \"Avg_Total_Cost\": 10.060343464960809, \"Avg_Cancel_Cost\": 6.780504132922986, \"Avg_Delay_Cost\": 3.279839332037823, \"State\": \"LA\"}, {\"Arrived\": 215019, \"Disruption\": 2669, \"Total_Flights\": 217688, \"Disrupt_Pct\": 1.226066664216677, \"Avg_Profit\": 12.869666678916614, \"Avg_Total_Cost\": 6.130333321083385, \"Avg_Cancel_Cost\": 4.104498180882731, \"Avg_Delay_Cost\": 2.0258351402006536, \"State\": \"OR\"}, {\"Arrived\": 158396, \"Disruption\": 3712, \"Total_Flights\": 162108, \"Disrupt_Pct\": 2.289831470377773, \"Avg_Profit\": 7.550842648111136, \"Avg_Total_Cost\": 11.449157351888864, \"Avg_Cancel_Cost\": 8.084116761665063, \"Avg_Delay_Cost\": 3.365040590223801, \"State\": \"WI\"}, {\"Arrived\": 142149, \"Disruption\": 3634, \"Total_Flights\": 145783, \"Disrupt_Pct\": 2.4927460677856814, \"Avg_Profit\": 6.536269661071593, \"Avg_Total_Cost\": 12.463730338928407, \"Avg_Cancel_Cost\": 8.8076113127045, \"Avg_Delay_Cost\": 3.656119026223907, \"State\": \"KY\"}, {\"Arrived\": 100137, \"Disruption\": 1757, \"Total_Flights\": 101894, \"Disrupt_Pct\": 1.7243409818046205, \"Avg_Profit\": 10.378295090976897, \"Avg_Total_Cost\": 8.621704909023103, \"Avg_Cancel_Cost\": 6.079847684848961, \"Avg_Delay_Cost\": 2.5418572241741426, \"State\": \"OK\"}, {\"Arrived\": 141730, \"Disruption\": 3090, \"Total_Flights\": 144820, \"Disrupt_Pct\": 2.133683192929153, \"Avg_Profit\": 8.331584035354233, \"Avg_Total_Cost\": 10.668415964645767, \"Avg_Cancel_Cost\": 6.994890208534733, \"Avg_Delay_Cost\": 3.673525756111034, \"State\": \"IN\"}, {\"Arrived\": 113298, \"Disruption\": 3784, \"Total_Flights\": 117082, \"Disrupt_Pct\": 3.231922925812678, \"Avg_Profit\": 2.8403853709366085, \"Avg_Total_Cost\": 16.15961462906339, \"Avg_Cancel_Cost\": 12.52540954203037, \"Avg_Delay_Cost\": 3.6342050870330205, \"State\": \"SC\"}, {\"Arrived\": 109598, \"Disruption\": 1569, \"Total_Flights\": 111167, \"Disrupt_Pct\": 1.4113900707943903, \"Avg_Profit\": 11.943049646028047, \"Avg_Total_Cost\": 7.056950353971952, \"Avg_Cancel_Cost\": 5.631167522736064, \"Avg_Delay_Cost\": 1.425782831235888, \"State\": \"AK\"}, {\"Arrived\": 83468, \"Disruption\": 2048, \"Total_Flights\": 85516, \"Disrupt_Pct\": 2.3948734739697835, \"Avg_Profit\": 7.025632630151083, \"Avg_Total_Cost\": 11.974367369848917, \"Avg_Cancel_Cost\": 8.460405070396183, \"Avg_Delay_Cost\": 3.513962299452734, \"State\": \"AL\"}, {\"Arrived\": 69010, \"Disruption\": 993, \"Total_Flights\": 70003, \"Disrupt_Pct\": 1.4185106352584889, \"Avg_Profit\": 11.907446823707556, \"Avg_Total_Cost\": 7.092553176292444, \"Avg_Cancel_Cost\": 4.8069368455637616, \"Avg_Delay_Cost\": 2.2856163307286828, \"State\": \"NM\"}, {\"Arrived\": 57447, \"Disruption\": 1297, \"Total_Flights\": 58744, \"Disrupt_Pct\": 2.207885060601934, \"Avg_Profit\": 7.960574696990331, \"Avg_Total_Cost\": 11.039425303009669, \"Avg_Cancel_Cost\": 7.498638158790685, \"Avg_Delay_Cost\": 3.5407871442189833, \"State\": \"AR\"}, {\"Arrived\": 71303, \"Disruption\": 1466, \"Total_Flights\": 72769, \"Disrupt_Pct\": 2.0145941266198517, \"Avg_Profit\": 8.92702936690074, \"Avg_Total_Cost\": 10.07297063309926, \"Avg_Cancel_Cost\": 6.616828594593851, \"Avg_Delay_Cost\": 3.4561420385054085, \"State\": \"NE\"}, {\"Arrived\": 81742, \"Disruption\": 2290, \"Total_Flights\": 84032, \"Disrupt_Pct\": 2.7251523229246, \"Avg_Profit\": 5.374238385376999, \"Avg_Total_Cost\": 13.625761614623, \"Avg_Cancel_Cost\": 10.525752094440215, \"Avg_Delay_Cost\": 3.1000095201827857, \"State\": \"PR\"}, {\"Arrived\": 69295, \"Disruption\": 1746, \"Total_Flights\": 71041, \"Disrupt_Pct\": 2.457735673765854, \"Avg_Profit\": 6.711321631170732, \"Avg_Total_Cost\": 12.288678368829268, \"Avg_Cancel_Cost\": 9.663433791754057, \"Avg_Delay_Cost\": 2.625244577075211, \"State\": \"CT\"}, {\"Arrived\": 51745, \"Disruption\": 1305, \"Total_Flights\": 53050, \"Disrupt_Pct\": 2.459943449575872, \"Avg_Profit\": 6.700282752120641, \"Avg_Total_Cost\": 12.299717247879359, \"Avg_Cancel_Cost\": 8.105560791705939, \"Avg_Delay_Cost\": 4.19415645617342, \"State\": \"IA\"}, {\"Arrived\": 67955, \"Disruption\": 1154, \"Total_Flights\": 69109, \"Disrupt_Pct\": 1.6698259271585465, \"Avg_Profit\": 10.650870364207266, \"Avg_Total_Cost\": 8.349129635792734, \"Avg_Cancel_Cost\": 5.607084460779348, \"Avg_Delay_Cost\": 2.742045175013385, \"State\": \"ID\"}, {\"Arrived\": 39698, \"Disruption\": 1214, \"Total_Flights\": 40912, \"Disrupt_Pct\": 2.967344544387955, \"Avg_Profit\": 4.163277278060227, \"Avg_Total_Cost\": 14.836722721939774, \"Avg_Cancel_Cost\": 8.701603441533047, \"Avg_Delay_Cost\": 6.135119280406727, \"State\": \"ND\"}, {\"Arrived\": 33072, \"Disruption\": 813, \"Total_Flights\": 33885, \"Disrupt_Pct\": 2.3992917220008856, \"Avg_Profit\": 7.003541389995573, \"Avg_Total_Cost\": 11.996458610004426, \"Avg_Cancel_Cost\": 7.569721115537849, \"Avg_Delay_Cost\": 4.426737494466577, \"State\": \"KS\"}, {\"Arrived\": 53846, \"Disruption\": 736, \"Total_Flights\": 54582, \"Disrupt_Pct\": 1.3484298853101755, \"Avg_Profit\": 12.257850573449122, \"Avg_Total_Cost\": 6.742149426550878, \"Avg_Cancel_Cost\": 3.0687772525741086, \"Avg_Delay_Cost\": 3.673372173976769, \"State\": \"MT\"}, {\"Arrived\": 34262, \"Disruption\": 964, \"Total_Flights\": 35226, \"Disrupt_Pct\": 2.736615000283881, \"Avg_Profit\": 5.3169249985805935, \"Avg_Total_Cost\": 13.683075001419406, \"Avg_Cancel_Cost\": 8.658377334923069, \"Avg_Delay_Cost\": 5.024697666496337, \"State\": \"MS\"}, {\"Arrived\": 43390, \"Disruption\": 1346, \"Total_Flights\": 44736, \"Disrupt_Pct\": 3.0087625178826896, \"Avg_Profit\": 3.956187410586552, \"Avg_Total_Cost\": 15.043812589413447, \"Avg_Cancel_Cost\": 12.394939198855507, \"Avg_Delay_Cost\": 2.64887339055794, \"State\": \"RI\"}, {\"Arrived\": 26630, \"Disruption\": 691, \"Total_Flights\": 27321, \"Disrupt_Pct\": 2.529190000366019, \"Avg_Profit\": 6.354049998169906, \"Avg_Total_Cost\": 12.645950001830094, \"Avg_Cancel_Cost\": 7.5582884960286965, \"Avg_Delay_Cost\": 5.087661505801398, \"State\": \"SD\"}, {\"Arrived\": 23853, \"Disruption\": 561, \"Total_Flights\": 24414, \"Disrupt_Pct\": 2.297861882526419, \"Avg_Profit\": 7.510690587367904, \"Avg_Total_Cost\": 11.489309412632096, \"Avg_Cancel_Cost\": 6.430736462685345, \"Avg_Delay_Cost\": 5.058572949946751, \"State\": \"WY\"}, {\"Arrived\": 22091, \"Disruption\": 703, \"Total_Flights\": 22794, \"Disrupt_Pct\": 3.0841449504255505, \"Avg_Profit\": 3.579275247872247, \"Avg_Total_Cost\": 15.420724752127754, \"Avg_Cancel_Cost\": 13.11748705799772, \"Avg_Delay_Cost\": 2.3032376941300345, \"State\": \"NH\"}, {\"Arrived\": 27917, \"Disruption\": 1440, \"Total_Flights\": 29357, \"Disrupt_Pct\": 4.905133358313178, \"Avg_Profit\": -5.525666791565896, \"Avg_Total_Cost\": 24.525666791565897, \"Avg_Cancel_Cost\": 19.126613754811462, \"Avg_Delay_Cost\": 5.3990530367544345, \"State\": \"ME\"}, {\"Arrived\": 15834, \"Disruption\": 848, \"Total_Flights\": 16682, \"Disrupt_Pct\": 5.083323342524877, \"Avg_Profit\": -6.416616712624386, \"Avg_Total_Cost\": 25.416616712624386, \"Avg_Cancel_Cost\": 19.81177316868481, \"Avg_Delay_Cost\": 5.604843543939577, \"State\": \"VT\"}, {\"Arrived\": 14652, \"Disruption\": 490, \"Total_Flights\": 15142, \"Disrupt_Pct\": 3.2360322282393343, \"Avg_Profit\": 2.8198388588033283, \"Avg_Total_Cost\": 16.18016114119667, \"Avg_Cancel_Cost\": 12.118610487386078, \"Avg_Delay_Cost\": 4.061550653810592, \"State\": \"VI\"}, {\"Arrived\": 10804, \"Disruption\": 446, \"Total_Flights\": 11250, \"Disrupt_Pct\": 3.9644444444444447, \"Avg_Profit\": -0.8222222222222222, \"Avg_Total_Cost\": 19.822222222222223, \"Avg_Cancel_Cost\": 13.377777777777778, \"Avg_Delay_Cost\": 6.444444444444445, \"State\": \"WV\"}, {\"Arrived\": 1848, \"Disruption\": 46, \"Total_Flights\": 1894, \"Disrupt_Pct\": 2.428722280887012, \"Avg_Profit\": 6.856388595564942, \"Avg_Total_Cost\": 12.143611404435058, \"Avg_Cancel_Cost\": 4.4878563885955645, \"Avg_Delay_Cost\": 7.655755015839493, \"State\": \"TT\"}]}};\n",
              "      var embedOpt = {\"mode\": \"vega-lite\"};\n",
              "\n",
              "      function showError(el, error){\n",
              "          el.innerHTML = ('<div class=\"error\" style=\"color:red;\">'\n",
              "                          + '<p>JavaScript Error: ' + error.message + '</p>'\n",
              "                          + \"<p>This usually means there's a typo in your chart specification. \"\n",
              "                          + \"See the javascript console for the full traceback.</p>\"\n",
              "                          + '</div>');\n",
              "          throw error;\n",
              "      }\n",
              "      const el = document.getElementById('altair-viz');\n",
              "      vegaEmbed(\"#altair-viz\", spec, embedOpt)\n",
              "        .catch(error => showError(el, error));\n",
              "\n",
              "  </script>\n",
              "</body>\n",
              "</html>"
            ]
          },
          "metadata": {
            "tags": []
          },
          "execution_count": 99
        }
      ]
    },
    {
      "metadata": {
        "id": "qHbh5c58taKF",
        "colab_type": "text"
      },
      "cell_type": "markdown",
      "source": [
        "# Route Stats Visualizations"
      ]
    },
    {
      "metadata": {
        "id": "7P6wlNeatdHL",
        "colab_type": "code",
        "colab": {}
      },
      "cell_type": "code",
      "source": [
        "# plot airport stats with altair (destination airport)\n",
        "def route_stats_alt(df, feature, begin=0, end=40, title_text=\"\"): \n",
        "    data = df[begin:end]\n",
        "    bars = alt.Chart(data, title=title_text, height=450, width=1100).configure_title(fontSize=24).mark_bar().encode(\n",
        "        x = 'Route', \n",
        "        y = feature, \n",
        "        color = alt.Color('Route', legend=None)).configure_axis(\n",
        "    labelFontSize=12,\n",
        "    titleFontSize=12\n",
        ")    \n",
        "    return bars"
      ],
      "execution_count": 0,
      "outputs": []
    },
    {
      "metadata": {
        "id": "KKb0usRitlV5",
        "colab_type": "code",
        "outputId": "0ecd6dab-28cf-4fc2-f059-2027530760ed",
        "colab": {
          "base_uri": "https://localhost:8080/",
          "height": 601
        }
      },
      "cell_type": "code",
      "source": [
        "route_stats_alt(route_df_200, 'Avg_Total_Cost', title_text=\"Disruption Cost per Customer by Route: Top 40 Routes\")"
      ],
      "execution_count": 0,
      "outputs": [
        {
          "output_type": "execute_result",
          "data": {
            "text/plain": [
              "Chart({\n",
              "  config: Config({\n",
              "    axis: AxisConfig({\n",
              "      labelFontSize: 12,\n",
              "      titleFontSize: 12\n",
              "    }),\n",
              "    title: VgTitleConfig({\n",
              "      fontSize: 24\n",
              "    })\n",
              "  }),\n",
              "  data:         Arrived  Disruption  Total_Flights  Disrupt_Pct  Avg_Profit  \\\n",
              "  Route                                                                 \n",
              "  0     47204.000    1533.000      48737.000        3.145       3.273   \n",
              "  1     46516.000    1602.000      48118.000        3.329       2.353   \n",
              "  2     37469.000     556.000      38025.000        1.462      11.689   \n",
              "  3     37431.000     591.000      38022.000        1.554      11.228   \n",
              "  4     33897.000    1397.000      35294.000        3.958      -0.791   \n",
              "  5     33788.000    1259.000      35047.000        3.592       1.038   \n",
              "  6     34147.000     293.000      34440.000        0.851      14.746   \n",
              "  7     34057.000     336.000      34393.000        0.977      14.115   \n",
              "  8     29109.000     204.000      29313.000        0.696      15.520   \n",
              "  9     29090.000     206.000      29296.000        0.703      15.484   \n",
              "  10    28808.000     102.000      28910.000        0.353      17.236   \n",
              "  11    28734.000      70.000      28804.000        0.243      17.785   \n",
              "  12    26986.000     408.000      27394.000        1.489      11.553   \n",
              "  13    26996.000     391.000      27387.000        1.428      11.862   \n",
              "  14    26035.000     318.000      26353.000        1.207      12.967   \n",
              "  15    25921.000     347.000      26268.000        1.321      12.395   \n",
              "  16    25783.000     462.000      26245.000        1.760      10.198   \n",
              "  17    25471.000     622.000      26093.000        2.384       7.081   \n",
              "  18    25295.000     787.000      26082.000        3.017       3.913   \n",
              "  19    25566.000     367.000      25933.000        1.415      11.924   \n",
              "  20    25012.000     392.000      25404.000        1.543      11.285   \n",
              "  21    24901.000     461.000      25362.000        1.818       9.912   \n",
              "  22    24236.000     809.000      25045.000        3.230       2.849   \n",
              "  23    24112.000     898.000      25010.000        3.591       1.047   \n",
              "  24    24182.000     353.000      24535.000        1.439      11.806   \n",
              "  25    24140.000     385.000      24525.000        1.570      11.151   \n",
              "  26    23743.000     260.000      24003.000        1.083      13.584   \n",
              "  27    23370.000     444.000      23814.000        1.864       9.678   \n",
              "  28    23371.000     442.000      23813.000        1.856       9.719   \n",
              "  29    22985.000     803.000      23788.000        3.376       2.122   \n",
              "  30    23001.000     741.000      23742.000        3.121       3.395   \n",
              "  31    23300.000     252.000      23552.000        1.070      13.650   \n",
              "  32    23212.000     248.000      23460.000        1.057      13.714   \n",
              "  33    23198.000     255.000      23453.000        1.087      13.564   \n",
              "  34    22727.000     446.000      23173.000        1.925       9.377   \n",
              "  35    21947.000    1221.000      23168.000        5.270      -7.351   \n",
              "  36    21883.000    1274.000      23157.000        5.502      -8.508   \n",
              "  37    22500.000     449.000      22949.000        1.957       9.217   \n",
              "  38    22151.000     491.000      22642.000        2.169       8.157   \n",
              "  39    22250.000     331.000      22581.000        1.466      11.671   \n",
              "  \n",
              "         Avg_Total_Cost  Avg_Cancel_Cost  Avg_Delay_Cost    Route  \n",
              "  Route                                                            \n",
              "  0              15.727           13.891           1.836  SFO-LAX  \n",
              "  1              16.647           14.173           2.473  LAX-SFO  \n",
              "  2               7.311            4.602           2.709  JFK-LAX  \n",
              "  3               7.772            4.550           3.222  LAX-JFK  \n",
              "  4              19.791           15.328           4.463  LGA-ORD  \n",
              "  5              17.962           14.780           3.181  ORD-LGA  \n",
              "  6               4.254            3.281           0.973  LAX-LAS  \n",
              "  7               4.885            3.126           1.759  LAS-LAX  \n",
              "  8               3.480            2.456           1.023  SEA-LAX  \n",
              "  9               3.516            2.372           1.144  LAX-SEA  \n",
              "  10              1.764            1.660           0.104  OGG-HNL  \n",
              "  11              1.215            1.198           0.017  HNL-OGG  \n",
              "  12              7.447            5.111           2.336  MCO-ATL  \n",
              "  13              7.138            5.057           2.081  ATL-MCO  \n",
              "  14              6.033            3.453           2.580  LAX-ORD  \n",
              "  15              6.605            4.549           2.056  SEA-SFO  \n",
              "  16              8.802            6.878           1.924  SFO-SEA  \n",
              "  17             11.919            9.351           2.568  ATL-LGA  \n",
              "  18             15.087           10.045           5.042  LGA-ATL  \n",
              "  19              7.076            3.586           3.490  ORD-LAX  \n",
              "  20              7.715            5.688           2.027  SFO-LAS  \n",
              "  21              9.088            6.250           2.839  LAS-SFO  \n",
              "  22             16.151           14.614           1.537  BOS-DCA  \n",
              "  23             17.953           15.654           2.299  DCA-BOS  \n",
              "  24              7.194            5.360           1.834  ATL-FLL  \n",
              "  25              7.849            5.525           2.324  FLL-ATL  \n",
              "  26              5.416            3.208           2.208  DEN-LAX  \n",
              "  27              9.322            5.186           4.136  JFK-SFO  \n",
              "  28              9.281            5.396           3.884  SFO-JFK  \n",
              "  29             16.878           15.176           1.703  SAN-SFO  \n",
              "  30             15.605           14.405           1.200  SFO-SAN  \n",
              "  31              5.350            3.100           2.250  LAX-DEN  \n",
              "  32              5.286            3.943           1.343  DEN-PHX  \n",
              "  33              5.436            3.880           1.556  PHX-DEN  \n",
              "  34              9.623            6.538           3.085  DFW-ORD  \n",
              "  35             26.351           23.351           3.000  LGA-BOS  \n",
              "  36             27.508           23.988           3.519  BOS-LGA  \n",
              "  37              9.783            6.493           3.290  ORD-MSP  \n",
              "  38             10.843            7.243           3.600  MSP-ORD  \n",
              "  39              7.329            3.720           3.609  SFO-ORD  ,\n",
              "  encoding: EncodingWithFacet({\n",
              "    color: Color({\n",
              "      legend: None,\n",
              "      shorthand: 'Route'\n",
              "    }),\n",
              "    x: X({\n",
              "      shorthand: 'Route'\n",
              "    }),\n",
              "    y: Y({\n",
              "      shorthand: 'Avg_Total_Cost'\n",
              "    })\n",
              "  }),\n",
              "  height: 450,\n",
              "  mark: 'bar',\n",
              "  title: 'Disruption Cost per Customer by Route: Top 40 Routes',\n",
              "  width: 1100\n",
              "})"
            ],
            "text/html": [
              "<!DOCTYPE html>\n",
              "<html>\n",
              "<head>\n",
              "  <style>\n",
              "    .vega-actions a {\n",
              "        margin-right: 12px;\n",
              "        color: #757575;\n",
              "        font-weight: normal;\n",
              "        font-size: 13px;\n",
              "    }\n",
              "    .error {\n",
              "        color: red;\n",
              "    }\n",
              "  </style>\n",
              "  <script type=\"text/javascript\" src=\"https://cdn.jsdelivr.net/npm//vega@4\"></script>\n",
              "  <script type=\"text/javascript\" src=\"https://cdn.jsdelivr.net/npm//vega-lite@2.6.0\"></script>\n",
              "  <script type=\"text/javascript\" src=\"https://cdn.jsdelivr.net/npm//vega-embed@3\"></script>\n",
              "</head>\n",
              "<body>\n",
              "  <div id=\"altair-viz\"></div>\n",
              "  <script>\n",
              "      var spec = {\"config\": {\"view\": {\"width\": 400, \"height\": 300}, \"axis\": {\"labelFontSize\": 12, \"titleFontSize\": 12}, \"title\": {\"fontSize\": 24}}, \"data\": {\"name\": \"data-ca8c12a6965bbdb94906782d5e9e982a\"}, \"mark\": \"bar\", \"encoding\": {\"color\": {\"type\": \"nominal\", \"field\": \"Route\", \"legend\": null}, \"x\": {\"type\": \"nominal\", \"field\": \"Route\"}, \"y\": {\"type\": \"quantitative\", \"field\": \"Avg_Total_Cost\"}}, \"height\": 450, \"title\": \"Disruption Cost per Customer by Route: Top 40 Routes\", \"width\": 1100, \"$schema\": \"https://vega.github.io/schema/vega-lite/v2.6.0.json\", \"datasets\": {\"data-ca8c12a6965bbdb94906782d5e9e982a\": [{\"Arrived\": 47204.0, \"Disruption\": 1533.0, \"Total_Flights\": 48737.0, \"Disrupt_Pct\": 3.1454541723946896, \"Avg_Profit\": 3.2727291380265506, \"Avg_Total_Cost\": 15.72727086197345, \"Avg_Cancel_Cost\": 13.890883722838911, \"Avg_Delay_Cost\": 1.8363871391345388, \"Route\": \"SFO-LAX\"}, {\"Arrived\": 46516.0, \"Disruption\": 1602.0, \"Total_Flights\": 48118.0, \"Disrupt_Pct\": 3.329315432894135, \"Avg_Profit\": 2.3534228355293236, \"Avg_Total_Cost\": 16.646577164470678, \"Avg_Cancel_Cost\": 14.173490169998754, \"Avg_Delay_Cost\": 2.473086994471924, \"Route\": \"LAX-SFO\"}, {\"Arrived\": 37469.0, \"Disruption\": 556.0, \"Total_Flights\": 38025.0, \"Disrupt_Pct\": 1.4621959237343853, \"Avg_Profit\": 11.689020381328074, \"Avg_Total_Cost\": 7.310979618671927, \"Avg_Cancel_Cost\": 4.602235371466141, \"Avg_Delay_Cost\": 2.708744247205786, \"Route\": \"JFK-LAX\"}, {\"Arrived\": 37431.0, \"Disruption\": 591.0, \"Total_Flights\": 38022.0, \"Disrupt_Pct\": 1.5543632633738362, \"Avg_Profit\": 11.228183683130819, \"Avg_Total_Cost\": 7.771816316869181, \"Avg_Cancel_Cost\": 4.549997369943717, \"Avg_Delay_Cost\": 3.221818946925464, \"Route\": \"LAX-JFK\"}, {\"Arrived\": 33897.0, \"Disruption\": 1397.0, \"Total_Flights\": 35294.0, \"Disrupt_Pct\": 3.958179860599535, \"Avg_Profit\": -0.7908993029976766, \"Avg_Total_Cost\": 19.790899302997676, \"Avg_Cancel_Cost\": 15.328384427948093, \"Avg_Delay_Cost\": 4.4625148750495836, \"Route\": \"LGA-ORD\"}, {\"Arrived\": 33788.0, \"Disruption\": 1259.0, \"Total_Flights\": 35047.0, \"Disrupt_Pct\": 3.5923188860672814, \"Avg_Profit\": 1.0384055696635945, \"Avg_Total_Cost\": 17.961594430336405, \"Avg_Cancel_Cost\": 14.780152366821696, \"Avg_Delay_Cost\": 3.1814420635147087, \"Route\": \"ORD-LGA\"}, {\"Arrived\": 34147.0, \"Disruption\": 293.0, \"Total_Flights\": 34440.0, \"Disrupt_Pct\": 0.8507549361207898, \"Avg_Profit\": 14.746225319396052, \"Avg_Total_Cost\": 4.253774680603949, \"Avg_Cancel_Cost\": 3.281068524970964, \"Avg_Delay_Cost\": 0.9727061556329852, \"Route\": \"LAX-LAS\"}, {\"Arrived\": 34057.0, \"Disruption\": 336.0, \"Total_Flights\": 34393.0, \"Disrupt_Pct\": 0.9769429825836652, \"Avg_Profit\": 14.115285087081674, \"Avg_Total_Cost\": 4.8847149129183265, \"Avg_Cancel_Cost\": 3.1256360305876196, \"Avg_Delay_Cost\": 1.7590788823307069, \"Route\": \"LAS-LAX\"}, {\"Arrived\": 29109.0, \"Disruption\": 204.0, \"Total_Flights\": 29313.0, \"Disrupt_Pct\": 0.6959369562992529, \"Avg_Profit\": 15.520315218503736, \"Avg_Total_Cost\": 3.4796847814962644, \"Avg_Cancel_Cost\": 2.4562480810561866, \"Avg_Delay_Cost\": 1.0234367004400777, \"Route\": \"SEA-LAX\"}, {\"Arrived\": 29090.0, \"Disruption\": 206.0, \"Total_Flights\": 29296.0, \"Disrupt_Pct\": 0.7031676679410158, \"Avg_Profit\": 15.484161660294921, \"Avg_Total_Cost\": 3.515838339705079, \"Avg_Cancel_Cost\": 2.372337520480612, \"Avg_Delay_Cost\": 1.1435008192244673, \"Route\": \"LAX-SEA\"}, {\"Arrived\": 28808.0, \"Disruption\": 102.0, \"Total_Flights\": 28910.0, \"Disrupt_Pct\": 0.35281909373919057, \"Avg_Profit\": 17.235904531304048, \"Avg_Total_Cost\": 1.764095468695953, \"Avg_Cancel_Cost\": 1.6603251470079559, \"Avg_Delay_Cost\": 0.10377032168799705, \"Route\": \"OGG-HNL\"}, {\"Arrived\": 28734.0, \"Disruption\": 70.0, \"Total_Flights\": 28804.0, \"Disrupt_Pct\": 0.24302180252742675, \"Avg_Profit\": 17.784890987362868, \"Avg_Total_Cost\": 1.2151090126371338, \"Avg_Cancel_Cost\": 1.1977503124566031, \"Avg_Delay_Cost\": 0.01735870018053065, \"Route\": \"HNL-OGG\"}, {\"Arrived\": 26986.0, \"Disruption\": 408.0, \"Total_Flights\": 27394.0, \"Disrupt_Pct\": 1.489377235891071, \"Avg_Profit\": 11.553113820544645, \"Avg_Total_Cost\": 7.446886179455356, \"Avg_Cancel_Cost\": 5.110608162371322, \"Avg_Delay_Cost\": 2.336278017084034, \"Route\": \"MCO-ATL\"}, {\"Arrived\": 26996.0, \"Disruption\": 391.0, \"Total_Flights\": 27387.0, \"Disrupt_Pct\": 1.4276846679081316, \"Avg_Profit\": 11.861576660459342, \"Avg_Total_Cost\": 7.138423339540658, \"Avg_Cancel_Cost\": 5.057143900390696, \"Avg_Delay_Cost\": 2.081279439149962, \"Route\": \"ATL-MCO\"}, {\"Arrived\": 26035.0, \"Disruption\": 318.0, \"Total_Flights\": 26353.0, \"Disrupt_Pct\": 1.206693735058627, \"Avg_Profit\": 12.966531324706864, \"Avg_Total_Cost\": 6.033468675293135, \"Avg_Cancel_Cost\": 3.4531172921489013, \"Avg_Delay_Cost\": 2.580351383144234, \"Route\": \"LAX-ORD\"}, {\"Arrived\": 25921.0, \"Disruption\": 347.0, \"Total_Flights\": 26268.0, \"Disrupt_Pct\": 1.3209989340642607, \"Avg_Profit\": 12.395005329678696, \"Avg_Total_Cost\": 6.604994670321304, \"Avg_Cancel_Cost\": 4.549261458809198, \"Avg_Delay_Cost\": 2.0557332115121056, \"Route\": \"SEA-SFO\"}, {\"Arrived\": 25783.0, \"Disruption\": 462.0, \"Total_Flights\": 26245.0, \"Disrupt_Pct\": 1.7603353019622785, \"Avg_Profit\": 10.198323490188608, \"Avg_Total_Cost\": 8.801676509811392, \"Avg_Cancel_Cost\": 6.877500476281197, \"Avg_Delay_Cost\": 1.9241760335301947, \"Route\": \"SFO-SEA\"}, {\"Arrived\": 25471.0, \"Disruption\": 622.0, \"Total_Flights\": 26093.0, \"Disrupt_Pct\": 2.3837810907139847, \"Avg_Profit\": 7.081094546430077, \"Avg_Total_Cost\": 11.918905453569923, \"Avg_Cancel_Cost\": 9.351166979649715, \"Avg_Delay_Cost\": 2.5677384739202083, \"Route\": \"ATL-LGA\"}, {\"Arrived\": 25295.0, \"Disruption\": 787.0, \"Total_Flights\": 26082.0, \"Disrupt_Pct\": 3.017406640595046, \"Avg_Profit\": 3.912966797024768, \"Avg_Total_Cost\": 15.087033202975231, \"Avg_Cancel_Cost\": 10.0452419292999, \"Avg_Delay_Cost\": 5.041791273675331, \"Route\": \"LGA-ATL\"}, {\"Arrived\": 25566.0, \"Disruption\": 367.0, \"Total_Flights\": 25933.0, \"Disrupt_Pct\": 1.415185285157907, \"Avg_Profit\": 11.924073574210466, \"Avg_Total_Cost\": 7.075926425789534, \"Avg_Cancel_Cost\": 3.5861643465854316, \"Avg_Delay_Cost\": 3.4897620792041026, \"Route\": \"ORD-LAX\"}, {\"Arrived\": 25012.0, \"Disruption\": 392.0, \"Total_Flights\": 25404.0, \"Disrupt_Pct\": 1.543064084396158, \"Avg_Profit\": 11.28467957801921, \"Avg_Total_Cost\": 7.71532042198079, \"Avg_Cancel_Cost\": 5.688080617225634, \"Avg_Delay_Cost\": 2.0272398047551556, \"Route\": \"SFO-LAS\"}, {\"Arrived\": 24901.0, \"Disruption\": 461.0, \"Total_Flights\": 25362.0, \"Disrupt_Pct\": 1.8176799936913492, \"Avg_Profit\": 9.911600031543253, \"Avg_Total_Cost\": 9.088399968456747, \"Avg_Cancel_Cost\": 6.249507136661147, \"Avg_Delay_Cost\": 2.8388928317956, \"Route\": \"LAS-SFO\"}, {\"Arrived\": 24236.0, \"Disruption\": 809.0, \"Total_Flights\": 25045.0, \"Disrupt_Pct\": 3.230185665801557, \"Avg_Profit\": 2.849071670992214, \"Avg_Total_Cost\": 16.150928329007787, \"Avg_Cancel_Cost\": 14.613695348372929, \"Avg_Delay_Cost\": 1.5372329806348581, \"Route\": \"BOS-DCA\"}, {\"Arrived\": 24112.0, \"Disruption\": 898.0, \"Total_Flights\": 25010.0, \"Disrupt_Pct\": 3.590563774490204, \"Avg_Profit\": 1.0471811275489804, \"Avg_Total_Cost\": 17.95281887245102, \"Avg_Cancel_Cost\": 15.653738504598163, \"Avg_Delay_Cost\": 2.2990803678528557, \"Route\": \"DCA-BOS\"}, {\"Arrived\": 24182.0, \"Disruption\": 353.0, \"Total_Flights\": 24535.0, \"Disrupt_Pct\": 1.4387609537395558, \"Avg_Profit\": 11.80619523130222, \"Avg_Total_Cost\": 7.193804768697778, \"Avg_Cancel_Cost\": 5.359690238434889, \"Avg_Delay_Cost\": 1.8341145302628892, \"Route\": \"ATL-FLL\"}, {\"Arrived\": 24140.0, \"Disruption\": 385.0, \"Total_Flights\": 24525.0, \"Disrupt_Pct\": 1.5698267074413863, \"Avg_Profit\": 11.150866462793068, \"Avg_Total_Cost\": 7.8491335372069315, \"Avg_Cancel_Cost\": 5.524974515800204, \"Avg_Delay_Cost\": 2.324159021406728, \"Route\": \"FLL-ATL\"}, {\"Arrived\": 23743.0, \"Disruption\": 260.0, \"Total_Flights\": 24003.0, \"Disrupt_Pct\": 1.0831979335916344, \"Avg_Profit\": 13.584010332041828, \"Avg_Total_Cost\": 5.415989667958172, \"Avg_Cancel_Cost\": 3.2079323417906096, \"Avg_Delay_Cost\": 2.2080573261675625, \"Route\": \"DEN-LAX\"}, {\"Arrived\": 23370.0, \"Disruption\": 444.0, \"Total_Flights\": 23814.0, \"Disrupt_Pct\": 1.8644494834971024, \"Avg_Profit\": 9.677752582514488, \"Avg_Total_Cost\": 9.322247417485512, \"Avg_Cancel_Cost\": 5.186025027294869, \"Avg_Delay_Cost\": 4.1362223901906425, \"Route\": \"JFK-SFO\"}, {\"Arrived\": 23371.0, \"Disruption\": 442.0, \"Total_Flights\": 23813.0, \"Disrupt_Pct\": 1.8561290051652457, \"Avg_Profit\": 9.71935497417377, \"Avg_Total_Cost\": 9.28064502582623, \"Avg_Cancel_Cost\": 5.396212153025658, \"Avg_Delay_Cost\": 3.8844328728005717, \"Route\": \"SFO-JFK\"}, {\"Arrived\": 22985.0, \"Disruption\": 803.0, \"Total_Flights\": 23788.0, \"Disrupt_Pct\": 3.375651589036489, \"Avg_Profit\": 2.121742054817555, \"Avg_Total_Cost\": 16.878257945182444, \"Avg_Cancel_Cost\": 15.175718849840255, \"Avg_Delay_Cost\": 1.702539095342189, \"Route\": \"SAN-SFO\"}, {\"Arrived\": 23001.0, \"Disruption\": 741.0, \"Total_Flights\": 23742.0, \"Disrupt_Pct\": 3.1210513014910286, \"Avg_Profit\": 3.3947434925448574, \"Avg_Total_Cost\": 15.605256507455143, \"Avg_Cancel_Cost\": 14.404852160727824, \"Avg_Delay_Cost\": 1.2004043467273195, \"Route\": \"SFO-SAN\"}, {\"Arrived\": 23300.0, \"Disruption\": 252.0, \"Total_Flights\": 23552.0, \"Disrupt_Pct\": 1.0699728260869565, \"Avg_Profit\": 13.650135869565217, \"Avg_Total_Cost\": 5.349864130434782, \"Avg_Cancel_Cost\": 3.099524456521739, \"Avg_Delay_Cost\": 2.2503396739130435, \"Route\": \"LAX-DEN\"}, {\"Arrived\": 23212.0, \"Disruption\": 248.0, \"Total_Flights\": 23460.0, \"Disrupt_Pct\": 1.0571184995737426, \"Avg_Profit\": 13.714407502131287, \"Avg_Total_Cost\": 5.285592497868713, \"Avg_Cancel_Cost\": 3.942881500426257, \"Avg_Delay_Cost\": 1.3427109974424556, \"Route\": \"DEN-PHX\"}, {\"Arrived\": 23198.0, \"Disruption\": 255.0, \"Total_Flights\": 23453.0, \"Disrupt_Pct\": 1.0872809448684604, \"Avg_Profit\": 13.563595275657699, \"Avg_Total_Cost\": 5.436404724342301, \"Avg_Cancel_Cost\": 3.880100626785486, \"Avg_Delay_Cost\": 1.5563040975568154, \"Route\": \"PHX-DEN\"}, {\"Arrived\": 22727.0, \"Disruption\": 446.0, \"Total_Flights\": 23173.0, \"Disrupt_Pct\": 1.9246536917964872, \"Avg_Profit\": 9.376731541017563, \"Avg_Total_Cost\": 9.623268458982437, \"Avg_Cancel_Cost\": 6.537781038277306, \"Avg_Delay_Cost\": 3.0854874207051317, \"Route\": \"DFW-ORD\"}, {\"Arrived\": 21947.0, \"Disruption\": 1221.0, \"Total_Flights\": 23168.0, \"Disrupt_Pct\": 5.270200276243094, \"Avg_Profit\": -7.35100138121547, \"Avg_Total_Cost\": 26.351001381215468, \"Avg_Cancel_Cost\": 23.35117403314917, \"Avg_Delay_Cost\": 2.9998273480662974, \"Route\": \"LGA-BOS\"}, {\"Arrived\": 21883.0, \"Disruption\": 1274.0, \"Total_Flights\": 23157.0, \"Disrupt_Pct\": 5.501576197262167, \"Avg_Profit\": -8.507880986310834, \"Avg_Total_Cost\": 27.507880986310834, \"Avg_Cancel_Cost\": 23.988426825581897, \"Avg_Delay_Cost\": 3.5194541607289374, \"Route\": \"BOS-LGA\"}, {\"Arrived\": 22500.0, \"Disruption\": 449.0, \"Total_Flights\": 22949.0, \"Disrupt_Pct\": 1.9565122663296877, \"Avg_Profit\": 9.217438668351562, \"Avg_Total_Cost\": 9.782561331648438, \"Avg_Cancel_Cost\": 6.492657632140834, \"Avg_Delay_Cost\": 3.2899036995076036, \"Route\": \"ORD-MSP\"}, {\"Arrived\": 22151.0, \"Disruption\": 491.0, \"Total_Flights\": 22642.0, \"Disrupt_Pct\": 2.1685363483791185, \"Avg_Profit\": 8.157318258104407, \"Avg_Total_Cost\": 10.842681741895593, \"Avg_Cancel_Cost\": 7.243176397844714, \"Avg_Delay_Cost\": 3.599505344050879, \"Route\": \"MSP-ORD\"}, {\"Arrived\": 22250.0, \"Disruption\": 331.0, \"Total_Flights\": 22581.0, \"Disrupt_Pct\": 1.4658341083211548, \"Avg_Profit\": 11.670829458394225, \"Avg_Total_Cost\": 7.329170541605775, \"Avg_Cancel_Cost\": 3.719941543775741, \"Avg_Delay_Cost\": 3.609228997830034, \"Route\": \"SFO-ORD\"}]}};\n",
              "      var embedOpt = {\"mode\": \"vega-lite\"};\n",
              "\n",
              "      function showError(el, error){\n",
              "          el.innerHTML = ('<div class=\"error\" style=\"color:red;\">'\n",
              "                          + '<p>JavaScript Error: ' + error.message + '</p>'\n",
              "                          + \"<p>This usually means there's a typo in your chart specification. \"\n",
              "                          + \"See the javascript console for the full traceback.</p>\"\n",
              "                          + '</div>');\n",
              "          throw error;\n",
              "      }\n",
              "      const el = document.getElementById('altair-viz');\n",
              "      vegaEmbed(\"#altair-viz\", spec, embedOpt)\n",
              "        .catch(error => showError(el, error));\n",
              "\n",
              "  </script>\n",
              "</body>\n",
              "</html>"
            ]
          },
          "metadata": {
            "tags": []
          },
          "execution_count": 100
        }
      ]
    },
    {
      "metadata": {
        "id": "UuwvtI3zvDQu",
        "colab_type": "code",
        "outputId": "ded94c9e-0514-4099-9143-1c67c7d960e1",
        "colab": {
          "base_uri": "https://localhost:8080/",
          "height": 603
        }
      },
      "cell_type": "code",
      "source": [
        "route_stats_alt(route_df_200, 'Avg_Total_Cost', begin=40, end=80, title_text=\"Disruption Cost per Customer by Route: Routes #41 - 80\")"
      ],
      "execution_count": 0,
      "outputs": [
        {
          "output_type": "execute_result",
          "data": {
            "text/plain": [
              "Chart({\n",
              "  config: Config({\n",
              "    axis: AxisConfig({\n",
              "      labelFontSize: 12,\n",
              "      titleFontSize: 12\n",
              "    }),\n",
              "    title: VgTitleConfig({\n",
              "      fontSize: 24\n",
              "    })\n",
              "  }),\n",
              "  data:         Arrived  Disruption  Total_Flights  Disrupt_Pct  Avg_Profit  \\\n",
              "  Route                                                                 \n",
              "  40    22153.000     371.000      22524.000        1.647      10.764   \n",
              "  41    22287.000     236.000      22523.000        1.048      13.761   \n",
              "  42    22001.000     434.000      22435.000        1.934       9.328   \n",
              "  43    21837.000     490.000      22327.000        2.195       8.027   \n",
              "  44    21896.000     264.000      22160.000        1.191      13.043   \n",
              "  45    21858.000     289.000      22147.000        1.305      12.475   \n",
              "  46    21677.000     443.000      22120.000        2.003       8.986   \n",
              "  47    21704.000     209.000      21913.000        0.954      14.231   \n",
              "  48    21295.000     211.000      21506.000        0.981      14.094   \n",
              "  49    21196.000     293.000      21489.000        1.363      12.183   \n",
              "  50    21082.000     319.000      21401.000        1.491      11.547   \n",
              "  51    21260.000      75.000      21335.000        0.352      17.242   \n",
              "  52    21026.000     301.000      21327.000        1.411      11.943   \n",
              "  53    20831.000     444.000      21275.000        2.087       8.565   \n",
              "  54    20665.000     468.000      21133.000        2.215       7.927   \n",
              "  55    20587.000     295.000      20882.000        1.413      11.937   \n",
              "  56    20660.000     221.000      20881.000        1.058      13.708   \n",
              "  57    20539.000     315.000      20854.000        1.511      11.447   \n",
              "  58    20526.000     325.000      20851.000        1.559      11.207   \n",
              "  59    20263.000     461.000      20724.000        2.224       7.878   \n",
              "  60    20626.000      50.000      20676.000        0.242      17.791   \n",
              "  61    20609.000      38.000      20647.000        0.184      18.080   \n",
              "  62    20073.000     569.000      20642.000        2.757       5.217   \n",
              "  63    19713.000     697.000      20410.000        3.415       1.925   \n",
              "  64    19766.000     641.000      20407.000        3.141       3.295   \n",
              "  65    20010.000     357.000      20367.000        1.753      10.236   \n",
              "  66    19944.000     374.000      20318.000        1.841       9.796   \n",
              "  67    19973.000     251.000      20224.000        1.241      12.795   \n",
              "  68    19946.000     227.000      20173.000        1.125      13.374   \n",
              "  69    20041.000      76.000      20117.000        0.378      17.111   \n",
              "  70    19187.000     923.000      20110.000        4.590      -3.949   \n",
              "  71    19175.000     912.000      20087.000        4.540      -3.701   \n",
              "  72    19939.000      50.000      19989.000        0.250      17.749   \n",
              "  73    19878.000      94.000      19972.000        0.471      16.647   \n",
              "  74    19538.000     328.000      19866.000        1.651      10.745   \n",
              "  75    19462.000     397.000      19859.000        1.999       9.005   \n",
              "  76    19658.000     144.000      19802.000        0.727      15.364   \n",
              "  77    19422.000     332.000      19754.000        1.681      10.597   \n",
              "  78    19588.000     138.000      19726.000        0.700      15.502   \n",
              "  79    19544.000     157.000      19701.000        0.797      15.015   \n",
              "  \n",
              "         Avg_Total_Cost  Avg_Cancel_Cost  Avg_Delay_Cost    Route  \n",
              "  Route                                                            \n",
              "  40              8.236            4.018           4.218  ORD-SFO  \n",
              "  41              5.239            3.086           2.153  SLC-DEN  \n",
              "  42              9.672            5.705           3.967  ORD-ATL  \n",
              "  43             10.973            7.032           3.941  ORD-DFW  \n",
              "  44              5.957            4.445           1.512  ATL-TPA  \n",
              "  45              6.525            4.470           2.054  TPA-ATL  \n",
              "  46             10.014            6.080           3.933  ATL-ORD  \n",
              "  47              4.769            3.217           1.552  DEN-SLC  \n",
              "  48              4.906            4.022           0.883  PHX-LAX  \n",
              "  49              6.817            5.491           1.326  LAX-PHX  \n",
              "  50              7.453            4.486           2.967  DEN-SFO  \n",
              "  51              1.758            1.664           0.094  KOA-HNL  \n",
              "  52              7.057            4.525           2.532  SFO-DEN  \n",
              "  53             10.435            8.414           2.021  ORD-BOS  \n",
              "  54             11.073            8.044           3.028  BOS-ORD  \n",
              "  55              7.063            4.861           2.203  LAS-DEN  \n",
              "  56              5.292            4.286           1.006  DEN-LAS  \n",
              "  57              7.553            4.148           3.405  DFW-ATL  \n",
              "  58              7.793            4.532           3.261  ATL-DFW  \n",
              "  59             11.122            9.337           1.785  ORD-DCA  \n",
              "  60              1.209            0.895           0.314  SEA-ANC  \n",
              "  61              0.920            0.920          -0.000  HNL-KOA  \n",
              "  62             13.783           10.198           3.585  DCA-ORD  \n",
              "  63             17.075           11.342           5.732  MCO-EWR  \n",
              "  64             15.705           11.173           4.533  EWR-MCO  \n",
              "  65              8.764            6.064           2.700  PHL-ATL  \n",
              "  66              9.204            6.866           2.338  ATL-PHL  \n",
              "  67              6.205            3.362           2.843  LAX-DFW  \n",
              "  68              5.626            2.925           2.702  DFW-LAX  \n",
              "  69              1.889            1.069           0.820  ANC-SEA  \n",
              "  70             22.949           21.880           1.069  HOU-DAL  \n",
              "  71             22.701           21.755           0.946  DAL-HOU  \n",
              "  72              1.251            1.226           0.025  HNL-LIH  \n",
              "  73              2.353            2.253           0.100  LIH-HNL  \n",
              "  74              8.255            6.695           1.560  ATL-BWI  \n",
              "  75              9.995            6.773           3.223  BWI-ATL  \n",
              "  76              3.636            2.500           1.136  DEN-SEA  \n",
              "  77              8.403            5.467           2.936  ORD-DEN  \n",
              "  78              3.498            2.383           1.115  SEA-DEN  \n",
              "  79              3.985            2.335           1.650  ATL-LAX  ,\n",
              "  encoding: EncodingWithFacet({\n",
              "    color: Color({\n",
              "      legend: None,\n",
              "      shorthand: 'Route'\n",
              "    }),\n",
              "    x: X({\n",
              "      shorthand: 'Route'\n",
              "    }),\n",
              "    y: Y({\n",
              "      shorthand: 'Avg_Total_Cost'\n",
              "    })\n",
              "  }),\n",
              "  height: 450,\n",
              "  mark: 'bar',\n",
              "  title: 'Disruption Cost per Customer by Route: Routes #41 - 80',\n",
              "  width: 1100\n",
              "})"
            ],
            "text/html": [
              "<!DOCTYPE html>\n",
              "<html>\n",
              "<head>\n",
              "  <style>\n",
              "    .vega-actions a {\n",
              "        margin-right: 12px;\n",
              "        color: #757575;\n",
              "        font-weight: normal;\n",
              "        font-size: 13px;\n",
              "    }\n",
              "    .error {\n",
              "        color: red;\n",
              "    }\n",
              "  </style>\n",
              "  <script type=\"text/javascript\" src=\"https://cdn.jsdelivr.net/npm//vega@4\"></script>\n",
              "  <script type=\"text/javascript\" src=\"https://cdn.jsdelivr.net/npm//vega-lite@2.6.0\"></script>\n",
              "  <script type=\"text/javascript\" src=\"https://cdn.jsdelivr.net/npm//vega-embed@3\"></script>\n",
              "</head>\n",
              "<body>\n",
              "  <div id=\"altair-viz\"></div>\n",
              "  <script>\n",
              "      var spec = {\"config\": {\"view\": {\"width\": 400, \"height\": 300}, \"axis\": {\"labelFontSize\": 12, \"titleFontSize\": 12}, \"title\": {\"fontSize\": 24}}, \"data\": {\"name\": \"data-b3ed7d5a23b513f7a9f052f8149ace6d\"}, \"mark\": \"bar\", \"encoding\": {\"color\": {\"type\": \"nominal\", \"field\": \"Route\", \"legend\": null}, \"x\": {\"type\": \"nominal\", \"field\": \"Route\"}, \"y\": {\"type\": \"quantitative\", \"field\": \"Avg_Total_Cost\"}}, \"height\": 450, \"title\": \"Disruption Cost per Customer by Route: Routes #41 - 80\", \"width\": 1100, \"$schema\": \"https://vega.github.io/schema/vega-lite/v2.6.0.json\", \"datasets\": {\"data-b3ed7d5a23b513f7a9f052f8149ace6d\": [{\"Arrived\": 22153.0, \"Disruption\": 371.0, \"Total_Flights\": 22524.0, \"Disrupt_Pct\": 1.6471319481442017, \"Avg_Profit\": 10.764340259278992, \"Avg_Total_Cost\": 8.235659740721008, \"Avg_Cancel_Cost\": 4.017936423370626, \"Avg_Delay_Cost\": 4.217723317350382, \"Route\": \"ORD-SFO\"}, {\"Arrived\": 22287.0, \"Disruption\": 236.0, \"Total_Flights\": 22523.0, \"Disrupt_Pct\": 1.0478177862629312, \"Avg_Profit\": 13.760911068685344, \"Avg_Total_Cost\": 5.239088931314656, \"Avg_Cancel_Cost\": 3.0857345824268525, \"Avg_Delay_Cost\": 2.1533543488878037, \"Route\": \"SLC-DEN\"}, {\"Arrived\": 22001.0, \"Disruption\": 434.0, \"Total_Flights\": 22435.0, \"Disrupt_Pct\": 1.9344773790951637, \"Avg_Profit\": 9.32761310452418, \"Avg_Total_Cost\": 9.67238689547582, \"Avg_Cancel_Cost\": 5.705371071985737, \"Avg_Delay_Cost\": 3.9670158234900823, \"Route\": \"ORD-ATL\"}, {\"Arrived\": 21837.0, \"Disruption\": 490.0, \"Total_Flights\": 22327.0, \"Disrupt_Pct\": 2.194652214807184, \"Avg_Profit\": 8.026738925964079, \"Avg_Total_Cost\": 10.973261074035921, \"Avg_Cancel_Cost\": 7.03184485152506, \"Avg_Delay_Cost\": 3.9414162225108615, \"Route\": \"ORD-DFW\"}, {\"Arrived\": 21896.0, \"Disruption\": 264.0, \"Total_Flights\": 22160.0, \"Disrupt_Pct\": 1.191335740072202, \"Avg_Profit\": 13.04332129963899, \"Avg_Total_Cost\": 5.956678700361011, \"Avg_Cancel_Cost\": 4.444945848375451, \"Avg_Delay_Cost\": 1.5117328519855597, \"Route\": \"ATL-TPA\"}, {\"Arrived\": 21858.0, \"Disruption\": 289.0, \"Total_Flights\": 22147.0, \"Disrupt_Pct\": 1.3049171445342485, \"Avg_Profit\": 12.475414277328758, \"Avg_Total_Cost\": 6.524585722671242, \"Avg_Cancel_Cost\": 4.470131394771301, \"Avg_Delay_Cost\": 2.0544543278999408, \"Route\": \"TPA-ATL\"}, {\"Arrived\": 21677.0, \"Disruption\": 443.0, \"Total_Flights\": 22120.0, \"Disrupt_Pct\": 2.0027124773960217, \"Avg_Profit\": 8.986437613019891, \"Avg_Total_Cost\": 10.013562386980109, \"Avg_Cancel_Cost\": 6.080470162748644, \"Avg_Delay_Cost\": 3.9330922242314648, \"Route\": \"ATL-ORD\"}, {\"Arrived\": 21704.0, \"Disruption\": 209.0, \"Total_Flights\": 21913.0, \"Disrupt_Pct\": 0.9537717336740748, \"Avg_Profit\": 14.231141331629626, \"Avg_Total_Cost\": 4.768858668370374, \"Avg_Cancel_Cost\": 3.2172682882307306, \"Avg_Delay_Cost\": 1.5515903801396433, \"Route\": \"DEN-SLC\"}, {\"Arrived\": 21295.0, \"Disruption\": 211.0, \"Total_Flights\": 21506.0, \"Disrupt_Pct\": 0.9811215474751233, \"Avg_Profit\": 14.094392262624384, \"Avg_Total_Cost\": 4.905607737375616, \"Avg_Cancel_Cost\": 4.022133358132614, \"Avg_Delay_Cost\": 0.883474379243002, \"Route\": \"PHX-LAX\"}, {\"Arrived\": 21196.0, \"Disruption\": 293.0, \"Total_Flights\": 21489.0, \"Disrupt_Pct\": 1.363488296337661, \"Avg_Profit\": 12.182558518311694, \"Avg_Total_Cost\": 6.817441481688306, \"Avg_Cancel_Cost\": 5.491181534738703, \"Avg_Delay_Cost\": 1.3262599469496026, \"Route\": \"LAX-PHX\"}, {\"Arrived\": 21082.0, \"Disruption\": 319.0, \"Total_Flights\": 21401.0, \"Disrupt_Pct\": 1.4905845521237324, \"Avg_Profit\": 11.547077239381338, \"Avg_Total_Cost\": 7.452922760618662, \"Avg_Cancel_Cost\": 4.4857716929115465, \"Avg_Delay_Cost\": 2.967151067707116, \"Route\": \"DEN-SFO\"}, {\"Arrived\": 21260.0, \"Disruption\": 75.0, \"Total_Flights\": 21335.0, \"Disrupt_Pct\": 0.3515350363252871, \"Avg_Profit\": 17.242324818373564, \"Avg_Total_Cost\": 1.7576751816264355, \"Avg_Cancel_Cost\": 1.6639325052730256, \"Avg_Delay_Cost\": 0.09374267635340994, \"Route\": \"KOA-HNL\"}, {\"Arrived\": 21026.0, \"Disruption\": 301.0, \"Total_Flights\": 21327.0, \"Disrupt_Pct\": 1.4113564964598864, \"Avg_Profit\": 11.943217517700567, \"Avg_Total_Cost\": 7.0567824822994325, \"Avg_Cancel_Cost\": 4.524780794298308, \"Avg_Delay_Cost\": 2.5320016880011247, \"Route\": \"SFO-DEN\"}, {\"Arrived\": 20831.0, \"Disruption\": 444.0, \"Total_Flights\": 21275.0, \"Disrupt_Pct\": 2.086956521739131, \"Avg_Profit\": 8.565217391304348, \"Avg_Total_Cost\": 10.434782608695652, \"Avg_Cancel_Cost\": 8.413631022326674, \"Avg_Delay_Cost\": 2.021151586368978, \"Route\": \"ORD-BOS\"}, {\"Arrived\": 20665.0, \"Disruption\": 468.0, \"Total_Flights\": 21133.0, \"Disrupt_Pct\": 2.2145459707566366, \"Avg_Profit\": 7.927270146216817, \"Avg_Total_Cost\": 11.072729853783184, \"Avg_Cancel_Cost\": 8.044290919415133, \"Avg_Delay_Cost\": 3.028438934368051, \"Route\": \"BOS-ORD\"}, {\"Arrived\": 20587.0, \"Disruption\": 295.0, \"Total_Flights\": 20882.0, \"Disrupt_Pct\": 1.4126999329566134, \"Avg_Profit\": 11.936500335216934, \"Avg_Total_Cost\": 7.063499664783067, \"Avg_Cancel_Cost\": 4.860645532037161, \"Avg_Delay_Cost\": 2.202854132745906, \"Route\": \"LAS-DEN\"}, {\"Arrived\": 20660.0, \"Disruption\": 221.0, \"Total_Flights\": 20881.0, \"Disrupt_Pct\": 1.0583784301518127, \"Avg_Profit\": 13.708107849240937, \"Avg_Total_Cost\": 5.291892150759063, \"Avg_Cancel_Cost\": 4.286193189981323, \"Avg_Delay_Cost\": 1.0056989607777398, \"Route\": \"DEN-LAS\"}, {\"Arrived\": 20539.0, \"Disruption\": 315.0, \"Total_Flights\": 20854.0, \"Disrupt_Pct\": 1.5105015824302293, \"Avg_Profit\": 11.447492087848854, \"Avg_Total_Cost\": 7.552507912151146, \"Avg_Cancel_Cost\": 4.1478852977845975, \"Avg_Delay_Cost\": 3.4046226143665486, \"Route\": \"DFW-ATL\"}, {\"Arrived\": 20526.0, \"Disruption\": 325.0, \"Total_Flights\": 20851.0, \"Disrupt_Pct\": 1.5586782408517579, \"Avg_Profit\": 11.20660879574121, \"Avg_Total_Cost\": 7.793391204258788, \"Avg_Cancel_Cost\": 4.532156731092034, \"Avg_Delay_Cost\": 3.2612344731667546, \"Route\": \"ATL-DFW\"}, {\"Arrived\": 20263.0, \"Disruption\": 461.0, \"Total_Flights\": 20724.0, \"Disrupt_Pct\": 2.224474039760664, \"Avg_Profit\": 7.87762980119668, \"Avg_Total_Cost\": 11.12237019880332, \"Avg_Cancel_Cost\": 9.337000579038795, \"Avg_Delay_Cost\": 1.7853696197645252, \"Route\": \"ORD-DCA\"}, {\"Arrived\": 20626.0, \"Disruption\": 50.0, \"Total_Flights\": 20676.0, \"Disrupt_Pct\": 0.24182627200619078, \"Avg_Profit\": 17.790868639969045, \"Avg_Total_Cost\": 1.2091313600309537, \"Avg_Cancel_Cost\": 0.8947572064229058, \"Avg_Delay_Cost\": 0.3143741536080479, \"Route\": \"SEA-ANC\"}, {\"Arrived\": 20609.0, \"Disruption\": 38.0, \"Total_Flights\": 20647.0, \"Disrupt_Pct\": 0.1840461083934712, \"Avg_Profit\": 18.079769458032644, \"Avg_Total_Cost\": 0.920230541967356, \"Avg_Cancel_Cost\": 0.9202305419673561, \"Avg_Delay_Cost\": -1.1102230246251565e-16, \"Route\": \"HNL-KOA\"}, {\"Arrived\": 20073.0, \"Disruption\": 569.0, \"Total_Flights\": 20642.0, \"Disrupt_Pct\": 2.756515841488228, \"Avg_Profit\": 5.217420792558861, \"Avg_Total_Cost\": 13.78257920744114, \"Avg_Cancel_Cost\": 10.1976552659626, \"Avg_Delay_Cost\": 3.5849239414785394, \"Route\": \"DCA-ORD\"}, {\"Arrived\": 19713.0, \"Disruption\": 697.0, \"Total_Flights\": 20410.0, \"Disrupt_Pct\": 3.4149926506614405, \"Avg_Profit\": 1.9250367466927976, \"Avg_Total_Cost\": 17.074963253307203, \"Avg_Cancel_Cost\": 11.342479176874082, \"Avg_Delay_Cost\": 5.732484076433121, \"Route\": \"MCO-EWR\"}, {\"Arrived\": 19766.0, \"Disruption\": 641.0, \"Total_Flights\": 20407.0, \"Disrupt_Pct\": 3.1410790415053658, \"Avg_Profit\": 3.294604792473171, \"Avg_Total_Cost\": 15.705395207526829, \"Avg_Cancel_Cost\": 11.172636840299898, \"Avg_Delay_Cost\": 4.532758367226931, \"Route\": \"EWR-MCO\"}, {\"Arrived\": 20010.0, \"Disruption\": 357.0, \"Total_Flights\": 20367.0, \"Disrupt_Pct\": 1.752835469141258, \"Avg_Profit\": 10.23582265429371, \"Avg_Total_Cost\": 8.76417734570629, \"Avg_Cancel_Cost\": 6.063730544508274, \"Avg_Delay_Cost\": 2.7004468011980167, \"Route\": \"PHL-ATL\"}, {\"Arrived\": 19944.0, \"Disruption\": 374.0, \"Total_Flights\": 20318.0, \"Disrupt_Pct\": 1.8407323555468056, \"Avg_Profit\": 9.796338222265971, \"Avg_Total_Cost\": 9.203661777734029, \"Avg_Cancel_Cost\": 6.865833251304262, \"Avg_Delay_Cost\": 2.3378285264297665, \"Route\": \"ATL-PHL\"}, {\"Arrived\": 19973.0, \"Disruption\": 251.0, \"Total_Flights\": 20224.0, \"Disrupt_Pct\": 1.2410996835443038, \"Avg_Profit\": 12.794501582278482, \"Avg_Total_Cost\": 6.205498417721519, \"Avg_Cancel_Cost\": 3.3623417721518987, \"Avg_Delay_Cost\": 2.8431566455696204, \"Route\": \"LAX-DFW\"}, {\"Arrived\": 19946.0, \"Disruption\": 227.0, \"Total_Flights\": 20173.0, \"Disrupt_Pct\": 1.1252664452485996, \"Avg_Profit\": 13.373667773757003, \"Avg_Total_Cost\": 5.626332226242998, \"Avg_Cancel_Cost\": 2.924701333465523, \"Avg_Delay_Cost\": 2.7016308927774753, \"Route\": \"DFW-LAX\"}, {\"Arrived\": 20041.0, \"Disruption\": 76.0, \"Total_Flights\": 20117.0, \"Disrupt_Pct\": 0.37778992891584234, \"Avg_Profit\": 17.111050355420787, \"Avg_Total_Cost\": 1.8889496445792116, \"Avg_Cancel_Cost\": 1.0687478252224487, \"Avg_Delay_Cost\": 0.8202018193567628, \"Route\": \"ANC-SEA\"}, {\"Arrived\": 19187.0, \"Disruption\": 923.0, \"Total_Flights\": 20110.0, \"Disrupt_Pct\": 4.589756340129289, \"Avg_Profit\": -3.9487817006464447, \"Avg_Total_Cost\": 22.948781700646446, \"Avg_Cancel_Cost\": 21.87966185977126, \"Avg_Delay_Cost\": 1.0691198408751852, \"Route\": \"HOU-DAL\"}, {\"Arrived\": 19175.0, \"Disruption\": 912.0, \"Total_Flights\": 20087.0, \"Disrupt_Pct\": 4.540249912878976, \"Avg_Profit\": -3.701249564394882, \"Avg_Total_Cost\": 22.70124956439488, \"Avg_Cancel_Cost\": 21.75536416587843, \"Avg_Delay_Cost\": 0.9458853985164524, \"Route\": \"DAL-HOU\"}, {\"Arrived\": 19939.0, \"Disruption\": 50.0, \"Total_Flights\": 19989.0, \"Disrupt_Pct\": 0.25013757566661665, \"Avg_Profit\": 17.749312121666918, \"Avg_Total_Cost\": 1.2506878783330833, \"Avg_Cancel_Cost\": 1.2256741207664215, \"Avg_Delay_Cost\": 0.0250137575666618, \"Route\": \"HNL-LIH\"}, {\"Arrived\": 19878.0, \"Disruption\": 94.0, \"Total_Flights\": 19972.0, \"Disrupt_Pct\": 0.47065892249148805, \"Avg_Profit\": 16.64670538754256, \"Avg_Total_Cost\": 2.3532946124574403, \"Avg_Cancel_Cost\": 2.2531544161826558, \"Avg_Delay_Cost\": 0.10014019627478454, \"Route\": \"LIH-HNL\"}, {\"Arrived\": 19538.0, \"Disruption\": 328.0, \"Total_Flights\": 19866.0, \"Disrupt_Pct\": 1.6510621161783954, \"Avg_Profit\": 10.744689419108024, \"Avg_Total_Cost\": 8.255310580891976, \"Avg_Cancel_Cost\": 6.694855532064834, \"Avg_Delay_Cost\": 1.5604550488271416, \"Route\": \"ATL-BWI\"}, {\"Arrived\": 19462.0, \"Disruption\": 397.0, \"Total_Flights\": 19859.0, \"Disrupt_Pct\": 1.9990936099501484, \"Avg_Profit\": 9.004531950249257, \"Avg_Total_Cost\": 9.995468049750743, \"Avg_Cancel_Cost\": 6.7727478725011325, \"Avg_Delay_Cost\": 3.2227201772496104, \"Route\": \"BWI-ATL\"}, {\"Arrived\": 19658.0, \"Disruption\": 144.0, \"Total_Flights\": 19802.0, \"Disrupt_Pct\": 0.7271992728007273, \"Avg_Profit\": 15.364003635996363, \"Avg_Total_Cost\": 3.635996364003636, \"Avg_Cancel_Cost\": 2.4997475002524996, \"Avg_Delay_Cost\": 1.1362488637511365, \"Route\": \"DEN-SEA\"}, {\"Arrived\": 19422.0, \"Disruption\": 332.0, \"Total_Flights\": 19754.0, \"Disrupt_Pct\": 1.680672268907563, \"Avg_Profit\": 10.596638655462185, \"Avg_Total_Cost\": 8.403361344537815, \"Avg_Cancel_Cost\": 5.467247139819783, \"Avg_Delay_Cost\": 2.9361142047180326, \"Route\": \"ORD-DEN\"}, {\"Arrived\": 19588.0, \"Disruption\": 138.0, \"Total_Flights\": 19726.0, \"Disrupt_Pct\": 0.6995843049782013, \"Avg_Profit\": 15.502078475108993, \"Avg_Total_Cost\": 3.497921524891007, \"Avg_Cancel_Cost\": 2.382642198114164, \"Avg_Delay_Cost\": 1.115279326776843, \"Route\": \"SEA-DEN\"}, {\"Arrived\": 19544.0, \"Disruption\": 157.0, \"Total_Flights\": 19701.0, \"Disrupt_Pct\": 0.7969138622404954, \"Avg_Profit\": 15.015430688797522, \"Avg_Total_Cost\": 3.984569311202477, \"Avg_Cancel_Cost\": 2.334906857519923, \"Avg_Delay_Cost\": 1.649662453682554, \"Route\": \"ATL-LAX\"}]}};\n",
              "      var embedOpt = {\"mode\": \"vega-lite\"};\n",
              "\n",
              "      function showError(el, error){\n",
              "          el.innerHTML = ('<div class=\"error\" style=\"color:red;\">'\n",
              "                          + '<p>JavaScript Error: ' + error.message + '</p>'\n",
              "                          + \"<p>This usually means there's a typo in your chart specification. \"\n",
              "                          + \"See the javascript console for the full traceback.</p>\"\n",
              "                          + '</div>');\n",
              "          throw error;\n",
              "      }\n",
              "      const el = document.getElementById('altair-viz');\n",
              "      vegaEmbed(\"#altair-viz\", spec, embedOpt)\n",
              "        .catch(error => showError(el, error));\n",
              "\n",
              "  </script>\n",
              "</body>\n",
              "</html>"
            ]
          },
          "metadata": {
            "tags": []
          },
          "execution_count": 101
        }
      ]
    },
    {
      "metadata": {
        "id": "U-n0LJ8IvVbU",
        "colab_type": "code",
        "outputId": "593f3678-97cf-4c30-9ff2-22f1f33855e7",
        "colab": {
          "base_uri": "https://localhost:8080/",
          "height": 600
        }
      },
      "cell_type": "code",
      "source": [
        "route_stats_alt(route_df_200, 'Avg_Total_Cost', begin=80, end=120, title_text=\"Disruption Cost per Customer by Route: Routes #81 - 120\")"
      ],
      "execution_count": 0,
      "outputs": [
        {
          "output_type": "execute_result",
          "data": {
            "text/plain": [
              "Chart({\n",
              "  config: Config({\n",
              "    axis: AxisConfig({\n",
              "      labelFontSize: 12,\n",
              "      titleFontSize: 12\n",
              "    }),\n",
              "    title: VgTitleConfig({\n",
              "      fontSize: 24\n",
              "    })\n",
              "  }),\n",
              "  data:         Arrived  Disruption  Total_Flights  Disrupt_Pct  Avg_Profit  \\\n",
              "  Route                                                                 \n",
              "  80    19540.000     160.000      19700.000        0.812      14.939   \n",
              "  81    19114.000     352.000      19466.000        1.808       9.959   \n",
              "  82    19163.000     146.000      19309.000        0.756      15.219   \n",
              "  83    19194.000     114.000      19308.000        0.590      16.048   \n",
              "  84    18653.000     268.000      18921.000        1.416      11.918   \n",
              "  85    18614.000     268.000      18882.000        1.419      11.903   \n",
              "  86    18543.000     333.000      18876.000        1.764      10.179   \n",
              "  87    18480.000     391.000      18871.000        2.072       8.640   \n",
              "  88    18287.000     569.000      18856.000        3.018       3.912   \n",
              "  89    18214.000     554.000      18768.000        2.952       4.241   \n",
              "  90    18425.000     337.000      18762.000        1.796      10.019   \n",
              "  91    18353.000     391.000      18744.000        2.086       8.570   \n",
              "  92    18239.000     386.000      18625.000        2.072       8.638   \n",
              "  93    18240.000     351.000      18591.000        1.888       9.560   \n",
              "  94    17466.000     476.000      17942.000        2.653       5.735   \n",
              "  95    17279.000     642.000      17921.000        3.582       1.088   \n",
              "  96    17436.000     482.000      17918.000        2.690       5.550   \n",
              "  97    17307.000     592.000      17899.000        3.307       2.463   \n",
              "  98    17571.000     297.000      17868.000        1.662      10.689   \n",
              "  99    17559.000     304.000      17863.000        1.702      10.491   \n",
              "  100   17564.000     296.000      17860.000        1.657      10.713   \n",
              "  101   17636.000     202.000      17838.000        1.132      13.338   \n",
              "  102   17571.000     206.000      17777.000        1.159      13.206   \n",
              "  103   17227.000     208.000      17435.000        1.193      13.035   \n",
              "  104   17150.000     259.000      17409.000        1.488      11.561   \n",
              "  105   17204.000     196.000      17400.000        1.126      13.368   \n",
              "  106   17192.000     169.000      17361.000        0.973      14.133   \n",
              "  107   17148.000     210.000      17358.000        1.210      12.951   \n",
              "  108   17110.000     237.000      17347.000        1.366      12.169   \n",
              "  109   17158.000     167.000      17325.000        0.964      14.180   \n",
              "  110   17115.000     207.000      17322.000        1.195      13.025   \n",
              "  111   16753.000     535.000      17288.000        3.095       3.527   \n",
              "  112   16707.000     544.000      17251.000        3.153       3.233   \n",
              "  113   16961.000     267.000      17228.000        1.550      11.251   \n",
              "  114   16739.000     181.000      16920.000        1.070      13.651   \n",
              "  115   16707.000     199.000      16906.000        1.177      13.115   \n",
              "  116   16666.000     191.000      16857.000        1.133      13.335   \n",
              "  117   16524.000     292.000      16816.000        1.736      10.318   \n",
              "  118   16382.000     178.000      16560.000        1.075      13.626   \n",
              "  119   16311.000     238.000      16549.000        1.438      11.809   \n",
              "  \n",
              "         Avg_Total_Cost  Avg_Cancel_Cost  Avg_Delay_Cost    Route  \n",
              "  Route                                                            \n",
              "  80              4.061            2.081           1.980  LAX-ATL  \n",
              "  81              9.041            5.445           3.596  DEN-ORD  \n",
              "  82              3.781            2.382           1.398  LAS-SEA  \n",
              "  83              2.952            2.123           0.829  SEA-LAS  \n",
              "  84              7.082            5.391           1.691  ATL-CLT  \n",
              "  85              7.097            5.005           2.092  CLT-ATL  \n",
              "  86              8.821            6.993           1.828  ATL-DCA  \n",
              "  87             10.360            7.392           2.968  DCA-ATL  \n",
              "  88             15.088           11.402           3.686  MIA-LGA  \n",
              "  89             14.759           11.456           3.303  LGA-MIA  \n",
              "  90              8.981            6.689           2.292  ATL-BOS  \n",
              "  91             10.430            7.122           3.308  BOS-ATL  \n",
              "  92             10.362            5.664           4.698  EWR-SFO  \n",
              "  93              9.440            5.513           3.927  SFO-EWR  \n",
              "  94             13.265            8.388           4.877  ATL-EWR  \n",
              "  95             17.912           16.963           0.949  LAX-OAK  \n",
              "  96             13.450            7.869           5.581  EWR-ATL  \n",
              "  97             16.537           15.699           0.838  OAK-LAX  \n",
              "  98              8.311            5.261           3.050  DEN-DFW  \n",
              "  99              8.509            5.402           3.107  MIA-ATL  \n",
              "  100             8.287            5.767           2.520  ATL-MIA  \n",
              "  101             5.662            3.952           1.710  DEN-MSP  \n",
              "  102             5.794            3.994           1.800  MSP-DEN  \n",
              "  103             5.965            4.130           1.835  ATL-DEN  \n",
              "  104             7.439            6.031           1.407  SFO-PDX  \n",
              "  105             5.632            3.190           2.443  DEN-ATL  \n",
              "  106             4.867            0.950           3.917  LAX-HNL  \n",
              "  107             6.049            1.671           4.378  HNL-LAX  \n",
              "  108             6.831            5.131           1.701  PDX-SFO  \n",
              "  109             4.820            3.261           1.558  ATL-MSY  \n",
              "  110             5.975            3.579           2.396  MSY-ATL  \n",
              "  111            15.473           13.275           2.198  BOS-BWI  \n",
              "  112            15.767           13.275           2.493  BWI-BOS  \n",
              "  113             7.749            5.166           2.583  DFW-DEN  \n",
              "  114             5.349            3.428           1.921  ATL-DTW  \n",
              "  115             5.885            3.638           2.248  DTW-ATL  \n",
              "  116             5.665            5.161           0.504  PHX-LAS  \n",
              "  117             8.682            8.028           0.654  LAS-PHX  \n",
              "  118             5.374            4.167           1.208  ATL-JAX  \n",
              "  119             7.191            4.592           2.598  JAX-ATL  ,\n",
              "  encoding: EncodingWithFacet({\n",
              "    color: Color({\n",
              "      legend: None,\n",
              "      shorthand: 'Route'\n",
              "    }),\n",
              "    x: X({\n",
              "      shorthand: 'Route'\n",
              "    }),\n",
              "    y: Y({\n",
              "      shorthand: 'Avg_Total_Cost'\n",
              "    })\n",
              "  }),\n",
              "  height: 450,\n",
              "  mark: 'bar',\n",
              "  title: 'Disruption Cost per Customer by Route: Routes #81 - 120',\n",
              "  width: 1100\n",
              "})"
            ],
            "text/html": [
              "<!DOCTYPE html>\n",
              "<html>\n",
              "<head>\n",
              "  <style>\n",
              "    .vega-actions a {\n",
              "        margin-right: 12px;\n",
              "        color: #757575;\n",
              "        font-weight: normal;\n",
              "        font-size: 13px;\n",
              "    }\n",
              "    .error {\n",
              "        color: red;\n",
              "    }\n",
              "  </style>\n",
              "  <script type=\"text/javascript\" src=\"https://cdn.jsdelivr.net/npm//vega@4\"></script>\n",
              "  <script type=\"text/javascript\" src=\"https://cdn.jsdelivr.net/npm//vega-lite@2.6.0\"></script>\n",
              "  <script type=\"text/javascript\" src=\"https://cdn.jsdelivr.net/npm//vega-embed@3\"></script>\n",
              "</head>\n",
              "<body>\n",
              "  <div id=\"altair-viz\"></div>\n",
              "  <script>\n",
              "      var spec = {\"config\": {\"view\": {\"width\": 400, \"height\": 300}, \"axis\": {\"labelFontSize\": 12, \"titleFontSize\": 12}, \"title\": {\"fontSize\": 24}}, \"data\": {\"name\": \"data-c3409c4e2d69031aea6492f9af7cb208\"}, \"mark\": \"bar\", \"encoding\": {\"color\": {\"type\": \"nominal\", \"field\": \"Route\", \"legend\": null}, \"x\": {\"type\": \"nominal\", \"field\": \"Route\"}, \"y\": {\"type\": \"quantitative\", \"field\": \"Avg_Total_Cost\"}}, \"height\": 450, \"title\": \"Disruption Cost per Customer by Route: Routes #81 - 120\", \"width\": 1100, \"$schema\": \"https://vega.github.io/schema/vega-lite/v2.6.0.json\", \"datasets\": {\"data-c3409c4e2d69031aea6492f9af7cb208\": [{\"Arrived\": 19540.0, \"Disruption\": 160.0, \"Total_Flights\": 19700.0, \"Disrupt_Pct\": 0.8121827411167513, \"Avg_Profit\": 14.939086294416244, \"Avg_Total_Cost\": 4.060913705583756, \"Avg_Cancel_Cost\": 2.0812182741116754, \"Avg_Delay_Cost\": 1.9796954314720807, \"Route\": \"LAX-ATL\"}, {\"Arrived\": 19114.0, \"Disruption\": 352.0, \"Total_Flights\": 19466.0, \"Disrupt_Pct\": 1.8082811055173125, \"Avg_Profit\": 9.95859447241344, \"Avg_Total_Cost\": 9.04140552758656, \"Avg_Cancel_Cost\": 5.4453919654782705, \"Avg_Delay_Cost\": 3.59601356210829, \"Route\": \"DEN-ORD\"}, {\"Arrived\": 19163.0, \"Disruption\": 146.0, \"Total_Flights\": 19309.0, \"Disrupt_Pct\": 0.7561240872132167, \"Avg_Profit\": 15.219379563933916, \"Avg_Total_Cost\": 3.780620436066083, \"Avg_Cancel_Cost\": 2.3823087679320523, \"Avg_Delay_Cost\": 1.3983116681340308, \"Route\": \"LAS-SEA\"}, {\"Arrived\": 19194.0, \"Disruption\": 114.0, \"Total_Flights\": 19308.0, \"Disrupt_Pct\": 0.5904288377874456, \"Avg_Profit\": 16.04785581106277, \"Avg_Total_Cost\": 2.952144188937228, \"Avg_Cancel_Cost\": 2.1234721359022166, \"Avg_Delay_Cost\": 0.8286720530350116, \"Route\": \"SEA-LAS\"}, {\"Arrived\": 18653.0, \"Disruption\": 268.0, \"Total_Flights\": 18921.0, \"Disrupt_Pct\": 1.4164156228529148, \"Avg_Profit\": 11.917921885735426, \"Avg_Total_Cost\": 7.082078114264574, \"Avg_Cancel_Cost\": 5.3908355795148255, \"Avg_Delay_Cost\": 1.6912425347497484, \"Route\": \"ATL-CLT\"}, {\"Arrived\": 18614.0, \"Disruption\": 268.0, \"Total_Flights\": 18882.0, \"Disrupt_Pct\": 1.4193411714860713, \"Avg_Profit\": 11.903294142569644, \"Avg_Total_Cost\": 7.096705857430357, \"Avg_Cancel_Cost\": 5.004766444232603, \"Avg_Delay_Cost\": 2.0919394131977542, \"Route\": \"CLT-ATL\"}, {\"Arrived\": 18543.0, \"Disruption\": 333.0, \"Total_Flights\": 18876.0, \"Disrupt_Pct\": 1.7641449459631278, \"Avg_Profit\": 10.17927527018436, \"Avg_Total_Cost\": 8.82072472981564, \"Avg_Cancel_Cost\": 6.993006993006993, \"Avg_Delay_Cost\": 1.827717736808646, \"Route\": \"ATL-DCA\"}, {\"Arrived\": 18480.0, \"Disruption\": 391.0, \"Total_Flights\": 18871.0, \"Disrupt_Pct\": 2.0719622701499656, \"Avg_Profit\": 8.640188649250172, \"Avg_Total_Cost\": 10.359811350749828, \"Avg_Cancel_Cost\": 7.392295055905888, \"Avg_Delay_Cost\": 2.96751629484394, \"Route\": \"DCA-ATL\"}, {\"Arrived\": 18287.0, \"Disruption\": 569.0, \"Total_Flights\": 18856.0, \"Disrupt_Pct\": 3.0176071277047094, \"Avg_Profit\": 3.911964361476453, \"Avg_Total_Cost\": 15.088035638523547, \"Avg_Cancel_Cost\": 11.402206194314807, \"Avg_Delay_Cost\": 3.685829444208739, \"Route\": \"MIA-LGA\"}, {\"Arrived\": 18214.0, \"Disruption\": 554.0, \"Total_Flights\": 18768.0, \"Disrupt_Pct\": 2.951832907075874, \"Avg_Profit\": 4.2408354646206305, \"Avg_Total_Cost\": 14.75916453537937, \"Avg_Cancel_Cost\": 11.455669224211423, \"Avg_Delay_Cost\": 3.3034953111679464, \"Route\": \"LGA-MIA\"}, {\"Arrived\": 18425.0, \"Disruption\": 337.0, \"Total_Flights\": 18762.0, \"Disrupt_Pct\": 1.7961837757168746, \"Avg_Profit\": 10.019081121415628, \"Avg_Total_Cost\": 8.980918878584372, \"Avg_Cancel_Cost\": 6.689052339835838, \"Avg_Delay_Cost\": 2.2918665387485344, \"Route\": \"ATL-BOS\"}, {\"Arrived\": 18353.0, \"Disruption\": 391.0, \"Total_Flights\": 18744.0, \"Disrupt_Pct\": 2.086000853606487, \"Avg_Profit\": 8.569995731967563, \"Avg_Total_Cost\": 10.430004268032437, \"Avg_Cancel_Cost\": 7.122279129321383, \"Avg_Delay_Cost\": 3.3077251387110547, \"Route\": \"BOS-ATL\"}, {\"Arrived\": 18239.0, \"Disruption\": 386.0, \"Total_Flights\": 18625.0, \"Disrupt_Pct\": 2.07248322147651, \"Avg_Profit\": 8.63758389261745, \"Avg_Total_Cost\": 10.36241610738255, \"Avg_Cancel_Cost\": 5.6644295302013425, \"Avg_Delay_Cost\": 4.697986577181208, \"Route\": \"EWR-SFO\"}, {\"Arrived\": 18240.0, \"Disruption\": 351.0, \"Total_Flights\": 18591.0, \"Disrupt_Pct\": 1.8880103275778604, \"Avg_Profit\": 9.559948362110699, \"Avg_Total_Cost\": 9.440051637889301, \"Avg_Cancel_Cost\": 5.5134204722715285, \"Avg_Delay_Cost\": 3.9266311656177724, \"Route\": \"SFO-EWR\"}, {\"Arrived\": 17466.0, \"Disruption\": 476.0, \"Total_Flights\": 17942.0, \"Disrupt_Pct\": 2.6529929773715306, \"Avg_Profit\": 5.735035113142348, \"Avg_Total_Cost\": 13.264964886857653, \"Avg_Cancel_Cost\": 8.388139560807044, \"Avg_Delay_Cost\": 4.876825326050609, \"Route\": \"ATL-EWR\"}, {\"Arrived\": 17279.0, \"Disruption\": 642.0, \"Total_Flights\": 17921.0, \"Disrupt_Pct\": 3.58238937559288, \"Avg_Profit\": 1.0880531220356007, \"Avg_Total_Cost\": 17.9119468779644, \"Avg_Cancel_Cost\": 16.963339099380615, \"Avg_Delay_Cost\": 0.948607778583785, \"Route\": \"LAX-OAK\"}, {\"Arrived\": 17436.0, \"Disruption\": 482.0, \"Total_Flights\": 17918.0, \"Disrupt_Pct\": 2.6900323696841166, \"Avg_Profit\": 5.549838151579418, \"Avg_Total_Cost\": 13.450161848420583, \"Avg_Cancel_Cost\": 7.869181828329054, \"Avg_Delay_Cost\": 5.580980020091529, \"Route\": \"EWR-ATL\"}, {\"Arrived\": 17307.0, \"Disruption\": 592.0, \"Total_Flights\": 17899.0, \"Disrupt_Pct\": 3.307447343427007, \"Avg_Profit\": 2.4627632828649646, \"Avg_Total_Cost\": 16.537236717135034, \"Avg_Cancel_Cost\": 15.699201072685625, \"Avg_Delay_Cost\": 0.838035644449409, \"Route\": \"OAK-LAX\"}, {\"Arrived\": 17571.0, \"Disruption\": 297.0, \"Total_Flights\": 17868.0, \"Disrupt_Pct\": 1.6621893888515784, \"Avg_Profit\": 10.689053055742109, \"Avg_Total_Cost\": 8.310946944257891, \"Avg_Cancel_Cost\": 5.260801432728901, \"Avg_Delay_Cost\": 3.0501455115289895, \"Route\": \"DEN-DFW\"}, {\"Arrived\": 17559.0, \"Disruption\": 304.0, \"Total_Flights\": 17863.0, \"Disrupt_Pct\": 1.7018417958909478, \"Avg_Profit\": 10.490791020545261, \"Avg_Total_Cost\": 8.509208979454739, \"Avg_Cancel_Cost\": 5.402228069193305, \"Avg_Delay_Cost\": 3.1069809102614334, \"Route\": \"MIA-ATL\"}, {\"Arrived\": 17564.0, \"Disruption\": 296.0, \"Total_Flights\": 17860.0, \"Disrupt_Pct\": 1.6573348264277716, \"Avg_Profit\": 10.713325867861142, \"Avg_Total_Cost\": 8.286674132138858, \"Avg_Cancel_Cost\": 5.767077267637178, \"Avg_Delay_Cost\": 2.51959686450168, \"Route\": \"ATL-MIA\"}, {\"Arrived\": 17636.0, \"Disruption\": 202.0, \"Total_Flights\": 17838.0, \"Disrupt_Pct\": 1.1324139477519901, \"Avg_Profit\": 13.33793026124005, \"Avg_Total_Cost\": 5.662069738759951, \"Avg_Cancel_Cost\": 3.9522367978472923, \"Avg_Delay_Cost\": 1.7098329409126585, \"Route\": \"DEN-MSP\"}, {\"Arrived\": 17571.0, \"Disruption\": 206.0, \"Total_Flights\": 17777.0, \"Disrupt_Pct\": 1.158800697530517, \"Avg_Profit\": 13.205996512347415, \"Avg_Total_Cost\": 5.794003487652585, \"Avg_Cancel_Cost\": 3.9939247342071216, \"Avg_Delay_Cost\": 1.8000787534454634, \"Route\": \"MSP-DEN\"}, {\"Arrived\": 17227.0, \"Disruption\": 208.0, \"Total_Flights\": 17435.0, \"Disrupt_Pct\": 1.1930025810151992, \"Avg_Profit\": 13.034987094924004, \"Avg_Total_Cost\": 5.965012905075996, \"Avg_Cancel_Cost\": 4.129624318898767, \"Avg_Delay_Cost\": 1.8353885861772294, \"Route\": \"ATL-DEN\"}, {\"Arrived\": 17150.0, \"Disruption\": 259.0, \"Total_Flights\": 17409.0, \"Disrupt_Pct\": 1.4877362283876157, \"Avg_Profit\": 11.561318858061922, \"Avg_Total_Cost\": 7.438681141938078, \"Avg_Cancel_Cost\": 6.031363088057901, \"Avg_Delay_Cost\": 1.4073180538801768, \"Route\": \"SFO-PDX\"}, {\"Arrived\": 17204.0, \"Disruption\": 196.0, \"Total_Flights\": 17400.0, \"Disrupt_Pct\": 1.1264367816091954, \"Avg_Profit\": 13.367816091954023, \"Avg_Total_Cost\": 5.632183908045977, \"Avg_Cancel_Cost\": 3.189655172413793, \"Avg_Delay_Cost\": 2.4425287356321834, \"Route\": \"DEN-ATL\"}, {\"Arrived\": 17192.0, \"Disruption\": 169.0, \"Total_Flights\": 17361.0, \"Disrupt_Pct\": 0.9734462300558723, \"Avg_Profit\": 14.132768849720637, \"Avg_Total_Cost\": 4.867231150279362, \"Avg_Cancel_Cost\": 0.9504060825989287, \"Avg_Delay_Cost\": 3.916825067680433, \"Route\": \"LAX-HNL\"}, {\"Arrived\": 17148.0, \"Disruption\": 210.0, \"Total_Flights\": 17358.0, \"Disrupt_Pct\": 1.2098167991704112, \"Avg_Profit\": 12.950916004147944, \"Avg_Total_Cost\": 6.049083995852056, \"Avg_Cancel_Cost\": 1.6706993893305682, \"Avg_Delay_Cost\": 4.378384606521488, \"Route\": \"HNL-LAX\"}, {\"Arrived\": 17110.0, \"Disruption\": 237.0, \"Total_Flights\": 17347.0, \"Disrupt_Pct\": 1.3662304721277454, \"Avg_Profit\": 12.168847639361273, \"Avg_Total_Cost\": 6.831152360638727, \"Avg_Cancel_Cost\": 5.13057012739955, \"Avg_Delay_Cost\": 1.7005822332391771, \"Route\": \"PDX-SFO\"}, {\"Arrived\": 17158.0, \"Disruption\": 167.0, \"Total_Flights\": 17325.0, \"Disrupt_Pct\": 0.963924963924964, \"Avg_Profit\": 14.180375180375181, \"Avg_Total_Cost\": 4.81962481962482, \"Avg_Cancel_Cost\": 3.261183261183261, \"Avg_Delay_Cost\": 1.5584415584415585, \"Route\": \"ATL-MSY\"}, {\"Arrived\": 17115.0, \"Disruption\": 207.0, \"Total_Flights\": 17322.0, \"Disrupt_Pct\": 1.195012123311396, \"Avg_Profit\": 13.024939383443021, \"Avg_Total_Cost\": 5.97506061655698, \"Avg_Cancel_Cost\": 3.5792633645075624, \"Avg_Delay_Cost\": 2.3957972520494173, \"Route\": \"MSY-ATL\"}, {\"Arrived\": 16753.0, \"Disruption\": 535.0, \"Total_Flights\": 17288.0, \"Disrupt_Pct\": 3.0946321147616844, \"Avg_Profit\": 3.526839426191578, \"Avg_Total_Cost\": 15.473160573808421, \"Avg_Cancel_Cost\": 13.275104118463673, \"Avg_Delay_Cost\": 2.198056455344748, \"Route\": \"BOS-BWI\"}, {\"Arrived\": 16707.0, \"Disruption\": 544.0, \"Total_Flights\": 17251.0, \"Disrupt_Pct\": 3.153440380267811, \"Avg_Profit\": 3.2327980986609473, \"Avg_Total_Cost\": 15.767201901339053, \"Avg_Cancel_Cost\": 13.274592777230307, \"Avg_Delay_Cost\": 2.4926091241087462, \"Route\": \"BWI-BOS\"}, {\"Arrived\": 16961.0, \"Disruption\": 267.0, \"Total_Flights\": 17228.0, \"Disrupt_Pct\": 1.5498026468539587, \"Avg_Profit\": 11.250986765730207, \"Avg_Total_Cost\": 7.7490132342697935, \"Avg_Cancel_Cost\": 5.166008822846529, \"Avg_Delay_Cost\": 2.583004411423264, \"Route\": \"DFW-DEN\"}, {\"Arrived\": 16739.0, \"Disruption\": 181.0, \"Total_Flights\": 16920.0, \"Disrupt_Pct\": 1.0697399527186762, \"Avg_Profit\": 13.65130023640662, \"Avg_Total_Cost\": 5.34869976359338, \"Avg_Cancel_Cost\": 3.4278959810874707, \"Avg_Delay_Cost\": 1.9208037825059097, \"Route\": \"ATL-DTW\"}, {\"Arrived\": 16707.0, \"Disruption\": 199.0, \"Total_Flights\": 16906.0, \"Disrupt_Pct\": 1.1770968886785758, \"Avg_Profit\": 13.114515556607122, \"Avg_Total_Cost\": 5.885484443392878, \"Avg_Cancel_Cost\": 3.637761741393588, \"Avg_Delay_Cost\": 2.24772270199929, \"Route\": \"DTW-ATL\"}, {\"Arrived\": 16666.0, \"Disruption\": 191.0, \"Total_Flights\": 16857.0, \"Disrupt_Pct\": 1.1330604496648278, \"Avg_Profit\": 13.334697751675861, \"Avg_Total_Cost\": 5.665302248324139, \"Avg_Cancel_Cost\": 5.161060686954974, \"Avg_Delay_Cost\": 0.5042415613691649, \"Route\": \"PHX-LAS\"}, {\"Arrived\": 16524.0, \"Disruption\": 292.0, \"Total_Flights\": 16816.0, \"Disrupt_Pct\": 1.736441484300666, \"Avg_Profit\": 10.31779257849667, \"Avg_Total_Cost\": 8.68220742150333, \"Avg_Cancel_Cost\": 8.028068506184587, \"Avg_Delay_Cost\": 0.6541389153187431, \"Route\": \"LAS-PHX\"}, {\"Arrived\": 16382.0, \"Disruption\": 178.0, \"Total_Flights\": 16560.0, \"Disrupt_Pct\": 1.0748792270531402, \"Avg_Profit\": 13.6256038647343, \"Avg_Total_Cost\": 5.374396135265701, \"Avg_Cancel_Cost\": 4.166666666666667, \"Avg_Delay_Cost\": 1.2077294685990339, \"Route\": \"ATL-JAX\"}, {\"Arrived\": 16311.0, \"Disruption\": 238.0, \"Total_Flights\": 16549.0, \"Disrupt_Pct\": 1.438153362740951, \"Avg_Profit\": 11.809233186295245, \"Avg_Total_Cost\": 7.190766813704756, \"Avg_Cancel_Cost\": 4.5924225028702645, \"Avg_Delay_Cost\": 2.5983443108344915, \"Route\": \"JAX-ATL\"}]}};\n",
              "      var embedOpt = {\"mode\": \"vega-lite\"};\n",
              "\n",
              "      function showError(el, error){\n",
              "          el.innerHTML = ('<div class=\"error\" style=\"color:red;\">'\n",
              "                          + '<p>JavaScript Error: ' + error.message + '</p>'\n",
              "                          + \"<p>This usually means there's a typo in your chart specification. \"\n",
              "                          + \"See the javascript console for the full traceback.</p>\"\n",
              "                          + '</div>');\n",
              "          throw error;\n",
              "      }\n",
              "      const el = document.getElementById('altair-viz');\n",
              "      vegaEmbed(\"#altair-viz\", spec, embedOpt)\n",
              "        .catch(error => showError(el, error));\n",
              "\n",
              "  </script>\n",
              "</body>\n",
              "</html>"
            ]
          },
          "metadata": {
            "tags": []
          },
          "execution_count": 102
        }
      ]
    },
    {
      "metadata": {
        "id": "T14kxfgvyKKR",
        "colab_type": "code",
        "outputId": "694aee71-a263-4b68-807f-f320cda79b8a",
        "colab": {
          "base_uri": "https://localhost:8080/",
          "height": 603
        }
      },
      "cell_type": "code",
      "source": [
        "route_stats_alt(sorted_route_df_200, 'Avg_Total_Cost', begin=0, end=40, title_text=\"Cost per Customer of 40 Most Disruption Prone Routes\")"
      ],
      "execution_count": 0,
      "outputs": [
        {
          "output_type": "execute_result",
          "data": {
            "text/plain": [
              "Chart({\n",
              "  config: Config({\n",
              "    axis: AxisConfig({\n",
              "      labelFontSize: 12,\n",
              "      titleFontSize: 12\n",
              "    }),\n",
              "    title: VgTitleConfig({\n",
              "      fontSize: 24\n",
              "    })\n",
              "  }),\n",
              "  data:         Arrived  Disruption  Total_Flights  Disrupt_Pct  Avg_Profit  \\\n",
              "  Route                                                                 \n",
              "  36    21883.000    1274.000      23157.000        5.502      -8.508   \n",
              "  35    21947.000    1221.000      23168.000        5.270      -7.351   \n",
              "  70    19187.000     923.000      20110.000        4.590      -3.949   \n",
              "  71    19175.000     912.000      20087.000        4.540      -3.701   \n",
              "  160   14399.000     639.000      15038.000        4.249      -2.246   \n",
              "  165   14337.000     613.000      14950.000        4.100      -1.502   \n",
              "  132   15448.000     657.000      16105.000        4.079      -1.397   \n",
              "  4     33897.000    1397.000      35294.000        3.958      -0.791   \n",
              "  131   15588.000     612.000      16200.000        3.778       0.111   \n",
              "  140   15185.000     596.000      15781.000        3.777       0.117   \n",
              "  136   15425.000     580.000      16005.000        3.624       0.881   \n",
              "  166   14304.000     537.000      14841.000        3.618       0.908   \n",
              "  5     33788.000    1259.000      35047.000        3.592       1.038   \n",
              "  23    24112.000     898.000      25010.000        3.591       1.047   \n",
              "  95    17279.000     642.000      17921.000        3.582       1.088   \n",
              "  133   15503.000     575.000      16078.000        3.576       1.118   \n",
              "  130   15629.000     579.000      16208.000        3.572       1.138   \n",
              "  167   14276.000     524.000      14800.000        3.541       1.297   \n",
              "  180   13828.000     492.000      14320.000        3.436       1.821   \n",
              "  63    19713.000     697.000      20410.000        3.415       1.925   \n",
              "  137   15453.000     544.000      15997.000        3.401       1.997   \n",
              "  29    22985.000     803.000      23788.000        3.376       2.122   \n",
              "  1     46516.000    1602.000      48118.000        3.329       2.353   \n",
              "  97    17307.000     592.000      17899.000        3.307       2.463   \n",
              "  22    24236.000     809.000      25045.000        3.230       2.849   \n",
              "  185   13747.000     448.000      14195.000        3.156       3.220   \n",
              "  112   16707.000     544.000      17251.000        3.153       3.233   \n",
              "  0     47204.000    1533.000      48737.000        3.145       3.273   \n",
              "  64    19766.000     641.000      20407.000        3.141       3.295   \n",
              "  30    23001.000     741.000      23742.000        3.121       3.395   \n",
              "  111   16753.000     535.000      17288.000        3.095       3.527   \n",
              "  139   15308.000     487.000      15795.000        3.083       3.584   \n",
              "  88    18287.000     569.000      18856.000        3.018       3.912   \n",
              "  18    25295.000     787.000      26082.000        3.017       3.913   \n",
              "  89    18214.000     554.000      18768.000        2.952       4.241   \n",
              "  191   13624.000     413.000      14037.000        2.942       4.289   \n",
              "  169   14323.000     412.000      14735.000        2.796       5.020   \n",
              "  62    20073.000     569.000      20642.000        2.757       5.217   \n",
              "  189   13766.000     386.000      14152.000        2.728       5.362   \n",
              "  168   14370.000     398.000      14768.000        2.695       5.525   \n",
              "  \n",
              "         Avg_Total_Cost  Avg_Cancel_Cost  Avg_Delay_Cost    Route  \n",
              "  Route                                                            \n",
              "  36             27.508           23.988           3.519  BOS-LGA  \n",
              "  35             26.351           23.351           3.000  LGA-BOS  \n",
              "  70             22.949           21.880           1.069  HOU-DAL  \n",
              "  71             22.701           21.755           0.946  DAL-HOU  \n",
              "  160            21.246           17.689           3.558  LGA-CLT  \n",
              "  165            20.502           17.492           3.010  CLT-LGA  \n",
              "  132            20.397           14.405           5.992  BOS-JFK  \n",
              "  4              19.791           15.328           4.463  LGA-ORD  \n",
              "  131            18.889           13.796           5.093  LGA-FLL  \n",
              "  140            18.883           10.170           8.713  MCO-JFK  \n",
              "  136            18.119           13.433           4.686  EWR-FLL  \n",
              "  166            18.092           13.746           4.346  BOS-EWR  \n",
              "  5              17.962           14.780           3.181  ORD-LGA  \n",
              "  23             17.953           15.654           2.299  DCA-BOS  \n",
              "  95             17.912           16.963           0.949  LAX-OAK  \n",
              "  133            17.882           13.652           4.229  JFK-BOS  \n",
              "  130            17.862           13.327           4.535  FLL-LGA  \n",
              "  167            17.703           13.412           4.291  EWR-BOS  \n",
              "  180            17.179           12.081           5.098  EWR-ORD  \n",
              "  63             17.075           11.342           5.732  MCO-EWR  \n",
              "  137            17.003           13.315           3.688  FLL-EWR  \n",
              "  29             16.878           15.176           1.703  SAN-SFO  \n",
              "  1              16.647           14.173           2.473  LAX-SFO  \n",
              "  97             16.537           15.699           0.838  OAK-LAX  \n",
              "  22             16.151           14.614           1.537  BOS-DCA  \n",
              "  185            15.780           11.694           4.086  ORD-EWR  \n",
              "  112            15.767           13.275           2.493  BWI-BOS  \n",
              "  0              15.727           13.891           1.836  SFO-LAX  \n",
              "  64             15.705           11.173           4.533  EWR-MCO  \n",
              "  30             15.605           14.405           1.200  SFO-SAN  \n",
              "  111            15.473           13.275           2.198  BOS-BWI  \n",
              "  139            15.416            9.750           5.666  JFK-MCO  \n",
              "  88             15.088           11.402           3.686  MIA-LGA  \n",
              "  18             15.087           10.045           5.042  LGA-ATL  \n",
              "  89             14.759           11.456           3.303  LGA-MIA  \n",
              "  191            14.711           11.007           3.704  IAH-DFW  \n",
              "  169            13.980           11.266           2.715  LGA-DFW  \n",
              "  62             13.783           10.198           3.585  DCA-ORD  \n",
              "  189            13.638           10.776           2.862  DFW-IAH  \n",
              "  168            13.475           10.936           2.539  DFW-LGA  ,\n",
              "  encoding: EncodingWithFacet({\n",
              "    color: Color({\n",
              "      legend: None,\n",
              "      shorthand: 'Route'\n",
              "    }),\n",
              "    x: X({\n",
              "      shorthand: 'Route'\n",
              "    }),\n",
              "    y: Y({\n",
              "      shorthand: 'Avg_Total_Cost'\n",
              "    })\n",
              "  }),\n",
              "  height: 450,\n",
              "  mark: 'bar',\n",
              "  title: 'Cost per Customer of 40 Most Disruption Prone Routes',\n",
              "  width: 1100\n",
              "})"
            ],
            "text/html": [
              "<!DOCTYPE html>\n",
              "<html>\n",
              "<head>\n",
              "  <style>\n",
              "    .vega-actions a {\n",
              "        margin-right: 12px;\n",
              "        color: #757575;\n",
              "        font-weight: normal;\n",
              "        font-size: 13px;\n",
              "    }\n",
              "    .error {\n",
              "        color: red;\n",
              "    }\n",
              "  </style>\n",
              "  <script type=\"text/javascript\" src=\"https://cdn.jsdelivr.net/npm//vega@4\"></script>\n",
              "  <script type=\"text/javascript\" src=\"https://cdn.jsdelivr.net/npm//vega-lite@2.6.0\"></script>\n",
              "  <script type=\"text/javascript\" src=\"https://cdn.jsdelivr.net/npm//vega-embed@3\"></script>\n",
              "</head>\n",
              "<body>\n",
              "  <div id=\"altair-viz\"></div>\n",
              "  <script>\n",
              "      var spec = {\"config\": {\"view\": {\"width\": 400, \"height\": 300}, \"axis\": {\"labelFontSize\": 12, \"titleFontSize\": 12}, \"title\": {\"fontSize\": 24}}, \"data\": {\"name\": \"data-5748eae5325fbf4161febff0a40c703f\"}, \"mark\": \"bar\", \"encoding\": {\"color\": {\"type\": \"nominal\", \"field\": \"Route\", \"legend\": null}, \"x\": {\"type\": \"nominal\", \"field\": \"Route\"}, \"y\": {\"type\": \"quantitative\", \"field\": \"Avg_Total_Cost\"}}, \"height\": 450, \"title\": \"Cost per Customer of 40 Most Disruption Prone Routes\", \"width\": 1100, \"$schema\": \"https://vega.github.io/schema/vega-lite/v2.6.0.json\", \"datasets\": {\"data-5748eae5325fbf4161febff0a40c703f\": [{\"Arrived\": 21883.0, \"Disruption\": 1274.0, \"Total_Flights\": 23157.0, \"Disrupt_Pct\": 5.501576197262167, \"Avg_Profit\": -8.507880986310834, \"Avg_Total_Cost\": 27.507880986310834, \"Avg_Cancel_Cost\": 23.988426825581897, \"Avg_Delay_Cost\": 3.5194541607289374, \"Route\": \"BOS-LGA\"}, {\"Arrived\": 21947.0, \"Disruption\": 1221.0, \"Total_Flights\": 23168.0, \"Disrupt_Pct\": 5.270200276243094, \"Avg_Profit\": -7.35100138121547, \"Avg_Total_Cost\": 26.351001381215468, \"Avg_Cancel_Cost\": 23.35117403314917, \"Avg_Delay_Cost\": 2.9998273480662974, \"Route\": \"LGA-BOS\"}, {\"Arrived\": 19187.0, \"Disruption\": 923.0, \"Total_Flights\": 20110.0, \"Disrupt_Pct\": 4.589756340129289, \"Avg_Profit\": -3.9487817006464447, \"Avg_Total_Cost\": 22.948781700646446, \"Avg_Cancel_Cost\": 21.87966185977126, \"Avg_Delay_Cost\": 1.0691198408751852, \"Route\": \"HOU-DAL\"}, {\"Arrived\": 19175.0, \"Disruption\": 912.0, \"Total_Flights\": 20087.0, \"Disrupt_Pct\": 4.540249912878976, \"Avg_Profit\": -3.701249564394882, \"Avg_Total_Cost\": 22.70124956439488, \"Avg_Cancel_Cost\": 21.75536416587843, \"Avg_Delay_Cost\": 0.9458853985164524, \"Route\": \"DAL-HOU\"}, {\"Arrived\": 14399.0, \"Disruption\": 639.0, \"Total_Flights\": 15038.0, \"Disrupt_Pct\": 4.249235270647692, \"Avg_Profit\": -2.2461763532384627, \"Avg_Total_Cost\": 21.24617635323846, \"Avg_Cancel_Cost\": 17.688522409894933, \"Avg_Delay_Cost\": 3.557653943343528, \"Route\": \"LGA-CLT\"}, {\"Arrived\": 14337.0, \"Disruption\": 613.0, \"Total_Flights\": 14950.0, \"Disrupt_Pct\": 4.100334448160535, \"Avg_Profit\": -1.5016722408026757, \"Avg_Total_Cost\": 20.501672240802677, \"Avg_Cancel_Cost\": 17.49163879598662, \"Avg_Delay_Cost\": 3.010033444816056, \"Route\": \"CLT-LGA\"}, {\"Arrived\": 15448.0, \"Disruption\": 657.0, \"Total_Flights\": 16105.0, \"Disrupt_Pct\": 4.0794784228500465, \"Avg_Profit\": -1.3973921142502328, \"Avg_Total_Cost\": 20.397392114250234, \"Avg_Cancel_Cost\": 14.40546414157094, \"Avg_Delay_Cost\": 5.991927972679294, \"Route\": \"BOS-JFK\"}, {\"Arrived\": 33897.0, \"Disruption\": 1397.0, \"Total_Flights\": 35294.0, \"Disrupt_Pct\": 3.958179860599535, \"Avg_Profit\": -0.7908993029976766, \"Avg_Total_Cost\": 19.790899302997676, \"Avg_Cancel_Cost\": 15.328384427948093, \"Avg_Delay_Cost\": 4.4625148750495836, \"Route\": \"LGA-ORD\"}, {\"Arrived\": 15588.0, \"Disruption\": 612.0, \"Total_Flights\": 16200.0, \"Disrupt_Pct\": 3.7777777777777777, \"Avg_Profit\": 0.1111111111111111, \"Avg_Total_Cost\": 18.88888888888889, \"Avg_Cancel_Cost\": 13.796296296296296, \"Avg_Delay_Cost\": 5.0925925925925934, \"Route\": \"LGA-FLL\"}, {\"Arrived\": 15185.0, \"Disruption\": 596.0, \"Total_Flights\": 15781.0, \"Disrupt_Pct\": 3.7766934921741333, \"Avg_Profit\": 0.11653253912933274, \"Avg_Total_Cost\": 18.883467460870666, \"Avg_Cancel_Cost\": 10.170458145871617, \"Avg_Delay_Cost\": 8.713009314999049, \"Route\": \"MCO-JFK\"}, {\"Arrived\": 15425.0, \"Disruption\": 580.0, \"Total_Flights\": 16005.0, \"Disrupt_Pct\": 3.6238675413933144, \"Avg_Profit\": 0.880662293033427, \"Avg_Total_Cost\": 18.119337706966572, \"Avg_Cancel_Cost\": 13.433302093095907, \"Avg_Delay_Cost\": 4.686035613870665, \"Route\": \"EWR-FLL\"}, {\"Arrived\": 14304.0, \"Disruption\": 537.0, \"Total_Flights\": 14841.0, \"Disrupt_Pct\": 3.618354558318173, \"Avg_Profit\": 0.9082272084091368, \"Avg_Total_Cost\": 18.091772791590863, \"Avg_Cancel_Cost\": 13.745704467353951, \"Avg_Delay_Cost\": 4.346068324236912, \"Route\": \"BOS-EWR\"}, {\"Arrived\": 33788.0, \"Disruption\": 1259.0, \"Total_Flights\": 35047.0, \"Disrupt_Pct\": 3.5923188860672814, \"Avg_Profit\": 1.0384055696635945, \"Avg_Total_Cost\": 17.961594430336405, \"Avg_Cancel_Cost\": 14.780152366821696, \"Avg_Delay_Cost\": 3.1814420635147087, \"Route\": \"ORD-LGA\"}, {\"Arrived\": 24112.0, \"Disruption\": 898.0, \"Total_Flights\": 25010.0, \"Disrupt_Pct\": 3.590563774490204, \"Avg_Profit\": 1.0471811275489804, \"Avg_Total_Cost\": 17.95281887245102, \"Avg_Cancel_Cost\": 15.653738504598163, \"Avg_Delay_Cost\": 2.2990803678528557, \"Route\": \"DCA-BOS\"}, {\"Arrived\": 17279.0, \"Disruption\": 642.0, \"Total_Flights\": 17921.0, \"Disrupt_Pct\": 3.58238937559288, \"Avg_Profit\": 1.0880531220356007, \"Avg_Total_Cost\": 17.9119468779644, \"Avg_Cancel_Cost\": 16.963339099380615, \"Avg_Delay_Cost\": 0.948607778583785, \"Route\": \"LAX-OAK\"}, {\"Arrived\": 15503.0, \"Disruption\": 575.0, \"Total_Flights\": 16078.0, \"Disrupt_Pct\": 3.5763154621221545, \"Avg_Profit\": 1.1184226893892275, \"Avg_Total_Cost\": 17.881577310610773, \"Avg_Cancel_Cost\": 13.65219554670979, \"Avg_Delay_Cost\": 4.229381763900983, \"Route\": \"JFK-BOS\"}, {\"Arrived\": 15629.0, \"Disruption\": 579.0, \"Total_Flights\": 16208.0, \"Disrupt_Pct\": 3.572309970384995, \"Avg_Profit\": 1.1384501480750246, \"Avg_Total_Cost\": 17.861549851924977, \"Avg_Cancel_Cost\": 13.326752221125371, \"Avg_Delay_Cost\": 4.534797630799606, \"Route\": \"FLL-LGA\"}, {\"Arrived\": 14276.0, \"Disruption\": 524.0, \"Total_Flights\": 14800.0, \"Disrupt_Pct\": 3.5405405405405403, \"Avg_Profit\": 1.2972972972972974, \"Avg_Total_Cost\": 17.7027027027027, \"Avg_Cancel_Cost\": 13.412162162162161, \"Avg_Delay_Cost\": 4.29054054054054, \"Route\": \"EWR-BOS\"}, {\"Arrived\": 13828.0, \"Disruption\": 492.0, \"Total_Flights\": 14320.0, \"Disrupt_Pct\": 3.435754189944134, \"Avg_Profit\": 1.8212290502793296, \"Avg_Total_Cost\": 17.178770949720672, \"Avg_Cancel_Cost\": 12.081005586592179, \"Avg_Delay_Cost\": 5.097765363128493, \"Route\": \"EWR-ORD\"}, {\"Arrived\": 19713.0, \"Disruption\": 697.0, \"Total_Flights\": 20410.0, \"Disrupt_Pct\": 3.4149926506614405, \"Avg_Profit\": 1.9250367466927976, \"Avg_Total_Cost\": 17.074963253307203, \"Avg_Cancel_Cost\": 11.342479176874082, \"Avg_Delay_Cost\": 5.732484076433121, \"Route\": \"MCO-EWR\"}, {\"Arrived\": 15453.0, \"Disruption\": 544.0, \"Total_Flights\": 15997.0, \"Disrupt_Pct\": 3.4006376195536663, \"Avg_Profit\": 1.9968119022316684, \"Avg_Total_Cost\": 17.00318809776833, \"Avg_Cancel_Cost\": 13.314996561855347, \"Avg_Delay_Cost\": 3.688191535912983, \"Route\": \"FLL-EWR\"}, {\"Arrived\": 22985.0, \"Disruption\": 803.0, \"Total_Flights\": 23788.0, \"Disrupt_Pct\": 3.375651589036489, \"Avg_Profit\": 2.121742054817555, \"Avg_Total_Cost\": 16.878257945182444, \"Avg_Cancel_Cost\": 15.175718849840255, \"Avg_Delay_Cost\": 1.702539095342189, \"Route\": \"SAN-SFO\"}, {\"Arrived\": 46516.0, \"Disruption\": 1602.0, \"Total_Flights\": 48118.0, \"Disrupt_Pct\": 3.329315432894135, \"Avg_Profit\": 2.3534228355293236, \"Avg_Total_Cost\": 16.646577164470678, \"Avg_Cancel_Cost\": 14.173490169998754, \"Avg_Delay_Cost\": 2.473086994471924, \"Route\": \"LAX-SFO\"}, {\"Arrived\": 17307.0, \"Disruption\": 592.0, \"Total_Flights\": 17899.0, \"Disrupt_Pct\": 3.307447343427007, \"Avg_Profit\": 2.4627632828649646, \"Avg_Total_Cost\": 16.537236717135034, \"Avg_Cancel_Cost\": 15.699201072685625, \"Avg_Delay_Cost\": 0.838035644449409, \"Route\": \"OAK-LAX\"}, {\"Arrived\": 24236.0, \"Disruption\": 809.0, \"Total_Flights\": 25045.0, \"Disrupt_Pct\": 3.230185665801557, \"Avg_Profit\": 2.849071670992214, \"Avg_Total_Cost\": 16.150928329007787, \"Avg_Cancel_Cost\": 14.613695348372929, \"Avg_Delay_Cost\": 1.5372329806348581, \"Route\": \"BOS-DCA\"}, {\"Arrived\": 13747.0, \"Disruption\": 448.0, \"Total_Flights\": 14195.0, \"Disrupt_Pct\": 3.1560408594575553, \"Avg_Profit\": 3.2197957027122226, \"Avg_Total_Cost\": 15.780204297287778, \"Avg_Cancel_Cost\": 11.69425854174005, \"Avg_Delay_Cost\": 4.085945755547728, \"Route\": \"ORD-EWR\"}, {\"Arrived\": 16707.0, \"Disruption\": 544.0, \"Total_Flights\": 17251.0, \"Disrupt_Pct\": 3.153440380267811, \"Avg_Profit\": 3.2327980986609473, \"Avg_Total_Cost\": 15.767201901339053, \"Avg_Cancel_Cost\": 13.274592777230307, \"Avg_Delay_Cost\": 2.4926091241087462, \"Route\": \"BWI-BOS\"}, {\"Arrived\": 47204.0, \"Disruption\": 1533.0, \"Total_Flights\": 48737.0, \"Disrupt_Pct\": 3.1454541723946896, \"Avg_Profit\": 3.2727291380265506, \"Avg_Total_Cost\": 15.72727086197345, \"Avg_Cancel_Cost\": 13.890883722838911, \"Avg_Delay_Cost\": 1.8363871391345388, \"Route\": \"SFO-LAX\"}, {\"Arrived\": 19766.0, \"Disruption\": 641.0, \"Total_Flights\": 20407.0, \"Disrupt_Pct\": 3.1410790415053658, \"Avg_Profit\": 3.294604792473171, \"Avg_Total_Cost\": 15.705395207526829, \"Avg_Cancel_Cost\": 11.172636840299898, \"Avg_Delay_Cost\": 4.532758367226931, \"Route\": \"EWR-MCO\"}, {\"Arrived\": 23001.0, \"Disruption\": 741.0, \"Total_Flights\": 23742.0, \"Disrupt_Pct\": 3.1210513014910286, \"Avg_Profit\": 3.3947434925448574, \"Avg_Total_Cost\": 15.605256507455143, \"Avg_Cancel_Cost\": 14.404852160727824, \"Avg_Delay_Cost\": 1.2004043467273195, \"Route\": \"SFO-SAN\"}, {\"Arrived\": 16753.0, \"Disruption\": 535.0, \"Total_Flights\": 17288.0, \"Disrupt_Pct\": 3.0946321147616844, \"Avg_Profit\": 3.526839426191578, \"Avg_Total_Cost\": 15.473160573808421, \"Avg_Cancel_Cost\": 13.275104118463673, \"Avg_Delay_Cost\": 2.198056455344748, \"Route\": \"BOS-BWI\"}, {\"Arrived\": 15308.0, \"Disruption\": 487.0, \"Total_Flights\": 15795.0, \"Disrupt_Pct\": 3.0832541943653053, \"Avg_Profit\": 3.583729028173473, \"Avg_Total_Cost\": 15.416270971826528, \"Avg_Cancel_Cost\": 9.749920861031972, \"Avg_Delay_Cost\": 5.666350110794555, \"Route\": \"JFK-MCO\"}, {\"Arrived\": 18287.0, \"Disruption\": 569.0, \"Total_Flights\": 18856.0, \"Disrupt_Pct\": 3.0176071277047094, \"Avg_Profit\": 3.911964361476453, \"Avg_Total_Cost\": 15.088035638523547, \"Avg_Cancel_Cost\": 11.402206194314807, \"Avg_Delay_Cost\": 3.685829444208739, \"Route\": \"MIA-LGA\"}, {\"Arrived\": 25295.0, \"Disruption\": 787.0, \"Total_Flights\": 26082.0, \"Disrupt_Pct\": 3.017406640595046, \"Avg_Profit\": 3.912966797024768, \"Avg_Total_Cost\": 15.087033202975231, \"Avg_Cancel_Cost\": 10.0452419292999, \"Avg_Delay_Cost\": 5.041791273675331, \"Route\": \"LGA-ATL\"}, {\"Arrived\": 18214.0, \"Disruption\": 554.0, \"Total_Flights\": 18768.0, \"Disrupt_Pct\": 2.951832907075874, \"Avg_Profit\": 4.2408354646206305, \"Avg_Total_Cost\": 14.75916453537937, \"Avg_Cancel_Cost\": 11.455669224211423, \"Avg_Delay_Cost\": 3.3034953111679464, \"Route\": \"LGA-MIA\"}, {\"Arrived\": 13624.0, \"Disruption\": 413.0, \"Total_Flights\": 14037.0, \"Disrupt_Pct\": 2.9422241219633825, \"Avg_Profit\": 4.288879390183087, \"Avg_Total_Cost\": 14.711120609816913, \"Avg_Cancel_Cost\": 11.00662534729643, \"Avg_Delay_Cost\": 3.7044952625204832, \"Route\": \"IAH-DFW\"}, {\"Arrived\": 14323.0, \"Disruption\": 412.0, \"Total_Flights\": 14735.0, \"Disrupt_Pct\": 2.796063793688497, \"Avg_Profit\": 5.019681031557516, \"Avg_Total_Cost\": 13.980318968442484, \"Avg_Cancel_Cost\": 11.265693926026467, \"Avg_Delay_Cost\": 2.714625042416017, \"Route\": \"LGA-DFW\"}, {\"Arrived\": 20073.0, \"Disruption\": 569.0, \"Total_Flights\": 20642.0, \"Disrupt_Pct\": 2.756515841488228, \"Avg_Profit\": 5.217420792558861, \"Avg_Total_Cost\": 13.78257920744114, \"Avg_Cancel_Cost\": 10.1976552659626, \"Avg_Delay_Cost\": 3.5849239414785394, \"Route\": \"DCA-ORD\"}, {\"Arrived\": 13766.0, \"Disruption\": 386.0, \"Total_Flights\": 14152.0, \"Disrupt_Pct\": 2.7275296777840587, \"Avg_Profit\": 5.362351611079706, \"Avg_Total_Cost\": 13.637648388920294, \"Avg_Cancel_Cost\": 10.775862068965518, \"Avg_Delay_Cost\": 2.861786319954776, \"Route\": \"DFW-IAH\"}, {\"Arrived\": 14370.0, \"Disruption\": 398.0, \"Total_Flights\": 14768.0, \"Disrupt_Pct\": 2.6950162513542795, \"Avg_Profit\": 5.524918743228603, \"Avg_Total_Cost\": 13.475081256771398, \"Avg_Cancel_Cost\": 10.935807150595883, \"Avg_Delay_Cost\": 2.5392741061755153, \"Route\": \"DFW-LGA\"}]}};\n",
              "      var embedOpt = {\"mode\": \"vega-lite\"};\n",
              "\n",
              "      function showError(el, error){\n",
              "          el.innerHTML = ('<div class=\"error\" style=\"color:red;\">'\n",
              "                          + '<p>JavaScript Error: ' + error.message + '</p>'\n",
              "                          + \"<p>This usually means there's a typo in your chart specification. \"\n",
              "                          + \"See the javascript console for the full traceback.</p>\"\n",
              "                          + '</div>');\n",
              "          throw error;\n",
              "      }\n",
              "      const el = document.getElementById('altair-viz');\n",
              "      vegaEmbed(\"#altair-viz\", spec, embedOpt)\n",
              "        .catch(error => showError(el, error));\n",
              "\n",
              "  </script>\n",
              "</body>\n",
              "</html>"
            ]
          },
          "metadata": {
            "tags": []
          },
          "execution_count": 116
        }
      ]
    },
    {
      "metadata": {
        "id": "P2BGPxnMx5zj",
        "colab_type": "text"
      },
      "cell_type": "markdown",
      "source": [
        "There are over 6,400 routes in total so it's impossible to analyze them all, but from the top 120 routes, some of the highest costs ones include:\n",
        "\n",
        "* Boston (BOS) to New York (LGA / JFK / EWR)\n",
        "* Houston (HOU) to Dallas (DFW)\n",
        "* New York (LGA) to Charlotte (CLT)\n",
        "* Orlando (MCO) to New York (LGA / JFK / EWR)\n",
        "* Los Angeles (LAX) to San Francisco (SFO)\n",
        "\n",
        "Shorter routes seem to dominate the list."
      ]
    },
    {
      "metadata": {
        "id": "cW9yUbqpNEo7",
        "colab_type": "text"
      },
      "cell_type": "markdown",
      "source": [
        "# Time Block Stats Visualizations"
      ]
    },
    {
      "metadata": {
        "id": "ufJQQ7dENItA",
        "colab_type": "code",
        "colab": {}
      },
      "cell_type": "code",
      "source": [
        "# plot time block stats with altair\n",
        "def time_stats(df, feature, title_text=\"\"): \n",
        "    bars = alt.Chart(df, title=title_text, height=450, width=1100).configure_title(fontSize=24).mark_bar().encode(\n",
        "        x = 'Time Block', \n",
        "        y = feature, \n",
        "        color = alt.Color('Time Block', legend=None, scale=alt.Scale(scheme='viridis'))).configure_axis(\n",
        "    labelFontSize=16,\n",
        "    titleFontSize=14\n",
        ")\n",
        "    \n",
        "    return bars"
      ],
      "execution_count": 0,
      "outputs": []
    },
    {
      "metadata": {
        "id": "ky_k9iJTNJHV",
        "colab_type": "code",
        "outputId": "3b7f9602-7da0-46b0-9c30-6df8230b2b0a",
        "colab": {
          "base_uri": "https://localhost:8080/",
          "height": 624
        }
      },
      "cell_type": "code",
      "source": [
        "time_stats(dep_timblk_df, 'Disrupt_Pct', 'Disruption % by Take-Off Time Block')"
      ],
      "execution_count": 86,
      "outputs": [
        {
          "output_type": "execute_result",
          "data": {
            "text/plain": [
              "Chart({\n",
              "  config: Config({\n",
              "    axis: AxisConfig({\n",
              "      labelFontSize: 16,\n",
              "      titleFontSize: 14\n",
              "    }),\n",
              "    title: VgTitleConfig({\n",
              "      fontSize: 24\n",
              "    })\n",
              "  }),\n",
              "  data:             Arrived  Disruption  Total_Flights  Disrupt_Pct  Avg_Profit  \\\n",
              "  DepTimeBlk                                                                \n",
              "  0            490070       11042         501112        2.203       7.983   \n",
              "  1           1272256       25152        1297408        1.939       9.307   \n",
              "  2           1228004       20801        1248805        1.666      10.672   \n",
              "  3           1208178       19628        1227806        1.599      11.007   \n",
              "  4           1082024       16659        1098683        1.516      11.419   \n",
              "  5           1107573       17120        1124693        1.522      11.389   \n",
              "  6           1124869       18369        1143238        1.607      10.966   \n",
              "  7           1107202       19486        1126688        1.729      10.353   \n",
              "  8           1070103       19394        1089497        1.780      10.100   \n",
              "  9           1022372       20474        1042846        1.963       9.184   \n",
              "  10          1100000       22993        1122993        2.047       8.763   \n",
              "  11          1031587       23180        1054767        2.198       8.012   \n",
              "  12          1186197       29002        1215199        2.387       7.067   \n",
              "  13          1016222       26345        1042567        2.527       6.365   \n",
              "  14           980297       24046        1004343        2.394       7.029   \n",
              "  15           854293       20193         874486        2.309       7.454   \n",
              "  16           543914       12649         556563        2.273       7.637   \n",
              "  17           462836        9800         472636        2.073       8.633   \n",
              "  18           144444        2339         146783        1.594      11.032   \n",
              "  \n",
              "              Avg_Total_Cost  Avg_Cancel_Cost  Avg_Delay_Cost Time Block  \n",
              "  DepTimeBlk                                                              \n",
              "  0                   11.017            8.188           2.830  0001-0559  \n",
              "  1                    9.693            7.132           2.562  0600-0659  \n",
              "  2                    8.328            6.327           2.002  0700-0759  \n",
              "  3                    7.993            6.059           1.934  0800-0859  \n",
              "  4                    7.581            5.776           1.806  0900-0959  \n",
              "  5                    7.611            5.746           1.865  1000-1059  \n",
              "  6                    8.034            5.871           2.163  1100-1159  \n",
              "  7                    8.647            6.252           2.396  1200-1259  \n",
              "  8                    8.900            6.418           2.482  1300-1359  \n",
              "  9                    9.816            7.047           2.770  1400-1459  \n",
              "  10                  10.237            7.280           2.958  1500-1559  \n",
              "  11                  10.988            8.005           2.983  1600-1659  \n",
              "  12                  11.933            8.593           3.340  1700-1759  \n",
              "  13                  12.635            9.384           3.251  1800-1859  \n",
              "  14                  11.971            8.995           2.976  1900-1959  \n",
              "  15                  11.546            8.977           2.568  2000-2059  \n",
              "  16                  11.363            9.081           2.283  2100-2159  \n",
              "  17                  10.367            8.335           2.032  2200-2259  \n",
              "  18                   7.968            6.149           1.819  2300-2359  ,\n",
              "  encoding: EncodingWithFacet({\n",
              "    color: Color({\n",
              "      legend: None,\n",
              "      scale: Scale({\n",
              "        scheme: 'viridis'\n",
              "      }),\n",
              "      shorthand: 'Time Block'\n",
              "    }),\n",
              "    x: X({\n",
              "      shorthand: 'Time Block'\n",
              "    }),\n",
              "    y: Y({\n",
              "      shorthand: 'Disrupt_Pct'\n",
              "    })\n",
              "  }),\n",
              "  height: 450,\n",
              "  mark: 'bar',\n",
              "  title: 'Disruption % by Take-Off Time Block',\n",
              "  width: 1100\n",
              "})"
            ],
            "text/html": [
              "<!DOCTYPE html>\n",
              "<html>\n",
              "<head>\n",
              "  <style>\n",
              "    .vega-actions a {\n",
              "        margin-right: 12px;\n",
              "        color: #757575;\n",
              "        font-weight: normal;\n",
              "        font-size: 13px;\n",
              "    }\n",
              "    .error {\n",
              "        color: red;\n",
              "    }\n",
              "  </style>\n",
              "  <script type=\"text/javascript\" src=\"https://cdn.jsdelivr.net/npm//vega@4\"></script>\n",
              "  <script type=\"text/javascript\" src=\"https://cdn.jsdelivr.net/npm//vega-lite@2.6.0\"></script>\n",
              "  <script type=\"text/javascript\" src=\"https://cdn.jsdelivr.net/npm//vega-embed@3\"></script>\n",
              "</head>\n",
              "<body>\n",
              "  <div id=\"altair-viz\"></div>\n",
              "  <script>\n",
              "      var spec = {\"config\": {\"view\": {\"width\": 400, \"height\": 300}, \"axis\": {\"labelFontSize\": 16, \"titleFontSize\": 14}, \"title\": {\"fontSize\": 24}}, \"data\": {\"name\": \"data-7d5c4fb54779f6a4af041693ef98e111\"}, \"mark\": \"bar\", \"encoding\": {\"color\": {\"type\": \"nominal\", \"field\": \"Time Block\", \"legend\": null, \"scale\": {\"scheme\": \"viridis\"}}, \"x\": {\"type\": \"nominal\", \"field\": \"Time Block\"}, \"y\": {\"type\": \"quantitative\", \"field\": \"Disrupt_Pct\"}}, \"height\": 450, \"title\": \"Disruption % by Take-Off Time Block\", \"width\": 1100, \"$schema\": \"https://vega.github.io/schema/vega-lite/v2.6.0.json\", \"datasets\": {\"data-7d5c4fb54779f6a4af041693ef98e111\": [{\"Arrived\": 490070, \"Disruption\": 11042, \"Total_Flights\": 501112, \"Disrupt_Pct\": 2.203499417295934, \"Avg_Profit\": 7.982502913520331, \"Avg_Total_Cost\": 11.017497086479668, \"Avg_Cancel_Cost\": 8.187790354252144, \"Avg_Delay_Cost\": 2.8297067322275247, \"Time Block\": \"0001-0559\"}, {\"Arrived\": 1272256, \"Disruption\": 25152, \"Total_Flights\": 1297408, \"Disrupt_Pct\": 1.9386345698500396, \"Avg_Profit\": 9.306827150749802, \"Avg_Total_Cost\": 9.693172849250198, \"Avg_Cancel_Cost\": 7.1315268597079715, \"Avg_Delay_Cost\": 2.5616459895422263, \"Time Block\": \"0600-0659\"}, {\"Arrived\": 1228004, \"Disruption\": 20801, \"Total_Flights\": 1248805, \"Disrupt_Pct\": 1.6656723827979547, \"Avg_Profit\": 10.671638086010226, \"Avg_Total_Cost\": 8.328361913989774, \"Avg_Cancel_Cost\": 6.326848467134581, \"Avg_Delay_Cost\": 2.001513446855193, \"Time Block\": \"0700-0759\"}, {\"Arrived\": 1208178, \"Disruption\": 19628, \"Total_Flights\": 1227806, \"Disrupt_Pct\": 1.5986238868355425, \"Avg_Profit\": 11.006880565822287, \"Avg_Total_Cost\": 7.9931194341777125, \"Avg_Cancel_Cost\": 6.0587747575757085, \"Avg_Delay_Cost\": 1.934344676602004, \"Time Block\": \"0800-0859\"}, {\"Arrived\": 1082024, \"Disruption\": 16659, \"Total_Flights\": 1098683, \"Disrupt_Pct\": 1.5162699340938195, \"Avg_Profit\": 11.418650329530902, \"Avg_Total_Cost\": 7.581349670469098, \"Avg_Cancel_Cost\": 5.775551273661283, \"Avg_Delay_Cost\": 1.8057983968078153, \"Time Block\": \"0900-0959\"}, {\"Arrived\": 1107573, \"Disruption\": 17120, \"Total_Flights\": 1124693, \"Disrupt_Pct\": 1.5221931673798983, \"Avg_Profit\": 11.389034163100508, \"Avg_Total_Cost\": 7.610965836899491, \"Avg_Cancel_Cost\": 5.746457033163717, \"Avg_Delay_Cost\": 1.8645088037357747, \"Time Block\": \"1000-1059\"}, {\"Arrived\": 1124869, \"Disruption\": 18369, \"Total_Flights\": 1143238, \"Disrupt_Pct\": 1.6067520498793775, \"Avg_Profit\": 10.966239750603112, \"Avg_Total_Cost\": 8.033760249396888, \"Avg_Cancel_Cost\": 5.87060612051034, \"Avg_Delay_Cost\": 2.163154128886548, \"Time Block\": \"1100-1159\"}, {\"Arrived\": 1107202, \"Disruption\": 19486, \"Total_Flights\": 1126688, \"Disrupt_Pct\": 1.7294938794058337, \"Avg_Profit\": 10.352530602970832, \"Avg_Total_Cost\": 8.647469397029168, \"Avg_Cancel_Cost\": 6.251508847169758, \"Avg_Delay_Cost\": 2.39596054985941, \"Time Block\": \"1200-1259\"}, {\"Arrived\": 1070103, \"Disruption\": 19394, \"Total_Flights\": 1089497, \"Disrupt_Pct\": 1.780087508272166, \"Avg_Profit\": 10.09956245863917, \"Avg_Total_Cost\": 8.90043754136083, \"Avg_Cancel_Cost\": 6.418099361448449, \"Avg_Delay_Cost\": 2.4823381799123814, \"Time Block\": \"1300-1359\"}, {\"Arrived\": 1022372, \"Disruption\": 20474, \"Total_Flights\": 1042846, \"Disrupt_Pct\": 1.9632812514983038, \"Avg_Profit\": 9.183593742508481, \"Avg_Total_Cost\": 9.816406257491519, \"Avg_Cancel_Cost\": 7.046582141562609, \"Avg_Delay_Cost\": 2.76982411592891, \"Time Block\": \"1400-1459\"}, {\"Arrived\": 1100000, \"Disruption\": 22993, \"Total_Flights\": 1122993, \"Disrupt_Pct\": 2.0474749174749975, \"Avg_Profit\": 8.762625412625011, \"Avg_Total_Cost\": 10.237374587374989, \"Avg_Cancel_Cost\": 7.279653568633108, \"Avg_Delay_Cost\": 2.9577210187418803, \"Time Block\": \"1500-1559\"}, {\"Arrived\": 1031587, \"Disruption\": 23180, \"Total_Flights\": 1054767, \"Disrupt_Pct\": 2.197641754055635, \"Avg_Profit\": 8.011791229721824, \"Avg_Total_Cost\": 10.988208770278176, \"Avg_Cancel_Cost\": 8.005085483334234, \"Avg_Delay_Cost\": 2.9831232869439415, \"Time Block\": \"1600-1659\"}, {\"Arrived\": 1186197, \"Disruption\": 29002, \"Total_Flights\": 1215199, \"Disrupt_Pct\": 2.3866049922687558, \"Avg_Profit\": 7.06697503865622, \"Avg_Total_Cost\": 11.93302496134378, \"Avg_Cancel_Cost\": 8.593242752833074, \"Avg_Delay_Cost\": 3.339782208510705, \"Time Block\": \"1700-1759\"}, {\"Arrived\": 1016222, \"Disruption\": 26345, \"Total_Flights\": 1042567, \"Disrupt_Pct\": 2.526935918746709, \"Avg_Profit\": 6.365320406266456, \"Avg_Total_Cost\": 12.634679593733544, \"Avg_Cancel_Cost\": 9.383569593129266, \"Avg_Delay_Cost\": 3.251110000604278, \"Time Block\": \"1800-1859\"}, {\"Arrived\": 980297, \"Disruption\": 24046, \"Total_Flights\": 1004343, \"Disrupt_Pct\": 2.394201980797397, \"Avg_Profit\": 7.028990096013016, \"Avg_Total_Cost\": 11.971009903986985, \"Avg_Cancel_Cost\": 8.994934997306697, \"Avg_Delay_Cost\": 2.9760749066802887, \"Time Block\": \"1900-1959\"}, {\"Arrived\": 854293, \"Disruption\": 20193, \"Total_Flights\": 874486, \"Disrupt_Pct\": 2.3091278762610266, \"Avg_Profit\": 7.454360618694867, \"Avg_Total_Cost\": 11.545639381305133, \"Avg_Cancel_Cost\": 8.977273506951512, \"Avg_Delay_Cost\": 2.5683658743536206, \"Time Block\": \"2000-2059\"}, {\"Arrived\": 543914, \"Disruption\": 12649, \"Total_Flights\": 556563, \"Disrupt_Pct\": 2.2726986881988203, \"Avg_Profit\": 7.636506559005899, \"Avg_Total_Cost\": 11.363493440994102, \"Avg_Cancel_Cost\": 9.080732998780013, \"Avg_Delay_Cost\": 2.282760442214089, \"Time Block\": \"2100-2159\"}, {\"Arrived\": 462836, \"Disruption\": 9800, \"Total_Flights\": 472636, \"Disrupt_Pct\": 2.073477263687066, \"Avg_Profit\": 8.63261368156467, \"Avg_Total_Cost\": 10.36738631843533, \"Avg_Cancel_Cost\": 8.335167020709383, \"Avg_Delay_Cost\": 2.0322192977259466, \"Time Block\": \"2200-2259\"}, {\"Arrived\": 144444, \"Disruption\": 2339, \"Total_Flights\": 146783, \"Disrupt_Pct\": 1.593508785077291, \"Avg_Profit\": 11.032456074613545, \"Avg_Total_Cost\": 7.967543925386455, \"Avg_Cancel_Cost\": 6.148532186969881, \"Avg_Delay_Cost\": 1.8190117384165738, \"Time Block\": \"2300-2359\"}]}};\n",
              "      var embedOpt = {\"mode\": \"vega-lite\"};\n",
              "\n",
              "      function showError(el, error){\n",
              "          el.innerHTML = ('<div class=\"error\" style=\"color:red;\">'\n",
              "                          + '<p>JavaScript Error: ' + error.message + '</p>'\n",
              "                          + \"<p>This usually means there's a typo in your chart specification. \"\n",
              "                          + \"See the javascript console for the full traceback.</p>\"\n",
              "                          + '</div>');\n",
              "          throw error;\n",
              "      }\n",
              "      const el = document.getElementById('altair-viz');\n",
              "      vegaEmbed(\"#altair-viz\", spec, embedOpt)\n",
              "        .catch(error => showError(el, error));\n",
              "\n",
              "  </script>\n",
              "</body>\n",
              "</html>"
            ]
          },
          "metadata": {
            "tags": []
          },
          "execution_count": 86
        }
      ]
    },
    {
      "metadata": {
        "id": "ce4t9CssPddZ",
        "colab_type": "code",
        "outputId": "df51e3c3-70de-4f9c-c321-483cbf2af5ee",
        "colab": {
          "base_uri": "https://localhost:8080/",
          "height": 624
        }
      },
      "cell_type": "code",
      "source": [
        "time_stats(arr_timblk_df, 'Disrupt_Pct', 'Disruption % by Scheduled Arrival Time Block')"
      ],
      "execution_count": 73,
      "outputs": [
        {
          "output_type": "execute_result",
          "data": {
            "text/plain": [
              "Chart({\n",
              "  config: Config({\n",
              "    axis: AxisConfig({\n",
              "      labelFontSize: 16,\n",
              "      titleFontSize: 14\n",
              "    }),\n",
              "    title: VgTitleConfig({\n",
              "      fontSize: 24\n",
              "    })\n",
              "  }),\n",
              "  data:             Arrived  Disruption  Total_Flights  Disrupt_Pct  Avg_Profit  \\\n",
              "  ArrTimeBlk                                                                \n",
              "  0            493511        9460         502971        1.881       9.596   \n",
              "  1            289818        6501         296319        2.194       8.030   \n",
              "  2            649131       14309         663440        2.157       8.216   \n",
              "  3            861349       16262         877611        1.853       9.735   \n",
              "  4           1057843       18618        1076461        1.730      10.352   \n",
              "  5           1096876       18128        1115004        1.626      10.871   \n",
              "  6           1077938       17144        1095082        1.566      11.172   \n",
              "  7           1046553       16364        1062917        1.540      11.302   \n",
              "  8           1071051       17400        1088451        1.599      11.007   \n",
              "  9           1089864       18946        1108810        1.709      10.457   \n",
              "  10          1019605       18572        1038177        1.789      10.055   \n",
              "  11          1179492       22327        1201819        1.858       9.711   \n",
              "  12          1080006       22773        1102779        2.065       8.675   \n",
              "  13          1103515       25341        1128856        2.245       7.776   \n",
              "  14          1092043       26528        1118571        2.372       7.142   \n",
              "  15          1045815       25574        1071389        2.387       7.065   \n",
              "  16          1128349       26154        1154503        2.265       7.673   \n",
              "  17           858355       20121         878476        2.290       7.548   \n",
              "  18           791327       18150         809477        2.242       7.789   \n",
              "  \n",
              "              Avg_Total_Cost  Avg_Cancel_Cost  Avg_Delay_Cost Time Block  \n",
              "  ArrTimeBlk                                                              \n",
              "  0                    9.404            7.284           2.120  0001-0559  \n",
              "  1                   10.970            7.851           3.118  0600-0659  \n",
              "  2                   10.784            8.003           2.781  0700-0759  \n",
              "  3                    9.265            7.004           2.261  0800-0859  \n",
              "  4                    8.648            6.645           2.003  0900-0959  \n",
              "  5                    8.129            6.365           1.764  1000-1059  \n",
              "  6                    7.828            5.963           1.864  1100-1159  \n",
              "  7                    7.698            5.896           1.802  1200-1259  \n",
              "  8                    7.993            5.990           2.003  1300-1359  \n",
              "  9                    8.543            6.203           2.341  1400-1459  \n",
              "  10                   8.945            6.570           2.374  1500-1559  \n",
              "  11                   9.289            6.684           2.605  1600-1659  \n",
              "  12                  10.325            7.542           2.783  1700-1759  \n",
              "  13                  11.224            8.167           3.057  1800-1859  \n",
              "  14                  11.858            8.519           3.339  1900-1959  \n",
              "  15                  11.935            8.663           3.272  2000-2059  \n",
              "  16                  11.327            8.286           3.041  2100-2159  \n",
              "  17                  11.452            8.553           2.899  2200-2259  \n",
              "  18                  11.211            8.714           2.497  2300-2359  ,\n",
              "  encoding: EncodingWithFacet({\n",
              "    color: Color({\n",
              "      legend: None,\n",
              "      scale: Scale({\n",
              "        scheme: 'viridis'\n",
              "      }),\n",
              "      shorthand: 'Time Block'\n",
              "    }),\n",
              "    x: X({\n",
              "      shorthand: 'Time Block'\n",
              "    }),\n",
              "    y: Y({\n",
              "      shorthand: 'Disrupt_Pct'\n",
              "    })\n",
              "  }),\n",
              "  height: 450,\n",
              "  mark: 'bar',\n",
              "  title: 'Disruption % by Scheduled Arrival Time Block',\n",
              "  width: 1100\n",
              "})"
            ],
            "text/html": [
              "<!DOCTYPE html>\n",
              "<html>\n",
              "<head>\n",
              "  <style>\n",
              "    .vega-actions a {\n",
              "        margin-right: 12px;\n",
              "        color: #757575;\n",
              "        font-weight: normal;\n",
              "        font-size: 13px;\n",
              "    }\n",
              "    .error {\n",
              "        color: red;\n",
              "    }\n",
              "  </style>\n",
              "  <script type=\"text/javascript\" src=\"https://cdn.jsdelivr.net/npm//vega@4\"></script>\n",
              "  <script type=\"text/javascript\" src=\"https://cdn.jsdelivr.net/npm//vega-lite@2.6.0\"></script>\n",
              "  <script type=\"text/javascript\" src=\"https://cdn.jsdelivr.net/npm//vega-embed@3\"></script>\n",
              "</head>\n",
              "<body>\n",
              "  <div id=\"altair-viz\"></div>\n",
              "  <script>\n",
              "      var spec = {\"config\": {\"view\": {\"width\": 400, \"height\": 300}, \"axis\": {\"labelFontSize\": 16, \"titleFontSize\": 14}, \"title\": {\"fontSize\": 24}}, \"data\": {\"name\": \"data-5e8c02d90822837902dbb0284ab6b491\"}, \"mark\": \"bar\", \"encoding\": {\"color\": {\"type\": \"nominal\", \"field\": \"Time Block\", \"legend\": null, \"scale\": {\"scheme\": \"viridis\"}}, \"x\": {\"type\": \"nominal\", \"field\": \"Time Block\"}, \"y\": {\"type\": \"quantitative\", \"field\": \"Disrupt_Pct\"}}, \"height\": 450, \"title\": \"Disruption % by Scheduled Arrival Time Block\", \"width\": 1100, \"$schema\": \"https://vega.github.io/schema/vega-lite/v2.6.0.json\", \"datasets\": {\"data-5e8c02d90822837902dbb0284ab6b491\": [{\"Arrived\": 493511, \"Disruption\": 9460, \"Total_Flights\": 502971, \"Disrupt_Pct\": 1.880824142942635, \"Avg_Profit\": 9.595879285286825, \"Avg_Total_Cost\": 9.404120714713175, \"Avg_Cancel_Cost\": 7.283720134958079, \"Avg_Delay_Cost\": 2.1204005797550955, \"Time Block\": \"0001-0559\"}, {\"Arrived\": 289818, \"Disruption\": 6501, \"Total_Flights\": 296319, \"Disrupt_Pct\": 2.1939193909266703, \"Avg_Profit\": 8.030403045366649, \"Avg_Total_Cost\": 10.969596954633351, \"Avg_Cancel_Cost\": 7.851335891387323, \"Avg_Delay_Cost\": 3.1182610632460284, \"Time Block\": \"0600-0659\"}, {\"Arrived\": 649131, \"Disruption\": 14309, \"Total_Flights\": 663440, \"Disrupt_Pct\": 2.1567888580730736, \"Avg_Profit\": 8.216055709634631, \"Avg_Total_Cost\": 10.783944290365369, \"Avg_Cancel_Cost\": 8.002984444712409, \"Avg_Delay_Cost\": 2.7809598456529603, \"Time Block\": \"0700-0759\"}, {\"Arrived\": 861349, \"Disruption\": 16262, \"Total_Flights\": 877611, \"Disrupt_Pct\": 1.8529849785383274, \"Avg_Profit\": 9.735075107308363, \"Avg_Total_Cost\": 9.264924892691637, \"Avg_Cancel_Cost\": 7.003672469921184, \"Avg_Delay_Cost\": 2.261252422770453, \"Time Block\": \"0800-0859\"}, {\"Arrived\": 1057843, \"Disruption\": 18618, \"Total_Flights\": 1076461, \"Disrupt_Pct\": 1.729556388944885, \"Avg_Profit\": 10.352218055275575, \"Avg_Total_Cost\": 8.647781944724425, \"Avg_Cancel_Cost\": 6.644922574993427, \"Avg_Delay_Cost\": 2.0028593697309978, \"Time Block\": \"0900-0959\"}, {\"Arrived\": 1096876, \"Disruption\": 18128, \"Total_Flights\": 1115004, \"Disrupt_Pct\": 1.6258237638609367, \"Avg_Profit\": 10.870881180695315, \"Avg_Total_Cost\": 8.129118819304685, \"Avg_Cancel_Cost\": 6.364999587445427, \"Avg_Delay_Cost\": 1.764119231859258, \"Time Block\": \"1000-1059\"}, {\"Arrived\": 1077938, \"Disruption\": 17144, \"Total_Flights\": 1095082, \"Disrupt_Pct\": 1.5655448633070401, \"Avg_Profit\": 11.1722756834648, \"Avg_Total_Cost\": 7.8277243165352, \"Avg_Cancel_Cost\": 5.96348036037484, \"Avg_Delay_Cost\": 1.8642439561603599, \"Time Block\": \"1100-1159\"}, {\"Arrived\": 1046553, \"Disruption\": 16364, \"Total_Flights\": 1062917, \"Disrupt_Pct\": 1.5395369534968393, \"Avg_Profit\": 11.302315232515804, \"Avg_Total_Cost\": 7.697684767484197, \"Avg_Cancel_Cost\": 5.895568515697839, \"Avg_Delay_Cost\": 1.8021162517863578, \"Time Block\": \"1200-1259\"}, {\"Arrived\": 1071051, \"Disruption\": 17400, \"Total_Flights\": 1088451, \"Disrupt_Pct\": 1.5986020500693188, \"Avg_Profit\": 11.006989749653407, \"Avg_Total_Cost\": 7.993010250346593, \"Avg_Cancel_Cost\": 5.98970463530283, \"Avg_Delay_Cost\": 2.0033056150437636, \"Time Block\": \"1300-1359\"}, {\"Arrived\": 1089864, \"Disruption\": 18946, \"Total_Flights\": 1108810, \"Disrupt_Pct\": 1.7086786735328867, \"Avg_Profit\": 10.456606632335568, \"Avg_Total_Cost\": 8.543393367664432, \"Avg_Cancel_Cost\": 6.20259557543673, \"Avg_Delay_Cost\": 2.3407977922277023, \"Time Block\": \"1400-1459\"}, {\"Arrived\": 1019605, \"Disruption\": 18572, \"Total_Flights\": 1038177, \"Disrupt_Pct\": 1.788904974777904, \"Avg_Profit\": 10.05547512611048, \"Avg_Total_Cost\": 8.94452487388952, \"Avg_Cancel_Cost\": 6.57017059711398, \"Avg_Delay_Cost\": 2.3743542767755406, \"Time Block\": \"1500-1559\"}, {\"Arrived\": 1179492, \"Disruption\": 22327, \"Total_Flights\": 1201819, \"Disrupt_Pct\": 1.857767267783252, \"Avg_Profit\": 9.71116366108374, \"Avg_Total_Cost\": 9.28883633891626, \"Avg_Cancel_Cost\": 6.68361874791462, \"Avg_Delay_Cost\": 2.60521759100164, \"Time Block\": \"1600-1659\"}, {\"Arrived\": 1080006, \"Disruption\": 22773, \"Total_Flights\": 1102779, \"Disrupt_Pct\": 2.065055645782156, \"Avg_Profit\": 8.67472177108922, \"Avg_Total_Cost\": 10.32527822891078, \"Avg_Cancel_Cost\": 7.542309021118465, \"Avg_Delay_Cost\": 2.7829692077923145, \"Time Block\": \"1700-1759\"}, {\"Arrived\": 1103515, \"Disruption\": 25341, \"Total_Flights\": 1128856, \"Disrupt_Pct\": 2.2448390228691704, \"Avg_Profit\": 7.775804885654149, \"Avg_Total_Cost\": 11.224195114345852, \"Avg_Cancel_Cost\": 8.16711786091406, \"Avg_Delay_Cost\": 3.0570772534317925, \"Time Block\": \"1800-1859\"}, {\"Arrived\": 1092043, \"Disruption\": 26528, \"Total_Flights\": 1118571, \"Disrupt_Pct\": 2.3715973326681987, \"Avg_Profit\": 7.142013336659005, \"Avg_Total_Cost\": 11.857986663340995, \"Avg_Cancel_Cost\": 8.519351923123343, \"Avg_Delay_Cost\": 3.3386347402176515, \"Time Block\": \"1900-1959\"}, {\"Arrived\": 1045815, \"Disruption\": 25574, \"Total_Flights\": 1071389, \"Disrupt_Pct\": 2.386994826342253, \"Avg_Profit\": 7.0650258682887355, \"Avg_Total_Cost\": 11.934974131711265, \"Avg_Cancel_Cost\": 8.662586604865272, \"Avg_Delay_Cost\": 3.2723875268459928, \"Time Block\": \"2000-2059\"}, {\"Arrived\": 1128349, \"Disruption\": 26154, \"Total_Flights\": 1154503, \"Disrupt_Pct\": 2.2653903887646893, \"Avg_Profit\": 7.673048056176554, \"Avg_Total_Cost\": 11.326951943823445, \"Avg_Cancel_Cost\": 8.286249580988528, \"Avg_Delay_Cost\": 3.0407023628349172, \"Time Block\": \"2100-2159\"}, {\"Arrived\": 858355, \"Disruption\": 20121, \"Total_Flights\": 878476, \"Disrupt_Pct\": 2.2904439051266055, \"Avg_Profit\": 7.547780474366972, \"Avg_Total_Cost\": 11.452219525633028, \"Avg_Cancel_Cost\": 8.55288021528192, \"Avg_Delay_Cost\": 2.899339310351108, \"Time Block\": \"2200-2259\"}, {\"Arrived\": 791327, \"Disruption\": 18150, \"Total_Flights\": 809477, \"Disrupt_Pct\": 2.24218847478063, \"Avg_Profit\": 7.7890576260968505, \"Avg_Total_Cost\": 11.21094237390315, \"Avg_Cancel_Cost\": 8.713650912873375, \"Avg_Delay_Cost\": 2.497291461029775, \"Time Block\": \"2300-2359\"}]}};\n",
              "      var embedOpt = {\"mode\": \"vega-lite\"};\n",
              "\n",
              "      function showError(el, error){\n",
              "          el.innerHTML = ('<div class=\"error\" style=\"color:red;\">'\n",
              "                          + '<p>JavaScript Error: ' + error.message + '</p>'\n",
              "                          + \"<p>This usually means there's a typo in your chart specification. \"\n",
              "                          + \"See the javascript console for the full traceback.</p>\"\n",
              "                          + '</div>');\n",
              "          throw error;\n",
              "      }\n",
              "      const el = document.getElementById('altair-viz');\n",
              "      vegaEmbed(\"#altair-viz\", spec, embedOpt)\n",
              "        .catch(error => showError(el, error));\n",
              "\n",
              "  </script>\n",
              "</body>\n",
              "</html>"
            ]
          },
          "metadata": {
            "tags": []
          },
          "execution_count": 73
        }
      ]
    },
    {
      "metadata": {
        "id": "ecqICcWkP1Hn",
        "colab_type": "code",
        "outputId": "f088cf34-8f85-4b8a-f613-1829a151e056",
        "colab": {
          "base_uri": "https://localhost:8080/",
          "height": 624
        }
      },
      "cell_type": "code",
      "source": [
        "time_stats(dep_timblk_df, 'Avg_Total_Cost', 'Average Disruption Cost per Customer by Takeoff Time Block')"
      ],
      "execution_count": 74,
      "outputs": [
        {
          "output_type": "execute_result",
          "data": {
            "text/plain": [
              "Chart({\n",
              "  config: Config({\n",
              "    axis: AxisConfig({\n",
              "      labelFontSize: 16,\n",
              "      titleFontSize: 14\n",
              "    }),\n",
              "    title: VgTitleConfig({\n",
              "      fontSize: 24\n",
              "    })\n",
              "  }),\n",
              "  data:             Arrived  Disruption  Total_Flights  Disrupt_Pct  Avg_Profit  \\\n",
              "  DepTimeBlk                                                                \n",
              "  0            490070       11042         501112        2.203       7.983   \n",
              "  1           1272256       25152        1297408        1.939       9.307   \n",
              "  2           1228004       20801        1248805        1.666      10.672   \n",
              "  3           1208178       19628        1227806        1.599      11.007   \n",
              "  4           1082024       16659        1098683        1.516      11.419   \n",
              "  5           1107573       17120        1124693        1.522      11.389   \n",
              "  6           1124869       18369        1143238        1.607      10.966   \n",
              "  7           1107202       19486        1126688        1.729      10.353   \n",
              "  8           1070103       19394        1089497        1.780      10.100   \n",
              "  9           1022372       20474        1042846        1.963       9.184   \n",
              "  10          1100000       22993        1122993        2.047       8.763   \n",
              "  11          1031587       23180        1054767        2.198       8.012   \n",
              "  12          1186197       29002        1215199        2.387       7.067   \n",
              "  13          1016222       26345        1042567        2.527       6.365   \n",
              "  14           980297       24046        1004343        2.394       7.029   \n",
              "  15           854293       20193         874486        2.309       7.454   \n",
              "  16           543914       12649         556563        2.273       7.637   \n",
              "  17           462836        9800         472636        2.073       8.633   \n",
              "  18           144444        2339         146783        1.594      11.032   \n",
              "  \n",
              "              Avg_Total_Cost  Avg_Cancel_Cost  Avg_Delay_Cost Time Block  \n",
              "  DepTimeBlk                                                              \n",
              "  0                   11.017            8.188           2.830  0001-0559  \n",
              "  1                    9.693            7.132           2.562  0600-0659  \n",
              "  2                    8.328            6.327           2.002  0700-0759  \n",
              "  3                    7.993            6.059           1.934  0800-0859  \n",
              "  4                    7.581            5.776           1.806  0900-0959  \n",
              "  5                    7.611            5.746           1.865  1000-1059  \n",
              "  6                    8.034            5.871           2.163  1100-1159  \n",
              "  7                    8.647            6.252           2.396  1200-1259  \n",
              "  8                    8.900            6.418           2.482  1300-1359  \n",
              "  9                    9.816            7.047           2.770  1400-1459  \n",
              "  10                  10.237            7.280           2.958  1500-1559  \n",
              "  11                  10.988            8.005           2.983  1600-1659  \n",
              "  12                  11.933            8.593           3.340  1700-1759  \n",
              "  13                  12.635            9.384           3.251  1800-1859  \n",
              "  14                  11.971            8.995           2.976  1900-1959  \n",
              "  15                  11.546            8.977           2.568  2000-2059  \n",
              "  16                  11.363            9.081           2.283  2100-2159  \n",
              "  17                  10.367            8.335           2.032  2200-2259  \n",
              "  18                   7.968            6.149           1.819  2300-2359  ,\n",
              "  encoding: EncodingWithFacet({\n",
              "    color: Color({\n",
              "      legend: None,\n",
              "      scale: Scale({\n",
              "        scheme: 'viridis'\n",
              "      }),\n",
              "      shorthand: 'Time Block'\n",
              "    }),\n",
              "    x: X({\n",
              "      shorthand: 'Time Block'\n",
              "    }),\n",
              "    y: Y({\n",
              "      shorthand: 'Avg_Total_Cost'\n",
              "    })\n",
              "  }),\n",
              "  height: 450,\n",
              "  mark: 'bar',\n",
              "  title: 'Average Disruption Cost per Customer by Takeoff Time Block',\n",
              "  width: 1100\n",
              "})"
            ],
            "text/html": [
              "<!DOCTYPE html>\n",
              "<html>\n",
              "<head>\n",
              "  <style>\n",
              "    .vega-actions a {\n",
              "        margin-right: 12px;\n",
              "        color: #757575;\n",
              "        font-weight: normal;\n",
              "        font-size: 13px;\n",
              "    }\n",
              "    .error {\n",
              "        color: red;\n",
              "    }\n",
              "  </style>\n",
              "  <script type=\"text/javascript\" src=\"https://cdn.jsdelivr.net/npm//vega@4\"></script>\n",
              "  <script type=\"text/javascript\" src=\"https://cdn.jsdelivr.net/npm//vega-lite@2.6.0\"></script>\n",
              "  <script type=\"text/javascript\" src=\"https://cdn.jsdelivr.net/npm//vega-embed@3\"></script>\n",
              "</head>\n",
              "<body>\n",
              "  <div id=\"altair-viz\"></div>\n",
              "  <script>\n",
              "      var spec = {\"config\": {\"view\": {\"width\": 400, \"height\": 300}, \"axis\": {\"labelFontSize\": 16, \"titleFontSize\": 14}, \"title\": {\"fontSize\": 24}}, \"data\": {\"name\": \"data-7d5c4fb54779f6a4af041693ef98e111\"}, \"mark\": \"bar\", \"encoding\": {\"color\": {\"type\": \"nominal\", \"field\": \"Time Block\", \"legend\": null, \"scale\": {\"scheme\": \"viridis\"}}, \"x\": {\"type\": \"nominal\", \"field\": \"Time Block\"}, \"y\": {\"type\": \"quantitative\", \"field\": \"Avg_Total_Cost\"}}, \"height\": 450, \"title\": \"Average Disruption Cost per Customer by Takeoff Time Block\", \"width\": 1100, \"$schema\": \"https://vega.github.io/schema/vega-lite/v2.6.0.json\", \"datasets\": {\"data-7d5c4fb54779f6a4af041693ef98e111\": [{\"Arrived\": 490070, \"Disruption\": 11042, \"Total_Flights\": 501112, \"Disrupt_Pct\": 2.203499417295934, \"Avg_Profit\": 7.982502913520331, \"Avg_Total_Cost\": 11.017497086479668, \"Avg_Cancel_Cost\": 8.187790354252144, \"Avg_Delay_Cost\": 2.8297067322275247, \"Time Block\": \"0001-0559\"}, {\"Arrived\": 1272256, \"Disruption\": 25152, \"Total_Flights\": 1297408, \"Disrupt_Pct\": 1.9386345698500396, \"Avg_Profit\": 9.306827150749802, \"Avg_Total_Cost\": 9.693172849250198, \"Avg_Cancel_Cost\": 7.1315268597079715, \"Avg_Delay_Cost\": 2.5616459895422263, \"Time Block\": \"0600-0659\"}, {\"Arrived\": 1228004, \"Disruption\": 20801, \"Total_Flights\": 1248805, \"Disrupt_Pct\": 1.6656723827979547, \"Avg_Profit\": 10.671638086010226, \"Avg_Total_Cost\": 8.328361913989774, \"Avg_Cancel_Cost\": 6.326848467134581, \"Avg_Delay_Cost\": 2.001513446855193, \"Time Block\": \"0700-0759\"}, {\"Arrived\": 1208178, \"Disruption\": 19628, \"Total_Flights\": 1227806, \"Disrupt_Pct\": 1.5986238868355425, \"Avg_Profit\": 11.006880565822287, \"Avg_Total_Cost\": 7.9931194341777125, \"Avg_Cancel_Cost\": 6.0587747575757085, \"Avg_Delay_Cost\": 1.934344676602004, \"Time Block\": \"0800-0859\"}, {\"Arrived\": 1082024, \"Disruption\": 16659, \"Total_Flights\": 1098683, \"Disrupt_Pct\": 1.5162699340938195, \"Avg_Profit\": 11.418650329530902, \"Avg_Total_Cost\": 7.581349670469098, \"Avg_Cancel_Cost\": 5.775551273661283, \"Avg_Delay_Cost\": 1.8057983968078153, \"Time Block\": \"0900-0959\"}, {\"Arrived\": 1107573, \"Disruption\": 17120, \"Total_Flights\": 1124693, \"Disrupt_Pct\": 1.5221931673798983, \"Avg_Profit\": 11.389034163100508, \"Avg_Total_Cost\": 7.610965836899491, \"Avg_Cancel_Cost\": 5.746457033163717, \"Avg_Delay_Cost\": 1.8645088037357747, \"Time Block\": \"1000-1059\"}, {\"Arrived\": 1124869, \"Disruption\": 18369, \"Total_Flights\": 1143238, \"Disrupt_Pct\": 1.6067520498793775, \"Avg_Profit\": 10.966239750603112, \"Avg_Total_Cost\": 8.033760249396888, \"Avg_Cancel_Cost\": 5.87060612051034, \"Avg_Delay_Cost\": 2.163154128886548, \"Time Block\": \"1100-1159\"}, {\"Arrived\": 1107202, \"Disruption\": 19486, \"Total_Flights\": 1126688, \"Disrupt_Pct\": 1.7294938794058337, \"Avg_Profit\": 10.352530602970832, \"Avg_Total_Cost\": 8.647469397029168, \"Avg_Cancel_Cost\": 6.251508847169758, \"Avg_Delay_Cost\": 2.39596054985941, \"Time Block\": \"1200-1259\"}, {\"Arrived\": 1070103, \"Disruption\": 19394, \"Total_Flights\": 1089497, \"Disrupt_Pct\": 1.780087508272166, \"Avg_Profit\": 10.09956245863917, \"Avg_Total_Cost\": 8.90043754136083, \"Avg_Cancel_Cost\": 6.418099361448449, \"Avg_Delay_Cost\": 2.4823381799123814, \"Time Block\": \"1300-1359\"}, {\"Arrived\": 1022372, \"Disruption\": 20474, \"Total_Flights\": 1042846, \"Disrupt_Pct\": 1.9632812514983038, \"Avg_Profit\": 9.183593742508481, \"Avg_Total_Cost\": 9.816406257491519, \"Avg_Cancel_Cost\": 7.046582141562609, \"Avg_Delay_Cost\": 2.76982411592891, \"Time Block\": \"1400-1459\"}, {\"Arrived\": 1100000, \"Disruption\": 22993, \"Total_Flights\": 1122993, \"Disrupt_Pct\": 2.0474749174749975, \"Avg_Profit\": 8.762625412625011, \"Avg_Total_Cost\": 10.237374587374989, \"Avg_Cancel_Cost\": 7.279653568633108, \"Avg_Delay_Cost\": 2.9577210187418803, \"Time Block\": \"1500-1559\"}, {\"Arrived\": 1031587, \"Disruption\": 23180, \"Total_Flights\": 1054767, \"Disrupt_Pct\": 2.197641754055635, \"Avg_Profit\": 8.011791229721824, \"Avg_Total_Cost\": 10.988208770278176, \"Avg_Cancel_Cost\": 8.005085483334234, \"Avg_Delay_Cost\": 2.9831232869439415, \"Time Block\": \"1600-1659\"}, {\"Arrived\": 1186197, \"Disruption\": 29002, \"Total_Flights\": 1215199, \"Disrupt_Pct\": 2.3866049922687558, \"Avg_Profit\": 7.06697503865622, \"Avg_Total_Cost\": 11.93302496134378, \"Avg_Cancel_Cost\": 8.593242752833074, \"Avg_Delay_Cost\": 3.339782208510705, \"Time Block\": \"1700-1759\"}, {\"Arrived\": 1016222, \"Disruption\": 26345, \"Total_Flights\": 1042567, \"Disrupt_Pct\": 2.526935918746709, \"Avg_Profit\": 6.365320406266456, \"Avg_Total_Cost\": 12.634679593733544, \"Avg_Cancel_Cost\": 9.383569593129266, \"Avg_Delay_Cost\": 3.251110000604278, \"Time Block\": \"1800-1859\"}, {\"Arrived\": 980297, \"Disruption\": 24046, \"Total_Flights\": 1004343, \"Disrupt_Pct\": 2.394201980797397, \"Avg_Profit\": 7.028990096013016, \"Avg_Total_Cost\": 11.971009903986985, \"Avg_Cancel_Cost\": 8.994934997306697, \"Avg_Delay_Cost\": 2.9760749066802887, \"Time Block\": \"1900-1959\"}, {\"Arrived\": 854293, \"Disruption\": 20193, \"Total_Flights\": 874486, \"Disrupt_Pct\": 2.3091278762610266, \"Avg_Profit\": 7.454360618694867, \"Avg_Total_Cost\": 11.545639381305133, \"Avg_Cancel_Cost\": 8.977273506951512, \"Avg_Delay_Cost\": 2.5683658743536206, \"Time Block\": \"2000-2059\"}, {\"Arrived\": 543914, \"Disruption\": 12649, \"Total_Flights\": 556563, \"Disrupt_Pct\": 2.2726986881988203, \"Avg_Profit\": 7.636506559005899, \"Avg_Total_Cost\": 11.363493440994102, \"Avg_Cancel_Cost\": 9.080732998780013, \"Avg_Delay_Cost\": 2.282760442214089, \"Time Block\": \"2100-2159\"}, {\"Arrived\": 462836, \"Disruption\": 9800, \"Total_Flights\": 472636, \"Disrupt_Pct\": 2.073477263687066, \"Avg_Profit\": 8.63261368156467, \"Avg_Total_Cost\": 10.36738631843533, \"Avg_Cancel_Cost\": 8.335167020709383, \"Avg_Delay_Cost\": 2.0322192977259466, \"Time Block\": \"2200-2259\"}, {\"Arrived\": 144444, \"Disruption\": 2339, \"Total_Flights\": 146783, \"Disrupt_Pct\": 1.593508785077291, \"Avg_Profit\": 11.032456074613545, \"Avg_Total_Cost\": 7.967543925386455, \"Avg_Cancel_Cost\": 6.148532186969881, \"Avg_Delay_Cost\": 1.8190117384165738, \"Time Block\": \"2300-2359\"}]}};\n",
              "      var embedOpt = {\"mode\": \"vega-lite\"};\n",
              "\n",
              "      function showError(el, error){\n",
              "          el.innerHTML = ('<div class=\"error\" style=\"color:red;\">'\n",
              "                          + '<p>JavaScript Error: ' + error.message + '</p>'\n",
              "                          + \"<p>This usually means there's a typo in your chart specification. \"\n",
              "                          + \"See the javascript console for the full traceback.</p>\"\n",
              "                          + '</div>');\n",
              "          throw error;\n",
              "      }\n",
              "      const el = document.getElementById('altair-viz');\n",
              "      vegaEmbed(\"#altair-viz\", spec, embedOpt)\n",
              "        .catch(error => showError(el, error));\n",
              "\n",
              "  </script>\n",
              "</body>\n",
              "</html>"
            ]
          },
          "metadata": {
            "tags": []
          },
          "execution_count": 74
        }
      ]
    },
    {
      "metadata": {
        "id": "fH2dnadxRIrZ",
        "colab_type": "text"
      },
      "cell_type": "markdown",
      "source": [
        "# Distance Stats Visualizations"
      ]
    },
    {
      "metadata": {
        "id": "mpaMwHL0_Jy_",
        "colab_type": "code",
        "colab": {}
      },
      "cell_type": "code",
      "source": [
        "distance_order_list = list(inv_distance_dict.values())"
      ],
      "execution_count": 0,
      "outputs": []
    },
    {
      "metadata": {
        "id": "gf9g_9qc_MxR",
        "colab_type": "code",
        "outputId": "4114f8f9-4d0a-46c2-bcce-dbea7b898f57",
        "colab": {
          "base_uri": "https://localhost:8080/",
          "height": 214
        }
      },
      "cell_type": "code",
      "source": [
        "distance_order_list"
      ],
      "execution_count": 66,
      "outputs": [
        {
          "output_type": "execute_result",
          "data": {
            "text/plain": [
              "['0-249 Miles',\n",
              " '250-499 Miles',\n",
              " '500-749 Miles',\n",
              " '750-999 Miles',\n",
              " '1000-1249 Miles',\n",
              " '1250-1499 Miles',\n",
              " '1500-1749 Miles',\n",
              " '1750-1999 Miles',\n",
              " '2000-2249 Miles',\n",
              " '2250-2499 Miles',\n",
              " '2500+ Miles']"
            ]
          },
          "metadata": {
            "tags": []
          },
          "execution_count": 66
        }
      ]
    },
    {
      "metadata": {
        "id": "sTQ9g4NxRLNF",
        "colab_type": "code",
        "colab": {}
      },
      "cell_type": "code",
      "source": [
        "# plot distance stats with altair\n",
        "def distance_stats(feature, title_text=\"\"): \n",
        "    bars = alt.Chart(distance_df, title=title_text, height=450, width=1100).configure_title(fontSize=24).mark_bar().encode(\n",
        "        x = alt.X('Distance Group', sort=distance_order_list), \n",
        "        y = feature, \n",
        "        color = alt.Color('Distance Group', legend=None, scale=alt.Scale(scheme='viridis'))).configure_axis(\n",
        "    labelFontSize=14,\n",
        "    titleFontSize=14\n",
        ")\n",
        "    \n",
        "    return bars"
      ],
      "execution_count": 0,
      "outputs": []
    },
    {
      "metadata": {
        "id": "kdDNsi4IRiYS",
        "colab_type": "code",
        "outputId": "e6536a1d-e1bf-41c7-dddf-f782f42750cf",
        "colab": {
          "base_uri": "https://localhost:8080/",
          "height": 651
        }
      },
      "cell_type": "code",
      "source": [
        "distance_stats('Avg_Total_Cost', 'Disruption Costs per Customer by Distance Group')"
      ],
      "execution_count": 70,
      "outputs": [
        {
          "output_type": "execute_result",
          "data": {
            "text/plain": [
              "Chart({\n",
              "  config: Config({\n",
              "    axis: AxisConfig({\n",
              "      labelFontSize: 14,\n",
              "      titleFontSize: 14\n",
              "    }),\n",
              "    title: VgTitleConfig({\n",
              "      fontSize: 24\n",
              "    })\n",
              "  }),\n",
              "  data:                Arrived  Disruption  Total_Flights  Disrupt_Pct  Avg_Profit  \\\n",
              "  DistanceGroup                                                                \n",
              "  1              2220032       55774        2275806        2.451       6.746   \n",
              "  2              4257904       95282        4353186        2.189       8.056   \n",
              "  3              3522153       72191        3594344        2.008       8.958   \n",
              "  4              2776120       51349        2827469        1.816       9.920   \n",
              "  5              1898156       37786        1935942        1.952       9.241   \n",
              "  6               814149       12288         826437        1.487      11.566   \n",
              "  7               878030       12523         890553        1.406      11.969   \n",
              "  8               446729        4745         451474        1.051      13.745   \n",
              "  9               311365        4047         315412        1.283      12.585   \n",
              "  10              522570        7357         529927        1.388      12.058   \n",
              "  11              385233        5330         390563        1.365      12.177   \n",
              "  \n",
              "                 Avg_Total_Cost  Avg_Cancel_Cost  Avg_Delay_Cost  \\\n",
              "  DistanceGroup                                                    \n",
              "  1                      12.254            9.695           2.559   \n",
              "  2                      10.944            8.608           2.336   \n",
              "  3                      10.042            7.468           2.574   \n",
              "  4                       9.080            6.548           2.533   \n",
              "  5                       9.759            6.913           2.846   \n",
              "  6                       7.434            5.270           2.164   \n",
              "  7                       7.031            4.650           2.381   \n",
              "  8                       5.255            3.312           1.943   \n",
              "  9                       6.415            4.150           2.265   \n",
              "  10                      6.942            4.298           2.644   \n",
              "  11                      6.823            3.508           3.316   \n",
              "  \n",
              "                  Distance Group  \n",
              "  DistanceGroup                   \n",
              "  1                  0-249 Miles  \n",
              "  2                250-499 Miles  \n",
              "  3                500-749 Miles  \n",
              "  4                750-999 Miles  \n",
              "  5              1000-1249 Miles  \n",
              "  6              1250-1499 Miles  \n",
              "  7              1500-1749 Miles  \n",
              "  8              1750-1999 Miles  \n",
              "  9              2000-2249 Miles  \n",
              "  10             2250-2499 Miles  \n",
              "  11                 2500+ Miles  ,\n",
              "  encoding: EncodingWithFacet({\n",
              "    color: Color({\n",
              "      legend: None,\n",
              "      scale: Scale({\n",
              "        scheme: 'viridis'\n",
              "      }),\n",
              "      shorthand: 'Distance Group'\n",
              "    }),\n",
              "    x: X({\n",
              "      shorthand: 'Distance Group',\n",
              "      sort: ['0-249 Miles', '250-499 Miles', '500-749 Miles', '750-999 Miles', '1000-1249 Miles', '1250-1499 Miles', '1500-1749 Miles', '1750-1999 Miles', '2000-2249 Miles', '2250-2499 Miles', '2500+ Miles']\n",
              "    }),\n",
              "    y: Y({\n",
              "      shorthand: 'Avg_Total_Cost'\n",
              "    })\n",
              "  }),\n",
              "  height: 450,\n",
              "  mark: 'bar',\n",
              "  title: 'Disruption Costs per Customer by Distance Group',\n",
              "  width: 1100\n",
              "})"
            ],
            "text/html": [
              "<!DOCTYPE html>\n",
              "<html>\n",
              "<head>\n",
              "  <style>\n",
              "    .vega-actions a {\n",
              "        margin-right: 12px;\n",
              "        color: #757575;\n",
              "        font-weight: normal;\n",
              "        font-size: 13px;\n",
              "    }\n",
              "    .error {\n",
              "        color: red;\n",
              "    }\n",
              "  </style>\n",
              "  <script type=\"text/javascript\" src=\"https://cdn.jsdelivr.net/npm//vega@4\"></script>\n",
              "  <script type=\"text/javascript\" src=\"https://cdn.jsdelivr.net/npm//vega-lite@2.6.0\"></script>\n",
              "  <script type=\"text/javascript\" src=\"https://cdn.jsdelivr.net/npm//vega-embed@3\"></script>\n",
              "</head>\n",
              "<body>\n",
              "  <div id=\"altair-viz\"></div>\n",
              "  <script>\n",
              "      var spec = {\"config\": {\"view\": {\"width\": 400, \"height\": 300}, \"axis\": {\"labelFontSize\": 14, \"titleFontSize\": 14}, \"title\": {\"fontSize\": 24}}, \"data\": {\"name\": \"data-15032a8d706b0f43eb74e27677fe27ae\"}, \"mark\": \"bar\", \"encoding\": {\"color\": {\"type\": \"nominal\", \"field\": \"Distance Group\", \"legend\": null, \"scale\": {\"scheme\": \"viridis\"}}, \"x\": {\"type\": \"nominal\", \"field\": \"Distance Group\", \"sort\": [\"0-249 Miles\", \"250-499 Miles\", \"500-749 Miles\", \"750-999 Miles\", \"1000-1249 Miles\", \"1250-1499 Miles\", \"1500-1749 Miles\", \"1750-1999 Miles\", \"2000-2249 Miles\", \"2250-2499 Miles\", \"2500+ Miles\"]}, \"y\": {\"type\": \"quantitative\", \"field\": \"Avg_Total_Cost\"}}, \"height\": 450, \"title\": \"Disruption Costs per Customer by Distance Group\", \"width\": 1100, \"$schema\": \"https://vega.github.io/schema/vega-lite/v2.6.0.json\", \"datasets\": {\"data-15032a8d706b0f43eb74e27677fe27ae\": [{\"Arrived\": 2220032, \"Disruption\": 55774, \"Total_Flights\": 2275806, \"Disrupt_Pct\": 2.4507361348023515, \"Avg_Profit\": 6.746319325988243, \"Avg_Total_Cost\": 12.253680674011756, \"Avg_Cancel_Cost\": 9.694807026609473, \"Avg_Delay_Cost\": 2.558873647402283, \"Distance Group\": \"0-249 Miles\"}, {\"Arrived\": 4257904, \"Disruption\": 95282, \"Total_Flights\": 4353186, \"Disrupt_Pct\": 2.1887877062914383, \"Avg_Profit\": 8.05606146854281, \"Avg_Total_Cost\": 10.94393853145719, \"Avg_Cancel_Cost\": 8.608063151907592, \"Avg_Delay_Cost\": 2.3358753795495986, \"Distance Group\": \"250-499 Miles\"}, {\"Arrived\": 3522153, \"Disruption\": 72191, \"Total_Flights\": 3594344, \"Disrupt_Pct\": 2.0084610710605326, \"Avg_Profit\": 8.957694644697336, \"Avg_Total_Cost\": 10.042305355302664, \"Avg_Cancel_Cost\": 7.4682612460020525, \"Avg_Delay_Cost\": 2.574044109300612, \"Distance Group\": \"500-749 Miles\"}, {\"Arrived\": 2776120, \"Disruption\": 51349, \"Total_Flights\": 2827469, \"Disrupt_Pct\": 1.8160764980977688, \"Avg_Profit\": 9.919617509511156, \"Avg_Total_Cost\": 9.080382490488844, \"Avg_Cancel_Cost\": 6.547551891815613, \"Avg_Delay_Cost\": 2.5328305986732316, \"Distance Group\": \"750-999 Miles\"}, {\"Arrived\": 1898156, \"Disruption\": 37786, \"Total_Flights\": 1935942, \"Disrupt_Pct\": 1.9518146721337726, \"Avg_Profit\": 9.240926639331137, \"Avg_Total_Cost\": 9.759073360668863, \"Avg_Cancel_Cost\": 6.9129137133240555, \"Avg_Delay_Cost\": 2.846159647344807, \"Distance Group\": \"1000-1249 Miles\"}, {\"Arrived\": 814149, \"Disruption\": 12288, \"Total_Flights\": 826437, \"Disrupt_Pct\": 1.4868646974905528, \"Avg_Profit\": 11.565676512547236, \"Avg_Total_Cost\": 7.434323487452764, \"Avg_Cancel_Cost\": 5.270214184505292, \"Avg_Delay_Cost\": 2.1641093029474723, \"Distance Group\": \"1250-1499 Miles\"}, {\"Arrived\": 878030, \"Disruption\": 12523, \"Total_Flights\": 890553, \"Disrupt_Pct\": 1.406204908635421, \"Avg_Profit\": 11.968975456822896, \"Avg_Total_Cost\": 7.031024543177105, \"Avg_Cancel_Cost\": 4.650481217850033, \"Avg_Delay_Cost\": 2.3805433253270714, \"Distance Group\": \"1500-1749 Miles\"}, {\"Arrived\": 446729, \"Disruption\": 4745, \"Total_Flights\": 451474, \"Disrupt_Pct\": 1.051001829562721, \"Avg_Profit\": 13.744990852186394, \"Avg_Total_Cost\": 5.255009147813606, \"Avg_Cancel_Cost\": 3.312483110876817, \"Avg_Delay_Cost\": 1.9425260369367892, \"Distance Group\": \"1750-1999 Miles\"}, {\"Arrived\": 311365, \"Disruption\": 4047, \"Total_Flights\": 315412, \"Disrupt_Pct\": 1.2830837127312846, \"Avg_Profit\": 12.584581436343576, \"Avg_Total_Cost\": 6.415418563656424, \"Avg_Cancel_Cost\": 4.15012745234804, \"Avg_Delay_Cost\": 2.2652911113083833, \"Distance Group\": \"2000-2249 Miles\"}, {\"Arrived\": 522570, \"Disruption\": 7357, \"Total_Flights\": 529927, \"Disrupt_Pct\": 1.388304426836149, \"Avg_Profit\": 12.058477865819254, \"Avg_Total_Cost\": 6.941522134180746, \"Avg_Cancel_Cost\": 4.297761767186801, \"Avg_Delay_Cost\": 2.643760366993945, \"Distance Group\": \"2250-2499 Miles\"}, {\"Arrived\": 385233, \"Disruption\": 5330, \"Total_Flights\": 390563, \"Disrupt_Pct\": 1.3646966046450892, \"Avg_Profit\": 12.176516976774554, \"Avg_Total_Cost\": 6.823483023225446, \"Avg_Cancel_Cost\": 3.507756751151543, \"Avg_Delay_Cost\": 3.315726272073903, \"Distance Group\": \"2500+ Miles\"}]}};\n",
              "      var embedOpt = {\"mode\": \"vega-lite\"};\n",
              "\n",
              "      function showError(el, error){\n",
              "          el.innerHTML = ('<div class=\"error\" style=\"color:red;\">'\n",
              "                          + '<p>JavaScript Error: ' + error.message + '</p>'\n",
              "                          + \"<p>This usually means there's a typo in your chart specification. \"\n",
              "                          + \"See the javascript console for the full traceback.</p>\"\n",
              "                          + '</div>');\n",
              "          throw error;\n",
              "      }\n",
              "      const el = document.getElementById('altair-viz');\n",
              "      vegaEmbed(\"#altair-viz\", spec, embedOpt)\n",
              "        .catch(error => showError(el, error));\n",
              "\n",
              "  </script>\n",
              "</body>\n",
              "</html>"
            ]
          },
          "metadata": {
            "tags": []
          },
          "execution_count": 70
        }
      ]
    },
    {
      "metadata": {
        "id": "M-bTjKqCc4Ok",
        "colab_type": "text"
      },
      "cell_type": "markdown",
      "source": [
        "# Other Disruption Rate Visualizations"
      ]
    },
    {
      "metadata": {
        "id": "UJqknRArQMak",
        "colab_type": "code",
        "colab": {}
      },
      "cell_type": "code",
      "source": [
        "other_df_list = [year_df, quarter_df, dayofweek_df]"
      ],
      "execution_count": 0,
      "outputs": []
    },
    {
      "metadata": {
        "id": "8nuPCDC1e-3o",
        "colab_type": "code",
        "colab": {}
      },
      "cell_type": "code",
      "source": [
        "def disrupt_rate_viz(list):\n",
        "    for i in list:\n",
        "        plt.figure(figsize=(12,7))\n",
        "        sns.barplot(data=i, y='Disrupt_Pct', x=i.index)\n",
        "        plt.title('Disruption Percentage by ' + str(i.index.name));\n",
        "        \n",
        "def average_disrupt_cost_viz(list):\n",
        "    for i in list:\n",
        "        plt.figure(figsize=(12,7))\n",
        "        sns.barplot(data=i, y='Avg_Total_Cost', x=i.index)\n",
        "        plt.title('Average Disruption Cost per Customer by ' + str(i.index.name));"
      ],
      "execution_count": 0,
      "outputs": []
    },
    {
      "metadata": {
        "id": "S6p2sD64cYCq",
        "colab_type": "code",
        "colab": {}
      },
      "cell_type": "code",
      "source": [
        "# def average_delay_cost_viz(list):\n",
        "#     for i in list:\n",
        "#         plt.figure(figsize=(12,7))\n",
        "#         sns.barplot(data=i, y='Avg_Delay_Cost', x=i.index)\n",
        "#         plt.title('Average Delay Cost per Customer by ' + str(i.index.name));\n",
        "\n",
        "# def average_profit_viz(list):\n",
        "#     for i in list:\n",
        "#         plt.figure(figsize=(12,7))\n",
        "#         sns.barplot(data=i, y='Avg_Profit', x=i.index)\n",
        "#         plt.title('Average Profit per Customer by ' + str(i.index.name));"
      ],
      "execution_count": 0,
      "outputs": []
    },
    {
      "metadata": {
        "id": "qSR4XFJohJ8v",
        "colab_type": "code",
        "outputId": "37fa0eed-d494-405f-901a-f55dcfff5a6a",
        "colab": {
          "base_uri": "https://localhost:8080/",
          "height": 1337
        }
      },
      "cell_type": "code",
      "source": [
        "sns.set_style(\"whitegrid\")\n",
        "disrupt_rate_viz(other_df_list)"
      ],
      "execution_count": 0,
      "outputs": [
        {
          "output_type": "display_data",
          "data": {
            "image/png": "[encoded data removed]",
            "text/plain": [
              "<Figure size 864x504 with 1 Axes>"
            ]
          },
          "metadata": {
            "tags": []
          }
        },
        {
          "output_type": "display_data",
          "data": {
            "image/png": "[encoded data removed]",
            "text/plain": [
              "<Figure size 864x504 with 1 Axes>"
            ]
          },
          "metadata": {
            "tags": []
          }
        },
        {
          "output_type": "display_data",
          "data": {
            "image/png": "[encoded data removed]",
            "text/plain": [
              "<Figure size 864x504 with 1 Axes>"
            ]
          },
          "metadata": {
            "tags": []
          }
        }
      ]
    },
    {
      "metadata": {
        "id": "OGQtQ2qslhvL",
        "colab_type": "text"
      },
      "cell_type": "markdown",
      "source": [
        "# Other Disruption Cost Visualizations"
      ]
    },
    {
      "metadata": {
        "id": "LgU7Ng8KlhTB",
        "colab_type": "code",
        "outputId": "79a05536-2ba2-42ab-9790-2abd4e75ff1d",
        "colab": {
          "base_uri": "https://localhost:8080/",
          "height": 3537
        }
      },
      "cell_type": "code",
      "source": [
        "average_disrupt_cost_viz(other_df_list)"
      ],
      "execution_count": 0,
      "outputs": [
        {
          "output_type": "display_data",
          "data": {
            "image/png": "[encoded data removed]",
            "text/plain": [
              "<Figure size 864x504 with 1 Axes>"
            ]
          },
          "metadata": {
            "tags": []
          }
        },
        {
          "output_type": "display_data",
          "data": {
            "image/png": "[encoded data removed]",
            "text/plain": [
              "<Figure size 864x504 with 1 Axes>"
            ]
          },
          "metadata": {
            "tags": []
          }
        },
        {
          "output_type": "display_data",
          "data": {
            "image/png": "[encoded data removed]",
            "text/plain": [
              "<Figure size 864x504 with 1 Axes>"
            ]
          },
          "metadata": {
            "tags": []
          }
        },
        {
          "output_type": "display_data",
          "data": {
            "image/png": "[encoded data removed]",
            "text/plain": [
              "<Figure size 864x504 with 1 Axes>"
            ]
          },
          "metadata": {
            "tags": []
          }
        },
        {
          "output_type": "display_data",
          "data": {
            "image/png": "[encoded data removed]",
            "text/plain": [
              "<Figure size 864x504 with 1 Axes>"
            ]
          },
          "metadata": {
            "tags": []
          }
        },
        {
          "output_type": "display_data",
          "data": {
            "image/png": "[encoded data removed]",
            "text/plain": [
              "<Figure size 864x504 with 1 Axes>"
            ]
          },
          "metadata": {
            "tags": []
          }
        },
        {
          "output_type": "display_data",
          "data": {
            "image/png": "[encoded data removed]",
            "text/plain": [
              "<Figure size 864x504 with 1 Axes>"
            ]
          },
          "metadata": {
            "tags": []
          }
        },
        {
          "output_type": "display_data",
          "data": {
            "image/png": "[encoded data removed]",
            "text/plain": [
              "<Figure size 864x504 with 1 Axes>"
            ]
          },
          "metadata": {
            "tags": []
          }
        }
      ]
    },
    {
      "metadata": {
        "id": "FdqsMCIwd1NU",
        "colab_type": "text"
      },
      "cell_type": "markdown",
      "source": [
        "# Key Insights\n",
        "\n",
        "* January has the highest disruption costs\n",
        "* Winter months have highest cancellation rates; summer months have most flights delayed over 4+ hours\n",
        "* New York area airports have the highest disruption costs of any major metro area; the Northeast US also has high disruption costs in general\n",
        "* Weekend flights are less likely to be disrupted\n",
        "* Short flights (under 250 miles) have higher disruption rates\n",
        "* Envoy Air ,ExpressJet, PSA, Republic, and Endeavor are the worst airlines in terms of disruptions \n",
        "* Of the legacy carriers, American is the most costly to insure and Delta is the least costly\n",
        "* Hawaiian Airlines, Delta, and Alaska are much less likely to experience disruptions\n",
        "\n"
      ]
    },
    {
      "metadata": {
        "id": "q25z-_hf7ZjH",
        "colab_type": "text"
      },
      "cell_type": "markdown",
      "source": [
        "# Sample Data for Model\n",
        "\n",
        "I sampled 1 million flights to create models to predict the cost of insuring against flight disruptions."
      ]
    },
    {
      "metadata": {
        "id": "rGBJwMsZ73bt",
        "colab_type": "code",
        "colab": {}
      },
      "cell_type": "code",
      "source": [
        "sample_df = df.sample(n=1000000, replace=True, random_state=66)"
      ],
      "execution_count": 0,
      "outputs": []
    },
    {
      "metadata": {
        "id": "qzaA6j7C74r8",
        "colab_type": "code",
        "colab": {}
      },
      "cell_type": "code",
      "source": [
        "sample_df = sample_df[['Month', 'DayOfWeek', 'Carrier', 'Origin', 'OriginState', 'Dest', 'DestState', \n",
        "                       'CRSDepTime', 'CRSArrTime', 'ArrTimeBlk', 'Distance', 'DistanceGroup', 'Disruption',\n",
        "                       'Cost', 'Carrier_MC', 'Dest_MC', 'Origin_MC', 'Month_MC', 'DayOfWeek_MC', \n",
        "                       'DepTimeBlk_MC', 'ArrTimeBlk_MC','OriginState_MC', 'DestState_MC']]"
      ],
      "execution_count": 0,
      "outputs": []
    },
    {
      "metadata": {
        "id": "UipMqRvg-XvS",
        "colab_type": "code",
        "outputId": "ed1a9c14-19b2-45f2-f85c-3639c6d2ea9b",
        "colab": {
          "base_uri": "https://localhost:8080/",
          "height": 493
        }
      },
      "cell_type": "code",
      "source": [
        "sample_df.info()"
      ],
      "execution_count": 0,
      "outputs": [
        {
          "output_type": "stream",
          "text": [
            "<class 'pandas.core.frame.DataFrame'>\n",
            "Int64Index: 1000000 entries, 385852 to 17335936\n",
            "Data columns (total 23 columns):\n",
            "Month             1000000 non-null uint8\n",
            "DayOfWeek         1000000 non-null uint8\n",
            "Carrier           1000000 non-null uint8\n",
            "Origin            1000000 non-null uint16\n",
            "OriginState       1000000 non-null uint8\n",
            "Dest              1000000 non-null uint16\n",
            "DestState         1000000 non-null uint8\n",
            "CRSDepTime        1000000 non-null uint16\n",
            "CRSArrTime        1000000 non-null uint16\n",
            "ArrTimeBlk        1000000 non-null uint8\n",
            "Distance          1000000 non-null uint16\n",
            "DistanceGroup     1000000 non-null uint8\n",
            "Disruption        1000000 non-null uint8\n",
            "Cost              1000000 non-null int64\n",
            "Carrier_MC        1000000 non-null float32\n",
            "Dest_MC           1000000 non-null float32\n",
            "Origin_MC         1000000 non-null float32\n",
            "Month_MC          1000000 non-null float32\n",
            "DayOfWeek_MC      1000000 non-null float32\n",
            "DepTimeBlk_MC     1000000 non-null float32\n",
            "ArrTimeBlk_MC     1000000 non-null float32\n",
            "OriginState_MC    1000000 non-null float32\n",
            "DestState_MC      1000000 non-null float32\n",
            "dtypes: float32(9), int64(1), uint16(5), uint8(8)\n",
            "memory usage: 66.8 MB\n"
          ],
          "name": "stdout"
        }
      ]
    },
    {
      "metadata": {
        "id": "jYkVAFG1ZeeF",
        "colab_type": "code",
        "colab": {}
      },
      "cell_type": "code",
      "source": [
        "# X and y variables for classification model\n",
        "X_cl = sample_df.drop(['Disruption', 'Cost'], axis=1)\n",
        "y_cl = sample_df['Disruption']\n",
        "\n",
        "# X and y variables for regression model\n",
        "X = sample_df.drop(['Disruption', 'Cost'], axis=1)\n",
        "y = sample_df['Cost']"
      ],
      "execution_count": 0,
      "outputs": []
    },
    {
      "metadata": {
        "id": "uK0CiJmHdDiG",
        "colab_type": "code",
        "colab": {}
      },
      "cell_type": "code",
      "source": [
        "X_train, X_test, y_train, y_test = train_test_split(X, y, test_size=0.33, random_state=66)"
      ],
      "execution_count": 0,
      "outputs": []
    },
    {
      "metadata": {
        "id": "nNxoqlosVvJW",
        "colab_type": "text"
      },
      "cell_type": "markdown",
      "source": [
        "# Tweedie Model"
      ]
    },
    {
      "metadata": {
        "id": "tGphS_gOZ3xf",
        "colab_type": "code",
        "colab": {}
      },
      "cell_type": "code",
      "source": [
        "tweedie_model = sm.GLM(endog=y_train, exog=X_train, family=sm.families.Tweedie())"
      ],
      "execution_count": 0,
      "outputs": []
    },
    {
      "metadata": {
        "id": "xWP7n2rTd9-b",
        "colab_type": "code",
        "colab": {}
      },
      "cell_type": "code",
      "source": [
        "tweedie_results = tweedie_model.fit()"
      ],
      "execution_count": 0,
      "outputs": []
    },
    {
      "metadata": {
        "id": "GX1eSC_beXUI",
        "colab_type": "code",
        "outputId": "13ea265e-3315-4ac2-cf5e-02e00209f7c0",
        "colab": {
          "base_uri": "https://localhost:8080/",
          "height": 612
        }
      },
      "cell_type": "code",
      "source": [
        "print(tweedie_results.summary())"
      ],
      "execution_count": 0,
      "outputs": [
        {
          "output_type": "stream",
          "text": [
            "                 Generalized Linear Model Regression Results                  \n",
            "==============================================================================\n",
            "Dep. Variable:                   Cost   No. Observations:               670000\n",
            "Model:                            GLM   Df Residuals:                   669997\n",
            "Model Family:                 Tweedie   Df Model:                            2\n",
            "Link Function:                    log   Scale:              482.51809221499127\n",
            "Method:                          IRLS   Log-Likelihood:                    nan\n",
            "Date:                Sun, 24 Feb 2019   Deviance:                   4.9130e+07\n",
            "Time:                        19:26:21   Pearson chi2:                 3.23e+08\n",
            "No. Iterations:                    13                                         \n",
            "==================================================================================\n",
            "                     coef    std err          z      P>|z|      [0.025      0.975]\n",
            "----------------------------------------------------------------------------------\n",
            "Month              0.0019      0.003      0.658      0.511      -0.004       0.008\n",
            "DayOfWeek         -0.0349      0.005     -7.027      0.000      -0.045      -0.025\n",
            "Carrier            0.0041      0.002      1.945      0.052   -3.27e-05       0.008\n",
            "Origin            -0.0007      0.000     -3.659      0.000      -0.001      -0.000\n",
            "OriginState       -0.0048      0.001     -5.140      0.000      -0.007      -0.003\n",
            "Dest               0.0003      0.000      1.751      0.080   -4.09e-05       0.001\n",
            "DestState         -0.0036      0.001     -3.734      0.000      -0.005      -0.002\n",
            "CRSDepTime     -3.992e-05   4.02e-05     -0.993      0.321      -0.000    3.89e-05\n",
            "CRSArrTime        -0.0010      0.000     -6.149      0.000      -0.001      -0.001\n",
            "ArrTimeBlk         0.1167      0.019      6.176      0.000       0.080       0.154\n",
            "Distance           0.0002      0.000      2.059      0.039    1.01e-05       0.000\n",
            "DistanceGroup     -0.1011      0.025     -3.966      0.000      -0.151      -0.051\n",
            "Carrier_MC         0.0424      0.003     16.708      0.000       0.037       0.047\n",
            "Dest_MC            0.0408      0.002     19.654      0.000       0.037       0.045\n",
            "Origin_MC          0.0334      0.002     18.155      0.000       0.030       0.037\n",
            "Month_MC           0.0974      0.004     27.763      0.000       0.090       0.104\n",
            "DayOfWeek_MC      -0.0339      0.012     -2.854      0.004      -0.057      -0.011\n",
            "DepTimeBlk_MC      0.0312      0.012      2.703      0.007       0.009       0.054\n",
            "ArrTimeBlk_MC      0.0449      0.013      3.545      0.000       0.020       0.070\n",
            "OriginState_MC     0.0333      0.003     11.118      0.000       0.027       0.039\n",
            "DestState_MC       0.0188      0.003      5.769      0.000       0.012       0.025\n",
            "==================================================================================\n"
          ],
          "name": "stdout"
        }
      ]
    },
    {
      "metadata": {
        "id": "G0IjA9IhmfKI",
        "colab_type": "code",
        "outputId": "73f2098c-eeaa-40c3-dfe8-d0a47a66a458",
        "colab": {
          "base_uri": "https://localhost:8080/",
          "height": 34
        }
      },
      "cell_type": "code",
      "source": [
        "tweedie_results.deviance"
      ],
      "execution_count": 0,
      "outputs": [
        {
          "output_type": "execute_result",
          "data": {
            "text/plain": [
              "49130321.114821255"
            ]
          },
          "metadata": {
            "tags": []
          },
          "execution_count": 207
        }
      ]
    },
    {
      "metadata": {
        "id": "wedxG3rC8CSr",
        "colab_type": "text"
      },
      "cell_type": "markdown",
      "source": [
        "# Negative Binomial Model"
      ]
    },
    {
      "metadata": {
        "id": "8iAdghLx7EBJ",
        "colab_type": "code",
        "colab": {}
      },
      "cell_type": "code",
      "source": [
        "neg_binom_model = sm.GLM(endog=y_train, exog=X_train, family=sm.families.NegativeBinomial())"
      ],
      "execution_count": 0,
      "outputs": []
    },
    {
      "metadata": {
        "id": "iOydqQNO7EF8",
        "colab_type": "code",
        "colab": {}
      },
      "cell_type": "code",
      "source": [
        "neg_binom_results = neg_binom_model.fit()"
      ],
      "execution_count": 0,
      "outputs": []
    },
    {
      "metadata": {
        "id": "rofs9GMd7ql3",
        "colab_type": "code",
        "outputId": "9502b4b7-9e90-4b79-932c-33978f5ee846",
        "colab": {
          "base_uri": "https://localhost:8080/",
          "height": 51
        }
      },
      "cell_type": "code",
      "source": [
        "print(\"Tweedie Model Deviance: \", tweedie_results.deviance)\n",
        "print(\"Negative Binomial Model Deviance: \", neg_binom_results.deviance)"
      ],
      "execution_count": 0,
      "outputs": [
        {
          "output_type": "stream",
          "text": [
            "Tweedie Model Deviance:  49130321.114821255\n",
            "Negative Binomial Model Deviance:  4027240.233803384\n"
          ],
          "name": "stdout"
        }
      ]
    },
    {
      "metadata": {
        "id": "4tXQm2r07EQe",
        "colab_type": "code",
        "outputId": "ecc4281b-b65e-4019-ef43-b82d6b1c0d1d",
        "colab": {
          "base_uri": "https://localhost:8080/",
          "height": 612
        }
      },
      "cell_type": "code",
      "source": [
        "print(neg_binom_results.summary())"
      ],
      "execution_count": 0,
      "outputs": [
        {
          "output_type": "stream",
          "text": [
            "                 Generalized Linear Model Regression Results                  \n",
            "==============================================================================\n",
            "Dep. Variable:                   Cost   No. Observations:               670000\n",
            "Model:                            GLM   Df Residuals:                   669997\n",
            "Model Family:        NegativeBinomial   Df Model:                            2\n",
            "Link Function:                    log   Scale:               61.41149672684344\n",
            "Method:                          IRLS   Log-Likelihood:            -2.1093e+06\n",
            "Date:                Sun, 24 Feb 2019   Deviance:                   4.0272e+06\n",
            "Time:                        19:27:17   Pearson chi2:                 4.11e+07\n",
            "No. Iterations:                    17                                         \n",
            "==================================================================================\n",
            "                     coef    std err          z      P>|z|      [0.025      0.975]\n",
            "----------------------------------------------------------------------------------\n",
            "Month              0.0043      0.003      1.255      0.209      -0.002       0.011\n",
            "DayOfWeek         -0.0338      0.006     -5.700      0.000      -0.045      -0.022\n",
            "Carrier            0.0058      0.003      2.124      0.034       0.000       0.011\n",
            "Origin            -0.0008      0.000     -3.168      0.002      -0.001      -0.000\n",
            "OriginState       -0.0064      0.001     -5.510      0.000      -0.009      -0.004\n",
            "Dest               0.0003      0.000      1.391      0.164      -0.000       0.001\n",
            "DestState         -0.0057      0.001     -5.054      0.000      -0.008      -0.004\n",
            "CRSDepTime     -3.979e-06   4.09e-05     -0.097      0.922   -8.41e-05    7.61e-05\n",
            "CRSArrTime        -0.0008      0.000     -4.439      0.000      -0.001      -0.000\n",
            "ArrTimeBlk         0.0890      0.021      4.323      0.000       0.049       0.129\n",
            "Distance           0.0002      0.000      2.038      0.042    8.72e-06       0.000\n",
            "DistanceGroup     -0.0985      0.028     -3.494      0.000      -0.154      -0.043\n",
            "Carrier_MC         0.0422      0.003     12.805      0.000       0.036       0.049\n",
            "Dest_MC            0.0801      0.005     15.374      0.000       0.070       0.090\n",
            "Origin_MC          0.0531      0.005     11.519      0.000       0.044       0.062\n",
            "Month_MC           0.1033      0.004     25.104      0.000       0.095       0.111\n",
            "DayOfWeek_MC      -0.0388      0.014     -2.767      0.006      -0.066      -0.011\n",
            "DepTimeBlk_MC      0.0273      0.013      2.111      0.035       0.002       0.053\n",
            "ArrTimeBlk_MC      0.0450      0.014      3.112      0.002       0.017       0.073\n",
            "OriginState_MC     0.0182      0.005      3.371      0.001       0.008       0.029\n",
            "DestState_MC      -0.0271      0.006     -4.492      0.000      -0.039      -0.015\n",
            "==================================================================================\n"
          ],
          "name": "stdout"
        }
      ]
    },
    {
      "metadata": {
        "id": "1j2RtEiypTE8",
        "colab_type": "text"
      },
      "cell_type": "markdown",
      "source": [
        "# Average Cost of Feature Means Model"
      ]
    },
    {
      "metadata": {
        "id": "Yoa6l7J0pU_P",
        "colab_type": "code",
        "outputId": "130f7549-4f9f-4a8b-e741-b13230f9d762",
        "colab": {
          "base_uri": "https://localhost:8080/",
          "height": 238
        }
      },
      "cell_type": "code",
      "source": [
        "fm_model = X_test.copy()\n",
        "fm_model = fm_model.drop(['Month', 'DayOfWeek', 'Carrier', 'Origin', 'OriginState', 'Dest',\n",
        "       'DestState', 'CRSDepTime', 'CRSArrTime', 'ArrTimeBlk', 'Distance',\n",
        "       'DistanceGroup'], axis=1)\n",
        "print(fm_model.head())"
      ],
      "execution_count": 0,
      "outputs": [
        {
          "output_type": "stream",
          "text": [
            "          Carrier_MC  Dest_MC  Origin_MC  Month_MC  DayOfWeek_MC  \\\n",
            "14320714      10.899   10.948      9.500    11.479         9.635   \n",
            "13166180       5.876    8.059     14.663     5.701        10.516   \n",
            "2826787        9.225   11.203     10.310    10.318         8.573   \n",
            "16989655      24.288   11.893     17.284     4.877         9.631   \n",
            "1832611        9.225   16.192      6.940    11.479         8.573   \n",
            "\n",
            "          DepTimeBlk_MC  ArrTimeBlk_MC  OriginState_MC  DestState_MC  \n",
            "14320714          8.328          9.265           9.458        10.132  \n",
            "13166180          9.693         10.784          12.464         8.225  \n",
            "2826787           8.034          7.993          11.787        10.126  \n",
            "16989655         10.988         10.325           6.998        12.119  \n",
            "1832611           8.328          9.289           7.698        17.520  \n"
          ],
          "name": "stdout"
        }
      ]
    },
    {
      "metadata": {
        "id": "9UXsbl9u9Inc",
        "colab_type": "code",
        "outputId": "5cd540b5-b12d-483a-913f-9cbab1d53ca0",
        "colab": {
          "base_uri": "https://localhost:8080/",
          "height": 1122
        }
      },
      "cell_type": "code",
      "source": [
        "fm_model['Avr_Cost_Model'] = fm_model.mean(axis=1)\n",
        "print(fm_model.head(20))"
      ],
      "execution_count": 0,
      "outputs": [
        {
          "output_type": "stream",
          "text": [
            "          Carrier_MC  Dest_MC  Origin_MC  Month_MC  DayOfWeek_MC  \\\n",
            "14320714      10.899   10.948      9.500    11.479         9.635   \n",
            "13166180       5.876    8.059     14.663     5.701        10.516   \n",
            "2826787        9.225   11.203     10.310    10.318         8.573   \n",
            "16989655      24.288   11.893     17.284     4.877         9.631   \n",
            "1832611        9.225   16.192      6.940    11.479         8.573   \n",
            "17642701       7.646    7.036      6.940    10.318         9.631   \n",
            "277687        10.899   11.612     14.579    10.382        10.071   \n",
            "1226786       17.263    8.691     17.920    10.106        10.516   \n",
            "3526553       12.973   13.938      5.878    12.397        10.071   \n",
            "10777314      17.263   15.463     17.920    10.106        10.603   \n",
            "16150330       4.518    7.786     10.188    12.397         9.631   \n",
            "7566763       14.274   16.192     13.104    12.397         8.573   \n",
            "14212057       7.646    5.434     10.188    11.479         8.573   \n",
            "11197556       7.646   10.889      5.878    10.382         9.635   \n",
            "1065793        9.225   11.121     10.234    10.106         9.631   \n",
            "12055439      24.288   12.307     10.310     9.690         9.631   \n",
            "9558540        5.876    8.059      7.146     8.437         8.966   \n",
            "13648937       7.830   11.363     17.920     5.701         9.635   \n",
            "5168320       17.263   10.240     11.862    15.411         8.966   \n",
            "5475445       17.263   11.567     17.832     8.437         9.635   \n",
            "\n",
            "          DepTimeBlk_MC  ArrTimeBlk_MC  OriginState_MC  DestState_MC  \\\n",
            "14320714          8.328          9.265           9.458        10.132   \n",
            "13166180          9.693         10.784          12.464         8.225   \n",
            "2826787           8.034          7.993          11.787        10.126   \n",
            "16989655         10.988         10.325           6.998        12.119   \n",
            "1832611           8.328          9.289           7.698        17.520   \n",
            "17642701          7.581          8.129           7.698         7.691   \n",
            "277687            7.993          8.129           7.698         7.691   \n",
            "1226786          10.237         11.224          17.856         9.678   \n",
            "3526553           7.993          8.543           5.995        13.179   \n",
            "10777314          8.647          8.543          17.856        14.143   \n",
            "16150330         10.988         11.452           7.698        10.132   \n",
            "7566763          11.971         11.935          13.250        17.520   \n",
            "14212057         12.635         11.858           7.698         5.389   \n",
            "11197556         10.237         11.935           5.995        13.179   \n",
            "1065793          11.017         10.970          10.514        10.126   \n",
            "12055439          7.581          8.129          11.787        11.041   \n",
            "9558540           9.816         11.224           9.458         8.225   \n",
            "13648937         11.933         11.858          17.856        10.132   \n",
            "5168320          11.933         11.858          11.763         8.767   \n",
            "5475445           9.816          9.289           8.500        10.132   \n",
            "\n",
            "          Avr_Cost_Model  \n",
            "14320714           9.961  \n",
            "13166180           9.553  \n",
            "2826787            9.730  \n",
            "16989655          12.045  \n",
            "1832611           10.583  \n",
            "17642701           8.074  \n",
            "277687             9.895  \n",
            "1226786           12.610  \n",
            "3526553           10.107  \n",
            "10777314          13.394  \n",
            "16150330           9.421  \n",
            "7566763           13.246  \n",
            "14212057           8.989  \n",
            "11197556           9.531  \n",
            "1065793           10.327  \n",
            "12055439          11.641  \n",
            "9558540            8.579  \n",
            "13648937          11.581  \n",
            "5168320           12.007  \n",
            "5475445           11.386  \n"
          ],
          "name": "stdout"
        }
      ]
    },
    {
      "metadata": {
        "id": "JbtI5unX9Tj-",
        "colab_type": "code",
        "colab": {}
      },
      "cell_type": "code",
      "source": [
        "fm_model['Tweedie_Model'] = tweedie_results.predict(X_test)"
      ],
      "execution_count": 0,
      "outputs": []
    },
    {
      "metadata": {
        "id": "WyPgaCPq-MCU",
        "colab_type": "code",
        "colab": {}
      },
      "cell_type": "code",
      "source": [
        "fm_model['Neg_Binom_Model'] = neg_binom_results.predict(X_test)"
      ],
      "execution_count": 0,
      "outputs": []
    },
    {
      "metadata": {
        "id": "vtvrraH__ISc",
        "colab_type": "code",
        "outputId": "d7918780-6203-44f9-eb33-dfa9b832e15e",
        "colab": {
          "base_uri": "https://localhost:8080/",
          "height": 884
        }
      },
      "cell_type": "code",
      "source": [
        "predictions_df = fm_model[['Tweedie_Model', 'Neg_Binom_Model', 'Avr_Cost_Model']].copy()\n",
        "predictions_df['Ensemble_Pred'] = predictions_df.mean(axis=1)\n",
        "print(predictions_df.head(50))"
      ],
      "execution_count": 0,
      "outputs": [
        {
          "output_type": "stream",
          "text": [
            "          Tweedie_Model  Neg_Binom_Model  Avr_Cost_Model  Ensemble_Pred\n",
            "14320714         11.095           11.902           9.961         10.986\n",
            "13166180          5.167            5.416           9.553          6.712\n",
            "2826787           8.349            8.791           9.730          8.957\n",
            "16989655         18.681           21.431          12.045         17.386\n",
            "1832611           9.138            8.340          10.583          9.353\n",
            "17642701          5.499            5.596           8.074          6.390\n",
            "277687           11.161           15.434           9.895         12.163\n",
            "1226786          19.050           17.188          12.610         16.283\n",
            "3526553          10.179           10.370          10.107         10.219\n",
            "10777314         24.665           24.175          13.394         20.744\n",
            "16150330          9.472            8.928           9.421          9.274\n",
            "7566763          34.283           30.224          13.246         25.918\n",
            "14212057          8.631            8.962           8.989          8.861\n",
            "11197556          7.051            5.936           9.531          7.506\n",
            "1065793          10.994           11.686          10.327         11.003\n",
            "12055439         15.630           15.774          11.641         14.348\n",
            "9558540           5.486            5.104           8.579          6.390\n",
            "13648937         10.783           11.212          11.581         11.192\n",
            "5168320          23.495           23.480          12.007         19.661\n",
            "5475445          18.000           22.311          11.386         17.232\n",
            "9998107           6.963            6.648           9.341          7.651\n",
            "3347963           4.740            4.488           7.501          5.576\n",
            "3534660           6.319            6.107           8.638          7.021\n",
            "5426951           4.781            4.191           9.424          6.132\n",
            "9447120          29.136           31.354          13.404         24.631\n",
            "13830175          7.010            7.038           9.235          7.761\n",
            "10225048          9.657            8.606           9.938          9.400\n",
            "18074073         40.657           44.189          12.668         32.505\n",
            "9990531           5.791            5.965           9.181          6.979\n",
            "12474304          4.306            3.938           7.101          5.115\n",
            "11832516          3.524            3.163           7.391          4.692\n",
            "9204559          22.612           24.700          11.653         19.655\n",
            "13830691          8.268            7.728           9.972          8.656\n",
            "2626553           8.754            8.821          10.695          9.423\n",
            "12537024         24.281           22.252          14.017         20.183\n",
            "9637831           4.381            4.127           7.645          5.384\n",
            "5861741           2.479            2.751           7.652          4.294\n",
            "16302841          6.430            5.724           9.666          7.273\n",
            "932304            8.094            8.075           9.279          8.483\n",
            "16755943          4.561            4.324           8.136          5.674\n",
            "6108185           2.957            2.745           6.837          4.180\n",
            "17278082          7.712            7.627          10.092          8.477\n",
            "7656419          10.681           12.113           9.963         10.919\n",
            "15796743          7.821            7.324           8.993          8.046\n",
            "10998629          6.103            6.060           8.821          6.995\n",
            "17653000          7.203            7.839           9.014          8.019\n",
            "10977055          8.549            8.997          10.228          9.258\n",
            "9688279           5.278            4.185           8.695          6.052\n",
            "8733147           4.518            4.127           8.653          5.766\n",
            "7677508          12.695           11.579          10.792         11.689\n"
          ],
          "name": "stdout"
        }
      ]
    },
    {
      "metadata": {
        "id": "oJArWNz1n2gr",
        "colab_type": "text"
      },
      "cell_type": "markdown",
      "source": [
        "# Test Data\n",
        "\n",
        "Run negative binomial model on test data"
      ]
    },
    {
      "metadata": {
        "id": "AQiBtYlEmmoD",
        "colab_type": "code",
        "outputId": "cf5731d1-2f99-4f8e-8e8f-d81083fd9db7",
        "colab": {
          "resources": {
            "http://localhost:8080/nbextensions/google.colab/files.js": {
              "data": "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",
              "ok": true,
              "headers": [
                [
                  "content-type",
                  "application/javascript"
                ]
              ],
              "status": 200,
              "status_text": ""
            }
          },
          "base_uri": "https://localhost:8080/",
          "height": 91
        }
      },
      "cell_type": "code",
      "source": [
        "# download sample data for project\n",
        "from google.colab import files\n",
        "uploaded = files.upload()\n",
        "\n",
        "for fn in uploaded.keys():\n",
        "  print('User uploaded file \"{name}\" with length {length} bytes'.format(\n",
        "      name=fn, length=len(uploaded[fn])))"
      ],
      "execution_count": 0,
      "outputs": [
        {
          "output_type": "display_data",
          "data": {
            "text/html": [
              "\n",
              "     <input type=\"file\" id=\"files-1bf391a2-0014-4f3a-b594-e7d3f83f5c61\" name=\"files[]\" multiple disabled />\n",
              "     <output id=\"result-1bf391a2-0014-4f3a-b594-e7d3f83f5c61\">\n",
              "      Upload widget is only available when the cell has been executed in the\n",
              "      current browser session. Please rerun this cell to enable.\n",
              "      </output>\n",
              "      <script src=\"/nbextensions/google.colab/files.js\"></script> "
            ],
            "text/plain": [
              "<IPython.core.display.HTML object>"
            ]
          },
          "metadata": {
            "tags": []
          }
        },
        {
          "output_type": "stream",
          "text": [
            "Saving sample_data_for_project.csv to sample_data_for_project.csv\n",
            "User uploaded file \"sample_data_for_project.csv\" with length 103941 bytes\n"
          ],
          "name": "stdout"
        }
      ]
    },
    {
      "metadata": {
        "id": "NW9nx3i6mqjy",
        "colab_type": "code",
        "outputId": "7a5dec3f-b760-48ef-cbab-ac9502586e1a",
        "colab": {
          "base_uri": "https://localhost:8080/",
          "height": 51
        }
      },
      "cell_type": "code",
      "source": [
        "!ls"
      ],
      "execution_count": 0,
      "outputs": [
        {
          "output_type": "stream",
          "text": [
            "on_time_2016.csv  on_time_2018.csv\n",
            "on_time_2017.csv  sample_data_for_project.csv\n"
          ],
          "name": "stdout"
        }
      ]
    },
    {
      "metadata": {
        "id": "q3zSWVBvnH1U",
        "colab_type": "code",
        "colab": {}
      },
      "cell_type": "code",
      "source": [
        "test_df = pd.read_csv('sample_data_for_project.csv')"
      ],
      "execution_count": 0,
      "outputs": []
    },
    {
      "metadata": {
        "id": "AdbE_v3nnLO7",
        "colab_type": "code",
        "outputId": "ac559c1f-e028-4b73-af4b-68a233b9389a",
        "colab": {
          "base_uri": "https://localhost:8080/",
          "height": 221
        }
      },
      "cell_type": "code",
      "source": [
        "test_df.info()"
      ],
      "execution_count": 0,
      "outputs": [
        {
          "output_type": "stream",
          "text": [
            "<class 'pandas.core.frame.DataFrame'>\n",
            "RangeIndex: 2589 entries, 0 to 2588\n",
            "Data columns (total 7 columns):\n",
            "departure_date    2589 non-null object\n",
            "departure_time    2589 non-null object\n",
            "Origin            2589 non-null object\n",
            "Dest              2589 non-null object\n",
            "Carrier           2589 non-null object\n",
            "FlightNum         2589 non-null int64\n",
            "passenger_id      2589 non-null int64\n",
            "dtypes: int64(2), object(5)\n",
            "memory usage: 141.7+ KB\n"
          ],
          "name": "stdout"
        }
      ]
    },
    {
      "metadata": {
        "id": "QCjnRI98nSko",
        "colab_type": "code",
        "colab": {}
      },
      "cell_type": "code",
      "source": [
        "# convert departure data to datetime\n",
        "test_df['departure_date'] = pd.to_datetime(test_df['departure_date'])\n",
        "test_df['departure_time'] = pd.to_datetime(test_df['departure_time'])"
      ],
      "execution_count": 0,
      "outputs": []
    },
    {
      "metadata": {
        "id": "vKyge8aVqylq",
        "colab_type": "code",
        "colab": {}
      },
      "cell_type": "code",
      "source": [
        "# create function to extract datetime features\n",
        "def date_extraction(feature):\n",
        "  month_list = []\n",
        "  day_of_week_list = []  \n",
        "  \n",
        "  for i in feature:\n",
        "    month_list.append(i.month)\n",
        "    day_of_week_list.append(i.dayofweek)\n",
        "    \n",
        "  return month_list, day_of_week_list"
      ],
      "execution_count": 0,
      "outputs": []
    },
    {
      "metadata": {
        "id": "x8flIOcAs3zR",
        "colab_type": "code",
        "colab": {}
      },
      "cell_type": "code",
      "source": [
        "# create function to extract datetime features\n",
        "def time_extraction(feature):\n",
        "  hour_list = []\n",
        "  \n",
        "  for i in feature:\n",
        "    hour_list.append(i.hour)\n",
        "    \n",
        "  return hour_list"
      ],
      "execution_count": 0,
      "outputs": []
    },
    {
      "metadata": {
        "id": "yMiPwiKsrN88",
        "colab_type": "code",
        "colab": {}
      },
      "cell_type": "code",
      "source": [
        "# Extract date and time features\n",
        "test_df['Month'] = date_extraction(test_df['departure_date'])[0]\n",
        "test_df['DayOfWeek'] = date_extraction(test_df['departure_date'])[1]\n",
        "test_df['DayOfWeek'] = test_df['DayOfWeek'] + 1\n",
        "test_df['DepTimeBlk'] = time_extraction(test_df['departure_time'])\n",
        "test_df = test_df.drop(['departure_date', 'departure_time', 'FlightNum'], axis=1)"
      ],
      "execution_count": 0,
      "outputs": []
    },
    {
      "metadata": {
        "id": "_aJJ6rSWqyyV",
        "colab_type": "code",
        "colab": {}
      },
      "cell_type": "code",
      "source": [
        "# use dictionary to assign numeric value to origin, dest, and carrier\n",
        "test_df['Carrier'] = test_df['Carrier'].map(carrier_dict).fillna(15).astype(int)\n",
        "test_df['Dest'] = test_df['Dest'].map(airport_dict).fillna(0).astype(int)\n",
        "test_df['Origin'] = test_df['Origin'].map(airport_dict).fillna(0).astype(int)"
      ],
      "execution_count": 0,
      "outputs": []
    },
    {
      "metadata": {
        "id": "mX8HyEJBwNfO",
        "colab_type": "code",
        "colab": {}
      },
      "cell_type": "code",
      "source": [
        "# convert hour to time blocks\n",
        "test_df['DepTimeBlk'] = test_df['DepTimeBlk'].map(hour_dict).fillna(0).astype(int)"
      ],
      "execution_count": 0,
      "outputs": []
    },
    {
      "metadata": {
        "id": "Orweb2iPUmv_",
        "colab_type": "code",
        "colab": {}
      },
      "cell_type": "code",
      "source": [
        "# mean cost map features\n",
        "test_df['Carrier_MC'] = test_df['Carrier'].map(mean_cost_map(df['Carrier']))\n",
        "test_df['Dest_MC'] = test_df['Dest'].map(mean_cost_map_dest_airport(df['Dest']))\n",
        "test_df['Origin_MC'] = test_df['Origin'].map(mean_cost_map_origin_airport(df['Origin']))\n",
        "test_df['Month_MC'] = test_df['Month'].map(mean_cost_map(df['Month']))\n",
        "test_df['DayOfWeek_MC'] = test_df['DayOfWeek'].map(mean_cost_map(df['DayOfWeek']))\n",
        "test_df['DepTimeBlk_MC'] = test_df['DepTimeBlk'].map(mean_cost_map(df['DepTimeBlk']))"
      ],
      "execution_count": 0,
      "outputs": []
    },
    {
      "metadata": {
        "id": "PzYz3-0sVcpm",
        "colab_type": "code",
        "colab": {}
      },
      "cell_type": "code",
      "source": [
        "# test_df = test_df.drop(['Origin', 'Dest', 'Carrier', 'passenger_id', 'Month', 'DayOfWeek', \n",
        "#                         'DepTimeBlk', ], axis=1)"
      ],
      "execution_count": 0,
      "outputs": []
    },
    {
      "metadata": {
        "id": "AWTjfdNzVxF_",
        "colab_type": "code",
        "outputId": "80a7c1a7-fe44-4c15-9d17-be0f8d1702f8",
        "colab": {
          "base_uri": "https://localhost:8080/",
          "height": 204
        }
      },
      "cell_type": "code",
      "source": [
        "test_df.head()"
      ],
      "execution_count": 0,
      "outputs": [
        {
          "output_type": "execute_result",
          "data": {
            "text/html": [
              "<div>\n",
              "<style scoped>\n",
              "    .dataframe tbody tr th:only-of-type {\n",
              "        vertical-align: middle;\n",
              "    }\n",
              "\n",
              "    .dataframe tbody tr th {\n",
              "        vertical-align: top;\n",
              "    }\n",
              "\n",
              "    .dataframe thead th {\n",
              "        text-align: right;\n",
              "    }\n",
              "</style>\n",
              "<table border=\"1\" class=\"dataframe\">\n",
              "  <thead>\n",
              "    <tr style=\"text-align: right;\">\n",
              "      <th></th>\n",
              "      <th>Origin</th>\n",
              "      <th>Dest</th>\n",
              "      <th>Carrier</th>\n",
              "      <th>passenger_id</th>\n",
              "      <th>Month</th>\n",
              "      <th>DayOfWeek</th>\n",
              "      <th>DepTimeBlk</th>\n",
              "      <th>Carrier_MC</th>\n",
              "      <th>Dest_MC</th>\n",
              "      <th>Origin_MC</th>\n",
              "      <th>Month_MC</th>\n",
              "      <th>DayOfWeek_MC</th>\n",
              "      <th>DepTimeBlk_MC</th>\n",
              "    </tr>\n",
              "  </thead>\n",
              "  <tbody>\n",
              "    <tr>\n",
              "      <th>0</th>\n",
              "      <td>278</td>\n",
              "      <td>314</td>\n",
              "      <td>0</td>\n",
              "      <td>0</td>\n",
              "      <td>8</td>\n",
              "      <td>5</td>\n",
              "      <td>1</td>\n",
              "      <td>7.646</td>\n",
              "      <td>13.022</td>\n",
              "      <td>10.954</td>\n",
              "      <td>12.397</td>\n",
              "      <td>10.516</td>\n",
              "      <td>9.693</td>\n",
              "    </tr>\n",
              "    <tr>\n",
              "      <th>1</th>\n",
              "      <td>304</td>\n",
              "      <td>323</td>\n",
              "      <td>0</td>\n",
              "      <td>1</td>\n",
              "      <td>12</td>\n",
              "      <td>6</td>\n",
              "      <td>5</td>\n",
              "      <td>7.646</td>\n",
              "      <td>7.712</td>\n",
              "      <td>6.940</td>\n",
              "      <td>10.318</td>\n",
              "      <td>8.573</td>\n",
              "      <td>7.611</td>\n",
              "    </tr>\n",
              "    <tr>\n",
              "      <th>2</th>\n",
              "      <td>168</td>\n",
              "      <td>309</td>\n",
              "      <td>1</td>\n",
              "      <td>2</td>\n",
              "      <td>3</td>\n",
              "      <td>4</td>\n",
              "      <td>1</td>\n",
              "      <td>5.876</td>\n",
              "      <td>4.536</td>\n",
              "      <td>6.134</td>\n",
              "      <td>11.554</td>\n",
              "      <td>9.631</td>\n",
              "      <td>9.693</td>\n",
              "    </tr>\n",
              "    <tr>\n",
              "      <th>3</th>\n",
              "      <td>126</td>\n",
              "      <td>325</td>\n",
              "      <td>4</td>\n",
              "      <td>3</td>\n",
              "      <td>9</td>\n",
              "      <td>7</td>\n",
              "      <td>13</td>\n",
              "      <td>10.899</td>\n",
              "      <td>13.938</td>\n",
              "      <td>19.854</td>\n",
              "      <td>10.106</td>\n",
              "      <td>8.966</td>\n",
              "      <td>12.635</td>\n",
              "    </tr>\n",
              "    <tr>\n",
              "      <th>4</th>\n",
              "      <td>302</td>\n",
              "      <td>312</td>\n",
              "      <td>11</td>\n",
              "      <td>4</td>\n",
              "      <td>7</td>\n",
              "      <td>1</td>\n",
              "      <td>2</td>\n",
              "      <td>12.973</td>\n",
              "      <td>20.968</td>\n",
              "      <td>10.948</td>\n",
              "      <td>11.479</td>\n",
              "      <td>10.603</td>\n",
              "      <td>8.328</td>\n",
              "    </tr>\n",
              "  </tbody>\n",
              "</table>\n",
              "</div>"
            ],
            "text/plain": [
              "   Origin  Dest  Carrier  passenger_id  Month  DayOfWeek  DepTimeBlk  \\\n",
              "0     278   314        0             0      8          5           1   \n",
              "1     304   323        0             1     12          6           5   \n",
              "2     168   309        1             2      3          4           1   \n",
              "3     126   325        4             3      9          7          13   \n",
              "4     302   312       11             4      7          1           2   \n",
              "\n",
              "   Carrier_MC  Dest_MC  Origin_MC  Month_MC  DayOfWeek_MC  DepTimeBlk_MC  \n",
              "0       7.646   13.022     10.954    12.397        10.516          9.693  \n",
              "1       7.646    7.712      6.940    10.318         8.573          7.611  \n",
              "2       5.876    4.536      6.134    11.554         9.631          9.693  \n",
              "3      10.899   13.938     19.854    10.106         8.966         12.635  \n",
              "4      12.973   20.968     10.948    11.479        10.603          8.328  "
            ]
          },
          "metadata": {
            "tags": []
          },
          "execution_count": 242
        }
      ]
    },
    {
      "metadata": {
        "id": "zX888mQhuWnp",
        "colab_type": "code",
        "colab": {}
      },
      "cell_type": "code",
      "source": [
        "X_test = test_df"
      ],
      "execution_count": 0,
      "outputs": []
    },
    {
      "metadata": {
        "id": "shtxyl6ACFjA",
        "colab_type": "code",
        "colab": {}
      },
      "cell_type": "code",
      "source": [
        "X_small = X[['Origin', 'Dest', 'Carrier', 'Month', 'DayOfWeek',\n",
        "       'Carrier_MC', 'Dest_MC', 'Origin_MC', 'Month_MC',\n",
        "       'DayOfWeek_MC', 'DepTimeBlk_MC']]"
      ],
      "execution_count": 0,
      "outputs": []
    },
    {
      "metadata": {
        "id": "QDerAKD_CiC1",
        "colab_type": "code",
        "colab": {}
      },
      "cell_type": "code",
      "source": [
        "X_test = X_test[['Origin', 'Dest', 'Carrier', 'Month', 'DayOfWeek',\n",
        "       'Carrier_MC', 'Dest_MC', 'Origin_MC', 'Month_MC',\n",
        "       'DayOfWeek_MC', 'DepTimeBlk_MC']]"
      ],
      "execution_count": 0,
      "outputs": []
    },
    {
      "metadata": {
        "colab_type": "code",
        "id": "1E-_NVc3AWaM",
        "colab": {}
      },
      "cell_type": "code",
      "source": [
        "neg_binom_model_test = sm.GLM(endog=y, exog=X_small, family=sm.families.NegativeBinomial())"
      ],
      "execution_count": 0,
      "outputs": []
    },
    {
      "metadata": {
        "colab_type": "code",
        "id": "1G1DyuueAWaQ",
        "colab": {}
      },
      "cell_type": "code",
      "source": [
        "neg_binom_results_test = neg_binom_model_test.fit()"
      ],
      "execution_count": 0,
      "outputs": []
    },
    {
      "metadata": {
        "id": "V3VjpgEWActP",
        "colab_type": "code",
        "colab": {}
      },
      "cell_type": "code",
      "source": [
        "neg_binom_predict = neg_binom_results_test.predict(X_test)"
      ],
      "execution_count": 0,
      "outputs": []
    },
    {
      "metadata": {
        "id": "gOq6uevjDLgR",
        "colab_type": "code",
        "outputId": "d7757564-6ec5-4f0c-acb6-a7dba168f7ac",
        "colab": {
          "base_uri": "https://localhost:8080/",
          "height": 544
        }
      },
      "cell_type": "code",
      "source": [
        "neg_binom_predict[:30]"
      ],
      "execution_count": 0,
      "outputs": [
        {
          "output_type": "execute_result",
          "data": {
            "text/plain": [
              "0    11.136\n",
              "1     4.945\n",
              "2     5.099\n",
              "3    27.317\n",
              "4    22.131\n",
              "5     5.233\n",
              "6     5.233\n",
              "7    16.154\n",
              "8    12.031\n",
              "9    11.352\n",
              "10    5.414\n",
              "11    4.652\n",
              "12   12.150\n",
              "13   12.987\n",
              "14    9.076\n",
              "15    8.025\n",
              "16   18.785\n",
              "17    4.857\n",
              "18    4.857\n",
              "19    3.688\n",
              "20   10.085\n",
              "21   10.085\n",
              "22   12.005\n",
              "23   21.393\n",
              "24   12.602\n",
              "25   13.008\n",
              "26    4.382\n",
              "27    4.382\n",
              "28   14.301\n",
              "29    7.000\n",
              "dtype: float64"
            ]
          },
          "metadata": {
            "tags": []
          },
          "execution_count": 260
        }
      ]
    },
    {
      "metadata": {
        "id": "uVHaZaBSvWOu",
        "colab_type": "code",
        "colab": {}
      },
      "cell_type": "code",
      "source": [
        "# def output_test_predictions(type):\n",
        "#     model = type\n",
        "#     name = str(type).split('(')[0]\n",
        "#     model_fit = model.fit(X_train, y_train)\n",
        "#     model_preds = model.predict(X_test)\n",
        "    \n",
        "#     print(\"completed!\")\n",
        "#     return model_preds"
      ],
      "execution_count": 0,
      "outputs": []
    },
    {
      "metadata": {
        "id": "KgAzXeFc4RKV",
        "colab_type": "text"
      },
      "cell_type": "markdown",
      "source": [
        "# Cost to Insure Prediction Function"
      ]
    },
    {
      "metadata": {
        "id": "-jxBWtja4RiK",
        "colab_type": "code",
        "colab": {}
      },
      "cell_type": "code",
      "source": [
        "def predict_cost_to_insure(carrier=['DL'], origin=['ATL'], dest=['BOS'], month=[6], dayofweek=[1], hour=[7]):\n",
        "    data_dict = {'Carrier':carrier, 'Origin': origin, 'Dest': dest, 'Month': month, \n",
        "                 'DayOfWeek': dayofweek, 'DepTimeBlk': hour}\n",
        "    test_df = pd.DataFrame(data=data_dict)\n",
        "    \n",
        "        \n",
        "    # use dictionary to assign numeric value to origin, dest, and carrier\n",
        "    test_df['Carrier'] = test_df['Carrier'].map(carrier_dict).fillna(15).astype(int)\n",
        "    test_df['Dest'] = test_df['Dest'].map(airport_dict).fillna(0).astype(int)\n",
        "    test_df['Origin'] = test_df['Origin'].map(airport_dict).fillna(0).astype(int)\n",
        "    \n",
        "    # convert hour to time blocks\n",
        "    test_df['DepTimeBlk'] = test_df['DepTimeBlk'].map(hour_dict).fillna(0).astype(int)\n",
        "    \n",
        "    # mean cost map features\n",
        "    test_df['Carrier_MC'] = test_df['Carrier'].map(mean_cost_map(df['Carrier']))\n",
        "    test_df['Dest_MC'] = test_df['Dest'].map(mean_cost_map_dest_airport(df['Dest']))\n",
        "    test_df['Origin_MC'] = test_df['Origin'].map(mean_cost_map_origin_airport(df['Origin']))\n",
        "    test_df['Month_MC'] = test_df['Month'].map(mean_cost_map(df['Month']))\n",
        "    test_df['DayOfWeek_MC'] = test_df['DayOfWeek'].map(mean_cost_map(df['DayOfWeek']))\n",
        "    test_df['DepTimeBlk_MC'] = test_df['DepTimeBlk'].map(mean_cost_map(df['DepTimeBlk']))\n",
        "\n",
        "    # create training df\n",
        "    train_df = sample_df[['Carrier', 'DayOfWeek', 'Dest', 'Month', 'Origin',\n",
        "       'Carrier_MC', 'Dest_MC', 'Origin_MC', 'Month_MC', 'DayOfWeek_MC',\n",
        "       'DepTimeBlk_MC', 'Cost']]\n",
        "    \n",
        "    # create x and y\n",
        "    X_train = train_df.drop(['Cost'], axis=1)\n",
        "    y_train = train_df['Cost']\n",
        "    X_test = test_df.drop(['DepTimeBlk'], axis=1)\n",
        "    \n",
        "    # create negative binomail model\n",
        "    neg_binom_model = sm.GLM(endog=y_train, exog=X_train, family=sm.families.NegativeBinomial())\n",
        "    neg_binom_results = neg_binom_model.fit()\n",
        "    neg_binom_predict = neg_binom_results.predict(X_test)\n",
        "    \n",
        "    return neg_binom_predict\n"
      ],
      "execution_count": 0,
      "outputs": []
    },
    {
      "metadata": {
        "id": "WoJM1B41EJZs",
        "colab_type": "code",
        "outputId": "00d63c99-f524-45f0-8355-baf2a76e6d05",
        "colab": {
          "base_uri": "https://localhost:8080/",
          "height": 51
        }
      },
      "cell_type": "code",
      "source": [
        "# default: Atlanta to Logan (BOS) in June on a Monday with Delta at 7AM\n",
        "predict_cost_to_insure()"
      ],
      "execution_count": 0,
      "outputs": [
        {
          "output_type": "execute_result",
          "data": {
            "text/plain": [
              "0   6.231\n",
              "dtype: float64"
            ]
          },
          "metadata": {
            "tags": []
          },
          "execution_count": 290
        }
      ]
    },
    {
      "metadata": {
        "id": "fPdmzO6VVEU8",
        "colab_type": "code",
        "outputId": "50a268bd-e6ae-406e-f790-35af1a113bdb",
        "colab": {
          "base_uri": "https://localhost:8080/",
          "height": 51
        }
      },
      "cell_type": "code",
      "source": [
        "# O'Hare to Logan on Monday in February with Delta at 7AM\n",
        "predict_cost_to_insure(month=[2], origin=['ORD'])"
      ],
      "execution_count": 0,
      "outputs": [
        {
          "output_type": "execute_result",
          "data": {
            "text/plain": [
              "0   9.177\n",
              "dtype: float64"
            ]
          },
          "metadata": {
            "tags": []
          },
          "execution_count": 291
        }
      ]
    },
    {
      "metadata": {
        "id": "X3TfrCiXVPow",
        "colab_type": "code",
        "outputId": "127cbd7c-876d-4efa-b565-2d9e1a6dacff",
        "colab": {
          "base_uri": "https://localhost:8080/",
          "height": 51
        }
      },
      "cell_type": "code",
      "source": [
        "# Newark to Logan on Monday in February with JetBlue at 7AM\n",
        "predict_cost_to_insure(month=[2], origin=['NWK'], carrier='B6')"
      ],
      "execution_count": 0,
      "outputs": [
        {
          "output_type": "execute_result",
          "data": {
            "text/plain": [
              "0   19.181\n",
              "dtype: float64"
            ]
          },
          "metadata": {
            "tags": []
          },
          "execution_count": 292
        }
      ]
    },
    {
      "metadata": {
        "id": "2Fba0gLR4JIw",
        "colab_type": "code",
        "colab": {}
      },
      "cell_type": "code",
      "source": [
        ""
      ],
      "execution_count": 0,
      "outputs": []
    }
  ]
}