{
  "nbformat": 4,
  "nbformat_minor": 0,
  "metadata": {
    "colab": {
      "name": "Freebird_Concat_DFs.ipynb",
      "version": "0.3.2",
      "provenance": []
    },
    "kernelspec": {
      "name": "python3",
      "display_name": "Python 3"
    }
  },
  "cells": [
    {
      "metadata": {
        "id": "B2U2IObdoLrK",
        "colab_type": "text"
      },
      "cell_type": "markdown",
      "source": [
        "Data Description: [link](https://www.transtats.bts.gov/Fields.asp)\n",
        "\n",
        "Walkthrough for dealing with Borderline Big Data / multiple CSVs in Pandas [link](https://www.dataquest.io/blog/pandas-big-data/)\n",
        "\n",
        "Other resources\n",
        "[One](https://www.quora.com/Can-Python-Pandas-handle-10-million-rows-What-are-some-useful-techniques-to-work-with-the-large-data-frames)"
      ]
    },
    {
      "metadata": {
        "id": "3hMYrOn-Zxxn",
        "colab_type": "code",
        "outputId": "f9216084-e04d-4c75-fcfb-a32ea91ae053",
        "colab": {
          "resources": {
            "http://localhost:8080/nbextensions/google.colab/files.js": {
              "data": "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",
              "ok": true,
              "headers": [
                [
                  "content-type",
                  "application/javascript"
                ]
              ],
              "status": 200,
              "status_text": ""
            }
          },
          "base_uri": "https://localhost:8080/",
          "height": 108
        }
      },
      "cell_type": "code",
      "source": [
        "# download zip\n",
        "from google.colab import files\n",
        "uploaded = files.upload()\n",
        "\n",
        "for fn in uploaded.keys():\n",
        "  print('User uploaded file \"{name}\" with length {length} bytes'.format(\n",
        "      name=fn, length=len(uploaded[fn])))"
      ],
      "execution_count": 0,
      "outputs": [
        {
          "output_type": "display_data",
          "data": {
            "text/html": [
              "\n",
              "     <input type=\"file\" id=\"files-f5c6d078-02d5-4375-aa84-2fc315e0af86\" name=\"files[]\" multiple disabled />\n",
              "     <output id=\"result-f5c6d078-02d5-4375-aa84-2fc315e0af86\">\n",
              "      Upload widget is only available when the cell has been executed in the\n",
              "      current browser session. Please rerun this cell to enable.\n",
              "      </output>\n",
              "      <script src=\"/nbextensions/google.colab/files.js\"></script> "
            ],
            "text/plain": [
              "<IPython.core.display.HTML object>"
            ]
          },
          "metadata": {
            "tags": []
          }
        },
        {
          "output_type": "stream",
          "text": [
            "Saving on_time_2015_raw.zip to on_time_2015_raw.zip\n",
            "User uploaded file \"on_time_2015_raw.zip\" with length 310172420 bytes\n"
          ],
          "name": "stdout"
        }
      ]
    },
    {
      "metadata": {
        "id": "D1FbGPGDZ-DV",
        "colab_type": "code",
        "outputId": "4c7f9fd5-9ed6-4aed-c4e6-e543edaecc07",
        "colab": {
          "base_uri": "https://localhost:8080/",
          "height": 34
        }
      },
      "cell_type": "code",
      "source": [
        "!ls"
      ],
      "execution_count": 0,
      "outputs": [
        {
          "output_type": "stream",
          "text": [
            "on_time_2015_raw.zip  sample_data\n"
          ],
          "name": "stdout"
        }
      ]
    },
    {
      "metadata": {
        "id": "9wf3ly0_SH8U",
        "colab_type": "code",
        "outputId": "eb8d2844-e60e-47bc-9570-67a15db0400a",
        "colab": {
          "base_uri": "https://localhost:8080/",
          "height": 258
        }
      },
      "cell_type": "code",
      "source": [
        "!unzip on_time_2015_raw.zip -d data/"
      ],
      "execution_count": 0,
      "outputs": [
        {
          "output_type": "stream",
          "text": [
            "Archive:  on_time_2015_raw.zip\n",
            "  inflating: data/on_time_2015_raw/On_Time_Reporting_Carrier_On_Time_Performance_(1987_present)_2015_1.csv  \n",
            "  inflating: data/on_time_2015_raw/On_Time_Reporting_Carrier_On_Time_Performance_(1987_present)_2015_10.csv  \n",
            "  inflating: data/on_time_2015_raw/On_Time_Reporting_Carrier_On_Time_Performance_(1987_present)_2015_11.csv  \n",
            "  inflating: data/on_time_2015_raw/On_Time_Reporting_Carrier_On_Time_Performance_(1987_present)_2015_2.csv  \n",
            "  inflating: data/on_time_2015_raw/On_Time_Reporting_Carrier_On_Time_Performance_(1987_present)_2015_3.csv  \n",
            "  inflating: data/on_time_2015_raw/On_Time_Reporting_Carrier_On_Time_Performance_(1987_present)_2015_4.csv  \n",
            "  inflating: data/on_time_2015_raw/On_Time_Reporting_Carrier_On_Time_Performance_(1987_present)_2015_5.csv  \n",
            "  inflating: data/on_time_2015_raw/On_Time_Reporting_Carrier_On_Time_Performance_(1987_present)_2015_6.csv  \n",
            "  inflating: data/on_time_2015_raw/On_Time_Reporting_Carrier_On_Time_Performance_(1987_present)_2015_7.csv  \n",
            "  inflating: data/on_time_2015_raw/On_Time_Reporting_Carrier_On_Time_Performance_(1987_present)_2015_8.csv  \n",
            "  inflating: data/on_time_2015_raw/On_Time_Reporting_Carrier_On_Time_Performance_(1987_present)_2015_9.csv  \n",
            "  inflating: data/on_time_2015_raw/On_Time_Reporting_Carrier_On_Time_Performance_(1987_present)_2018_12.csv  \n"
          ],
          "name": "stdout"
        }
      ]
    },
    {
      "metadata": {
        "id": "wam9ASAcS13_",
        "colab_type": "code",
        "outputId": "65334e1d-47cd-46d8-f35f-edf436d62351",
        "colab": {
          "base_uri": "https://localhost:8080/",
          "height": 34
        }
      },
      "cell_type": "code",
      "source": [
        "!ls"
      ],
      "execution_count": 0,
      "outputs": [
        {
          "output_type": "stream",
          "text": [
            "data  on_time_2015_raw.zip  sample_data\n"
          ],
          "name": "stdout"
        }
      ]
    },
    {
      "metadata": {
        "id": "CpxQAMrIS_cn",
        "colab_type": "code",
        "outputId": "a77857be-ad99-406b-eab2-c476090c4392",
        "colab": {
          "base_uri": "https://localhost:8080/",
          "height": 51
        }
      },
      "cell_type": "code",
      "source": [
        "%cd data/\n",
        "!ls"
      ],
      "execution_count": 0,
      "outputs": [
        {
          "output_type": "stream",
          "text": [
            "/content/data\n",
            "on_time_2015_raw\n"
          ],
          "name": "stdout"
        }
      ]
    },
    {
      "metadata": {
        "id": "01psCBHwHr1n",
        "colab_type": "code",
        "outputId": "cdd760d7-a0f5-419d-c9bf-20a001dd64a6",
        "colab": {
          "base_uri": "https://localhost:8080/",
          "height": 238
        }
      },
      "cell_type": "code",
      "source": [
        "%cd on_time_2015_raw/\n",
        "!ls"
      ],
      "execution_count": 0,
      "outputs": [
        {
          "output_type": "stream",
          "text": [
            "/content/data/on_time_2015_raw\n",
            "'On_Time_Reporting_Carrier_On_Time_Performance_(1987_present)_2015_10.csv'\n",
            "'On_Time_Reporting_Carrier_On_Time_Performance_(1987_present)_2015_11.csv'\n",
            "'On_Time_Reporting_Carrier_On_Time_Performance_(1987_present)_2015_1.csv'\n",
            "'On_Time_Reporting_Carrier_On_Time_Performance_(1987_present)_2015_2.csv'\n",
            "'On_Time_Reporting_Carrier_On_Time_Performance_(1987_present)_2015_3.csv'\n",
            "'On_Time_Reporting_Carrier_On_Time_Performance_(1987_present)_2015_4.csv'\n",
            "'On_Time_Reporting_Carrier_On_Time_Performance_(1987_present)_2015_5.csv'\n",
            "'On_Time_Reporting_Carrier_On_Time_Performance_(1987_present)_2015_6.csv'\n",
            "'On_Time_Reporting_Carrier_On_Time_Performance_(1987_present)_2015_7.csv'\n",
            "'On_Time_Reporting_Carrier_On_Time_Performance_(1987_present)_2015_8.csv'\n",
            "'On_Time_Reporting_Carrier_On_Time_Performance_(1987_present)_2015_9.csv'\n",
            "'On_Time_Reporting_Carrier_On_Time_Performance_(1987_present)_2018_12.csv'\n"
          ],
          "name": "stdout"
        }
      ]
    },
    {
      "metadata": {
        "id": "Vywf2y_dUHx0",
        "colab_type": "text"
      },
      "cell_type": "markdown",
      "source": [
        "# Imports"
      ]
    },
    {
      "metadata": {
        "id": "NU2uRZMpUJ1U",
        "colab_type": "code",
        "colab": {}
      },
      "cell_type": "code",
      "source": [
        "import pandas as pd\n",
        "import numpy as np\n",
        "import os\n",
        "import glob"
      ],
      "execution_count": 0,
      "outputs": []
    },
    {
      "metadata": {
        "id": "7yG8OjK0UNZC",
        "colab_type": "text"
      },
      "cell_type": "markdown",
      "source": [
        "# Transform DFs"
      ]
    },
    {
      "metadata": {
        "id": "nQ7ezQ-LXeCb",
        "colab_type": "code",
        "colab": {}
      },
      "cell_type": "code",
      "source": [
        "delete_col_list = ['CancellationCode', 'Div1Airport', 'Div1TailNum', 'Div2Airport', 'Div2TailNum', 'Div2Airport', \n",
        "                   'Div2AirportID', 'Div2AirportSeqID', 'Div2WheelsOn', 'Div2TotalGTime', 'Div2LongestGTime', \n",
        "                   'Div2WheelsOff', 'Div2TailNum', 'Div3Airport', 'Div3AirportID', 'Div3AirportSeqID', 'Div3WheelsOn', \n",
        "                   'Div3TotalGTime', 'Div3LongestGTime', 'Div3WheelsOff', 'Div3TailNum', 'Div4Airport', 'Div4AirportID', \n",
        "                   'Div4AirportSeqID', 'Div4WheelsOn', 'Div4TotalGTime', 'Div4LongestGTime', 'Div4WheelsOff', 'Div4TailNum', \n",
        "                   'Div5Airport', 'Div5AirportID', 'Div5AirportSeqID', 'Div5WheelsOn', 'Div5TotalGTime', 'Div5LongestGTime', \n",
        "                   'Div5WheelsOff', 'Div5TailNum', 'Unnamed: 109', 'UniqueCarrier', 'OriginCityName', 'OriginStateName', 'DestCityName', \n",
        "                   'DestStateName', 'FlightDate', 'OriginAirportID', 'OriginAirportSeqID', 'OriginCityMarketID', 'OriginStateFips', \n",
        "                   'DestAirportID', 'DestAirportSeqID', 'DestCityMarketID', 'DestStateFips', 'Div1AirportID', 'Div1AirportSeqID', \n",
        "                   'Div1WheelsOn', 'Div1TotalGTime', 'Div1LongestGTime', 'Div1WheelsOff', 'DivActualElapsedTime', 'DivArrDelay', \n",
        "                   'DivDistance', 'FlightNum', 'DepTime', 'ArrTime', \n",
        "                   'ArrDelay', 'ArrDelayMinutes', 'ArrDel15', 'ArrivalDelayGroups', 'TaxiOut', 'WheelsOff', 'WheelsOn', 'TaxiIn', \n",
        "                   'FirstDepTime', 'TotalAddGTime', 'LongestAddGTime', 'AirTime', 'ActualElapsedTime', \n",
        "                   'AirlineID', 'Flights', 'DepartureDelayGroups', 'CRSElapsedTime']"
      ],
      "execution_count": 0,
      "outputs": []
    },
    {
      "metadata": {
        "id": "Nl2CKukW8QtT",
        "colab_type": "code",
        "colab": {}
      },
      "cell_type": "code",
      "source": [
        "delete_col_list2 = ['CancellationCode', 'Div1Airport', 'Div1TailNum', 'Div2Airport', 'Div2TailNum', 'Div2Airport', \n",
        "                   'Div2AirportID', 'Div2AirportSeqID', 'Div2WheelsOn', 'Div2TotalGTime', 'Div2LongestGTime', \n",
        "                   'Div2WheelsOff', 'Div2TailNum', 'Div3Airport', 'Div3AirportID', 'Div3AirportSeqID', 'Div3WheelsOn', \n",
        "                   'Div3TotalGTime', 'Div3LongestGTime', 'Div3WheelsOff', 'Div3TailNum', 'Div4Airport', 'Div4AirportID', \n",
        "                   'Div4AirportSeqID', 'Div4WheelsOn', 'Div4TotalGTime', 'Div4LongestGTime', 'Div4WheelsOff', 'Div4TailNum', \n",
        "                   'Div5Airport', 'Div5AirportID', 'Div5AirportSeqID', 'Div5WheelsOn', 'Div5TotalGTime', 'Div5LongestGTime', \n",
        "                   'Div5WheelsOff', 'Div5TailNum', 'Unnamed: 109', 'OriginCityName', 'OriginStateName', 'DestCityName', \n",
        "                   'DestStateName', 'FlightDate', 'OriginAirportID', 'OriginAirportSeqID', 'OriginCityMarketID', 'OriginStateFips', \n",
        "                   'DestAirportID', 'DestAirportSeqID', 'DestCityMarketID', 'DestStateFips', 'Div1AirportID', 'Div1AirportSeqID', \n",
        "                   'Div1WheelsOn', 'Div1TotalGTime', 'Div1LongestGTime', 'Div1WheelsOff', 'DivActualElapsedTime', 'DivArrDelay', \n",
        "                   'DivDistance', 'DepTime', 'ArrTime', \n",
        "                   'ArrDelay', 'ArrDelayMinutes', 'ArrDel15', 'ArrivalDelayGroups', 'TaxiOut', 'WheelsOff', 'WheelsOn', 'TaxiIn', \n",
        "                   'FirstDepTime', 'TotalAddGTime', 'LongestAddGTime', 'AirTime', 'ActualElapsedTime', \n",
        "                   'Flights', 'DepartureDelayGroups', 'CRSElapsedTime', 'DOT_ID_Reporting_Airline', \n",
        "                   'Flight_Number_Reporting_Airline', 'Tail_Number', 'IATA_CODE_Reporting_Airline', \n",
        "                   'DivAirportLandings']"
      ],
      "execution_count": 0,
      "outputs": []
    },
    {
      "metadata": {
        "id": "ohNP1k0Op0IJ",
        "colab_type": "code",
        "colab": {}
      },
      "cell_type": "code",
      "source": [
        "delay_list = [ 'CarrierDelay', 'WeatherDelay', 'NASDelay', 'SecurityDelay', 'LateAircraftDelay']"
      ],
      "execution_count": 0,
      "outputs": []
    },
    {
      "metadata": {
        "id": "nucMaeZx20hi",
        "colab_type": "code",
        "colab": {}
      },
      "cell_type": "code",
      "source": [
        "float_list = ['Flights', 'Distance', 'Cancelled', 'Diverted']"
      ],
      "execution_count": 0,
      "outputs": []
    },
    {
      "metadata": {
        "id": "UUKvuQI41icn",
        "colab_type": "code",
        "colab": {}
      },
      "cell_type": "code",
      "source": [
        "carrier_dict = {'AA': 2, 'AS': 9, 'B6': 8, 'DL': 1, 'EV': 3, 'F9': 10, 'FL': 14, 'HA': 12, \n",
        "                'MQ': 6, 'NK': 11, 'OO': 4, 'Other': 15, 'UA': 5, 'US': 7, 'VX': 13, \n",
        "                'WN': 0, 'YV': 16, '9E': 17, 'OH': 18, 'YX': 19}\n",
        "\n",
        "inv_carrier_dict = {v: k for k, v in carrier_dict.items()}"
      ],
      "execution_count": 0,
      "outputs": []
    },
    {
      "metadata": {
        "id": "Wk_ohHmQ6zfd",
        "colab_type": "code",
        "outputId": "7788c864-a9b1-4ee9-90a3-9886522f2420",
        "colab": {
          "base_uri": "https://localhost:8080/",
          "height": 357
        }
      },
      "cell_type": "code",
      "source": [
        "inv_carrier_dict"
      ],
      "execution_count": 0,
      "outputs": [
        {
          "output_type": "execute_result",
          "data": {
            "text/plain": [
              "{0: 'WN',\n",
              " 1: 'DL',\n",
              " 2: 'AA',\n",
              " 3: 'EV',\n",
              " 4: 'OO',\n",
              " 5: 'UA',\n",
              " 6: 'MQ',\n",
              " 7: 'US',\n",
              " 8: 'B6',\n",
              " 9: 'AS',\n",
              " 10: 'F9',\n",
              " 11: 'NK',\n",
              " 12: 'HA',\n",
              " 13: 'VX',\n",
              " 14: 'FL',\n",
              " 15: 'Other',\n",
              " 16: 'YV',\n",
              " 17: '9E',\n",
              " 18: 'OH',\n",
              " 19: 'YX'}"
            ]
          },
          "metadata": {
            "tags": []
          },
          "execution_count": 13
        }
      ]
    },
    {
      "metadata": {
        "id": "zuGLz6MMmAon",
        "colab_type": "code",
        "colab": {}
      },
      "cell_type": "code",
      "source": [
        "time_dict = {'0001-0559': 0, '0600-0659': 1, '0700-0759': 2, '0800-0859': 3, '0900-0959': 4, \n",
        "             '1000-1059': 5, '1100-1159': 6, '1200-1259': 7, '1300-1359': 8, '1400-1459': 9, \n",
        "             '1500-1559': 10, '1600-1659': 11, '1700-1759': 12, '1800-1859': 13, '1900-1959': 14, \n",
        "             '2000-2059': 15, '2100-2159': 16, '2200-2259': 17, '2300-2359': 18}"
      ],
      "execution_count": 0,
      "outputs": []
    },
    {
      "metadata": {
        "id": "fNiCjkq7u2Wz",
        "colab_type": "code",
        "colab": {}
      },
      "cell_type": "code",
      "source": [
        "state_dict = {'AK': 30, 'AL': 31, 'AR': 33, 'AZ': 7, 'CA': 0, 'CO': 6, 'CT': 36, 'DE': 51,\n",
        "              'FL': 4, 'GA': 3, 'HI': 19, 'IA': 37, 'ID': 38, 'IL': 2, 'IN': 28, 'KS': 40, \n",
        "              'KY': 26, 'LA': 23, 'MA': 13, 'MD': 20, 'ME': 47, 'MI': 11, 'MN': 14, 'MO': 16, \n",
        "              'MS': 42, 'MT': 41, 'NC': 8, 'ND': 39, 'NE': 34, 'NH': 46, 'NJ': 18, 'NM': 32, \n",
        "              'NV': 10, 'NY': 5, 'OH': 22, 'OK': 27, 'OR': 24, 'PA': 17, 'PR': 35, 'RI': 43, \n",
        "              'SC': 29, 'SD': 44, 'TN': 21, 'TT': 52, 'TX': 1, 'UT': 15, 'VA': 9, 'VI': 49, \n",
        "              'VT': 48, 'WA': 12, 'WI': 25, 'WV': 50, 'WY': 45}"
      ],
      "execution_count": 0,
      "outputs": []
    },
    {
      "metadata": {
        "id": "5OhzAh9j2aCZ",
        "colab_type": "code",
        "colab": {}
      },
      "cell_type": "code",
      "source": [
        "airport_dict = {'ABE': 149, 'ABI': 162, 'ABQ': 273, 'ABR': 68, 'ABY': 86, 'ACK': 30, 'ACT': 121, \n",
        "                'ACV': 122, 'ACY': 173, 'ADK': 9, 'ADQ': 29, 'AEX': 178, 'AGS': 156, 'AKN': 5, 'ALB': 233, \n",
        "                'ALO': 47, 'AMA': 210, 'ANC': 265, 'APN': 37, 'ASE': 189, 'ATL': 326, 'ATW': 172, 'AUS': 292, \n",
        "                'AVL': 171, 'AVP': 117, 'AZO': 133, 'BDL': 272, 'BET': 88, 'BFL': 167, 'BGM': 12, 'BGR': 28, \n",
        "                'BHM': 259, 'BIL': 168, 'BIS': 183, 'BJI': 65, 'BKG': 4, 'BLI': 69, 'BMI': 170, 'BNA': 297, \n",
        "                'BOI': 256, 'BOS': 314, 'BPT': 99, 'BQK': 85, 'BQN': 108, 'BRD': 52, 'BRO': 161, 'BRW': 83, \n",
        "                'BTM': 64, 'BTR': 234, 'BTV': 177, 'BUF': 267, 'BUR': 271, 'BWI': 307, 'BZN': 187, 'CAE': 216, \n",
        "                'CAK': 223, 'CDC': 36, 'CDV': 55, 'CEC': 26, 'CHA': 199, 'CHO': 151, 'CHS': 257, 'CIC': 13, 'CID': 228, \n",
        "                'CIU': 44, 'CLD': 104, 'CLE': 285, 'CLL': 159, 'CLT': 311, 'CMH': 278, 'CMI': 148, 'CMX': 66, 'CNY': 24, \n",
        "                'COD': 71, 'COS': 231, 'COU': 112, 'CPR': 140, 'CRP': 214, 'CRW': 160, 'CSG': 102, 'CVG': 274, 'CWA': 113, \n",
        "                'DAB': 119, 'DAL': 299, 'DAY': 243, 'DBQ': 90, 'DCA': 305, 'DEN': 323, 'DFW': 324, 'DHN': 107, 'DIK': 106, \n",
        "                'DLG': 7, 'DLH': 126, 'DRO': 139, 'DSM': 242, 'DTW': 313, 'DVL': 34, 'EAU': 67, 'ECP': 197, 'EGE': 103, \n",
        "                'EKO': 46, 'ELM': 141, 'ELP': 258, 'ERI': 76, 'ESC': 31, 'EUG': 194, 'EVV': 191, 'EWN': 45, 'EWR': 310, \n",
        "                'EYW': 152, 'FAI': 146, 'FAR': 217, 'FAT': 237, 'FAY': 127, 'FCA': 136, 'FLG': 124, 'FLL': 302, 'FNT': 206, \n",
        "                'FSD': 219, 'FSM': 144, 'FWA': 212, 'GCC': 101, 'GCK': 62, 'GEG': 246, 'GFK': 33, 'GGG': 51, 'GJT': 182, \n",
        "                'GNV': 165, 'GPT': 192, 'GRB': 209, 'GRI': 49, 'GRK': 198, 'GRR': 253, 'GSO': 235, 'GSP': 227, 'GST': 6, \n",
        "                'GTF': 138, 'GTR': 93, 'GUC': 35, 'GUM': 25, 'HDN': 42, 'HIB': 80, 'HLN': 114, 'HNL': 294, 'HOB': 38, \n",
        "                'HOU': 298, 'HPN': 238, 'HRL': 176, 'HSV': 207, 'HYA': 8, 'HYS': 39, 'IAD': 291, 'IAG': 20, 'IAH': 321, \n",
        "                'ICT': 241, 'IDA': 158, 'ILG': 14, 'ILM': 135, 'IMT': 48, 'IND': 280, 'INL': 40, 'ISN': 166, 'ISP': 202, \n",
        "                'ITH': 3, 'ITO': 220, 'JAC': 186, 'JAN': 230, 'JAX': 269, 'JFK': 308, 'JLN': 53, 'JMS': 81, 'JNU': 196, \n",
        "                'KOA': 255, 'KTN': 155, 'LAN': 131, 'LAR': 43, 'LAS': 318, 'LAW': 115, 'LAX': 322, 'LBB': 211, 'LBE': 100, \n",
        "                'LCH': 134, 'LEX': 222, 'LFT': 215, 'LGA': 312, 'LGB': 244, 'LIH': 250, 'LIT': 251, 'LNK': 164, 'LRD': 153, \n",
        "                'LSE': 118, 'LWS': 41, 'MAF': 240, 'MBS': 129, 'MCI': 290, 'MCN': 1, 'MCO': 315, 'MDT': 185, 'MDW': 306, \n",
        "                'MEI': 79, 'MEM': 262, 'MFE': 193, 'MFR': 163, 'MGM': 179, 'MHK': 125, 'MHT': 225, 'MIA': 303, 'MKE': 282, \n",
        "                'MKG': 63, 'MLB': 110, 'MLI': 195, 'MLU': 175, 'MMH': 11, 'MOB': 213, 'MOT': 132, 'MQT': 22, 'MRY': 180, \n",
        "                'MSN': 249, 'MSO': 147, 'MSP': 317, 'MSY': 288, 'MTJ': 89, 'MVY': 17, 'MYR': 201, 'OAJ': 105, 'OAK': 293, \n",
        "                'OGG': 275, 'OKC': 266, 'OMA': 268, 'OME': 57, 'ONT': 270, 'ORD': 325, 'ORF': 248, 'ORH': 61, 'OTH': 21, \n",
        "                'OTZ': 54, 'Other': 0, 'PAH': 60, 'PBG': 18, 'PBI': 276, 'PDX': 295, 'PHF': 116, 'PHL': 301, 'PHX': 319, \n",
        "                'PIA': 203, 'PIB': 32, 'PIH': 73, 'PIT': 279, 'PLN': 72, 'PNS': 229, 'PPG': 10, 'PSC': 154, 'PSE': 74, \n",
        "                'PSG': 58, 'PSP': 247, 'PUB': 27, 'PVD': 254, 'PWM': 205, 'RAP': 181, 'RDD': 78, 'RDM': 145, 'RDU': 284, \n",
        "                'RHI': 95, 'RIC': 264, 'RKS': 82, 'RNO': 260, 'ROA': 150, 'ROC': 232, 'ROW': 98, 'RST': 143, 'RSW': 281, \n",
        "                'SAF': 128, 'SAN': 304, 'SAT': 283, 'SAV': 239, 'SBA': 226, 'SBN': 204, 'SBP': 190, 'SCC': 84, 'SCE': 87, \n",
        "                'SDF': 252, 'SEA': 316, 'SFO': 320, 'SGF': 224, 'SGU': 130, 'SHV': 221, 'SIT': 111, 'SJC': 289, 'SJT': 123, \n",
        "                'SJU': 277, 'SLC': 309, 'SMF': 287, 'SMX': 75, 'SNA': 286, 'SPI': 120, 'SPN': 2, 'SPS': 109, 'SRQ': 184, \n",
        "                'STC': 19, 'STL': 296, 'STT': 200, 'STX': 91, 'SUN': 92, 'SUX': 50, 'SWF': 70, 'SYR': 218, 'TLH': 188, \n",
        "                'TOL': 96, 'TPA': 300, 'TRI': 137, 'TTN': 174, 'TUL': 261, 'TUS': 263, 'TVC': 169, 'TWF': 77, 'TXK': 97, \n",
        "                'TYR': 157, 'TYS': 236, 'UST': 16, 'VEL': 23, 'VLD': 94, 'VPS': 208, 'WRG': 59, 'WYS': 15, 'XNA': 245, \n",
        "                'YAK': 56, 'YUM': 142}\n",
        "\n",
        "inv_airport_dict = {v: k for k, v in airport_dict.items()}"
      ],
      "execution_count": 0,
      "outputs": []
    },
    {
      "metadata": {
        "id": "KdwPLqQFwG7n",
        "colab_type": "code",
        "colab": {}
      },
      "cell_type": "code",
      "source": [
        "# df_list = []\n",
        "\n",
        "# def concat_dfs(directory):\n",
        "#     for filename in directory:\n",
        "#         print(filename)\n",
        "        \n",
        "#         df = pd.read_csv(filename, chunksize=1000)\n",
        "#         df = pd.concat(df, ignore_index=True)\n",
        "        \n",
        "#         df = df.drop(delete_col_list, axis=1)\n",
        "    \n",
        "#         df['TailNum'].fillna('Unknown', inplace=True)\n",
        "\n",
        "#         df['DepTimeBlk'] = df['DepTimeBlk'].map(time_dict).astype(int)\n",
        "#         df['ArrTimeBlk'] = df['ArrTimeBlk'].map(time_dict).astype(int)\n",
        "\n",
        "#         df['OriginState'] = df['OriginState'].map(state_dict).astype(int)\n",
        "#         df['DestState'] = df['DestState'].map(state_dict).astype(int)\n",
        "        \n",
        "#         df['Carrier'] = df['Carrier'].map(carrier_dict).fillna(15).astype(int)\n",
        "        \n",
        "#         df['Dest'] = df['Dest'].map(airport_dict).fillna(0).astype(int)\n",
        "#         df['Origin'] = df['Origin'].map(airport_dict).fillna(0).astype(int)\n",
        "        \n",
        "#         df['DepDelay'] = df['DepDelay'].fillna(0).astype(int)\n",
        "#         df['DepDelayMinutes'] = df['DepDelayMinutes'].fillna(0).astype(int)\n",
        "#         df['DepDel15'] = df['DepDel15'].fillna(0).astype(int)\n",
        "        \n",
        "#         df['DivReachedDest'] = df['DivReachedDest'].fillna(0).astype(int)\n",
        "        \n",
        "        \n",
        "\n",
        "#         for i in df:\n",
        "#             if i in delay_list:\n",
        "#                 df[i] = df[i].fillna(0.0).astype(int)\n",
        "                \n",
        "#         for i in df:\n",
        "#             if i in float_list:\n",
        "#                 df[i] = df[i].fillna(0.0).astype(int)\n",
        "\n",
        "#         df_list.append(df)\n",
        "        \n",
        "#     new_df = pd.concat(df_list)\n",
        "#     print(new_df.info(verbose=False, memory_usage='deep'))\n",
        "    \n",
        "#     return new_df\n"
      ],
      "execution_count": 0,
      "outputs": []
    },
    {
      "metadata": {
        "id": "YKLv5iTh7_0e",
        "colab_type": "code",
        "colab": {}
      },
      "cell_type": "code",
      "source": [
        "df_list = []\n",
        "\n",
        "def concat_dfs_2(directory):\n",
        "    for filename in directory:\n",
        "        print(filename)\n",
        "        \n",
        "        df = pd.read_csv(filename, chunksize=1000)\n",
        "        df = pd.concat(df, ignore_index=True)\n",
        "        \n",
        "        df = df.drop(delete_col_list2, axis=1)\n",
        "\n",
        "\n",
        "        df['DepTimeBlk'] = df['DepTimeBlk'].map(time_dict).astype(int)\n",
        "        df['ArrTimeBlk'] = df['ArrTimeBlk'].map(time_dict).astype(int)\n",
        "\n",
        "        df['OriginState'] = df['OriginState'].map(state_dict).astype(int)\n",
        "        df['DestState'] = df['DestState'].map(state_dict).astype(int)\n",
        "        \n",
        "        df['Reporting_Airline'] = df['Reporting_Airline'].map(carrier_dict).fillna(15).astype(int)\n",
        "        \n",
        "        df['Dest'] = df['Dest'].map(airport_dict).fillna(0).astype(int)\n",
        "        df['Origin'] = df['Origin'].map(airport_dict).fillna(0).astype(int)\n",
        "        \n",
        "        df['DepDelay'] = df['DepDelay'].fillna(0).astype(int)\n",
        "        df['DepDelayMinutes'] = df['DepDelayMinutes'].fillna(0).astype(int)\n",
        "        df['DepDel15'] = df['DepDel15'].fillna(0).astype(int)\n",
        "        \n",
        "        df['DivReachedDest'] = df['DivReachedDest'].fillna(0).astype(int)\n",
        "        \n",
        "        \n",
        "\n",
        "        for i in df:\n",
        "            if i in delay_list:\n",
        "                df[i] = df[i].fillna(0.0).astype(int)\n",
        "                \n",
        "        for i in df:\n",
        "            if i in float_list:\n",
        "                df[i] = df[i].fillna(0.0).astype(int)\n",
        "\n",
        "        df_list.append(df)\n",
        "        \n",
        "    new_df = pd.concat(df_list)\n",
        "    print(new_df.info(verbose=False, memory_usage='deep'))\n",
        "    \n",
        "    return new_df\n"
      ],
      "execution_count": 0,
      "outputs": []
    },
    {
      "metadata": {
        "id": "nWYL-8OGwTDf",
        "colab_type": "code",
        "outputId": "a3d8a914-63cb-4863-a522-b40a3acc4a9d",
        "colab": {
          "base_uri": "https://localhost:8080/",
          "height": 323
        }
      },
      "cell_type": "code",
      "source": [
        "df = concat_dfs_2(os.listdir())"
      ],
      "execution_count": 0,
      "outputs": [
        {
          "output_type": "stream",
          "text": [
            "On_Time_Reporting_Carrier_On_Time_Performance_(1987_present)_2015_3.csv\n",
            "On_Time_Reporting_Carrier_On_Time_Performance_(1987_present)_2015_1.csv\n",
            "On_Time_Reporting_Carrier_On_Time_Performance_(1987_present)_2015_11.csv\n",
            "On_Time_Reporting_Carrier_On_Time_Performance_(1987_present)_2015_4.csv\n",
            "On_Time_Reporting_Carrier_On_Time_Performance_(1987_present)_2015_2.csv\n",
            "On_Time_Reporting_Carrier_On_Time_Performance_(1987_present)_2015_9.csv\n",
            "On_Time_Reporting_Carrier_On_Time_Performance_(1987_present)_2015_6.csv\n",
            "On_Time_Reporting_Carrier_On_Time_Performance_(1987_present)_2018_12.csv\n",
            "On_Time_Reporting_Carrier_On_Time_Performance_(1987_present)_2015_10.csv\n",
            "On_Time_Reporting_Carrier_On_Time_Performance_(1987_present)_2015_8.csv\n",
            "On_Time_Reporting_Carrier_On_Time_Performance_(1987_present)_2015_5.csv\n",
            "On_Time_Reporting_Carrier_On_Time_Performance_(1987_present)_2015_7.csv\n",
            "<class 'pandas.core.frame.DataFrame'>\n",
            "Int64Index: 5933691 entries, 0 to 520717\n",
            "Columns: 29 entries, Year to DivReachedDest\n",
            "dtypes: int64(29)\n",
            "memory usage: 1.3 GB\n",
            "None\n"
          ],
          "name": "stdout"
        }
      ]
    },
    {
      "metadata": {
        "id": "yRFAAgfez0v0",
        "colab_type": "code",
        "outputId": "75b83980-4ac8-4767-bc0d-4dd898cd6590",
        "colab": {
          "base_uri": "https://localhost:8080/",
          "height": 68
        }
      },
      "cell_type": "code",
      "source": [
        "%cd ..\n",
        "%cd ..\n",
        "!ls"
      ],
      "execution_count": 0,
      "outputs": [
        {
          "output_type": "stream",
          "text": [
            "/content/data\n",
            "/content\n",
            "data  on_time_2015_raw.zip  sample_data\n"
          ],
          "name": "stdout"
        }
      ]
    },
    {
      "metadata": {
        "id": "cLSq7VMA0YgF",
        "colab_type": "code",
        "colab": {}
      },
      "cell_type": "code",
      "source": [
        "!mkdir concat_data"
      ],
      "execution_count": 0,
      "outputs": []
    },
    {
      "metadata": {
        "id": "Ynkcidct0cRd",
        "colab_type": "code",
        "outputId": "44852dcc-b2b7-4986-ed87-4b1320126a29",
        "colab": {
          "base_uri": "https://localhost:8080/",
          "height": 34
        }
      },
      "cell_type": "code",
      "source": [
        "!ls"
      ],
      "execution_count": 0,
      "outputs": [
        {
          "output_type": "stream",
          "text": [
            "concat_data  data  on_time_2015_raw.zip  sample_data\n"
          ],
          "name": "stdout"
        }
      ]
    },
    {
      "metadata": {
        "id": "7lQLqBlD0d2y",
        "colab_type": "code",
        "outputId": "62d48a86-b282-4ac2-9076-8d56b2901bdc",
        "colab": {
          "base_uri": "https://localhost:8080/",
          "height": 34
        }
      },
      "cell_type": "code",
      "source": [
        "%cd concat_data\n",
        "!ls"
      ],
      "execution_count": 0,
      "outputs": [
        {
          "output_type": "stream",
          "text": [
            "/content/concat_data\n"
          ],
          "name": "stdout"
        }
      ]
    },
    {
      "metadata": {
        "id": "wT429EiJUaTE",
        "colab_type": "code",
        "colab": {}
      },
      "cell_type": "code",
      "source": [
        "!ls"
      ],
      "execution_count": 0,
      "outputs": []
    },
    {
      "metadata": {
        "id": "rgYghoqzydzZ",
        "colab_type": "code",
        "colab": {}
      },
      "cell_type": "code",
      "source": [
        "df.to_csv('on_time_2015.csv')"
      ],
      "execution_count": 0,
      "outputs": []
    },
    {
      "metadata": {
        "id": "ipvElv6V0Mfn",
        "colab_type": "code",
        "outputId": "06c6042e-e6e8-4365-8778-df69695d4824",
        "colab": {
          "base_uri": "https://localhost:8080/",
          "height": 34
        }
      },
      "cell_type": "code",
      "source": [
        "!ls"
      ],
      "execution_count": 0,
      "outputs": [
        {
          "output_type": "stream",
          "text": [
            "on_time_2015.csv\n"
          ],
          "name": "stdout"
        }
      ]
    },
    {
      "metadata": {
        "id": "K_xByGF33TYW",
        "colab_type": "code",
        "outputId": "600b0308-c8a7-4a42-ff7f-04df85b53c62",
        "colab": {
          "base_uri": "https://localhost:8080/",
          "height": 34
        }
      },
      "cell_type": "code",
      "source": [
        "!zip on_time_2015.zip on_time_2015.csv"
      ],
      "execution_count": 0,
      "outputs": [
        {
          "output_type": "stream",
          "text": [
            "  adding: on_time_2015.csv (deflated 84%)\n"
          ],
          "name": "stdout"
        }
      ]
    },
    {
      "metadata": {
        "id": "wH3unJvZ3aT2",
        "colab_type": "code",
        "outputId": "eb95d3f2-b680-4394-d893-ba640b803e4a",
        "colab": {
          "base_uri": "https://localhost:8080/",
          "height": 34
        }
      },
      "cell_type": "code",
      "source": [
        "!ls"
      ],
      "execution_count": 0,
      "outputs": [
        {
          "output_type": "stream",
          "text": [
            "on_time_2015.csv  on_time_2015.zip\n"
          ],
          "name": "stdout"
        }
      ]
    },
    {
      "metadata": {
        "id": "MMofDKeG1bjh",
        "colab_type": "code",
        "colab": {}
      },
      "cell_type": "code",
      "source": [
        "from google.colab import files\n",
        "files.download(\"on_time_2015.zip\")"
      ],
      "execution_count": 0,
      "outputs": []
    },
    {
      "metadata": {
        "id": "FSsmtnC61hW2",
        "colab_type": "code",
        "colab": {}
      },
      "cell_type": "code",
      "source": [
        ""
      ],
      "execution_count": 0,
      "outputs": []
    },
    {
      "metadata": {
        "id": "sTR9fXZZRD9S",
        "colab_type": "text"
      },
      "cell_type": "markdown",
      "source": [
        "#Shrink 3 Year Data"
      ]
    },
    {
      "metadata": {
        "id": "rg8KdqbcRFBJ",
        "colab_type": "code",
        "outputId": "09c0cd9e-79f0-4d1d-e141-4142355a40f5",
        "colab": {
          "resources": {
            "http://localhost:8080/nbextensions/google.colab/files.js": {
              "data": "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",
              "ok": true,
              "headers": [
                [
                  "content-type",
                  "application/javascript"
                ]
              ],
              "status": 200,
              "status_text": ""
            }
          },
          "base_uri": "https://localhost:8080/",
          "height": 91
        }
      },
      "cell_type": "code",
      "source": [
        "# download zip\n",
        "from google.colab import files\n",
        "uploaded = files.upload()\n",
        "\n",
        "for fn in uploaded.keys():\n",
        "  print('User uploaded file \"{name}\" with length {length} bytes'.format(\n",
        "      name=fn, length=len(uploaded[fn])))"
      ],
      "execution_count": 0,
      "outputs": [
        {
          "output_type": "display_data",
          "data": {
            "text/html": [
              "\n",
              "     <input type=\"file\" id=\"files-db4cf170-51b1-4452-9647-4a7e8e09c317\" name=\"files[]\" multiple disabled />\n",
              "     <output id=\"result-db4cf170-51b1-4452-9647-4a7e8e09c317\">\n",
              "      Upload widget is only available when the cell has been executed in the\n",
              "      current browser session. Please rerun this cell to enable.\n",
              "      </output>\n",
              "      <script src=\"/nbextensions/google.colab/files.js\"></script> "
            ],
            "text/plain": [
              "<IPython.core.display.HTML object>"
            ]
          },
          "metadata": {
            "tags": []
          }
        },
        {
          "output_type": "stream",
          "text": [
            "Saving on_time_3yrs.zip to on_time_3yrs.zip\n",
            "User uploaded file \"on_time_3yrs.zip\" with length 290063001 bytes\n"
          ],
          "name": "stdout"
        }
      ]
    },
    {
      "metadata": {
        "colab_type": "code",
        "outputId": "1e911d6f-ac60-4af1-d925-e07626d37786",
        "id": "7PVywudpVs05",
        "colab": {
          "base_uri": "https://localhost:8080/",
          "height": 34
        }
      },
      "cell_type": "code",
      "source": [
        "!ls"
      ],
      "execution_count": 0,
      "outputs": [
        {
          "output_type": "stream",
          "text": [
            "on_time_3yrs.zip  sample_data\n"
          ],
          "name": "stdout"
        }
      ]
    },
    {
      "metadata": {
        "colab_type": "code",
        "outputId": "f2b92f4c-d82b-49b3-8fcd-46dbff75004c",
        "id": "7XhnTWLuVs1Q",
        "colab": {
          "base_uri": "https://localhost:8080/",
          "height": 85
        }
      },
      "cell_type": "code",
      "source": [
        "!unzip on_time_3yrs.zip -d data/"
      ],
      "execution_count": 0,
      "outputs": [
        {
          "output_type": "stream",
          "text": [
            "Archive:  on_time_3yrs.zip\n",
            "  inflating: data/on_time_3yrs/on_time_2013.csv  \n",
            "  inflating: data/on_time_3yrs/on_time_2014.csv  \n",
            "  inflating: data/on_time_3yrs/on_time_2015.csv  \n"
          ],
          "name": "stdout"
        }
      ]
    },
    {
      "metadata": {
        "colab_type": "code",
        "outputId": "ab49e14f-3abb-482e-958b-abf69cb622f2",
        "id": "voak0gobVs2N",
        "colab": {
          "base_uri": "https://localhost:8080/",
          "height": 34
        }
      },
      "cell_type": "code",
      "source": [
        "!ls"
      ],
      "execution_count": 0,
      "outputs": [
        {
          "output_type": "stream",
          "text": [
            "data  on_time_3yrs.zip\tsample_data\n"
          ],
          "name": "stdout"
        }
      ]
    },
    {
      "metadata": {
        "colab_type": "code",
        "id": "y4HiPZbdVs3R",
        "colab": {}
      },
      "cell_type": "code",
      "source": [
        "!rm on_time_3yrs.zip"
      ],
      "execution_count": 0,
      "outputs": []
    },
    {
      "metadata": {
        "colab_type": "code",
        "outputId": "7be7a4d3-504a-474d-c93f-9297b7b2e0c9",
        "id": "8LX8-cNDVs3r",
        "colab": {
          "base_uri": "https://localhost:8080/",
          "height": 51
        }
      },
      "cell_type": "code",
      "source": [
        "%cd data/on_time_3yrs"
      ],
      "execution_count": 0,
      "outputs": [
        {
          "output_type": "stream",
          "text": [
            "[Errno 2] No such file or directory: 'data/on_time_3yrs'\n",
            "/content/data/on_time_3yrs\n"
          ],
          "name": "stdout"
        }
      ]
    },
    {
      "metadata": {
        "id": "q0pFZfc6WbLW",
        "colab_type": "code",
        "outputId": "ce9b4f32-6db8-44b9-dc60-cbe3b638d3ce",
        "colab": {
          "base_uri": "https://localhost:8080/",
          "height": 34
        }
      },
      "cell_type": "code",
      "source": [
        "!ls"
      ],
      "execution_count": 0,
      "outputs": [
        {
          "output_type": "stream",
          "text": [
            "on_time_2013.csv  on_time_2014.csv  on_time_2015.csv\n"
          ],
          "name": "stdout"
        }
      ]
    },
    {
      "metadata": {
        "id": "GLv-5i5DRFvF",
        "colab_type": "code",
        "colab": {}
      },
      "cell_type": "code",
      "source": [
        "import pandas as pd\n",
        "import numpy as np\n",
        "import os\n",
        "import glob"
      ],
      "execution_count": 0,
      "outputs": []
    },
    {
      "metadata": {
        "id": "sxKAEDHzWqAK",
        "colab_type": "text"
      },
      "cell_type": "markdown",
      "source": [
        "# Shrink DFs"
      ]
    },
    {
      "metadata": {
        "id": "ILwD8t82eKwH",
        "colab_type": "code",
        "colab": {}
      },
      "cell_type": "code",
      "source": [
        "df = pd.read_csv('on_time_2014.csv')"
      ],
      "execution_count": 0,
      "outputs": []
    },
    {
      "metadata": {
        "id": "t7JC4yA3fm-A",
        "colab_type": "code",
        "outputId": "cf073174-a0d8-4bc1-b600-48250e33e8d3",
        "colab": {
          "base_uri": "https://localhost:8080/",
          "height": 646
        }
      },
      "cell_type": "code",
      "source": [
        "df.info(memory_usage='deep')"
      ],
      "execution_count": 0,
      "outputs": [
        {
          "output_type": "stream",
          "text": [
            "<class 'pandas.core.frame.DataFrame'>\n",
            "RangeIndex: 5944942 entries, 0 to 5944941\n",
            "Data columns (total 32 columns):\n",
            "Unnamed: 0            int64\n",
            "Year                  int64\n",
            "Quarter               int64\n",
            "Month                 int64\n",
            "DayofMonth            int64\n",
            "DayOfWeek             int64\n",
            "AirlineID             int64\n",
            "Carrier               object\n",
            "TailNum               object\n",
            "Origin                object\n",
            "OriginState           int64\n",
            "OriginWac             int64\n",
            "Dest                  object\n",
            "DestState             int64\n",
            "DestWac               int64\n",
            "CRSDepTime            int64\n",
            "DepTimeBlk            int64\n",
            "CRSArrTime            int64\n",
            "ArrTimeBlk            int64\n",
            "Cancelled             float64\n",
            "Diverted              float64\n",
            "CRSElapsedTime        float64\n",
            "Flights               float64\n",
            "Distance              float64\n",
            "DistanceGroup         int64\n",
            "CarrierDelay          int64\n",
            "WeatherDelay          int64\n",
            "NASDelay              int64\n",
            "SecurityDelay         int64\n",
            "LateAircraftDelay     int64\n",
            "DivAirportLandings    int64\n",
            "DivReachedDest        float64\n",
            "dtypes: float64(6), int64(22), object(4)\n",
            "memory usage: 2.6 GB\n"
          ],
          "name": "stdout"
        }
      ]
    },
    {
      "metadata": {
        "id": "Nn3YQ1n7lda4",
        "colab_type": "code",
        "outputId": "3e77834b-bfd3-4193-d096-52ff328ea48c",
        "colab": {
          "base_uri": "https://localhost:8080/",
          "height": 578
        }
      },
      "cell_type": "code",
      "source": [
        "df.isnull().sum()"
      ],
      "execution_count": 0,
      "outputs": [
        {
          "output_type": "execute_result",
          "data": {
            "text/plain": [
              "Unnamed: 0                  0\n",
              "Year                        0\n",
              "Quarter                     0\n",
              "Month                       0\n",
              "DayofMonth                  0\n",
              "DayOfWeek                   0\n",
              "AirlineID                   0\n",
              "Carrier                     0\n",
              "TailNum                     0\n",
              "Origin                      0\n",
              "OriginState                 0\n",
              "OriginWac                   0\n",
              "Dest                        0\n",
              "DestState                   0\n",
              "DestWac                     0\n",
              "CRSDepTime                  0\n",
              "DepTimeBlk                  0\n",
              "CRSArrTime                  0\n",
              "ArrTimeBlk                  0\n",
              "Cancelled                   0\n",
              "Diverted                    0\n",
              "CRSElapsedTime              0\n",
              "Flights                     0\n",
              "Distance                    0\n",
              "DistanceGroup               0\n",
              "CarrierDelay                0\n",
              "WeatherDelay                0\n",
              "NASDelay                    0\n",
              "SecurityDelay               0\n",
              "LateAircraftDelay           0\n",
              "DivAirportLandings          0\n",
              "DivReachedDest        5801515\n",
              "dtype: int64"
            ]
          },
          "metadata": {
            "tags": []
          },
          "execution_count": 24
        }
      ]
    },
    {
      "metadata": {
        "id": "uI6iTFubg6MS",
        "colab_type": "code",
        "colab": {}
      },
      "cell_type": "code",
      "source": [
        "delay_list = [ 'CarrierDelay', 'WeatherDelay', 'NASDelay', 'SecurityDelay', 'LateAircraftDelay']\n",
        "float2_list = ['Flights', 'Distance', 'Cancelled', 'Diverted']"
      ],
      "execution_count": 0,
      "outputs": []
    },
    {
      "metadata": {
        "id": "Ioa0VDuYiqrZ",
        "colab_type": "code",
        "colab": {}
      },
      "cell_type": "code",
      "source": [
        "airport_list = df['Origin'].value_counts().index.tolist()\n",
        "airport_list.append('Other')\n",
        "airport_list = airport_list[::-1]\n",
        "\n",
        "airport_dict = dict()\n",
        "for x in range(0, (len(airport_list))):\n",
        "    airport_dict[airport_list[x]] = x"
      ],
      "execution_count": 0,
      "outputs": []
    },
    {
      "metadata": {
        "id": "6Isqedbkq2kq",
        "colab_type": "code",
        "outputId": "424fab0e-e129-45f2-c335-991041f0adf3",
        "colab": {
          "base_uri": "https://localhost:8080/",
          "height": 5576
        }
      },
      "cell_type": "code",
      "source": [
        "airport_dict"
      ],
      "execution_count": 0,
      "outputs": [
        {
          "output_type": "execute_result",
          "data": {
            "text/plain": [
              "{'ABE': 149,\n",
              " 'ABI': 162,\n",
              " 'ABQ': 273,\n",
              " 'ABR': 68,\n",
              " 'ABY': 86,\n",
              " 'ACK': 30,\n",
              " 'ACT': 121,\n",
              " 'ACV': 122,\n",
              " 'ACY': 173,\n",
              " 'ADK': 9,\n",
              " 'ADQ': 29,\n",
              " 'AEX': 178,\n",
              " 'AGS': 156,\n",
              " 'AKN': 5,\n",
              " 'ALB': 233,\n",
              " 'ALO': 47,\n",
              " 'AMA': 210,\n",
              " 'ANC': 265,\n",
              " 'APN': 37,\n",
              " 'ASE': 189,\n",
              " 'ATL': 326,\n",
              " 'ATW': 172,\n",
              " 'AUS': 292,\n",
              " 'AVL': 171,\n",
              " 'AVP': 117,\n",
              " 'AZO': 133,\n",
              " 'BDL': 272,\n",
              " 'BET': 88,\n",
              " 'BFL': 167,\n",
              " 'BGM': 12,\n",
              " 'BGR': 28,\n",
              " 'BHM': 259,\n",
              " 'BIL': 168,\n",
              " 'BIS': 183,\n",
              " 'BJI': 65,\n",
              " 'BKG': 4,\n",
              " 'BLI': 69,\n",
              " 'BMI': 170,\n",
              " 'BNA': 297,\n",
              " 'BOI': 256,\n",
              " 'BOS': 314,\n",
              " 'BPT': 99,\n",
              " 'BQK': 85,\n",
              " 'BQN': 108,\n",
              " 'BRD': 52,\n",
              " 'BRO': 161,\n",
              " 'BRW': 83,\n",
              " 'BTM': 64,\n",
              " 'BTR': 234,\n",
              " 'BTV': 177,\n",
              " 'BUF': 267,\n",
              " 'BUR': 271,\n",
              " 'BWI': 307,\n",
              " 'BZN': 187,\n",
              " 'CAE': 216,\n",
              " 'CAK': 223,\n",
              " 'CDC': 36,\n",
              " 'CDV': 55,\n",
              " 'CEC': 26,\n",
              " 'CHA': 199,\n",
              " 'CHO': 151,\n",
              " 'CHS': 257,\n",
              " 'CIC': 13,\n",
              " 'CID': 228,\n",
              " 'CIU': 44,\n",
              " 'CLD': 104,\n",
              " 'CLE': 285,\n",
              " 'CLL': 159,\n",
              " 'CLT': 311,\n",
              " 'CMH': 278,\n",
              " 'CMI': 148,\n",
              " 'CMX': 66,\n",
              " 'CNY': 24,\n",
              " 'COD': 71,\n",
              " 'COS': 231,\n",
              " 'COU': 112,\n",
              " 'CPR': 140,\n",
              " 'CRP': 214,\n",
              " 'CRW': 160,\n",
              " 'CSG': 102,\n",
              " 'CVG': 274,\n",
              " 'CWA': 113,\n",
              " 'DAB': 119,\n",
              " 'DAL': 299,\n",
              " 'DAY': 243,\n",
              " 'DBQ': 90,\n",
              " 'DCA': 305,\n",
              " 'DEN': 323,\n",
              " 'DFW': 324,\n",
              " 'DHN': 107,\n",
              " 'DIK': 106,\n",
              " 'DLG': 7,\n",
              " 'DLH': 126,\n",
              " 'DRO': 139,\n",
              " 'DSM': 242,\n",
              " 'DTW': 313,\n",
              " 'DVL': 34,\n",
              " 'EAU': 67,\n",
              " 'ECP': 197,\n",
              " 'EGE': 103,\n",
              " 'EKO': 46,\n",
              " 'ELM': 141,\n",
              " 'ELP': 258,\n",
              " 'ERI': 76,\n",
              " 'ESC': 31,\n",
              " 'EUG': 194,\n",
              " 'EVV': 191,\n",
              " 'EWN': 45,\n",
              " 'EWR': 310,\n",
              " 'EYW': 152,\n",
              " 'FAI': 146,\n",
              " 'FAR': 217,\n",
              " 'FAT': 237,\n",
              " 'FAY': 127,\n",
              " 'FCA': 136,\n",
              " 'FLG': 124,\n",
              " 'FLL': 302,\n",
              " 'FNT': 206,\n",
              " 'FSD': 219,\n",
              " 'FSM': 144,\n",
              " 'FWA': 212,\n",
              " 'GCC': 101,\n",
              " 'GCK': 62,\n",
              " 'GEG': 246,\n",
              " 'GFK': 33,\n",
              " 'GGG': 51,\n",
              " 'GJT': 182,\n",
              " 'GNV': 165,\n",
              " 'GPT': 192,\n",
              " 'GRB': 209,\n",
              " 'GRI': 49,\n",
              " 'GRK': 198,\n",
              " 'GRR': 253,\n",
              " 'GSO': 235,\n",
              " 'GSP': 227,\n",
              " 'GST': 6,\n",
              " 'GTF': 138,\n",
              " 'GTR': 93,\n",
              " 'GUC': 35,\n",
              " 'GUM': 25,\n",
              " 'HDN': 42,\n",
              " 'HIB': 80,\n",
              " 'HLN': 114,\n",
              " 'HNL': 294,\n",
              " 'HOB': 38,\n",
              " 'HOU': 298,\n",
              " 'HPN': 238,\n",
              " 'HRL': 176,\n",
              " 'HSV': 207,\n",
              " 'HYA': 8,\n",
              " 'HYS': 39,\n",
              " 'IAD': 291,\n",
              " 'IAG': 20,\n",
              " 'IAH': 321,\n",
              " 'ICT': 241,\n",
              " 'IDA': 158,\n",
              " 'ILG': 14,\n",
              " 'ILM': 135,\n",
              " 'IMT': 48,\n",
              " 'IND': 280,\n",
              " 'INL': 40,\n",
              " 'ISN': 166,\n",
              " 'ISP': 202,\n",
              " 'ITH': 3,\n",
              " 'ITO': 220,\n",
              " 'JAC': 186,\n",
              " 'JAN': 230,\n",
              " 'JAX': 269,\n",
              " 'JFK': 308,\n",
              " 'JLN': 53,\n",
              " 'JMS': 81,\n",
              " 'JNU': 196,\n",
              " 'KOA': 255,\n",
              " 'KTN': 155,\n",
              " 'LAN': 131,\n",
              " 'LAR': 43,\n",
              " 'LAS': 318,\n",
              " 'LAW': 115,\n",
              " 'LAX': 322,\n",
              " 'LBB': 211,\n",
              " 'LBE': 100,\n",
              " 'LCH': 134,\n",
              " 'LEX': 222,\n",
              " 'LFT': 215,\n",
              " 'LGA': 312,\n",
              " 'LGB': 244,\n",
              " 'LIH': 250,\n",
              " 'LIT': 251,\n",
              " 'LNK': 164,\n",
              " 'LRD': 153,\n",
              " 'LSE': 118,\n",
              " 'LWS': 41,\n",
              " 'MAF': 240,\n",
              " 'MBS': 129,\n",
              " 'MCI': 290,\n",
              " 'MCN': 1,\n",
              " 'MCO': 315,\n",
              " 'MDT': 185,\n",
              " 'MDW': 306,\n",
              " 'MEI': 79,\n",
              " 'MEM': 262,\n",
              " 'MFE': 193,\n",
              " 'MFR': 163,\n",
              " 'MGM': 179,\n",
              " 'MHK': 125,\n",
              " 'MHT': 225,\n",
              " 'MIA': 303,\n",
              " 'MKE': 282,\n",
              " 'MKG': 63,\n",
              " 'MLB': 110,\n",
              " 'MLI': 195,\n",
              " 'MLU': 175,\n",
              " 'MMH': 11,\n",
              " 'MOB': 213,\n",
              " 'MOT': 132,\n",
              " 'MQT': 22,\n",
              " 'MRY': 180,\n",
              " 'MSN': 249,\n",
              " 'MSO': 147,\n",
              " 'MSP': 317,\n",
              " 'MSY': 288,\n",
              " 'MTJ': 89,\n",
              " 'MVY': 17,\n",
              " 'MYR': 201,\n",
              " 'OAJ': 105,\n",
              " 'OAK': 293,\n",
              " 'OGG': 275,\n",
              " 'OKC': 266,\n",
              " 'OMA': 268,\n",
              " 'OME': 57,\n",
              " 'ONT': 270,\n",
              " 'ORD': 325,\n",
              " 'ORF': 248,\n",
              " 'ORH': 61,\n",
              " 'OTH': 21,\n",
              " 'OTZ': 54,\n",
              " 'Other': 0,\n",
              " 'PAH': 60,\n",
              " 'PBG': 18,\n",
              " 'PBI': 276,\n",
              " 'PDX': 295,\n",
              " 'PHF': 116,\n",
              " 'PHL': 301,\n",
              " 'PHX': 319,\n",
              " 'PIA': 203,\n",
              " 'PIB': 32,\n",
              " 'PIH': 73,\n",
              " 'PIT': 279,\n",
              " 'PLN': 72,\n",
              " 'PNS': 229,\n",
              " 'PPG': 10,\n",
              " 'PSC': 154,\n",
              " 'PSE': 74,\n",
              " 'PSG': 58,\n",
              " 'PSP': 247,\n",
              " 'PUB': 27,\n",
              " 'PVD': 254,\n",
              " 'PWM': 205,\n",
              " 'RAP': 181,\n",
              " 'RDD': 78,\n",
              " 'RDM': 145,\n",
              " 'RDU': 284,\n",
              " 'RHI': 95,\n",
              " 'RIC': 264,\n",
              " 'RKS': 82,\n",
              " 'RNO': 260,\n",
              " 'ROA': 150,\n",
              " 'ROC': 232,\n",
              " 'ROW': 98,\n",
              " 'RST': 143,\n",
              " 'RSW': 281,\n",
              " 'SAF': 128,\n",
              " 'SAN': 304,\n",
              " 'SAT': 283,\n",
              " 'SAV': 239,\n",
              " 'SBA': 226,\n",
              " 'SBN': 204,\n",
              " 'SBP': 190,\n",
              " 'SCC': 84,\n",
              " 'SCE': 87,\n",
              " 'SDF': 252,\n",
              " 'SEA': 316,\n",
              " 'SFO': 320,\n",
              " 'SGF': 224,\n",
              " 'SGU': 130,\n",
              " 'SHV': 221,\n",
              " 'SIT': 111,\n",
              " 'SJC': 289,\n",
              " 'SJT': 123,\n",
              " 'SJU': 277,\n",
              " 'SLC': 309,\n",
              " 'SMF': 287,\n",
              " 'SMX': 75,\n",
              " 'SNA': 286,\n",
              " 'SPI': 120,\n",
              " 'SPN': 2,\n",
              " 'SPS': 109,\n",
              " 'SRQ': 184,\n",
              " 'STC': 19,\n",
              " 'STL': 296,\n",
              " 'STT': 200,\n",
              " 'STX': 91,\n",
              " 'SUN': 92,\n",
              " 'SUX': 50,\n",
              " 'SWF': 70,\n",
              " 'SYR': 218,\n",
              " 'TLH': 188,\n",
              " 'TOL': 96,\n",
              " 'TPA': 300,\n",
              " 'TRI': 137,\n",
              " 'TTN': 174,\n",
              " 'TUL': 261,\n",
              " 'TUS': 263,\n",
              " 'TVC': 169,\n",
              " 'TWF': 77,\n",
              " 'TXK': 97,\n",
              " 'TYR': 157,\n",
              " 'TYS': 236,\n",
              " 'UST': 16,\n",
              " 'VEL': 23,\n",
              " 'VLD': 94,\n",
              " 'VPS': 208,\n",
              " 'WRG': 59,\n",
              " 'WYS': 15,\n",
              " 'XNA': 245,\n",
              " 'YAK': 56,\n",
              " 'YUM': 142}"
            ]
          },
          "metadata": {
            "tags": []
          },
          "execution_count": 53
        }
      ]
    },
    {
      "metadata": {
        "id": "G42v_cHeiq1b",
        "colab_type": "code",
        "colab": {}
      },
      "cell_type": "code",
      "source": [
        "tailnum_list = df['TailNum'].value_counts().index.tolist()\n",
        "tailnum_dict = dict()\n",
        "for x in range(0, (len(tailnum_list))):\n",
        "    tailnum_dict[tailnum_list[x]] = x"
      ],
      "execution_count": 0,
      "outputs": []
    },
    {
      "metadata": {
        "id": "uOH1L3kLiq-1",
        "colab_type": "code",
        "colab": {}
      },
      "cell_type": "code",
      "source": [
        "carrier_list = df['Carrier'].value_counts().index.tolist()\n",
        "carrier_dict = dict()\n",
        "for x in range(0, (len(carrier_list))):\n",
        "    carrier_dict[carrier_list[x]] = x   "
      ],
      "execution_count": 0,
      "outputs": []
    },
    {
      "metadata": {
        "id": "1MzMttFCqBXO",
        "colab_type": "code",
        "colab": {}
      },
      "cell_type": "code",
      "source": [
        "carrier_dict['Other'] = 15"
      ],
      "execution_count": 0,
      "outputs": []
    },
    {
      "metadata": {
        "id": "AmKooBXpp0wG",
        "colab_type": "code",
        "outputId": "b3947b59-85ab-4255-d881-38dc1a35bdf2",
        "colab": {
          "base_uri": "https://localhost:8080/",
          "height": 289
        }
      },
      "cell_type": "code",
      "source": [
        "carrier_dict"
      ],
      "execution_count": 0,
      "outputs": [
        {
          "output_type": "execute_result",
          "data": {
            "text/plain": [
              "{'AA': 2,\n",
              " 'AS': 9,\n",
              " 'B6': 8,\n",
              " 'DL': 1,\n",
              " 'EV': 3,\n",
              " 'F9': 10,\n",
              " 'FL': 14,\n",
              " 'HA': 12,\n",
              " 'MQ': 6,\n",
              " 'NK': 11,\n",
              " 'OO': 4,\n",
              " 'Other': 15,\n",
              " 'UA': 5,\n",
              " 'US': 7,\n",
              " 'VX': 13,\n",
              " 'WN': 0}"
            ]
          },
          "metadata": {
            "tags": []
          },
          "execution_count": 49
        }
      ]
    },
    {
      "metadata": {
        "id": "tBfH48tHirH1",
        "colab_type": "code",
        "colab": {}
      },
      "cell_type": "code",
      "source": [
        "def shrink_df(filename):\n",
        "    df = pd.read_csv(filename, chunksize=1000)\n",
        "    df = pd.concat(df, ignore_index=True)\n",
        "\n",
        "    df.drop(['Unnamed: 0'], axis=1)    \n",
        "    df['CRSElapsedTime'] = df['CRSElapsedTime'].fillna(df['CRSElapsedTime'].mean()).astype(int)\n",
        "        \n",
        "    df['TailNum'] = df['TailNum'].map(tailnum_dict).fillna(0).astype(int)\n",
        "    df['Carrier'] = df['Carrier'].map(carrier_dict).fillna(15).astype(int)\n",
        "    df['Dest'] = df['Dest'].map(airport_dict).fillna(0).astype(int)\n",
        "    df['Origin'] = df['Origin'].map(airport_dict).fillna(0).astype(int)\n",
        "\n",
        "    for i in df:\n",
        "        if i in delay_list:\n",
        "            df[i] = df[i].fillna(0.0).astype(int)\n",
        "            \n",
        "    for i in df:\n",
        "        if i in float2_list:\n",
        "            df[i] = df[i].fillna(0.0).astype(int)\n",
        "            \n",
        "    return df\n"
      ],
      "execution_count": 0,
      "outputs": []
    },
    {
      "metadata": {
        "id": "qjUHzeIRirQv",
        "colab_type": "code",
        "colab": {}
      },
      "cell_type": "code",
      "source": [
        "df = shrink_df('on_time_2013.csv')"
      ],
      "execution_count": 0,
      "outputs": []
    },
    {
      "metadata": {
        "id": "zjeVgmC7kE12",
        "colab_type": "code",
        "outputId": "f8531834-1a03-4401-e5f9-4ebe72785f4c",
        "colab": {
          "base_uri": "https://localhost:8080/",
          "height": 646
        }
      },
      "cell_type": "code",
      "source": [
        "df.info(memory_usage='deep')"
      ],
      "execution_count": 0,
      "outputs": [
        {
          "output_type": "stream",
          "text": [
            "<class 'pandas.core.frame.DataFrame'>\n",
            "RangeIndex: 6311581 entries, 0 to 6311580\n",
            "Data columns (total 32 columns):\n",
            "Unnamed: 0            int64\n",
            "Year                  int64\n",
            "Quarter               int64\n",
            "Month                 int64\n",
            "DayofMonth            int64\n",
            "DayOfWeek             int64\n",
            "AirlineID             int64\n",
            "Carrier               int64\n",
            "TailNum               int64\n",
            "Origin                int64\n",
            "OriginState           int64\n",
            "OriginWac             int64\n",
            "Dest                  int64\n",
            "DestState             int64\n",
            "DestWac               int64\n",
            "CRSDepTime            int64\n",
            "DepTimeBlk            int64\n",
            "CRSArrTime            int64\n",
            "ArrTimeBlk            int64\n",
            "Cancelled             int64\n",
            "Diverted              int64\n",
            "CRSElapsedTime        int64\n",
            "Flights               int64\n",
            "Distance              int64\n",
            "DistanceGroup         int64\n",
            "CarrierDelay          int64\n",
            "WeatherDelay          int64\n",
            "NASDelay              int64\n",
            "SecurityDelay         int64\n",
            "LateAircraftDelay     int64\n",
            "DivAirportLandings    int64\n",
            "DivReachedDest        float64\n",
            "dtypes: float64(1), int64(31)\n",
            "memory usage: 1.5 GB\n"
          ],
          "name": "stdout"
        }
      ]
    },
    {
      "metadata": {
        "id": "MX-bRueTms-U",
        "colab_type": "code",
        "colab": {}
      },
      "cell_type": "code",
      "source": [
        ""
      ],
      "execution_count": 0,
      "outputs": []
    },
    {
      "metadata": {
        "colab_type": "code",
        "id": "KmHCqVRCm3m6",
        "colab": {}
      },
      "cell_type": "code",
      "source": [
        "df.to_csv('on_time_2013_cl.csv')"
      ],
      "execution_count": 0,
      "outputs": []
    },
    {
      "metadata": {
        "colab_type": "code",
        "outputId": "e2b000f4-fa3a-47ee-ac25-ad2c2c611020",
        "id": "mdu0wSFQm3m-",
        "colab": {
          "base_uri": "https://localhost:8080/",
          "height": 68
        }
      },
      "cell_type": "code",
      "source": [
        "!ls"
      ],
      "execution_count": 0,
      "outputs": [
        {
          "output_type": "stream",
          "text": [
            "on_time_2013_cl.csv  on_time_2014_cl.zip  on_time_2015_cl.zip\n",
            "on_time_2013.csv     on_time_2014.csv\t  on_time_2015.csv\n",
            "on_time_2014_cl.csv  on_time_2015_cl.csv\n"
          ],
          "name": "stdout"
        }
      ]
    },
    {
      "metadata": {
        "colab_type": "code",
        "outputId": "bcd3b16e-af92-4f43-cb09-128825dd051a",
        "id": "WXls_p0Ym3nR",
        "colab": {
          "base_uri": "https://localhost:8080/",
          "height": 34
        }
      },
      "cell_type": "code",
      "source": [
        "!zip on_time_2013_cl.zip on_time_2013_cl.csv"
      ],
      "execution_count": 0,
      "outputs": [
        {
          "output_type": "stream",
          "text": [
            "  adding: on_time_2013_cl.csv (deflated 83%)\n"
          ],
          "name": "stdout"
        }
      ]
    },
    {
      "metadata": {
        "colab_type": "code",
        "outputId": "d2c885c6-f651-4d1c-92c2-177ce889401d",
        "id": "cNaOU103m3nW",
        "colab": {
          "base_uri": "https://localhost:8080/",
          "height": 68
        }
      },
      "cell_type": "code",
      "source": [
        "!ls"
      ],
      "execution_count": 0,
      "outputs": [
        {
          "output_type": "stream",
          "text": [
            "on_time_2013_cl.csv  on_time_2014_cl.csv  on_time_2015_cl.csv\n",
            "on_time_2013_cl.zip  on_time_2014_cl.zip  on_time_2015_cl.zip\n",
            "on_time_2013.csv     on_time_2014.csv\t  on_time_2015.csv\n"
          ],
          "name": "stdout"
        }
      ]
    },
    {
      "metadata": {
        "colab_type": "code",
        "id": "1VmiRS7ym3na",
        "colab": {}
      },
      "cell_type": "code",
      "source": [
        "from google.colab import files\n",
        "files.download(\"on_time_2013_cl.zip\")"
      ],
      "execution_count": 0,
      "outputs": []
    },
    {
      "metadata": {
        "id": "QVJ-Qk9Qm24Q",
        "colab_type": "code",
        "colab": {}
      },
      "cell_type": "code",
      "source": [
        ""
      ],
      "execution_count": 0,
      "outputs": []
    },
    {
      "metadata": {
        "id": "RjWTNNFFm3KA",
        "colab_type": "code",
        "colab": {}
      },
      "cell_type": "code",
      "source": [
        ""
      ],
      "execution_count": 0,
      "outputs": []
    },
    {
      "metadata": {
        "id": "41qBodGtm3Ge",
        "colab_type": "code",
        "colab": {}
      },
      "cell_type": "code",
      "source": [
        ""
      ],
      "execution_count": 0,
      "outputs": []
    },
    {
      "metadata": {
        "id": "lDMKv9GYm3Cj",
        "colab_type": "code",
        "colab": {}
      },
      "cell_type": "code",
      "source": [
        ""
      ],
      "execution_count": 0,
      "outputs": []
    },
    {
      "metadata": {
        "id": "O-O5tA3gm2_P",
        "colab_type": "code",
        "colab": {}
      },
      "cell_type": "code",
      "source": [
        ""
      ],
      "execution_count": 0,
      "outputs": []
    },
    {
      "metadata": {
        "id": "E6KuZ_GviVdO",
        "colab_type": "code",
        "colab": {}
      },
      "cell_type": "code",
      "source": [
        "df_list = []\n",
        "\n",
        "def concat_dfs(directory):\n",
        "    for filename in directory:\n",
        "        print(filename)\n",
        "        \n",
        "        df = pd.read_csv(filename, chunksize=1000)\n",
        "        df = pd.concat(df, ignore_index=True)\n",
        "        \n",
        "        df.drop(['Unnamed: 0'], axis=1)\n",
        "        \n",
        "        df['CRSElapsedTime'] = df['CRSElapsedTime'].fillna(df['CRSElapsedTime'].mean()).astype(int)\n",
        "        \n",
        "        df['TailNum'].fillna('Unknown', inplace=True)\n",
        "        tailnum_list = df['TailNum'].value_counts().index.tolist()\n",
        "        tailnum_dict = dict()\n",
        "        for x in range(0, (len(tailnum_list))):\n",
        "            tailnum_dict[tailnum_list[x]] = x\n",
        "\n",
        "        df['TailNum'] = df['TailNum'].map(tailnum_dict).astype(int)\n",
        "#         df['Carrier'] = df['Carrier'].map(carrier_dict).astype(int)\n",
        "\n",
        "        airport_list = df['Origin'].value_counts().index.tolist()\n",
        "        airport_list.append('Other')\n",
        "        airport_list = airport_list[::-1]\n",
        "\n",
        "        airport_dict = dict()\n",
        "        for x in range(0, (len(airport_list))):\n",
        "            airport_dict[airport_list[x]] = x\n",
        "            \n",
        "        carrier_list = df['Carrier'].value_counts().index.tolist()\n",
        "        carrier_dict = dict()\n",
        "        for x in range(0, (len(carrier_list))):\n",
        "            carrier_dict[carrier_list[x]] = x\n",
        "            \n",
        "        df['Carrier'] = df['Carrier'].map(carrier_dict).astype(int)\n",
        "            \n",
        "        df['Dest'] = df['Dest'].map(airport_dict)\n",
        "        df['Origin'] = df['Origin'].map(airport_dict)\n",
        "        \n",
        "        for i in df:\n",
        "            if i in delay_list:\n",
        "                df[i] = df[i].fillna(0.0).astype(int)\n",
        "\n",
        "   \n",
        "        df_list.append(df)\n",
        "        \n",
        "    new_df = pd.concat(df_list)\n",
        "    print(new_df.info(verbose=False, memory_usage='deep'))\n",
        "    \n",
        "    return new_df"
      ],
      "execution_count": 0,
      "outputs": []
    },
    {
      "metadata": {
        "id": "7nC-CPK7Wrak",
        "colab_type": "code",
        "colab": {}
      },
      "cell_type": "code",
      "source": [
        "df_list = []\n",
        "\n",
        "def concat_dfs(directory):\n",
        "    for filename in directory:\n",
        "        print(filename)\n",
        "        \n",
        "        df = pd.read_csv(filename, chunksize=1000)\n",
        "        df = pd.concat(df, ignore_index=True)\n",
        "        \n",
        "        df.drop(['Unnamed: 0'], axis=1)\n",
        "        \n",
        "        df['CRSElapsedTime'] = df['CRSElapsedTime'].fillna(df['CRSElapsedTime'].mean()).astype(int)\n",
        "        \n",
        "        df['TailNum'].fillna('Unknown', inplace=True)\n",
        "        tailnum_list = df['TailNum'].value_counts().index.tolist()\n",
        "        tailnum_dict = dict()\n",
        "        for x in range(0, (len(tailnum_list))):\n",
        "            tailnum_dict[tailnum_list[x]] = x\n",
        "\n",
        "        df['TailNum'] = df['TailNum'].map(tailnum_dict).astype(int)\n",
        "#         df['Carrier'] = df['Carrier'].map(carrier_dict).astype(int)\n",
        "\n",
        "        airport_list = df['Origin'].value_counts().index.tolist()\n",
        "        airport_list.append('Other')\n",
        "        airport_list = airport_list[::-1]\n",
        "\n",
        "        airport_dict = dict()\n",
        "        for x in range(0, (len(airport_list))):\n",
        "            airport_dict[airport_list[x]] = x\n",
        "            \n",
        "        carrier_list = df['Carrier'].value_counts().index.tolist()\n",
        "        carrier_dict = dict()\n",
        "        for x in range(0, (len(carrier_list))):\n",
        "            carrier_dict[carrier_list[x]] = x\n",
        "            \n",
        "        df['Carrier'] = df['Carrier'].map(carrier_dict).astype(int)\n",
        "            \n",
        "        df['Dest'] = df['Dest'].map(airport_dict)\n",
        "        df['Origin'] = df['Origin'].map(airport_dict)\n",
        "        \n",
        "        for i in df:\n",
        "            if i in delay_list:\n",
        "                df[i] = df[i].fillna(0.0).astype(int)\n",
        "\n",
        "   \n",
        "        df_list.append(df)\n",
        "        \n",
        "    new_df = pd.concat(df_list)\n",
        "    print(new_df.info(verbose=False, memory_usage='deep'))\n",
        "    \n",
        "    return new_df\n"
      ],
      "execution_count": 0,
      "outputs": []
    },
    {
      "metadata": {
        "id": "XdSmMUEVb86u",
        "colab_type": "code",
        "outputId": "64ebfc19-67e5-4492-dd7e-f425891a7b5b",
        "colab": {
          "base_uri": "https://localhost:8080/",
          "height": 68
        }
      },
      "cell_type": "code",
      "source": [
        "df = concat_dfs(os.listdir())"
      ],
      "execution_count": 0,
      "outputs": [
        {
          "output_type": "stream",
          "text": [
            "on_time_2013.csv\n",
            "on_time_2015.csv\n",
            "on_time_2014.csv\n"
          ],
          "name": "stdout"
        }
      ]
    },
    {
      "metadata": {
        "id": "8MQPSkBXeW4S",
        "colab_type": "code",
        "outputId": "c787433d-7363-4688-e8a3-b70999d68482",
        "colab": {
          "base_uri": "https://localhost:8080/",
          "height": 164
        }
      },
      "cell_type": "code",
      "source": [
        "df.info(memory_usage='deep')"
      ],
      "execution_count": 0,
      "outputs": [
        {
          "output_type": "error",
          "ename": "NameError",
          "evalue": "ignored",
          "traceback": [
            "\u001b[0;31m---------------------------------------------------------------------------\u001b[0m",
            "\u001b[0;31mNameError\u001b[0m                                 Traceback (most recent call last)",
            "\u001b[0;32m<ipython-input-1-a74c58233b9e>\u001b[0m in \u001b[0;36m<module>\u001b[0;34m()\u001b[0m\n\u001b[0;32m----> 1\u001b[0;31m \u001b[0mdf\u001b[0m\u001b[0;34m.\u001b[0m\u001b[0minfo\u001b[0m\u001b[0;34m(\u001b[0m\u001b[0;34m)\u001b[0m\u001b[0;34m\u001b[0m\u001b[0;34m\u001b[0m\u001b[0m\n\u001b[0m",
            "\u001b[0;31mNameError\u001b[0m: name 'df' is not defined"
          ]
        }
      ]
    },
    {
      "metadata": {
        "id": "Z0YgqCm8fWeM",
        "colab_type": "code",
        "colab": {}
      },
      "cell_type": "code",
      "source": [
        ""
      ],
      "execution_count": 0,
      "outputs": []
    }
  ]
}
