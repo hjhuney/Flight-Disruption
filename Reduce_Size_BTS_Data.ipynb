{
  "nbformat": 4,
  "nbformat_minor": 0,
  "metadata": {
    "colab": {
      "name": "Freebird_Reduce_Size_BTS_Data.ipynb",
      "version": "0.3.2",
      "provenance": []
    },
    "kernelspec": {
      "name": "python3",
      "display_name": "Python 3"
    }
  },
  "cells": [
    {
      "metadata": {
        "id": "B2U2IObdoLrK",
        "colab_type": "text"
      },
      "cell_type": "markdown",
      "source": [
        "Data Description: Google \"BTS On Time Performance\"\n",
        "\n",
        "Walkthrough for dealing with Big Data / multiple CSVs in Pandas [link](https://www.dataquest.io/blog/pandas-big-data/)"
      ]
    },
    {
      "metadata": {
        "id": "3hMYrOn-Zxxn",
        "colab_type": "code",
        "outputId": "313db22d-0195-4771-c829-a67cebf6d503",
        "colab": {
          "resources": {
            "http://localhost:8080/nbextensions/google.colab/files.js": {
              "data": "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",
              "ok": true,
              "headers": [
                [
                  "content-type",
                  "application/javascript"
                ]
              ],
              "status": 200,
              "status_text": ""
            }
          },
          "base_uri": "https://localhost:8080/",
          "height": 91
        }
      },
      "cell_type": "code",
      "source": [
        "# download zip\n",
        "from google.colab import files\n",
        "uploaded = files.upload()\n",
        "\n",
        "for fn in uploaded.keys():\n",
        "  print('User uploaded file \"{name}\" with length {length} bytes'.format(\n",
        "      name=fn, length=len(uploaded[fn])))"
      ],
      "execution_count": 0,
      "outputs": [
        {
          "output_type": "display_data",
          "data": {
            "text/html": [
              "\n",
              "     <input type=\"file\" id=\"files-491cbf48-15bb-4e5d-935e-0ad881e1f6ce\" name=\"files[]\" multiple disabled />\n",
              "     <output id=\"result-491cbf48-15bb-4e5d-935e-0ad881e1f6ce\">\n",
              "      Upload widget is only available when the cell has been executed in the\n",
              "      current browser session. Please rerun this cell to enable.\n",
              "      </output>\n",
              "      <script src=\"/nbextensions/google.colab/files.js\"></script> "
            ],
            "text/plain": [
              "<IPython.core.display.HTML object>"
            ]
          },
          "metadata": {
            "tags": []
          }
        },
        {
          "output_type": "stream",
          "text": [
            "Saving on_time_12mos.zip to on_time_12mos.zip\n",
            "User uploaded file \"on_time_12mos.zip\" with length 303256386 bytes\n"
          ],
          "name": "stdout"
        }
      ]
    },
    {
      "metadata": {
        "id": "D1FbGPGDZ-DV",
        "colab_type": "code",
        "outputId": "a3baa849-d3b6-4830-b4b1-3357a10705d3",
        "colab": {
          "base_uri": "https://localhost:8080/",
          "height": 34
        }
      },
      "cell_type": "code",
      "source": [
        "!ls"
      ],
      "execution_count": 0,
      "outputs": [
        {
          "output_type": "stream",
          "text": [
            "on_time_12mos.zip  sample_data\n"
          ],
          "name": "stdout"
        }
      ]
    },
    {
      "metadata": {
        "id": "9wf3ly0_SH8U",
        "colab_type": "code",
        "outputId": "1c3b135b-34ef-4487-a318-8acc00a6a534",
        "colab": {
          "base_uri": "https://localhost:8080/",
          "height": 238
        }
      },
      "cell_type": "code",
      "source": [
        "!unzip on_time_12mos.zip -d data/"
      ],
      "execution_count": 0,
      "outputs": [
        {
          "output_type": "stream",
          "text": [
            "Archive:  on_time_12mos.zip\n",
            "  inflating: data/on_time_12mos/On_Time_On_Time_Performance_2014_10.csv  \n",
            "  inflating: data/on_time_12mos/On_Time_On_Time_Performance_2014_11.csv  \n",
            "  inflating: data/on_time_12mos/On_Time_On_Time_Performance_2014_12.csv  \n",
            "  inflating: data/on_time_12mos/On_Time_On_Time_Performance_2015_1.csv  \n",
            "  inflating: data/on_time_12mos/On_Time_On_Time_Performance_2015_2.csv  \n",
            "  inflating: data/on_time_12mos/On_Time_On_Time_Performance_2015_3.csv  \n",
            "  inflating: data/on_time_12mos/On_Time_On_Time_Performance_2015_4.csv  \n",
            "  inflating: data/on_time_12mos/On_Time_On_Time_Performance_2015_5.csv  \n",
            "  inflating: data/on_time_12mos/On_Time_On_Time_Performance_2015_6.csv  \n",
            "  inflating: data/on_time_12mos/On_Time_On_Time_Performance_2015_7.csv  \n",
            "  inflating: data/on_time_12mos/On_Time_On_Time_Performance_2015_8.csv  \n",
            "  inflating: data/on_time_12mos/On_Time_On_Time_Performance_2015_9.csv  \n"
          ],
          "name": "stdout"
        }
      ]
    },
    {
      "metadata": {
        "id": "wam9ASAcS13_",
        "colab_type": "code",
        "outputId": "430cff45-8f3b-4211-f3a9-a9105ea6793f",
        "colab": {
          "base_uri": "https://localhost:8080/",
          "height": 34
        }
      },
      "cell_type": "code",
      "source": [
        "!ls"
      ],
      "execution_count": 0,
      "outputs": [
        {
          "output_type": "stream",
          "text": [
            "data  on_time_12mos.zip  sample_data\n"
          ],
          "name": "stdout"
        }
      ]
    },
    {
      "metadata": {
        "id": "xuq_RpjAu9HO",
        "colab_type": "code",
        "colab": {}
      },
      "cell_type": "code",
      "source": [
        "!rm on_time_12mos.zip"
      ],
      "execution_count": 0,
      "outputs": []
    },
    {
      "metadata": {
        "id": "CpxQAMrIS_cn",
        "colab_type": "code",
        "outputId": "0e244562-bc42-4937-e3dc-e85f17974526",
        "colab": {
          "base_uri": "https://localhost:8080/",
          "height": 34
        }
      },
      "cell_type": "code",
      "source": [
        "%cd data/on_time_12mos/"
      ],
      "execution_count": 0,
      "outputs": [
        {
          "output_type": "stream",
          "text": [
            "/content/data/on_time_12mos\n"
          ],
          "name": "stdout"
        }
      ]
    },
    {
      "metadata": {
        "id": "hkYH16h9Tnkk",
        "colab_type": "code",
        "outputId": "8b110b0e-eaed-4e5c-90ff-7ab5c1f8cd68",
        "colab": {
          "base_uri": "https://localhost:8080/",
          "height": 119
        }
      },
      "cell_type": "code",
      "source": [
        "!ls"
      ],
      "execution_count": 0,
      "outputs": [
        {
          "output_type": "stream",
          "text": [
            "On_Time_On_Time_Performance_2014_10.csv  On_Time_On_Time_Performance_2015_4.csv\n",
            "On_Time_On_Time_Performance_2014_11.csv  On_Time_On_Time_Performance_2015_5.csv\n",
            "On_Time_On_Time_Performance_2014_12.csv  On_Time_On_Time_Performance_2015_6.csv\n",
            "On_Time_On_Time_Performance_2015_1.csv\t On_Time_On_Time_Performance_2015_7.csv\n",
            "On_Time_On_Time_Performance_2015_2.csv\t On_Time_On_Time_Performance_2015_8.csv\n",
            "On_Time_On_Time_Performance_2015_3.csv\t On_Time_On_Time_Performance_2015_9.csv\n"
          ],
          "name": "stdout"
        }
      ]
    },
    {
      "metadata": {
        "id": "Vywf2y_dUHx0",
        "colab_type": "text"
      },
      "cell_type": "markdown",
      "source": [
        "# Imports"
      ]
    },
    {
      "metadata": {
        "id": "NU2uRZMpUJ1U",
        "colab_type": "code",
        "colab": {}
      },
      "cell_type": "code",
      "source": [
        "import pandas as pd\n",
        "import numpy as np\n",
        "import os\n",
        "import glob"
      ],
      "execution_count": 0,
      "outputs": []
    },
    {
      "metadata": {
        "id": "7yG8OjK0UNZC",
        "colab_type": "text"
      },
      "cell_type": "markdown",
      "source": [
        "# Load Data Sample"
      ]
    },
    {
      "metadata": {
        "id": "ZuhGCKDVT-s5",
        "colab_type": "code",
        "outputId": "58444c09-5561-48c7-9c36-36d363a0ab4b",
        "colab": {
          "base_uri": "https://localhost:8080/",
          "height": 51
        }
      },
      "cell_type": "code",
      "source": [
        "df = pd.read_csv('On_Time_On_Time_Performance_2014_10.csv')"
      ],
      "execution_count": 0,
      "outputs": [
        {
          "output_type": "stream",
          "text": [
            "/usr/local/lib/python3.6/dist-packages/IPython/core/interactiveshell.py:2718: DtypeWarning: Columns (77,84) have mixed types. Specify dtype option on import or set low_memory=False.\n",
            "  interactivity=interactivity, compiler=compiler, result=result)\n"
          ],
          "name": "stderr"
        }
      ]
    },
    {
      "metadata": {
        "id": "swdRmGhbUFZw",
        "colab_type": "code",
        "outputId": "398dc6fe-f8e9-4c8f-a178-0f596e09d846",
        "colab": {
          "base_uri": "https://localhost:8080/",
          "height": 270
        }
      },
      "cell_type": "code",
      "source": [
        "df.head()"
      ],
      "execution_count": 0,
      "outputs": [
        {
          "output_type": "execute_result",
          "data": {
            "text/html": [
              "<div>\n",
              "<style scoped>\n",
              "    .dataframe tbody tr th:only-of-type {\n",
              "        vertical-align: middle;\n",
              "    }\n",
              "\n",
              "    .dataframe tbody tr th {\n",
              "        vertical-align: top;\n",
              "    }\n",
              "\n",
              "    .dataframe thead th {\n",
              "        text-align: right;\n",
              "    }\n",
              "</style>\n",
              "<table border=\"1\" class=\"dataframe\">\n",
              "  <thead>\n",
              "    <tr style=\"text-align: right;\">\n",
              "      <th></th>\n",
              "      <th>Year</th>\n",
              "      <th>Quarter</th>\n",
              "      <th>Month</th>\n",
              "      <th>DayofMonth</th>\n",
              "      <th>DayOfWeek</th>\n",
              "      <th>FlightDate</th>\n",
              "      <th>UniqueCarrier</th>\n",
              "      <th>AirlineID</th>\n",
              "      <th>Carrier</th>\n",
              "      <th>TailNum</th>\n",
              "      <th>...</th>\n",
              "      <th>Div4TailNum</th>\n",
              "      <th>Div5Airport</th>\n",
              "      <th>Div5AirportID</th>\n",
              "      <th>Div5AirportSeqID</th>\n",
              "      <th>Div5WheelsOn</th>\n",
              "      <th>Div5TotalGTime</th>\n",
              "      <th>Div5LongestGTime</th>\n",
              "      <th>Div5WheelsOff</th>\n",
              "      <th>Div5TailNum</th>\n",
              "      <th>Unnamed: 109</th>\n",
              "    </tr>\n",
              "  </thead>\n",
              "  <tbody>\n",
              "    <tr>\n",
              "      <th>0</th>\n",
              "      <td>2014</td>\n",
              "      <td>4</td>\n",
              "      <td>10</td>\n",
              "      <td>23</td>\n",
              "      <td>4</td>\n",
              "      <td>2014-10-23</td>\n",
              "      <td>DL</td>\n",
              "      <td>19790</td>\n",
              "      <td>DL</td>\n",
              "      <td>N918DL</td>\n",
              "      <td>...</td>\n",
              "      <td>NaN</td>\n",
              "      <td>NaN</td>\n",
              "      <td>NaN</td>\n",
              "      <td>NaN</td>\n",
              "      <td>NaN</td>\n",
              "      <td>NaN</td>\n",
              "      <td>NaN</td>\n",
              "      <td>NaN</td>\n",
              "      <td>NaN</td>\n",
              "      <td>NaN</td>\n",
              "    </tr>\n",
              "    <tr>\n",
              "      <th>1</th>\n",
              "      <td>2014</td>\n",
              "      <td>4</td>\n",
              "      <td>10</td>\n",
              "      <td>23</td>\n",
              "      <td>4</td>\n",
              "      <td>2014-10-23</td>\n",
              "      <td>DL</td>\n",
              "      <td>19790</td>\n",
              "      <td>DL</td>\n",
              "      <td>N358NW</td>\n",
              "      <td>...</td>\n",
              "      <td>NaN</td>\n",
              "      <td>NaN</td>\n",
              "      <td>NaN</td>\n",
              "      <td>NaN</td>\n",
              "      <td>NaN</td>\n",
              "      <td>NaN</td>\n",
              "      <td>NaN</td>\n",
              "      <td>NaN</td>\n",
              "      <td>NaN</td>\n",
              "      <td>NaN</td>\n",
              "    </tr>\n",
              "    <tr>\n",
              "      <th>2</th>\n",
              "      <td>2014</td>\n",
              "      <td>4</td>\n",
              "      <td>10</td>\n",
              "      <td>23</td>\n",
              "      <td>4</td>\n",
              "      <td>2014-10-23</td>\n",
              "      <td>DL</td>\n",
              "      <td>19790</td>\n",
              "      <td>DL</td>\n",
              "      <td>N893AT</td>\n",
              "      <td>...</td>\n",
              "      <td>NaN</td>\n",
              "      <td>NaN</td>\n",
              "      <td>NaN</td>\n",
              "      <td>NaN</td>\n",
              "      <td>NaN</td>\n",
              "      <td>NaN</td>\n",
              "      <td>NaN</td>\n",
              "      <td>NaN</td>\n",
              "      <td>NaN</td>\n",
              "      <td>NaN</td>\n",
              "    </tr>\n",
              "    <tr>\n",
              "      <th>3</th>\n",
              "      <td>2014</td>\n",
              "      <td>4</td>\n",
              "      <td>10</td>\n",
              "      <td>23</td>\n",
              "      <td>4</td>\n",
              "      <td>2014-10-23</td>\n",
              "      <td>DL</td>\n",
              "      <td>19790</td>\n",
              "      <td>DL</td>\n",
              "      <td>N693DL</td>\n",
              "      <td>...</td>\n",
              "      <td>NaN</td>\n",
              "      <td>NaN</td>\n",
              "      <td>NaN</td>\n",
              "      <td>NaN</td>\n",
              "      <td>NaN</td>\n",
              "      <td>NaN</td>\n",
              "      <td>NaN</td>\n",
              "      <td>NaN</td>\n",
              "      <td>NaN</td>\n",
              "      <td>NaN</td>\n",
              "    </tr>\n",
              "    <tr>\n",
              "      <th>4</th>\n",
              "      <td>2014</td>\n",
              "      <td>4</td>\n",
              "      <td>10</td>\n",
              "      <td>23</td>\n",
              "      <td>4</td>\n",
              "      <td>2014-10-23</td>\n",
              "      <td>DL</td>\n",
              "      <td>19790</td>\n",
              "      <td>DL</td>\n",
              "      <td>N998AT</td>\n",
              "      <td>...</td>\n",
              "      <td>NaN</td>\n",
              "      <td>NaN</td>\n",
              "      <td>NaN</td>\n",
              "      <td>NaN</td>\n",
              "      <td>NaN</td>\n",
              "      <td>NaN</td>\n",
              "      <td>NaN</td>\n",
              "      <td>NaN</td>\n",
              "      <td>NaN</td>\n",
              "      <td>NaN</td>\n",
              "    </tr>\n",
              "  </tbody>\n",
              "</table>\n",
              "<p>5 rows × 110 columns</p>\n",
              "</div>"
            ],
            "text/plain": [
              "   Year  Quarter  Month  DayofMonth  DayOfWeek  FlightDate UniqueCarrier  \\\n",
              "0  2014        4     10          23          4  2014-10-23            DL   \n",
              "1  2014        4     10          23          4  2014-10-23            DL   \n",
              "2  2014        4     10          23          4  2014-10-23            DL   \n",
              "3  2014        4     10          23          4  2014-10-23            DL   \n",
              "4  2014        4     10          23          4  2014-10-23            DL   \n",
              "\n",
              "   AirlineID Carrier TailNum      ...       Div4TailNum  Div5Airport  \\\n",
              "0      19790      DL  N918DL      ...               NaN          NaN   \n",
              "1      19790      DL  N358NW      ...               NaN          NaN   \n",
              "2      19790      DL  N893AT      ...               NaN          NaN   \n",
              "3      19790      DL  N693DL      ...               NaN          NaN   \n",
              "4      19790      DL  N998AT      ...               NaN          NaN   \n",
              "\n",
              "   Div5AirportID  Div5AirportSeqID Div5WheelsOn Div5TotalGTime  \\\n",
              "0            NaN               NaN          NaN            NaN   \n",
              "1            NaN               NaN          NaN            NaN   \n",
              "2            NaN               NaN          NaN            NaN   \n",
              "3            NaN               NaN          NaN            NaN   \n",
              "4            NaN               NaN          NaN            NaN   \n",
              "\n",
              "  Div5LongestGTime  Div5WheelsOff Div5TailNum  Unnamed: 109  \n",
              "0              NaN            NaN         NaN           NaN  \n",
              "1              NaN            NaN         NaN           NaN  \n",
              "2              NaN            NaN         NaN           NaN  \n",
              "3              NaN            NaN         NaN           NaN  \n",
              "4              NaN            NaN         NaN           NaN  \n",
              "\n",
              "[5 rows x 110 columns]"
            ]
          },
          "metadata": {
            "tags": []
          },
          "execution_count": 120
        }
      ]
    },
    {
      "metadata": {
        "id": "jELKnSKZjNYn",
        "colab_type": "code",
        "outputId": "d5c8b1f6-ed6c-483a-aefe-6aa34a3a4bd8",
        "colab": {
          "base_uri": "https://localhost:8080/",
          "height": 102
        }
      },
      "cell_type": "code",
      "source": [
        "df.info(memory_usage='deep')"
      ],
      "execution_count": 0,
      "outputs": [
        {
          "output_type": "stream",
          "text": [
            "<class 'pandas.core.frame.DataFrame'>\n",
            "RangeIndex: 491011 entries, 0 to 491010\n",
            "Columns: 110 entries, Year to Unnamed: 109\n",
            "dtypes: float64(70), int64(21), object(19)\n",
            "memory usage: 831.9 MB\n"
          ],
          "name": "stdout"
        }
      ]
    },
    {
      "metadata": {
        "id": "zJKP5IIhUXnA",
        "colab_type": "code",
        "outputId": "bee67ea7-94bb-45b3-ed56-341d9729e14f",
        "colab": {
          "base_uri": "https://localhost:8080/",
          "height": 34
        }
      },
      "cell_type": "code",
      "source": [
        "df.shape"
      ],
      "execution_count": 0,
      "outputs": [
        {
          "output_type": "execute_result",
          "data": {
            "text/plain": [
              "(491011, 110)"
            ]
          },
          "metadata": {
            "tags": []
          },
          "execution_count": 12
        }
      ]
    },
    {
      "metadata": {
        "id": "qUdvhDrNiA0U",
        "colab_type": "code",
        "outputId": "50cdd8b1-64df-4028-8f77-8940bf1d5c19",
        "colab": {
          "base_uri": "https://localhost:8080/",
          "height": 68
        }
      },
      "cell_type": "code",
      "source": [
        "for dtype in ['float','int','object']:\n",
        "    selected_dtype = df.select_dtypes(include=[dtype])\n",
        "    mean_usage_b = selected_dtype.memory_usage(deep=True).mean()\n",
        "    mean_usage_mb = mean_usage_b / 1024 ** 2\n",
        "    print(\"Average memory usage for {} columns: {:03.2f} MB\".format(dtype,mean_usage_mb))\n"
      ],
      "execution_count": 0,
      "outputs": [
        {
          "output_type": "stream",
          "text": [
            "Average memory usage for float columns: 3.69 MB\n",
            "Average memory usage for int columns: 3.58 MB\n",
            "Average memory usage for object columns: 24.55 MB\n"
          ],
          "name": "stdout"
        }
      ]
    },
    {
      "metadata": {
        "id": "Z5Aw4GLfU6B3",
        "colab_type": "code",
        "colab": {}
      },
      "cell_type": "code",
      "source": [
        ""
      ],
      "execution_count": 0,
      "outputs": []
    },
    {
      "metadata": {
        "id": "3tNZ45N5VOUQ",
        "colab_type": "text"
      },
      "cell_type": "markdown",
      "source": [
        "# Eliminate Unneeded Columns"
      ]
    },
    {
      "metadata": {
        "id": "j-drSqWcXzKJ",
        "colab_type": "code",
        "colab": {}
      },
      "cell_type": "code",
      "source": [
        "rows = df.shape[0]\n",
        "delete_col_list = []\n",
        "\n",
        "for i in df:\n",
        "    if df[i].dtype == 'object':\n",
        "        if df[i].isnull().sum() > 0: \n",
        "            if (df[i].isnull().sum() / rows) > 0.98:\n",
        "                delete_col_list.append(i)"
      ],
      "execution_count": 0,
      "outputs": []
    },
    {
      "metadata": {
        "id": "Jonn92XQafMx",
        "colab_type": "code",
        "outputId": "7c278d21-f7f3-4c8e-ada5-83df1bca0cd6",
        "colab": {
          "base_uri": "https://localhost:8080/",
          "height": 408
        }
      },
      "cell_type": "code",
      "source": [
        "df_obj = df.select_dtypes(include=['object']).copy()\n",
        "print(df_obj.describe())"
      ],
      "execution_count": 0,
      "outputs": [
        {
          "output_type": "stream",
          "text": [
            "        FlightDate UniqueCarrier Carrier TailNum  Origin OriginCityName  \\\n",
            "count       491011        491011  491011  490459  491011         491011   \n",
            "unique          31            14      14    4344     309            305   \n",
            "top     2014-10-23            WN      WN  N480HA     ATL    Chicago, IL   \n",
            "freq         16753         99257   99257     380   31618          34108   \n",
            "\n",
            "       OriginState OriginStateName    Dest DestCityName DestState  \\\n",
            "count       491011          491011  491011       491011    491011   \n",
            "unique          53              53     308          304        53   \n",
            "top             CA      California     ATL  Chicago, IL        CA   \n",
            "freq         62370           62370   31613        34160     62358   \n",
            "\n",
            "       DestStateName DepTimeBlk ArrTimeBlk CancellationCode Div1Airport  \\\n",
            "count         491011     491011     491011             5206         841   \n",
            "unique            53         19         19                3         149   \n",
            "top       California  0800-0859  1600-1659                C         AUS   \n",
            "freq           62358      35007      35241             2220          56   \n",
            "\n",
            "       Div1TailNum Div2Airport Div2TailNum  \n",
            "count          700           4           2  \n",
            "unique         633           4           2  \n",
            "top         N14203         DTW      N854MQ  \n",
            "freq             4           1           1  \n"
          ],
          "name": "stdout"
        }
      ]
    },
    {
      "metadata": {
        "id": "gJgZ45kbcJYb",
        "colab_type": "code",
        "outputId": "e2e90703-e494-4a50-83e1-fbf4eb46457d",
        "colab": {
          "base_uri": "https://localhost:8080/",
          "height": 54
        }
      },
      "cell_type": "code",
      "source": [
        "object_list = []\n",
        "\n",
        "for i in df:\n",
        "    if df[i].dtype == 'O':\n",
        "        object_list.append(i)\n",
        "        \n",
        "print(object_list)"
      ],
      "execution_count": 0,
      "outputs": [
        {
          "output_type": "stream",
          "text": [
            "['FlightDate', 'UniqueCarrier', 'Carrier', 'TailNum', 'Origin', 'OriginCityName', 'OriginState', 'OriginStateName', 'Dest', 'DestCityName', 'DestState', 'DestStateName', 'DepTimeBlk', 'ArrTimeBlk', 'CancellationCode', 'Div1Airport', 'Div1TailNum', 'Div2Airport', 'Div2TailNum']\n"
          ],
          "name": "stdout"
        }
      ]
    },
    {
      "metadata": {
        "id": "8VP9QuIdcnaw",
        "colab_type": "code",
        "colab": {}
      },
      "cell_type": "code",
      "source": [
        "# delete redundant columns\n",
        "redundant_cols = ['UniqueCarrier', 'OriginCityName', 'OriginStateName', 'DestCityName', 'DestStateName', 'FlightDate', \n",
        "                 'OriginAirportID', 'OriginAirportSeqID', 'OriginCityMarketID', 'OriginStateFips', \n",
        "                 'DestAirportID', 'DestAirportSeqID', 'DestCityMarketID', 'DestStateFips']"
      ],
      "execution_count": 0,
      "outputs": []
    },
    {
      "metadata": {
        "id": "4tO39uJ8d2k1",
        "colab_type": "code",
        "colab": {}
      },
      "cell_type": "code",
      "source": [
        "high_null_list = []\n",
        "\n",
        "for i in df:\n",
        "    if df[i].notnull().sum() < 10:\n",
        "        high_null_list.append(i)"
      ],
      "execution_count": 0,
      "outputs": []
    },
    {
      "metadata": {
        "id": "gJIIqkUgw9Zq",
        "colab_type": "code",
        "outputId": "a69cb664-c142-4be5-e184-9d0c9e816fc2",
        "colab": {
          "base_uri": "https://localhost:8080/",
          "height": 136
        }
      },
      "cell_type": "code",
      "source": [
        "df.columns"
      ],
      "execution_count": 0,
      "outputs": [
        {
          "output_type": "execute_result",
          "data": {
            "text/plain": [
              "Index(['Year', 'Quarter', 'Month', 'DayofMonth', 'DayOfWeek', 'FlightDate',\n",
              "       'UniqueCarrier', 'AirlineID', 'Carrier', 'TailNum',\n",
              "       ...\n",
              "       'Div4TailNum', 'Div5Airport', 'Div5AirportID', 'Div5AirportSeqID',\n",
              "       'Div5WheelsOn', 'Div5TotalGTime', 'Div5LongestGTime', 'Div5WheelsOff',\n",
              "       'Div5TailNum', 'Unnamed: 109'],\n",
              "      dtype='object', length=110)"
            ]
          },
          "metadata": {
            "tags": []
          },
          "execution_count": 578
        }
      ]
    },
    {
      "metadata": {
        "id": "wUrnKEgyjLRm",
        "colab_type": "code",
        "colab": {}
      },
      "cell_type": "code",
      "source": [
        "other_divert_measures = ['Div1AirportID', 'Div1AirportSeqID', 'Div1WheelsOn', 'Div1TotalGTime', \n",
        "                         'Div1LongestGTime', 'Div1WheelsOff', 'DivActualElapsedTime', 'DivArrDelay', 'DivDistance']"
      ],
      "execution_count": 0,
      "outputs": []
    },
    {
      "metadata": {
        "id": "LeCl7sb62v11",
        "colab_type": "code",
        "outputId": "ac46e98b-5cb0-4644-bbf6-482ad67a33e0",
        "colab": {
          "base_uri": "https://localhost:8080/",
          "height": 136
        }
      },
      "cell_type": "code",
      "source": [
        "df.columns"
      ],
      "execution_count": 0,
      "outputs": [
        {
          "output_type": "execute_result",
          "data": {
            "text/plain": [
              "Index(['Year', 'Quarter', 'Month', 'DayofMonth', 'DayOfWeek', 'FlightDate',\n",
              "       'UniqueCarrier', 'AirlineID', 'Carrier', 'TailNum',\n",
              "       ...\n",
              "       'Div4TailNum', 'Div5Airport', 'Div5AirportID', 'Div5AirportSeqID',\n",
              "       'Div5WheelsOn', 'Div5TotalGTime', 'Div5LongestGTime', 'Div5WheelsOff',\n",
              "       'Div5TailNum', 'Unnamed: 109'],\n",
              "      dtype='object', length=110)"
            ]
          },
          "metadata": {
            "tags": []
          },
          "execution_count": 580
        }
      ]
    },
    {
      "metadata": {
        "id": "92usXubgqJv2",
        "colab_type": "code",
        "colab": {}
      },
      "cell_type": "code",
      "source": [
        "unpredictive_measures = ['FlightNum', 'DepTime', 'DepDelay', 'DepDelayMinutes', 'DepDel15', \n",
        "                         'DepartureDelayGroups', 'ArrTime', 'ArrDelay', 'ArrDelayMinutes', \n",
        "                         'ArrDel15', 'ArrivalDelayGroups', 'TaxiOut', 'WheelsOff', 'WheelsOn', 'TaxiIn', \n",
        "                         'FirstDepTime', 'TotalAddGTime', 'LongestAddGTime', 'AirTime', 'ActualElapsedTime']"
      ],
      "execution_count": 0,
      "outputs": []
    },
    {
      "metadata": {
        "id": "cfXVKZEEe5zn",
        "colab_type": "code",
        "outputId": "38258f65-cbf1-4159-fa05-853dee0741b6",
        "colab": {
          "base_uri": "https://localhost:8080/",
          "height": 54
        }
      },
      "cell_type": "code",
      "source": [
        "delete_col_list = delete_col_list + high_null_list + redundant_cols + other_divert_measures + unpredictive_measures\n",
        "print(delete_col_list)"
      ],
      "execution_count": 0,
      "outputs": [
        {
          "output_type": "stream",
          "text": [
            "['CancellationCode', 'Div1Airport', 'Div1TailNum', 'Div2Airport', 'Div2TailNum', 'Div2Airport', 'Div2AirportID', 'Div2AirportSeqID', 'Div2WheelsOn', 'Div2TotalGTime', 'Div2LongestGTime', 'Div2WheelsOff', 'Div2TailNum', 'Div3Airport', 'Div3AirportID', 'Div3AirportSeqID', 'Div3WheelsOn', 'Div3TotalGTime', 'Div3LongestGTime', 'Div3WheelsOff', 'Div3TailNum', 'Div4Airport', 'Div4AirportID', 'Div4AirportSeqID', 'Div4WheelsOn', 'Div4TotalGTime', 'Div4LongestGTime', 'Div4WheelsOff', 'Div4TailNum', 'Div5Airport', 'Div5AirportID', 'Div5AirportSeqID', 'Div5WheelsOn', 'Div5TotalGTime', 'Div5LongestGTime', 'Div5WheelsOff', 'Div5TailNum', 'Unnamed: 109', 'UniqueCarrier', 'OriginCityName', 'OriginStateName', 'DestCityName', 'DestStateName', 'FlightDate', 'OriginAirportID', 'OriginAirportSeqID', 'OriginCityMarketID', 'OriginStateFips', 'DestAirportID', 'DestAirportSeqID', 'DestCityMarketID', 'DestStateFips', 'Div1AirportID', 'Div1AirportSeqID', 'Div1WheelsOn', 'Div1TotalGTime', 'Div1LongestGTime', 'Div1WheelsOff', 'DivActualElapsedTime', 'DivArrDelay', 'DivDistance', 'FlightNum', 'DepTime', 'DepDelay', 'DepDelayMinutes', 'DepDel15', 'DepartureDelayGroups', 'ArrTime', 'ArrDelay', 'ArrDelayMinutes', 'ArrDel15', 'ArrivalDelayGroups', 'TaxiOut', 'WheelsOff', 'WheelsOn', 'TaxiIn', 'FirstDepTime', 'TotalAddGTime', 'LongestAddGTime', 'AirTime', 'ActualElapsedTime']\n"
          ],
          "name": "stdout"
        }
      ]
    },
    {
      "metadata": {
        "id": "ycMjdERvfDw9",
        "colab_type": "code",
        "colab": {}
      },
      "cell_type": "code",
      "source": [
        "df = df.drop(delete_col_list, axis=1)"
      ],
      "execution_count": 0,
      "outputs": []
    },
    {
      "metadata": {
        "id": "s1rgDBdRVpO_",
        "colab_type": "code",
        "outputId": "186907b7-9fdb-4dc0-a823-f6103ebfbe27",
        "colab": {
          "base_uri": "https://localhost:8080/",
          "height": 102
        }
      },
      "cell_type": "code",
      "source": [
        "df.info(memory_usage='deep', verbose=False)"
      ],
      "execution_count": 0,
      "outputs": [
        {
          "output_type": "stream",
          "text": [
            "<class 'pandas.core.frame.DataFrame'>\n",
            "RangeIndex: 491011 entries, 0 to 491010\n",
            "Columns: 31 entries, Year to DivReachedDest\n",
            "dtypes: float64(11), int64(12), object(8)\n",
            "memory usage: 316.5 MB\n"
          ],
          "name": "stdout"
        }
      ]
    },
    {
      "metadata": {
        "id": "OjHeO-BTZVxI",
        "colab_type": "text"
      },
      "cell_type": "markdown",
      "source": [
        "# Some Dictionary Functions"
      ]
    },
    {
      "metadata": {
        "id": "ArGekeshZXjB",
        "colab_type": "code",
        "colab": {}
      },
      "cell_type": "code",
      "source": [
        "# function to return first 10 key-value pairs in a dictionary\n",
        "def dict_top_ten(dict):\n",
        "    return {k: dict[k] for k in list(dict)[:10]}\n",
        "\n",
        "# function to return last 10 key-value paris in a dictionary\n",
        "def dict_last_ten(dict):\n",
        "    return {k: dict[k] for k in list(dict)[-10:]}\n",
        "\n",
        "# convert defaultdict into a dict\n",
        "def defaultdict_to_dict(dict):\n",
        "    return {k: dict[k] for k in list(dict)[:]}"
      ],
      "execution_count": 0,
      "outputs": []
    },
    {
      "metadata": {
        "id": "6-ZjmA3ec4xn",
        "colab_type": "text"
      },
      "cell_type": "markdown",
      "source": [
        "# Object Value Counts"
      ]
    },
    {
      "metadata": {
        "id": "wiOv9G_5aKYy",
        "colab_type": "code",
        "colab": {}
      },
      "cell_type": "code",
      "source": [
        "def print_object_vcs_and_nulls(df, num_values_print=10):\n",
        "    for i in df:\n",
        "        if df[i].dtype == 'O':\n",
        "            num_nulls = df[i].isnull().sum()\n",
        "            total_values = df[i].shape[0]\n",
        "            null_per = str(np.round(((num_nulls / total_values) * 100),3)) + \"%\"\n",
        "            unique_values = df[i].nunique()\n",
        "            \n",
        "            print(df[i].value_counts()[:num_values_print])  \n",
        "            print(\"Number of Null Values: \" + str(num_nulls))\n",
        "            print(\"Percentage of Nulls = \" + str(null_per) + \"%\")\n",
        "            print(\"Number of Unique Values: \" + str(unique_values))\n",
        "            print(\"\\n\")"
      ],
      "execution_count": 0,
      "outputs": []
    },
    {
      "metadata": {
        "id": "MGAS6n_Qc-UW",
        "colab_type": "code",
        "outputId": "09f8e97a-710c-4bf5-cc50-b901c4f3064f",
        "colab": {
          "base_uri": "https://localhost:8080/",
          "height": 2193
        }
      },
      "cell_type": "code",
      "source": [
        "print_object_vcs_and_nulls(df)"
      ],
      "execution_count": 0,
      "outputs": [
        {
          "output_type": "stream",
          "text": [
            "WN    99257\n",
            "DL    70676\n",
            "EV    56533\n",
            "OO    51019\n",
            "AA    45113\n",
            "UA    43335\n",
            "US    35634\n",
            "MQ    32010\n",
            "B6    20113\n",
            "AS    13398\n",
            "Name: Carrier, dtype: int64\n",
            "Number of Null Values: 0\n",
            "Percentage of Nulls = 0.0%%\n",
            "Number of Unique Values: 14\n",
            "\n",
            "\n",
            "N480HA    380\n",
            "N479HA    367\n",
            "N476HA    365\n",
            "N477HA    353\n",
            "N484HA    348\n",
            "N493HA    344\n",
            "N485HA    339\n",
            "N487HA    331\n",
            "N483HA    322\n",
            "N478HA    311\n",
            "Name: TailNum, dtype: int64\n",
            "Number of Null Values: 552\n",
            "Percentage of Nulls = 0.112%%\n",
            "Number of Unique Values: 4344\n",
            "\n",
            "\n",
            "ATL    31618\n",
            "ORD    26257\n",
            "DFW    23519\n",
            "DEN    19416\n",
            "LAX    18199\n",
            "IAH    14742\n",
            "SFO    14499\n",
            "PHX    13347\n",
            "LAS    11779\n",
            "CLT     9755\n",
            "Name: Origin, dtype: int64\n",
            "Number of Null Values: 0\n",
            "Percentage of Nulls = 0.0%%\n",
            "Number of Unique Values: 309\n",
            "\n",
            "\n",
            "CA    62370\n",
            "TX    61000\n",
            "IL    35559\n",
            "GA    33089\n",
            "FL    32096\n",
            "NY    22448\n",
            "CO    20966\n",
            "AZ    15210\n",
            "NC    14606\n",
            "VA    14580\n",
            "Name: OriginState, dtype: int64\n",
            "Number of Null Values: 0\n",
            "Percentage of Nulls = 0.0%%\n",
            "Number of Unique Values: 53\n",
            "\n",
            "\n",
            "ATL    31613\n",
            "ORD    26310\n",
            "DFW    23523\n",
            "DEN    19411\n",
            "LAX    18196\n",
            "IAH    14757\n",
            "SFO    14489\n",
            "PHX    13346\n",
            "LAS    11782\n",
            "CLT     9746\n",
            "Name: Dest, dtype: int64\n",
            "Number of Null Values: 0\n",
            "Percentage of Nulls = 0.0%%\n",
            "Number of Unique Values: 308\n",
            "\n",
            "\n",
            "CA    62358\n",
            "TX    61021\n",
            "IL    35611\n",
            "GA    33083\n",
            "FL    32114\n",
            "NY    22436\n",
            "CO    20958\n",
            "AZ    15210\n",
            "NC    14597\n",
            "VA    14552\n",
            "Name: DestState, dtype: int64\n",
            "Number of Null Values: 0\n",
            "Percentage of Nulls = 0.0%%\n",
            "Number of Unique Values: 53\n",
            "\n",
            "\n",
            "0800-0859    35007\n",
            "0600-0659    34068\n",
            "1700-1759    33597\n",
            "0700-0759    33042\n",
            "1300-1359    32740\n",
            "1000-1059    32543\n",
            "1100-1159    32039\n",
            "0900-0959    31692\n",
            "1500-1559    31037\n",
            "1200-1259    30533\n",
            "Name: DepTimeBlk, dtype: int64\n",
            "Number of Null Values: 0\n",
            "Percentage of Nulls = 0.0%%\n",
            "Number of Unique Values: 19\n",
            "\n",
            "\n",
            "1600-1659    35241\n",
            "1800-1859    33713\n",
            "1200-1259    32211\n",
            "1400-1459    31767\n",
            "2000-2059    31594\n",
            "1000-1059    31111\n",
            "1100-1159    30747\n",
            "1700-1759    29914\n",
            "1900-1959    29892\n",
            "1300-1359    29289\n",
            "Name: ArrTimeBlk, dtype: int64\n",
            "Number of Null Values: 0\n",
            "Percentage of Nulls = 0.0%%\n",
            "Number of Unique Values: 19\n",
            "\n",
            "\n"
          ],
          "name": "stdout"
        }
      ]
    },
    {
      "metadata": {
        "id": "9YbTk1zJVpdT",
        "colab_type": "code",
        "outputId": "36b2f48e-8fd2-4972-9bfe-554234c9f957",
        "colab": {
          "base_uri": "https://localhost:8080/",
          "height": 153
        }
      },
      "cell_type": "code",
      "source": [
        "object_list = []\n",
        "\n",
        "for i in df:\n",
        "    if df[i].dtype  == 'object':\n",
        "        object_list.append(i)\n",
        "        \n",
        "object_list"
      ],
      "execution_count": 0,
      "outputs": [
        {
          "output_type": "execute_result",
          "data": {
            "text/plain": [
              "['Carrier',\n",
              " 'TailNum',\n",
              " 'Origin',\n",
              " 'OriginState',\n",
              " 'Dest',\n",
              " 'DestState',\n",
              " 'DepTimeBlk',\n",
              " 'ArrTimeBlk']"
            ]
          },
          "metadata": {
            "tags": []
          },
          "execution_count": 588
        }
      ]
    },
    {
      "metadata": {
        "id": "tcXZUAsneefl",
        "colab_type": "text"
      },
      "cell_type": "markdown",
      "source": [
        "# Map TailNum; Fill in Nulls"
      ]
    },
    {
      "metadata": {
        "id": "sE1TjSJaFtMq",
        "colab_type": "code",
        "outputId": "8e357195-aaeb-4625-e6a8-9f54e245f6dc",
        "colab": {
          "base_uri": "https://localhost:8080/",
          "height": 51
        }
      },
      "cell_type": "code",
      "source": [
        "print(df['TailNum'].isnull().sum())\n",
        "print(df['TailNum'].nunique())"
      ],
      "execution_count": 0,
      "outputs": [
        {
          "output_type": "stream",
          "text": [
            "552\n",
            "4344\n"
          ],
          "name": "stdout"
        }
      ]
    },
    {
      "metadata": {
        "id": "w2CwBC5YVuCA",
        "colab_type": "code",
        "colab": {}
      },
      "cell_type": "code",
      "source": [
        "df['TailNum'].fillna('Unknown', inplace=True)"
      ],
      "execution_count": 0,
      "outputs": []
    },
    {
      "metadata": {
        "id": "3idXNMk3eiDw",
        "colab_type": "code",
        "outputId": "2a6d9f41-639d-4981-8341-da457eea805d",
        "colab": {
          "base_uri": "https://localhost:8080/",
          "height": 34
        }
      },
      "cell_type": "code",
      "source": [
        "tailnum_list = df['TailNum'].value_counts().index.tolist()\n",
        "tailnum_list[:5]"
      ],
      "execution_count": 0,
      "outputs": [
        {
          "output_type": "execute_result",
          "data": {
            "text/plain": [
              "['Unknown', 'N480HA', 'N479HA', 'N476HA', 'N477HA']"
            ]
          },
          "metadata": {
            "tags": []
          },
          "execution_count": 591
        }
      ]
    },
    {
      "metadata": {
        "id": "gqoMlPLEeiAL",
        "colab_type": "code",
        "outputId": "64389bfa-e673-4b57-c9f3-70192bb28661",
        "colab": {
          "base_uri": "https://localhost:8080/",
          "height": 187
        }
      },
      "cell_type": "code",
      "source": [
        "tailnum_dict = dict()\n",
        "for x in range(0, (len(tailnum_list))):\n",
        "    tailnum_dict[tailnum_list[x]] = x\n",
        "    \n",
        "dict_top_ten(tailnum_dict)"
      ],
      "execution_count": 0,
      "outputs": [
        {
          "output_type": "execute_result",
          "data": {
            "text/plain": [
              "{'N476HA': 3,\n",
              " 'N477HA': 4,\n",
              " 'N479HA': 2,\n",
              " 'N480HA': 1,\n",
              " 'N483HA': 9,\n",
              " 'N484HA': 5,\n",
              " 'N485HA': 7,\n",
              " 'N487HA': 8,\n",
              " 'N493HA': 6,\n",
              " 'Unknown': 0}"
            ]
          },
          "metadata": {
            "tags": []
          },
          "execution_count": 592
        }
      ]
    },
    {
      "metadata": {
        "id": "o-Eoi70heh8X",
        "colab_type": "code",
        "colab": {}
      },
      "cell_type": "code",
      "source": [
        "df['TailNum'] = df['TailNum'].map(tailnum_dict).astype(int)"
      ],
      "execution_count": 0,
      "outputs": []
    },
    {
      "metadata": {
        "id": "P0YOIGXGV5v_",
        "colab_type": "text"
      },
      "cell_type": "markdown",
      "source": [
        "# Map Carriers"
      ]
    },
    {
      "metadata": {
        "id": "LnNaUTVLWVRb",
        "colab_type": "code",
        "outputId": "85292e4a-6770-46b8-aef6-aa1c6704e363",
        "colab": {
          "base_uri": "https://localhost:8080/",
          "height": 272
        }
      },
      "cell_type": "code",
      "source": [
        "df['Carrier'].value_counts()"
      ],
      "execution_count": 0,
      "outputs": [
        {
          "output_type": "execute_result",
          "data": {
            "text/plain": [
              "WN    99257\n",
              "DL    70676\n",
              "EV    56533\n",
              "OO    51019\n",
              "AA    45113\n",
              "UA    43335\n",
              "US    35634\n",
              "MQ    32010\n",
              "B6    20113\n",
              "AS    13398\n",
              "F9     8211\n",
              "HA     6329\n",
              "VX     4722\n",
              "FL     4661\n",
              "Name: Carrier, dtype: int64"
            ]
          },
          "metadata": {
            "tags": []
          },
          "execution_count": 594
        }
      ]
    },
    {
      "metadata": {
        "id": "_-umUn6vWViy",
        "colab_type": "code",
        "outputId": "db60879b-04c8-4b0c-d03f-ea16da471640",
        "colab": {
          "base_uri": "https://localhost:8080/",
          "height": 255
        }
      },
      "cell_type": "code",
      "source": [
        "carrier_list = df['Carrier'].value_counts().index.tolist()\n",
        "carrier_list"
      ],
      "execution_count": 0,
      "outputs": [
        {
          "output_type": "execute_result",
          "data": {
            "text/plain": [
              "['WN',\n",
              " 'DL',\n",
              " 'EV',\n",
              " 'OO',\n",
              " 'AA',\n",
              " 'UA',\n",
              " 'US',\n",
              " 'MQ',\n",
              " 'B6',\n",
              " 'AS',\n",
              " 'F9',\n",
              " 'HA',\n",
              " 'VX',\n",
              " 'FL']"
            ]
          },
          "metadata": {
            "tags": []
          },
          "execution_count": 595
        }
      ]
    },
    {
      "metadata": {
        "id": "HjG77q_mWVff",
        "colab_type": "code",
        "outputId": "7302a40f-78c6-49b4-8f4e-529bd94184d1",
        "colab": {
          "base_uri": "https://localhost:8080/",
          "height": 255
        }
      },
      "cell_type": "code",
      "source": [
        "carrier_dict = dict()\n",
        "for x in range(0, (len(carrier_list))):\n",
        "    carrier_dict[carrier_list[x]] = x\n",
        "    \n",
        "carrier_dict"
      ],
      "execution_count": 0,
      "outputs": [
        {
          "output_type": "execute_result",
          "data": {
            "text/plain": [
              "{'AA': 4,\n",
              " 'AS': 9,\n",
              " 'B6': 8,\n",
              " 'DL': 1,\n",
              " 'EV': 2,\n",
              " 'F9': 10,\n",
              " 'FL': 13,\n",
              " 'HA': 11,\n",
              " 'MQ': 7,\n",
              " 'OO': 3,\n",
              " 'UA': 5,\n",
              " 'US': 6,\n",
              " 'VX': 12,\n",
              " 'WN': 0}"
            ]
          },
          "metadata": {
            "tags": []
          },
          "execution_count": 596
        }
      ]
    },
    {
      "metadata": {
        "id": "E7yifZzwR23g",
        "colab_type": "code",
        "colab": {}
      },
      "cell_type": "code",
      "source": [
        "df['Carrier'] = df['Carrier'].map(carrier_dict).astype(int)"
      ],
      "execution_count": 0,
      "outputs": []
    },
    {
      "metadata": {
        "id": "iqG6Di2QYD2E",
        "colab_type": "text"
      },
      "cell_type": "markdown",
      "source": [
        "# Map States"
      ]
    },
    {
      "metadata": {
        "id": "4qf25DUdXcfS",
        "colab_type": "code",
        "outputId": "2e7bac0d-ad87-4167-b990-0775575b347f",
        "colab": {
          "base_uri": "https://localhost:8080/",
          "height": 34
        }
      },
      "cell_type": "code",
      "source": [
        "state_list = df['OriginState'].value_counts().index.tolist()\n",
        "state_list[:5]"
      ],
      "execution_count": 0,
      "outputs": [
        {
          "output_type": "execute_result",
          "data": {
            "text/plain": [
              "['CA', 'TX', 'IL', 'GA', 'FL']"
            ]
          },
          "metadata": {
            "tags": []
          },
          "execution_count": 598
        }
      ]
    },
    {
      "metadata": {
        "id": "PuPMjKurYABS",
        "colab_type": "code",
        "outputId": "b2f7751f-d3e4-4644-bac4-c8bdea386f2c",
        "colab": {
          "base_uri": "https://localhost:8080/",
          "height": 187
        }
      },
      "cell_type": "code",
      "source": [
        "state_dict = dict()\n",
        "for x in range(0, (len(state_list))):\n",
        "    state_dict[state_list[x]] = x\n",
        "    \n",
        "dict_top_ten(state_dict)"
      ],
      "execution_count": 0,
      "outputs": [
        {
          "output_type": "execute_result",
          "data": {
            "text/plain": [
              "{'AZ': 7,\n",
              " 'CA': 0,\n",
              " 'CO': 6,\n",
              " 'FL': 4,\n",
              " 'GA': 3,\n",
              " 'IL': 2,\n",
              " 'NC': 8,\n",
              " 'NY': 5,\n",
              " 'TX': 1,\n",
              " 'VA': 9}"
            ]
          },
          "metadata": {
            "tags": []
          },
          "execution_count": 599
        }
      ]
    },
    {
      "metadata": {
        "id": "eH9BNpBYuwGJ",
        "colab_type": "code",
        "outputId": "a119fdfd-7fdf-46de-e2b7-13b433dd2808",
        "colab": {
          "base_uri": "https://localhost:8080/",
          "height": 918
        }
      },
      "cell_type": "code",
      "source": [
        "state_dict"
      ],
      "execution_count": 0,
      "outputs": [
        {
          "output_type": "execute_result",
          "data": {
            "text/plain": [
              "{'AK': 30,\n",
              " 'AL': 31,\n",
              " 'AR': 33,\n",
              " 'AZ': 7,\n",
              " 'CA': 0,\n",
              " 'CO': 6,\n",
              " 'CT': 36,\n",
              " 'DE': 51,\n",
              " 'FL': 4,\n",
              " 'GA': 3,\n",
              " 'HI': 19,\n",
              " 'IA': 37,\n",
              " 'ID': 38,\n",
              " 'IL': 2,\n",
              " 'IN': 28,\n",
              " 'KS': 40,\n",
              " 'KY': 26,\n",
              " 'LA': 23,\n",
              " 'MA': 13,\n",
              " 'MD': 20,\n",
              " 'ME': 47,\n",
              " 'MI': 11,\n",
              " 'MN': 14,\n",
              " 'MO': 16,\n",
              " 'MS': 42,\n",
              " 'MT': 41,\n",
              " 'NC': 8,\n",
              " 'ND': 39,\n",
              " 'NE': 34,\n",
              " 'NH': 46,\n",
              " 'NJ': 18,\n",
              " 'NM': 32,\n",
              " 'NV': 10,\n",
              " 'NY': 5,\n",
              " 'OH': 22,\n",
              " 'OK': 27,\n",
              " 'OR': 24,\n",
              " 'PA': 17,\n",
              " 'PR': 35,\n",
              " 'RI': 43,\n",
              " 'SC': 29,\n",
              " 'SD': 44,\n",
              " 'TN': 21,\n",
              " 'TT': 52,\n",
              " 'TX': 1,\n",
              " 'UT': 15,\n",
              " 'VA': 9,\n",
              " 'VI': 49,\n",
              " 'VT': 48,\n",
              " 'WA': 12,\n",
              " 'WI': 25,\n",
              " 'WV': 50,\n",
              " 'WY': 45}"
            ]
          },
          "metadata": {
            "tags": []
          },
          "execution_count": 611
        }
      ]
    },
    {
      "metadata": {
        "id": "H_WVVt3WYAHw",
        "colab_type": "code",
        "colab": {}
      },
      "cell_type": "code",
      "source": [
        "df['OriginState'] = df['OriginState'].map(state_dict).astype(int)"
      ],
      "execution_count": 0,
      "outputs": []
    },
    {
      "metadata": {
        "id": "fdwu_DswYAV3",
        "colab_type": "code",
        "colab": {}
      },
      "cell_type": "code",
      "source": [
        "df['DestState'] = df['DestState'].map(state_dict).astype(int)"
      ],
      "execution_count": 0,
      "outputs": []
    },
    {
      "metadata": {
        "id": "v7vGoyxdYAS9",
        "colab_type": "code",
        "colab": {}
      },
      "cell_type": "code",
      "source": [
        ""
      ],
      "execution_count": 0,
      "outputs": []
    },
    {
      "metadata": {
        "id": "4-7QY4M5Z2CO",
        "colab_type": "text"
      },
      "cell_type": "markdown",
      "source": [
        "# Map Time Blocks"
      ]
    },
    {
      "metadata": {
        "id": "5o6lf7fbYAQG",
        "colab_type": "code",
        "outputId": "46635bda-3f0d-418a-b030-42bfb9a89c1c",
        "colab": {
          "base_uri": "https://localhost:8080/",
          "height": 340
        }
      },
      "cell_type": "code",
      "source": [
        "time_list = sorted(df['DepTimeBlk'].value_counts().index.tolist())\n",
        "time_list"
      ],
      "execution_count": 0,
      "outputs": [
        {
          "output_type": "execute_result",
          "data": {
            "text/plain": [
              "['0001-0559',\n",
              " '0600-0659',\n",
              " '0700-0759',\n",
              " '0800-0859',\n",
              " '0900-0959',\n",
              " '1000-1059',\n",
              " '1100-1159',\n",
              " '1200-1259',\n",
              " '1300-1359',\n",
              " '1400-1459',\n",
              " '1500-1559',\n",
              " '1600-1659',\n",
              " '1700-1759',\n",
              " '1800-1859',\n",
              " '1900-1959',\n",
              " '2000-2059',\n",
              " '2100-2159',\n",
              " '2200-2259',\n",
              " '2300-2359']"
            ]
          },
          "metadata": {
            "tags": []
          },
          "execution_count": 602
        }
      ]
    },
    {
      "metadata": {
        "id": "YHXorxBQZ-FJ",
        "colab_type": "code",
        "outputId": "7a8e2878-fe96-44ff-e615-8cc376aeb7c3",
        "colab": {
          "base_uri": "https://localhost:8080/",
          "height": 187
        }
      },
      "cell_type": "code",
      "source": [
        "time_dict = dict()\n",
        "for x in range(0, (len(time_list))):\n",
        "    time_dict[time_list[x]] = x\n",
        "    \n",
        "dict_top_ten(time_dict)"
      ],
      "execution_count": 0,
      "outputs": [
        {
          "output_type": "execute_result",
          "data": {
            "text/plain": [
              "{'0001-0559': 0,\n",
              " '0600-0659': 1,\n",
              " '0700-0759': 2,\n",
              " '0800-0859': 3,\n",
              " '0900-0959': 4,\n",
              " '1000-1059': 5,\n",
              " '1100-1159': 6,\n",
              " '1200-1259': 7,\n",
              " '1300-1359': 8,\n",
              " '1400-1459': 9}"
            ]
          },
          "metadata": {
            "tags": []
          },
          "execution_count": 603
        }
      ]
    },
    {
      "metadata": {
        "id": "YuDMbQ7FZ96Y",
        "colab_type": "code",
        "colab": {}
      },
      "cell_type": "code",
      "source": [
        "df['DepTimeBlk'] = df['DepTimeBlk'].map(time_dict).astype(int)\n",
        "df['ArrTimeBlk'] = df['ArrTimeBlk'].map(time_dict).astype(int)"
      ],
      "execution_count": 0,
      "outputs": []
    },
    {
      "metadata": {
        "id": "uuP53mQ5cDNQ",
        "colab_type": "text"
      },
      "cell_type": "markdown",
      "source": [
        "# Map Destination and Origin"
      ]
    },
    {
      "metadata": {
        "id": "Th0tXYP2cGjr",
        "colab_type": "code",
        "outputId": "51f2b9fc-fb79-4d02-a865-8e5225abd0e8",
        "colab": {
          "base_uri": "https://localhost:8080/",
          "height": 51
        }
      },
      "cell_type": "code",
      "source": [
        "airport_list = df['Origin'].value_counts().index.tolist()\n",
        "airport_list.append('Other')\n",
        "airport_list = airport_list[::-1]\n",
        "print(airport_list[:5])\n",
        "print(airport_list[-10:])"
      ],
      "execution_count": 0,
      "outputs": [
        {
          "output_type": "stream",
          "text": [
            "['Other', 'GFK', 'EGE', 'ADK', 'PPG']\n",
            "['CLT', 'LAS', 'PHX', 'SFO', 'IAH', 'LAX', 'DEN', 'DFW', 'ORD', 'ATL']\n"
          ],
          "name": "stdout"
        }
      ]
    },
    {
      "metadata": {
        "id": "Hhc6nkCLdRBg",
        "colab_type": "code",
        "outputId": "6892a1f8-a620-414e-8a88-16a319766d1c",
        "colab": {
          "base_uri": "https://localhost:8080/",
          "height": 187
        }
      },
      "cell_type": "code",
      "source": [
        "airport_dict = dict()\n",
        "for x in range(0, (len(airport_list))):\n",
        "    airport_dict[airport_list[x]] = x\n",
        "    \n",
        "dict_top_ten(airport_dict)"
      ],
      "execution_count": 0,
      "outputs": [
        {
          "output_type": "execute_result",
          "data": {
            "text/plain": [
              "{'ACK': 7,\n",
              " 'ADK': 3,\n",
              " 'BKG': 8,\n",
              " 'EGE': 2,\n",
              " 'GFK': 1,\n",
              " 'MQT': 9,\n",
              " 'MTJ': 6,\n",
              " 'MVY': 5,\n",
              " 'Other': 0,\n",
              " 'PPG': 4}"
            ]
          },
          "metadata": {
            "tags": []
          },
          "execution_count": 606
        }
      ]
    },
    {
      "metadata": {
        "id": "NYm4IXSOX7yA",
        "colab_type": "code",
        "outputId": "0b2ca00a-bde0-4a15-c071-3cb788b0401e",
        "colab": {
          "base_uri": "https://localhost:8080/",
          "height": 187
        }
      },
      "cell_type": "code",
      "source": [
        "dict_last_ten(airport_dict)"
      ],
      "execution_count": 0,
      "outputs": [
        {
          "output_type": "execute_result",
          "data": {
            "text/plain": [
              "{'ATL': 309,\n",
              " 'CLT': 300,\n",
              " 'DEN': 306,\n",
              " 'DFW': 307,\n",
              " 'IAH': 304,\n",
              " 'LAS': 301,\n",
              " 'LAX': 305,\n",
              " 'ORD': 308,\n",
              " 'PHX': 302,\n",
              " 'SFO': 303}"
            ]
          },
          "metadata": {
            "tags": []
          },
          "execution_count": 607
        }
      ]
    },
    {
      "metadata": {
        "id": "7Vt6D09DdRLN",
        "colab_type": "code",
        "colab": {}
      },
      "cell_type": "code",
      "source": [
        "df['Dest'] = df['Dest'].map(airport_dict)\n",
        "df['Origin'] = df['Origin'].map(airport_dict)"
      ],
      "execution_count": 0,
      "outputs": []
    },
    {
      "metadata": {
        "id": "YO9D6XwkZChM",
        "colab_type": "code",
        "colab": {}
      },
      "cell_type": "code",
      "source": [
        "df['Dest'] = df['Dest'].fillna(0).astype(int)\n",
        "df['Origin'] = df['Origin'].fillna(0).astype(int)"
      ],
      "execution_count": 0,
      "outputs": []
    },
    {
      "metadata": {
        "id": "nYmXiQyObCKu",
        "colab_type": "code",
        "outputId": "23f35bd7-264c-4f05-c112-bd2140b16a0d",
        "colab": {
          "base_uri": "https://localhost:8080/",
          "height": 102
        }
      },
      "cell_type": "code",
      "source": [
        "df.info(memory_usage='deep', verbose=False)"
      ],
      "execution_count": 0,
      "outputs": [
        {
          "output_type": "stream",
          "text": [
            "<class 'pandas.core.frame.DataFrame'>\n",
            "RangeIndex: 491011 entries, 0 to 491010\n",
            "Columns: 31 entries, Year to DivReachedDest\n",
            "dtypes: float64(11), int64(20)\n",
            "memory usage: 116.1 MB\n"
          ],
          "name": "stdout"
        }
      ]
    },
    {
      "metadata": {
        "id": "mkZHimYwbG65",
        "colab_type": "text"
      },
      "cell_type": "markdown",
      "source": [
        "# Impute Nulls for Floats"
      ]
    },
    {
      "metadata": {
        "id": "2p72Q39FbcJd",
        "colab_type": "code",
        "colab": {}
      },
      "cell_type": "code",
      "source": [
        "def print_float_nulls(df):\n",
        "    for i in df:\n",
        "        if df[i].dtype == 'float':\n",
        "            num_nulls = df[i].isnull().sum()\n",
        "            total_values = df[i].shape[0]\n",
        "            non_nulls = total_values - num_nulls\n",
        "            null_per = str(np.round(((num_nulls / total_values) * 100),3)) + \"%\"\n",
        "            unique_values = df[i].nunique()\n",
        "            \n",
        "            print(\"========\" + i + \"========\")\n",
        "            print(\"Number of Null Values: \" + str(num_nulls))\n",
        "            print(\"Number of Non-Null Values: \" + str(non_nulls))\n",
        "            print(\"Percentage of Nulls = \" + str(null_per) + \"%\")\n",
        "            print(\"Number of Unique Values: \" + str(unique_values))\n",
        "            print(\"\\n\")"
      ],
      "execution_count": 0,
      "outputs": []
    },
    {
      "metadata": {
        "id": "tewOXFzxbqxU",
        "colab_type": "code",
        "outputId": "2a90e08d-71f4-4fdb-99bd-64e8dd1ae5e6",
        "colab": {
          "base_uri": "https://localhost:8080/",
          "height": 1326
        }
      },
      "cell_type": "code",
      "source": [
        "print_float_nulls(df)"
      ],
      "execution_count": 0,
      "outputs": [
        {
          "output_type": "stream",
          "text": [
            "========Cancelled========\n",
            "Number of Null Values: 0\n",
            "Number of Non-Null Values: 491011\n",
            "Percentage of Nulls = 0.0%%\n",
            "Number of Unique Values: 2\n",
            "\n",
            "\n",
            "========Diverted========\n",
            "Number of Null Values: 0\n",
            "Number of Non-Null Values: 491011\n",
            "Percentage of Nulls = 0.0%%\n",
            "Number of Unique Values: 2\n",
            "\n",
            "\n",
            "========CRSElapsedTime========\n",
            "Number of Null Values: 3\n",
            "Number of Non-Null Values: 491008\n",
            "Percentage of Nulls = 0.001%%\n",
            "Number of Unique Values: 424\n",
            "\n",
            "\n",
            "========Flights========\n",
            "Number of Null Values: 0\n",
            "Number of Non-Null Values: 491011\n",
            "Percentage of Nulls = 0.0%%\n",
            "Number of Unique Values: 1\n",
            "\n",
            "\n",
            "========Distance========\n",
            "Number of Null Values: 0\n",
            "Number of Non-Null Values: 491011\n",
            "Percentage of Nulls = 0.0%%\n",
            "Number of Unique Values: 1193\n",
            "\n",
            "\n",
            "========CarrierDelay========\n",
            "Number of Null Values: 398726\n",
            "Number of Non-Null Values: 92285\n",
            "Percentage of Nulls = 81.205%%\n",
            "Number of Unique Values: 493\n",
            "\n",
            "\n",
            "========WeatherDelay========\n",
            "Number of Null Values: 398726\n",
            "Number of Non-Null Values: 92285\n",
            "Percentage of Nulls = 81.205%%\n",
            "Number of Unique Values: 246\n",
            "\n",
            "\n",
            "========NASDelay========\n",
            "Number of Null Values: 398726\n",
            "Number of Non-Null Values: 92285\n",
            "Percentage of Nulls = 81.205%%\n",
            "Number of Unique Values: 329\n",
            "\n",
            "\n",
            "========SecurityDelay========\n",
            "Number of Null Values: 398726\n",
            "Number of Non-Null Values: 92285\n",
            "Percentage of Nulls = 81.205%%\n",
            "Number of Unique Values: 56\n",
            "\n",
            "\n",
            "========LateAircraftDelay========\n",
            "Number of Null Values: 398726\n",
            "Number of Non-Null Values: 92285\n",
            "Percentage of Nulls = 81.205%%\n",
            "Number of Unique Values: 378\n",
            "\n",
            "\n",
            "========DivReachedDest========\n",
            "Number of Null Values: 490219\n",
            "Number of Non-Null Values: 792\n",
            "Percentage of Nulls = 99.839%%\n",
            "Number of Unique Values: 2\n",
            "\n",
            "\n"
          ],
          "name": "stdout"
        }
      ]
    },
    {
      "metadata": {
        "id": "hTtJ3_Hp4JQh",
        "colab_type": "code",
        "colab": {}
      },
      "cell_type": "code",
      "source": [
        "delay_list = [ 'CarrierDelay', 'WeatherDelay', 'NASDelay', 'SecurityDelay', 'LateAircraftDelay']"
      ],
      "execution_count": 0,
      "outputs": []
    },
    {
      "metadata": {
        "id": "R_-sfOSV4f69",
        "colab_type": "code",
        "colab": {}
      },
      "cell_type": "code",
      "source": [
        "for i in df:\n",
        "    if i in delay_list:\n",
        "        df[i] = df[i].fillna(0.0).astype(int)"
      ],
      "execution_count": 0,
      "outputs": []
    },
    {
      "metadata": {
        "id": "BizU2SYU66jK",
        "colab_type": "code",
        "outputId": "4a19cd0d-197b-492c-a5a0-8fd64aecf7dd",
        "colab": {
          "base_uri": "https://localhost:8080/",
          "height": 153
        }
      },
      "cell_type": "code",
      "source": [
        "df.columns"
      ],
      "execution_count": 0,
      "outputs": [
        {
          "output_type": "execute_result",
          "data": {
            "text/plain": [
              "Index(['Year', 'Quarter', 'Month', 'DayofMonth', 'DayOfWeek', 'AirlineID',\n",
              "       'Carrier', 'TailNum', 'Origin', 'OriginState', 'OriginWac', 'Dest',\n",
              "       'DestState', 'DestWac', 'CRSDepTime', 'DepTimeBlk', 'CRSArrTime',\n",
              "       'ArrTimeBlk', 'Cancelled', 'Diverted', 'CRSElapsedTime', 'Flights',\n",
              "       'Distance', 'DistanceGroup', 'CarrierDelay', 'WeatherDelay', 'NASDelay',\n",
              "       'SecurityDelay', 'LateAircraftDelay', 'DivAirportLandings',\n",
              "       'DivReachedDest'],\n",
              "      dtype='object')"
            ]
          },
          "metadata": {
            "tags": []
          },
          "execution_count": 514
        }
      ]
    },
    {
      "metadata": {
        "id": "9M2p9OJR6-8u",
        "colab_type": "code",
        "outputId": "2e4680b9-63f2-478e-9f05-66a27052a8e1",
        "colab": {
          "base_uri": "https://localhost:8080/",
          "height": 34
        }
      },
      "cell_type": "code",
      "source": [
        "df['CRSDepTime'][3]"
      ],
      "execution_count": 0,
      "outputs": [
        {
          "output_type": "execute_result",
          "data": {
            "text/plain": [
              "2015"
            ]
          },
          "metadata": {
            "tags": []
          },
          "execution_count": 525
        }
      ]
    },
    {
      "metadata": {
        "id": "rIoNJfh27CvY",
        "colab_type": "code",
        "outputId": "96298577-b8dd-4677-ac3c-2a8ca68e36c0",
        "colab": {
          "base_uri": "https://localhost:8080/",
          "height": 34
        }
      },
      "cell_type": "code",
      "source": [
        "df['CRSArrTime'][3]"
      ],
      "execution_count": 0,
      "outputs": [
        {
          "output_type": "execute_result",
          "data": {
            "text/plain": [
              "2127"
            ]
          },
          "metadata": {
            "tags": []
          },
          "execution_count": 526
        }
      ]
    },
    {
      "metadata": {
        "id": "XMODVWB-7FrB",
        "colab_type": "code",
        "outputId": "f327f7ff-20ef-4c99-ab49-751295759291",
        "colab": {
          "base_uri": "https://localhost:8080/",
          "height": 34
        }
      },
      "cell_type": "code",
      "source": [
        "df['CRSElapsedTime'][3]"
      ],
      "execution_count": 0,
      "outputs": [
        {
          "output_type": "execute_result",
          "data": {
            "text/plain": [
              "132.0"
            ]
          },
          "metadata": {
            "tags": []
          },
          "execution_count": 524
        }
      ]
    },
    {
      "metadata": {
        "id": "1sTo5Nr36Ot2",
        "colab_type": "code",
        "colab": {}
      },
      "cell_type": "code",
      "source": [
        "df['CRSElapsedTime'] = df['CRSElapsedTime'].fillna(df['CRSElapsedTime'].mean()).astype(int)"
      ],
      "execution_count": 0,
      "outputs": []
    },
    {
      "metadata": {
        "id": "3usTkwv34gFW",
        "colab_type": "code",
        "outputId": "7252b325-bec2-4980-e956-64905651b0a6",
        "colab": {
          "base_uri": "https://localhost:8080/",
          "height": 102
        }
      },
      "cell_type": "code",
      "source": [
        "df.info(memory_usage='deep', verbose=False)"
      ],
      "execution_count": 0,
      "outputs": [
        {
          "output_type": "stream",
          "text": [
            "<class 'pandas.core.frame.DataFrame'>\n",
            "RangeIndex: 491011 entries, 0 to 491010\n",
            "Columns: 31 entries, Year to DivReachedDest\n",
            "dtypes: float64(5), int64(26)\n",
            "memory usage: 116.1 MB\n"
          ],
          "name": "stdout"
        }
      ]
    },
    {
      "metadata": {
        "id": "GUsT38ye5MpF",
        "colab_type": "code",
        "colab": {}
      },
      "cell_type": "code",
      "source": [
        ""
      ],
      "execution_count": 0,
      "outputs": []
    },
    {
      "metadata": {
        "id": "FO1Glgxn5Mzw",
        "colab_type": "code",
        "colab": {}
      },
      "cell_type": "code",
      "source": [
        ""
      ],
      "execution_count": 0,
      "outputs": []
    },
    {
      "metadata": {
        "id": "LxPsa6CsZ-vC",
        "colab_type": "text"
      },
      "cell_type": "markdown",
      "source": [
        "# Downcast Numeric Features"
      ]
    },
    {
      "metadata": {
        "id": "mtjgIhG5jj1a",
        "colab_type": "code",
        "outputId": "376d3da7-5fdf-4084-c4da-1ada08c0cc55",
        "colab": {
          "base_uri": "https://localhost:8080/",
          "height": 629
        }
      },
      "cell_type": "code",
      "source": [
        "int_types = [\"uint8\", \"uint16\", \"uint32\", \"int8\", \"int16\", \"int32\"]\n",
        "for it in int_types:\n",
        "    print(np.iinfo(it))"
      ],
      "execution_count": 0,
      "outputs": [
        {
          "output_type": "stream",
          "text": [
            "Machine parameters for uint8\n",
            "---------------------------------------------------------------\n",
            "min = 0\n",
            "max = 255\n",
            "---------------------------------------------------------------\n",
            "\n",
            "Machine parameters for uint16\n",
            "---------------------------------------------------------------\n",
            "min = 0\n",
            "max = 65535\n",
            "---------------------------------------------------------------\n",
            "\n",
            "Machine parameters for uint32\n",
            "---------------------------------------------------------------\n",
            "min = 0\n",
            "max = 4294967295\n",
            "---------------------------------------------------------------\n",
            "\n",
            "Machine parameters for int8\n",
            "---------------------------------------------------------------\n",
            "min = -128\n",
            "max = 127\n",
            "---------------------------------------------------------------\n",
            "\n",
            "Machine parameters for int16\n",
            "---------------------------------------------------------------\n",
            "min = -32768\n",
            "max = 32767\n",
            "---------------------------------------------------------------\n",
            "\n",
            "Machine parameters for int32\n",
            "---------------------------------------------------------------\n",
            "min = -2147483648\n",
            "max = 2147483647\n",
            "---------------------------------------------------------------\n",
            "\n"
          ],
          "name": "stdout"
        }
      ]
    },
    {
      "metadata": {
        "id": "JWS1lt_Y9XAj",
        "colab_type": "code",
        "outputId": "70c4f577-dcb8-4aee-9591-31f2685d7c21",
        "colab": {
          "base_uri": "https://localhost:8080/",
          "height": 459
        }
      },
      "cell_type": "code",
      "source": [
        "def col_min_max(df):\n",
        "    for i in df:\n",
        "        if df[i].dtype == 'int64':\n",
        "            if df[i].min() >= 0:\n",
        "                if df[i].max() > 4294967295:\n",
        "                    print(i, 'uint64')\n",
        "                elif df[i].max() > 65535:\n",
        "                    print(i, 'uint32')\n",
        "                elif df[i].max() > 255:\n",
        "                    print(i, 'uint16')\n",
        "                else: \n",
        "                    print(i, 'uint8')\n",
        "      \n",
        "col_min_max(df)"
      ],
      "execution_count": 0,
      "outputs": [
        {
          "output_type": "stream",
          "text": [
            "Year uint16\n",
            "Quarter uint8\n",
            "Month uint8\n",
            "DayofMonth uint8\n",
            "DayOfWeek uint8\n",
            "AirlineID uint16\n",
            "Carrier uint8\n",
            "TailNum uint16\n",
            "Origin uint16\n",
            "OriginState uint8\n",
            "OriginWac uint8\n",
            "Dest uint16\n",
            "DestState uint8\n",
            "DestWac uint8\n",
            "CRSDepTime uint16\n",
            "DepTimeBlk uint8\n",
            "CRSArrTime uint16\n",
            "ArrTimeBlk uint8\n",
            "CRSElapsedTime uint16\n",
            "DistanceGroup uint8\n",
            "CarrierDelay uint16\n",
            "WeatherDelay uint16\n",
            "NASDelay uint16\n",
            "SecurityDelay uint8\n",
            "LateAircraftDelay uint16\n",
            "DivAirportLandings uint8\n"
          ],
          "name": "stdout"
        }
      ]
    },
    {
      "metadata": {
        "id": "Y1Mt3m_pmDVC",
        "colab_type": "code",
        "outputId": "cd7600bd-b038-4b7e-afba-984212f58e59",
        "colab": {
          "base_uri": "https://localhost:8080/",
          "height": 34
        }
      },
      "cell_type": "code",
      "source": [
        "float_list = []\n",
        "\n",
        "for i in df:\n",
        "    if df[i].dtype == 'float64':\n",
        "        float_list.append(i)\n",
        "        \n",
        "float_list[:5]"
      ],
      "execution_count": 0,
      "outputs": [
        {
          "output_type": "execute_result",
          "data": {
            "text/plain": [
              "['Cancelled', 'Diverted', 'Flights', 'Distance', 'DivReachedDest']"
            ]
          },
          "metadata": {
            "tags": []
          },
          "execution_count": 532
        }
      ]
    },
    {
      "metadata": {
        "id": "x_N-TydVntDy",
        "colab_type": "code",
        "colab": {}
      },
      "cell_type": "code",
      "source": [
        "# check for nulls\n",
        "float_df = df[float_list]"
      ],
      "execution_count": 0,
      "outputs": []
    },
    {
      "metadata": {
        "id": "aLZkvNrsmn-f",
        "colab_type": "code",
        "colab": {}
      },
      "cell_type": "code",
      "source": [
        "df[float_list] = df[float_list].fillna(0.0).astype(int)"
      ],
      "execution_count": 0,
      "outputs": []
    },
    {
      "metadata": {
        "id": "s0753g1ojy_g",
        "colab_type": "code",
        "outputId": "b4f02b92-8d1d-458d-f9fb-1d689a724585",
        "colab": {
          "base_uri": "https://localhost:8080/",
          "height": 176
        }
      },
      "cell_type": "code",
      "source": [
        "def mem_usage(pandas_obj):\n",
        "    if isinstance(pandas_obj,pd.DataFrame):\n",
        "        usage_b = pandas_obj.memory_usage(deep=True).sum()\n",
        "    else: # we assume if not a df it's a series\n",
        "        usage_b = pandas_obj.memory_usage(deep=True)\n",
        "    usage_mb = usage_b / 1024 ** 2 # convert bytes to megabytes\n",
        "    return \"{:03.2f} MB\".format(usage_mb)\n",
        "\n",
        "df_int = df.select_dtypes(include=['int'])\n",
        "converted_int = df_int.apply(pd.to_numeric,downcast='unsigned')\n",
        "\n",
        "print(mem_usage(df_int))\n",
        "print(mem_usage(converted_int))\n",
        "\n",
        "compare_ints = pd.concat([df_int.dtypes,converted_int.dtypes],axis=1)\n",
        "compare_ints.columns = ['before','after']\n",
        "compare_ints.apply(pd.Series.value_counts)"
      ],
      "execution_count": 0,
      "outputs": [
        {
          "output_type": "stream",
          "text": [
            "116.13 MB\n",
            "20.60 MB\n"
          ],
          "name": "stdout"
        },
        {
          "output_type": "execute_result",
          "data": {
            "text/html": [
              "<div>\n",
              "<style scoped>\n",
              "    .dataframe tbody tr th:only-of-type {\n",
              "        vertical-align: middle;\n",
              "    }\n",
              "\n",
              "    .dataframe tbody tr th {\n",
              "        vertical-align: top;\n",
              "    }\n",
              "\n",
              "    .dataframe thead th {\n",
              "        text-align: right;\n",
              "    }\n",
              "</style>\n",
              "<table border=\"1\" class=\"dataframe\">\n",
              "  <thead>\n",
              "    <tr style=\"text-align: right;\">\n",
              "      <th></th>\n",
              "      <th>before</th>\n",
              "      <th>after</th>\n",
              "    </tr>\n",
              "  </thead>\n",
              "  <tbody>\n",
              "    <tr>\n",
              "      <th>uint8</th>\n",
              "      <td>NaN</td>\n",
              "      <td>18.0</td>\n",
              "    </tr>\n",
              "    <tr>\n",
              "      <th>uint16</th>\n",
              "      <td>NaN</td>\n",
              "      <td>13.0</td>\n",
              "    </tr>\n",
              "    <tr>\n",
              "      <th>int64</th>\n",
              "      <td>31.0</td>\n",
              "      <td>NaN</td>\n",
              "    </tr>\n",
              "  </tbody>\n",
              "</table>\n",
              "</div>"
            ],
            "text/plain": [
              "        before  after\n",
              "uint8      NaN   18.0\n",
              "uint16     NaN   13.0\n",
              "int64     31.0    NaN"
            ]
          },
          "metadata": {
            "tags": []
          },
          "execution_count": 535
        }
      ]
    },
    {
      "metadata": {
        "id": "OvmB47Uaj_RM",
        "colab_type": "code",
        "outputId": "f6c0fa69-4383-4fab-faf9-210a190739ae",
        "colab": {
          "base_uri": "https://localhost:8080/",
          "height": 83
        }
      },
      "cell_type": "code",
      "source": [
        "df_float = df.select_dtypes(include=['float'])\n",
        "converted_float = df_float.apply(pd.to_numeric,downcast='float')\n",
        "\n",
        "print(mem_usage(df_float))\n",
        "print(mem_usage(converted_float))\n",
        "\n",
        "compare_floats = pd.concat([df_float.dtypes,converted_float.dtypes],axis=1)\n",
        "compare_floats.columns = ['before','after']\n",
        "compare_floats.apply(pd.Series.value_counts)"
      ],
      "execution_count": 0,
      "outputs": [
        {
          "output_type": "stream",
          "text": [
            "0.00 MB\n",
            "0.00 MB\n"
          ],
          "name": "stdout"
        },
        {
          "output_type": "execute_result",
          "data": {
            "text/html": [
              "<div>\n",
              "<style scoped>\n",
              "    .dataframe tbody tr th:only-of-type {\n",
              "        vertical-align: middle;\n",
              "    }\n",
              "\n",
              "    .dataframe tbody tr th {\n",
              "        vertical-align: top;\n",
              "    }\n",
              "\n",
              "    .dataframe thead th {\n",
              "        text-align: right;\n",
              "    }\n",
              "</style>\n",
              "<table border=\"1\" class=\"dataframe\">\n",
              "  <thead>\n",
              "    <tr style=\"text-align: right;\">\n",
              "      <th></th>\n",
              "      <th>before</th>\n",
              "      <th>after</th>\n",
              "    </tr>\n",
              "  </thead>\n",
              "  <tbody>\n",
              "  </tbody>\n",
              "</table>\n",
              "</div>"
            ],
            "text/plain": [
              "Empty DataFrame\n",
              "Columns: [before, after]\n",
              "Index: []"
            ]
          },
          "metadata": {
            "tags": []
          },
          "execution_count": 536
        }
      ]
    },
    {
      "metadata": {
        "id": "FTpK6e5HIIHn",
        "colab_type": "code",
        "outputId": "d64af62a-d5ac-41b1-fdb0-c924722e43f7",
        "colab": {
          "base_uri": "https://localhost:8080/",
          "height": 34
        }
      },
      "cell_type": "code",
      "source": [
        "# df = df.copy()\n",
        "\n",
        "df[converted_int.columns] = converted_int\n",
        "df[converted_float.columns] = converted_float\n",
        "\n",
        "print(mem_usage(df))\n",
        "# print(mem_usage(optimized_df))"
      ],
      "execution_count": 0,
      "outputs": [
        {
          "output_type": "stream",
          "text": [
            "20.60 MB\n"
          ],
          "name": "stdout"
        }
      ]
    },
    {
      "metadata": {
        "id": "anaxD-Y4kfL3",
        "colab_type": "code",
        "colab": {}
      },
      "cell_type": "code",
      "source": [
        "# https://www.dataquest.io/blog/pandas-big-data/"
      ],
      "execution_count": 0,
      "outputs": []
    },
    {
      "metadata": {
        "id": "PvmIFcY6fK_D",
        "colab_type": "code",
        "outputId": "49610b4d-79d7-4d04-d58b-37d76f573a3b",
        "colab": {
          "base_uri": "https://localhost:8080/",
          "height": 102
        }
      },
      "cell_type": "code",
      "source": [
        "df.info(memory_usage='deep', verbose=False)"
      ],
      "execution_count": 0,
      "outputs": [
        {
          "output_type": "stream",
          "text": [
            "<class 'pandas.core.frame.DataFrame'>\n",
            "RangeIndex: 491011 entries, 0 to 491010\n",
            "Columns: 31 entries, Year to DivReachedDest\n",
            "dtypes: uint16(13), uint8(18)\n",
            "memory usage: 20.6 MB\n"
          ],
          "name": "stdout"
        }
      ]
    },
    {
      "metadata": {
        "id": "73hr0smUyDa0",
        "colab_type": "code",
        "colab": {}
      },
      "cell_type": "code",
      "source": [
        "int_types = ['uint16', 'uint8']\n",
        "float_types = ['float32']"
      ],
      "execution_count": 0,
      "outputs": []
    },
    {
      "metadata": {
        "id": "bAHmidKHiUOw",
        "colab_type": "code",
        "colab": {}
      },
      "cell_type": "code",
      "source": [
        "df_uint8 = df.select_dtypes(include=['uint8'])\n",
        "df_uint16 = df.select_dtypes(include=['uint16'])\n",
        "df_float = df.select_dtypes(include=float_types)\n",
        "df_object = df.select_dtypes(include=['object'])"
      ],
      "execution_count": 0,
      "outputs": []
    },
    {
      "metadata": {
        "id": "jvz5Hv_Oil_5",
        "colab_type": "code",
        "outputId": "dad88a45-92e4-4aa8-e6cd-f2ce91fb5109",
        "colab": {
          "base_uri": "https://localhost:8080/",
          "height": 102
        }
      },
      "cell_type": "code",
      "source": [
        "print(\"U-Int8: \", mem_usage(df_uint8))\n",
        "print(\"U-Int16: \", mem_usage(df_uint16))\n",
        "print(\"Floats: \", mem_usage(df_float))\n",
        "print(\"Objects: \", mem_usage(df_object))\n",
        "print(\"Total: \", mem_usage(df))"
      ],
      "execution_count": 0,
      "outputs": [
        {
          "output_type": "stream",
          "text": [
            "U-Int8:  8.43 MB\n",
            "U-Int16:  12.17 MB\n",
            "Floats:  0.00 MB\n",
            "Objects:  0.00 MB\n",
            "Total:  20.60 MB\n"
          ],
          "name": "stdout"
        }
      ]
    }
  ]
}